{
 "cells": [
  {
   "cell_type": "markdown",
   "id": "9df53ccb-7a72-4c6b-9ff0-413194bb012e",
   "metadata": {},
   "source": [
    "# Stemming\n",
    "Menjadikan kata yang memiliki imbuhan menjadi kata dasar"
   ]
  },
  {
   "cell_type": "markdown",
   "id": "c2ed4899-66b9-42b7-ad17-a11344426015",
   "metadata": {},
   "source": [
    "## Import module / package"
   ]
  },
  {
   "cell_type": "code",
   "execution_count": 1,
   "id": "43d70969-62b1-41f5-a201-a9856e130499",
   "metadata": {},
   "outputs": [],
   "source": [
    "import pandas as pd\n",
    "import nltk\n",
    "from nltk.tokenize import word_tokenize\n",
    "from nltk.tokenize.treebank import TreebankWordDetokenizer\n",
    "from tqdm.notebook import tqdm\n",
    "from Sastrawi.Stemmer.StemmerFactory import StemmerFactory\n",
    "from ecsstemmer import EcsStemmer"
   ]
  },
  {
   "cell_type": "code",
   "execution_count": 2,
   "id": "34a7134c-e1ba-4b22-a5a4-dd701e88085a",
   "metadata": {},
   "outputs": [
    {
     "data": {
      "text/html": [
       "<div>\n",
       "<style scoped>\n",
       "    .dataframe tbody tr th:only-of-type {\n",
       "        vertical-align: middle;\n",
       "    }\n",
       "\n",
       "    .dataframe tbody tr th {\n",
       "        vertical-align: top;\n",
       "    }\n",
       "\n",
       "    .dataframe thead th {\n",
       "        text-align: right;\n",
       "    }\n",
       "</style>\n",
       "<table border=\"1\" class=\"dataframe\">\n",
       "  <thead>\n",
       "    <tr style=\"text-align: right;\">\n",
       "      <th></th>\n",
       "      <th>tweet</th>\n",
       "    </tr>\n",
       "  </thead>\n",
       "  <tbody>\n",
       "    <tr>\n",
       "      <th>0</th>\n",
       "      <td>['jbharga', 'ayam', 'rm', 'tgk', 'telor', 'wya...</td>\n",
       "    </tr>\n",
       "    <tr>\n",
       "      <th>1</th>\n",
       "      <td>['berdiri di atas kaki sendiri', 'serap', 'tel...</td>\n",
       "    </tr>\n",
       "    <tr>\n",
       "      <th>2</th>\n",
       "      <td>['penyebab', 'harga', 'telur', 'anjlok', 'vers...</td>\n",
       "    </tr>\n",
       "    <tr>\n",
       "      <th>3</th>\n",
       "      <td>['turunnya', 'permintaan', 'masyarakat', 'telu...</td>\n",
       "    </tr>\n",
       "    <tr>\n",
       "      <th>4</th>\n",
       "      <td>['peternak', 'ayam', 'petelur', 'mengaku', 'me...</td>\n",
       "    </tr>\n",
       "    <tr>\n",
       "      <th>5</th>\n",
       "      <td>['harga', 'jual', 'telur', 'ayam', 'solo', 'ra...</td>\n",
       "    </tr>\n",
       "    <tr>\n",
       "      <th>6</th>\n",
       "      <td>['harga', 'telur', 'anjlok', 'rp', 'kg', 'peme...</td>\n",
       "    </tr>\n",
       "    <tr>\n",
       "      <th>7</th>\n",
       "      <td>['ikutan', 'main', 'telur', 'bareng', 'voucher...</td>\n",
       "    </tr>\n",
       "    <tr>\n",
       "      <th>8</th>\n",
       "      <td>['telor', 'geprek', 'abah', 'uya', 'selera', '...</td>\n",
       "    </tr>\n",
       "    <tr>\n",
       "      <th>9</th>\n",
       "      <td>['beli', 'order', 'telur', 'set', 'telur', 'mc...</td>\n",
       "    </tr>\n",
       "  </tbody>\n",
       "</table>\n",
       "</div>"
      ],
      "text/plain": [
       "                                               tweet\n",
       "0  ['jbharga', 'ayam', 'rm', 'tgk', 'telor', 'wya...\n",
       "1  ['berdiri di atas kaki sendiri', 'serap', 'tel...\n",
       "2  ['penyebab', 'harga', 'telur', 'anjlok', 'vers...\n",
       "3  ['turunnya', 'permintaan', 'masyarakat', 'telu...\n",
       "4  ['peternak', 'ayam', 'petelur', 'mengaku', 'me...\n",
       "5  ['harga', 'jual', 'telur', 'ayam', 'solo', 'ra...\n",
       "6  ['harga', 'telur', 'anjlok', 'rp', 'kg', 'peme...\n",
       "7  ['ikutan', 'main', 'telur', 'bareng', 'voucher...\n",
       "8  ['telor', 'geprek', 'abah', 'uya', 'selera', '...\n",
       "9  ['beli', 'order', 'telur', 'set', 'telur', 'mc..."
      ]
     },
     "execution_count": 2,
     "metadata": {},
     "output_type": "execute_result"
    }
   ],
   "source": [
    "dataset = pd.read_csv(\"data/tweets_clean.csv\")\n",
    "dataset.head(10)"
   ]
  },
  {
   "cell_type": "markdown",
   "id": "da9d6c26-0245-434b-895e-894837140aad",
   "metadata": {},
   "source": [
    "## Retokenize"
   ]
  },
  {
   "cell_type": "code",
   "execution_count": 3,
   "id": "1f6eb661-e3fb-4839-a519-54a58b6d4b9c",
   "metadata": {},
   "outputs": [],
   "source": [
    "temp_detokenize = []\n",
    "\n",
    "def detokenize(text):\n",
    "    text1 = text.replace(']','').replace('[','')\n",
    "    arr = text1.replace('\"','').replace(\"\\'\",\"\").split(\",\")\n",
    "    return(TreebankWordDetokenizer().detokenize(arr))\n",
    "\n",
    "dataset['tweet'] = dataset['tweet'].astype('U').apply(detokenize)"
   ]
  },
  {
   "cell_type": "code",
   "execution_count": 4,
   "id": "7a69d177-3c99-443e-93d9-bd6cb94d2f2d",
   "metadata": {},
   "outputs": [
    {
     "name": "stderr",
     "output_type": "stream",
     "text": [
      "[nltk_data] Downloading package punkt to /home/anz007/nltk_data...\n",
      "[nltk_data]   Package punkt is already up-to-date!\n"
     ]
    },
    {
     "data": {
      "text/plain": [
       "0       [jbharga, ayam, rm, tgk, telor, wyam, sepapan,...\n",
       "1       [berdiri, di, atas, kaki, sendiri, serap, telu...\n",
       "2       [penyebab, harga, telur, anjlok, versi, pedaga...\n",
       "3       [turunnya, permintaan, masyarakat, telur, ayam...\n",
       "4       [peternak, ayam, petelur, mengaku, merugi, rat...\n",
       "                              ...                        \n",
       "2874    [blitar, harga, telur, ayam, anjlok, peternak,...\n",
       "2875    [titip, sendal, baca, artikelnya, nasi, goreng...\n",
       "2876    [suka, mooncake, isian, telur, daerah, mahal, ...\n",
       "2877    [harga, telur, anjlok, peternak, jateng, babak...\n",
       "2878    [harga, telur, ayam, anjlok, peternak, teranca...\n",
       "Name: tweet, Length: 2879, dtype: object"
      ]
     },
     "execution_count": 4,
     "metadata": {},
     "output_type": "execute_result"
    }
   ],
   "source": [
    "nltk.download('punkt')\n",
    "def word_tokenize_wrapper(text):\n",
    "    return word_tokenize(text)\n",
    "\n",
    "dataset['tweet'] = dataset['tweet'].apply(word_tokenize_wrapper)\n",
    "dataset['tweet']"
   ]
  },
  {
   "cell_type": "markdown",
   "id": "58628bba-24cd-46da-b663-bed2e981df41",
   "metadata": {},
   "source": [
    "## Proses Stemming"
   ]
  },
  {
   "cell_type": "markdown",
   "id": "89c72804-ffdc-4a05-acf9-841798aa51fb",
   "metadata": {},
   "source": [
    "### Library Sastrawi _(Algoritma Nazief)_"
   ]
  },
  {
   "cell_type": "code",
   "execution_count": 5,
   "id": "0a600921-0eab-4c0e-9e6d-a1395c189a36",
   "metadata": {},
   "outputs": [],
   "source": [
    "factory = StemmerFactory()\n",
    "stemmer = factory.create_stemmer()\n",
    "\n",
    "tqdm.pandas()\n",
    "dataset_nazief = dataset['tweet'].progress_apply(lambda x: [stemmer.stem(y) for y in x])\n",
    "dataset_nazief"
   ]
  },
  {
   "cell_type": "markdown",
   "id": "a05b82a2-f120-43dc-93b3-84d71040e23b",
   "metadata": {},
   "source": [
    "### Library EcsStemmer _(Algoritma ECS)_"
   ]
  },
  {
   "cell_type": "code",
   "execution_count": 7,
   "id": "5c6f2876-dd5d-433b-b122-0ec86468e4a4",
   "metadata": {},
   "outputs": [
    {
     "data": {
      "application/vnd.jupyter.widget-view+json": {
       "model_id": "c5ad454c7ee1441eb9adff85d6d70b07",
       "version_major": 2,
       "version_minor": 0
      },
      "text/plain": [
       "  0%|          | 0/2879 [00:00<?, ?it/s]"
      ]
     },
     "metadata": {},
     "output_type": "display_data"
    },
    {
     "data": {
      "text/html": [
       "<div>\n",
       "<style scoped>\n",
       "    .dataframe tbody tr th:only-of-type {\n",
       "        vertical-align: middle;\n",
       "    }\n",
       "\n",
       "    .dataframe tbody tr th {\n",
       "        vertical-align: top;\n",
       "    }\n",
       "\n",
       "    .dataframe thead th {\n",
       "        text-align: right;\n",
       "    }\n",
       "</style>\n",
       "<table border=\"1\" class=\"dataframe\">\n",
       "  <thead>\n",
       "    <tr style=\"text-align: right;\">\n",
       "      <th></th>\n",
       "      <th>tweet</th>\n",
       "    </tr>\n",
       "  </thead>\n",
       "  <tbody>\n",
       "    <tr>\n",
       "      <th>0</th>\n",
       "      <td>[jbharga, ayam, rm, tgk, telor, wyam, papan, r...</td>\n",
       "    </tr>\n",
       "    <tr>\n",
       "      <th>1</th>\n",
       "      <td>[diri, di, atas, kaki, sendiri, serap, telur, ...</td>\n",
       "    </tr>\n",
       "    <tr>\n",
       "      <th>2</th>\n",
       "      <td>[sebab, harga, telur, anjlok, versi, dagang, k...</td>\n",
       "    </tr>\n",
       "    <tr>\n",
       "      <th>3</th>\n",
       "      <td>[turun, minta, masyarakat, telur, ayam, ppkm, ...</td>\n",
       "    </tr>\n",
       "    <tr>\n",
       "      <th>4</th>\n",
       "      <td>[ternak, ayam, telur, menga, rugi, ratus, juta...</td>\n",
       "    </tr>\n",
       "    <tr>\n",
       "      <th>...</th>\n",
       "      <td>...</td>\n",
       "    </tr>\n",
       "    <tr>\n",
       "      <th>2874</th>\n",
       "      <td>[blitar, harga, telur, ayam, anjlok, ternak, a...</td>\n",
       "    </tr>\n",
       "    <tr>\n",
       "      <th>2875</th>\n",
       "      <td>[titip, sendal, baca, artikel, nasi, goreng, g...</td>\n",
       "    </tr>\n",
       "    <tr>\n",
       "      <th>2876</th>\n",
       "      <td>[suka, mooncake, isi, telur, daerah, mahal, ma...</td>\n",
       "    </tr>\n",
       "    <tr>\n",
       "      <th>2877</th>\n",
       "      <td>[harga, telur, anjlok, ternak, jateng, babak, ...</td>\n",
       "    </tr>\n",
       "    <tr>\n",
       "      <th>2878</th>\n",
       "      <td>[harga, telur, ayam, anjlok, ternak, ancam, gu...</td>\n",
       "    </tr>\n",
       "  </tbody>\n",
       "</table>\n",
       "<p>2879 rows × 1 columns</p>\n",
       "</div>"
      ],
      "text/plain": [
       "                                                  tweet\n",
       "0     [jbharga, ayam, rm, tgk, telor, wyam, papan, r...\n",
       "1     [diri, di, atas, kaki, sendiri, serap, telur, ...\n",
       "2     [sebab, harga, telur, anjlok, versi, dagang, k...\n",
       "3     [turun, minta, masyarakat, telur, ayam, ppkm, ...\n",
       "4     [ternak, ayam, telur, menga, rugi, ratus, juta...\n",
       "...                                                 ...\n",
       "2874  [blitar, harga, telur, ayam, anjlok, ternak, a...\n",
       "2875  [titip, sendal, baca, artikel, nasi, goreng, g...\n",
       "2876  [suka, mooncake, isi, telur, daerah, mahal, ma...\n",
       "2877  [harga, telur, anjlok, ternak, jateng, babak, ...\n",
       "2878  [harga, telur, ayam, anjlok, ternak, ancam, gu...\n",
       "\n",
       "[2879 rows x 1 columns]"
      ]
     },
     "execution_count": 7,
     "metadata": {},
     "output_type": "execute_result"
    }
   ],
   "source": [
    "stemmer1 = EcsStemmer()\n",
    "\n",
    "tqdm.pandas()\n",
    "dataset_ecs_temp = []\n",
    "for i in tqdm(dataset['tweet'], total=int(len(dataset))):\n",
    "    tweet = stemmer1.stemm(i)\n",
    "    dataset_ecs_temp.append([tweet])\n",
    "    \n",
    "dataset_ecs = pd.DataFrame(dataset_ecs_temp, columns=['tweet'])\n",
    "dataset_ecs"
   ]
  },
  {
   "cell_type": "markdown",
   "id": "a6124173-ee9f-47c5-a362-ae56c31cb3ca",
   "metadata": {},
   "source": [
    "## Export Data"
   ]
  },
  {
   "cell_type": "code",
   "execution_count": 6,
   "id": "ca29f873-869c-40f3-ba8f-6194ace8a348",
   "metadata": {},
   "outputs": [],
   "source": [
    "dataset_nazief.to_csv('data/tweets_sastrawi.csv', index=False)\n",
    "dataset_nazief_test = pd.read_csv('data/tweets_sastrawi.csv', encoding='latin1')\n",
    "dataset_nazief_test.head(10)"
   ]
  },
  {
   "cell_type": "code",
   "execution_count": 8,
   "id": "fdfff270-bd5f-441a-bbfa-1b31aa66fb77",
   "metadata": {},
   "outputs": [
    {
     "data": {
      "text/html": [
       "<div>\n",
       "<style scoped>\n",
       "    .dataframe tbody tr th:only-of-type {\n",
       "        vertical-align: middle;\n",
       "    }\n",
       "\n",
       "    .dataframe tbody tr th {\n",
       "        vertical-align: top;\n",
       "    }\n",
       "\n",
       "    .dataframe thead th {\n",
       "        text-align: right;\n",
       "    }\n",
       "</style>\n",
       "<table border=\"1\" class=\"dataframe\">\n",
       "  <thead>\n",
       "    <tr style=\"text-align: right;\">\n",
       "      <th></th>\n",
       "      <th>tweet</th>\n",
       "    </tr>\n",
       "  </thead>\n",
       "  <tbody>\n",
       "    <tr>\n",
       "      <th>0</th>\n",
       "      <td>['jbharga', 'ayam', 'rm', 'tgk', 'telor', 'wya...</td>\n",
       "    </tr>\n",
       "    <tr>\n",
       "      <th>1</th>\n",
       "      <td>['diri', 'di', 'atas', 'kaki', 'sendiri', 'ser...</td>\n",
       "    </tr>\n",
       "    <tr>\n",
       "      <th>2</th>\n",
       "      <td>['sebab', 'harga', 'telur', 'anjlok', 'versi',...</td>\n",
       "    </tr>\n",
       "    <tr>\n",
       "      <th>3</th>\n",
       "      <td>['turun', 'minta', 'masyarakat', 'telur', 'aya...</td>\n",
       "    </tr>\n",
       "    <tr>\n",
       "      <th>4</th>\n",
       "      <td>['ternak', 'ayam', 'telur', 'menga', 'rugi', '...</td>\n",
       "    </tr>\n",
       "    <tr>\n",
       "      <th>5</th>\n",
       "      <td>['harga', 'jual', 'telur', 'ayam', 'solo', 'ra...</td>\n",
       "    </tr>\n",
       "    <tr>\n",
       "      <th>6</th>\n",
       "      <td>['harga', 'telur', 'anjlok', 'rp', 'kg', 'peme...</td>\n",
       "    </tr>\n",
       "    <tr>\n",
       "      <th>7</th>\n",
       "      <td>['ikut', 'main', 'telur', 'bareng', 'voucher',...</td>\n",
       "    </tr>\n",
       "    <tr>\n",
       "      <th>8</th>\n",
       "      <td>['telor', 'geprek', 'abah', 'uya', 'selera', '...</td>\n",
       "    </tr>\n",
       "    <tr>\n",
       "      <th>9</th>\n",
       "      <td>['beli', 'order', 'telur', 'set', 'telur', 'mc...</td>\n",
       "    </tr>\n",
       "  </tbody>\n",
       "</table>\n",
       "</div>"
      ],
      "text/plain": [
       "                                               tweet\n",
       "0  ['jbharga', 'ayam', 'rm', 'tgk', 'telor', 'wya...\n",
       "1  ['diri', 'di', 'atas', 'kaki', 'sendiri', 'ser...\n",
       "2  ['sebab', 'harga', 'telur', 'anjlok', 'versi',...\n",
       "3  ['turun', 'minta', 'masyarakat', 'telur', 'aya...\n",
       "4  ['ternak', 'ayam', 'telur', 'menga', 'rugi', '...\n",
       "5  ['harga', 'jual', 'telur', 'ayam', 'solo', 'ra...\n",
       "6  ['harga', 'telur', 'anjlok', 'rp', 'kg', 'peme...\n",
       "7  ['ikut', 'main', 'telur', 'bareng', 'voucher',...\n",
       "8  ['telor', 'geprek', 'abah', 'uya', 'selera', '...\n",
       "9  ['beli', 'order', 'telur', 'set', 'telur', 'mc..."
      ]
     },
     "execution_count": 8,
     "metadata": {},
     "output_type": "execute_result"
    }
   ],
   "source": [
    "dataset_ecs.to_csv('data/tweets_ecs.csv', index=False)\n",
    "dataset_ecs_test = pd.read_csv('data/tweets_ecs.csv', encoding='latin1')\n",
    "dataset_ecs_test.head(10)"
   ]
  }
 ],
 "metadata": {
  "kernelspec": {
   "display_name": "Python 3 (ipykernel)",
   "language": "python",
   "name": "python3"
  },
  "language_info": {
   "codemirror_mode": {
    "name": "ipython",
    "version": 3
   },
   "file_extension": ".py",
   "mimetype": "text/x-python",
   "name": "python",
   "nbconvert_exporter": "python",
   "pygments_lexer": "ipython3",
   "version": "3.9.7"
  }
 },
 "nbformat": 4,
 "nbformat_minor": 5
}
