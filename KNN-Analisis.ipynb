{
 "cells": [
  {
   "cell_type": "markdown",
   "id": "67b91803-726b-4b29-b265-686e7168cf0c",
   "metadata": {},
   "source": [
    "# Klasifikasi K-Nearest Neighbour (KNN)\n",
    "### Dengan K = 10\n",
    "Sumber : https://github.com/kk7nc/Text_Classification#id34 (Dengan Perubahan)"
   ]
  },
  {
   "cell_type": "markdown",
   "id": "fff40547-59d5-454f-a572-403c3214a8b0",
   "metadata": {},
   "source": [
    "## Import module / package"
   ]
  },
  {
   "cell_type": "code",
   "execution_count": 1,
   "id": "2a236f7b-8a09-4ee0-8033-7076ec33414e",
   "metadata": {},
   "outputs": [],
   "source": [
    "import pandas as pd\n",
    "from sklearn import model_selection\n",
    "from sklearn.pipeline import Pipeline\n",
    "from sklearn.neighbors import KNeighborsClassifier\n",
    "from sklearn.metrics import accuracy_score, precision_score, recall_score, f1_score, classification_report\n",
    "from scipy.spatial import distance\n",
    "from sklearn.feature_extraction.text import CountVectorizer\n",
    "from sklearn.feature_extraction.text import TfidfTransformer\n",
    "from sklearn.feature_extraction.text import TfidfVectorizer\n",
    "from sklearn.metrics import confusion_matrix\n",
    "import seaborn as sns\n",
    "import matplotlib.pyplot as plt"
   ]
  },
  {
   "cell_type": "code",
   "execution_count": 2,
   "id": "40fe9b70-fad0-4d61-ad84-88639c2ee44e",
   "metadata": {},
   "outputs": [
    {
     "data": {
      "text/html": [
       "<div>\n",
       "<style scoped>\n",
       "    .dataframe tbody tr th:only-of-type {\n",
       "        vertical-align: middle;\n",
       "    }\n",
       "\n",
       "    .dataframe tbody tr th {\n",
       "        vertical-align: top;\n",
       "    }\n",
       "\n",
       "    .dataframe thead th {\n",
       "        text-align: right;\n",
       "    }\n",
       "</style>\n",
       "<table border=\"1\" class=\"dataframe\">\n",
       "  <thead>\n",
       "    <tr style=\"text-align: right;\">\n",
       "      <th></th>\n",
       "      <th>tweet</th>\n",
       "      <th>polaritas</th>\n",
       "      <th>sentimen</th>\n",
       "    </tr>\n",
       "  </thead>\n",
       "  <tbody>\n",
       "    <tr>\n",
       "      <th>0</th>\n",
       "      <td>['jbharga', 'ayam', 'rm', 'tgk', 'telor', 'wya...</td>\n",
       "      <td>-2</td>\n",
       "      <td>Negatif</td>\n",
       "    </tr>\n",
       "    <tr>\n",
       "      <th>1</th>\n",
       "      <td>['berdiri', 'di', 'atas', 'kaki', 'sendiri', '...</td>\n",
       "      <td>-2</td>\n",
       "      <td>Negatif</td>\n",
       "    </tr>\n",
       "    <tr>\n",
       "      <th>2</th>\n",
       "      <td>['penyebab', 'harga', 'telur', 'anjlok', 'vers...</td>\n",
       "      <td>-1</td>\n",
       "      <td>Negatif</td>\n",
       "    </tr>\n",
       "    <tr>\n",
       "      <th>3</th>\n",
       "      <td>['turunnya', 'permintaan', 'masyarakat', 'telu...</td>\n",
       "      <td>-1</td>\n",
       "      <td>Negatif</td>\n",
       "    </tr>\n",
       "    <tr>\n",
       "      <th>4</th>\n",
       "      <td>['peternak', 'ayam', 'petelur', 'mengaku', 'me...</td>\n",
       "      <td>1</td>\n",
       "      <td>Positif</td>\n",
       "    </tr>\n",
       "  </tbody>\n",
       "</table>\n",
       "</div>"
      ],
      "text/plain": [
       "                                               tweet  polaritas sentimen\n",
       "0  ['jbharga', 'ayam', 'rm', 'tgk', 'telor', 'wya...         -2  Negatif\n",
       "1  ['berdiri', 'di', 'atas', 'kaki', 'sendiri', '...         -2  Negatif\n",
       "2  ['penyebab', 'harga', 'telur', 'anjlok', 'vers...         -1  Negatif\n",
       "3  ['turunnya', 'permintaan', 'masyarakat', 'telu...         -1  Negatif\n",
       "4  ['peternak', 'ayam', 'petelur', 'mengaku', 'me...          1  Positif"
      ]
     },
     "execution_count": 2,
     "metadata": {},
     "output_type": "execute_result"
    }
   ],
   "source": [
    "dataset = pd.read_csv(r\"data/tweets_labelled_tokenized.csv\")\n",
    "dataset.head()"
   ]
  },
  {
   "cell_type": "markdown",
   "id": "708ac052-dccd-4f91-9d23-6b3a22068d90",
   "metadata": {},
   "source": [
    "## Split Data (Test & Train)"
   ]
  },
  {
   "cell_type": "code",
   "execution_count": 3,
   "id": "08838526-e654-488a-ae9f-2ab901791da6",
   "metadata": {},
   "outputs": [],
   "source": [
    "train_X, test_X, train_Y, test_Y = model_selection.train_test_split(dataset['tweet'], dataset['sentimen'], test_size = 0.3, random_state = 42)"
   ]
  },
  {
   "cell_type": "code",
   "execution_count": 4,
   "id": "dc3c607f-37fb-4502-9904-a9376496f21a",
   "metadata": {},
   "outputs": [],
   "source": [
    "data_train = pd.DataFrame()\n",
    "data_train['tweet'] = train_X\n",
    "data_train['sentimen'] = train_Y\n",
    "\n",
    "data_test = pd.DataFrame()\n",
    "data_test['tweet'] = test_X\n",
    "data_test['sentimen'] = test_Y"
   ]
  },
  {
   "cell_type": "markdown",
   "id": "9ff667b6-614d-49b4-bc2f-3cd403337311",
   "metadata": {},
   "source": [
    "## Klasifikasi Data dengan KNN (K = 10) dan Menampilkan Akurasi"
   ]
  },
  {
   "cell_type": "code",
   "execution_count": 5,
   "id": "472acb45-8530-4b97-b26c-1f5f17b6bdf0",
   "metadata": {},
   "outputs": [
    {
     "name": "stdout",
     "output_type": "stream",
     "text": [
      "K-Nearest Neighbors Accuracy: 82.06018518518519 %\n",
      "K-Nearest Neighbors Precision: 86.25730994152046 %\n",
      "K-Nearest Neighbors Recall: 90.62980030721967 %\n",
      "K-Nearest Neighbors f1_score: 88.38951310861424 %\n",
      "Confusion Matrix:\n",
      " [[119  94]\n",
      " [ 61 590]]\n",
      "====================================================\n",
      "\n",
      "              precision    recall  f1-score   support\n",
      "\n",
      "     Negatif       0.66      0.56      0.61       213\n",
      "     Positif       0.86      0.91      0.88       651\n",
      "\n",
      "    accuracy                           0.82       864\n",
      "   macro avg       0.76      0.73      0.74       864\n",
      "weighted avg       0.81      0.82      0.82       864\n",
      "\n"
     ]
    }
   ],
   "source": [
    "text_clf = Pipeline([('vect', CountVectorizer()),\n",
    "                     ('tfidf', TfidfTransformer()),\n",
    "                     ('clf', KNeighborsClassifier(n_neighbors=10)),\n",
    "                     ])\n",
    "\n",
    "text_clf.fit(train_X, train_Y)\n",
    "predicted = text_clf.predict(test_X)\n",
    "\n",
    "print(\"K-Nearest Neighbors Accuracy:\", accuracy_score(test_Y, predicted)*100, \"%\")\n",
    "print(\"K-Nearest Neighbors Precision:\", precision_score(test_Y, predicted, average=\"binary\", pos_label=\"Positif\")*100, \"%\")\n",
    "print(\"K-Nearest Neighbors Recall:\", recall_score(test_Y, predicted, average=\"binary\", pos_label=\"Positif\")*100, \"%\")\n",
    "print(\"K-Nearest Neighbors f1_score:\", f1_score(test_Y, predicted, average=\"binary\", pos_label=\"Positif\")*100, \"%\")\n",
    "\n",
    "print(f'Confusion Matrix:\\n {confusion_matrix(test_Y, predicted)}')\n",
    "print('====================================================\\n')\n",
    "print(classification_report(test_Y, predicted, zero_division=0))"
   ]
  },
  {
   "cell_type": "code",
   "execution_count": 6,
   "id": "fcf09170-8420-4418-9535-d4a3969e7a41",
   "metadata": {},
   "outputs": [
    {
     "name": "stdout",
     "output_type": "stream",
     "text": [
      "K-Nearest Neighbors Accuracy: 82.06018518518519 %\n"
     ]
    },
    {
     "data": {
      "image/png": "[encoded data removed]",
      "text/plain": [
       "<Figure size 432x288 with 2 Axes>"
      ]
     },
     "metadata": {
      "needs_background": "light"
     },
     "output_type": "display_data"
    }
   ],
   "source": [
    "print(\"K-Nearest Neighbors Accuracy:\", accuracy_score(test_Y, predicted)*100, \"%\")\n",
    "\n",
    "conf_mat = confusion_matrix(test_Y, predicted)\n",
    "class_label = [\"Negatif\",\"Positif\"]\n",
    "test =pd.DataFrame(conf_mat, index = class_label, columns = class_label)\n",
    "sns.heatmap(test, annot = True, fmt = \"d\")\n",
    "plt.title(\"Confusion Matrix for test data\")\n",
    "plt.xlabel(\"Predicted Label\")\n",
    "plt.ylabel(\"True Label\")\n",
    "plt.show()"
   ]
  }
 ],
 "metadata": {
  "kernelspec": {
   "display_name": "Python 3 (ipykernel)",
   "language": "python",
   "name": "python3"
  },
  "language_info": {
   "codemirror_mode": {
    "name": "ipython",
    "version": 3
   },
   "file_extension": ".py",
   "mimetype": "text/x-python",
   "name": "python",
   "nbconvert_exporter": "python",
   "pygments_lexer": "ipython3",
   "version": "3.9.7"
  }
 },
 "nbformat": 4,
 "nbformat_minor": 5
}
