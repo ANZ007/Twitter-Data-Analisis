{
 "cells": [
  {
   "cell_type": "markdown",
   "id": "67b91803-726b-4b29-b265-686e7168cf0c",
   "metadata": {},
   "source": [
    "# Klasifikasi K-Nearest Neighbour (KNN)\n",
    "### Dengan K = 10\n",
    "Sumber : https://github.com/kk7nc/Text_Classification#id34 (Dengan Perubahan)"
   ]
  },
  {
   "cell_type": "markdown",
   "id": "fff40547-59d5-454f-a572-403c3214a8b0",
   "metadata": {},
   "source": [
    "## Import module / package"
   ]
  },
  {
   "cell_type": "code",
   "execution_count": 1,
   "id": "2a236f7b-8a09-4ee0-8033-7076ec33414e",
   "metadata": {},
   "outputs": [],
   "source": [
    "import pandas as pd\n",
    "from sklearn import model_selection\n",
    "from sklearn.pipeline import Pipeline\n",
    "from sklearn.neighbors import KNeighborsClassifier\n",
    "from sklearn.metrics import accuracy_score, precision_score, recall_score, f1_score, classification_report\n",
    "from scipy.spatial import distance\n",
    "from sklearn.feature_extraction.text import CountVectorizer\n",
    "from sklearn.feature_extraction.text import TfidfTransformer\n",
    "from sklearn.feature_extraction.text import TfidfVectorizer\n",
    "from sklearn.metrics import confusion_matrix\n",
    "import seaborn as sns\n",
    "import matplotlib.pyplot as plt"
   ]
  },
  {
   "cell_type": "code",
   "execution_count": 2,
   "id": "40fe9b70-fad0-4d61-ad84-88639c2ee44e",
   "metadata": {},
   "outputs": [
    {
     "data": {
      "text/html": [
       "<div>\n",
       "<style scoped>\n",
       "    .dataframe tbody tr th:only-of-type {\n",
       "        vertical-align: middle;\n",
       "    }\n",
       "\n",
       "    .dataframe tbody tr th {\n",
       "        vertical-align: top;\n",
       "    }\n",
       "\n",
       "    .dataframe thead th {\n",
       "        text-align: right;\n",
       "    }\n",
       "</style>\n",
       "<table border=\"1\" class=\"dataframe\">\n",
       "  <thead>\n",
       "    <tr style=\"text-align: right;\">\n",
       "      <th></th>\n",
       "      <th>tweet</th>\n",
       "      <th>polaritas</th>\n",
       "      <th>sentimen</th>\n",
       "    </tr>\n",
       "  </thead>\n",
       "  <tbody>\n",
       "    <tr>\n",
       "      <th>0</th>\n",
       "      <td>['jbharga', 'ayam', 'rm', 'tgk', 'telor', 'wya...</td>\n",
       "      <td>-2</td>\n",
       "      <td>Negatif</td>\n",
       "    </tr>\n",
       "    <tr>\n",
       "      <th>1</th>\n",
       "      <td>['diri', 'di', 'atas', 'kaki', 'sendiri', 'ser...</td>\n",
       "      <td>-2</td>\n",
       "      <td>Negatif</td>\n",
       "    </tr>\n",
       "    <tr>\n",
       "      <th>2</th>\n",
       "      <td>['sebab', 'harga', 'telur', 'anjlok', 'versi',...</td>\n",
       "      <td>5</td>\n",
       "      <td>Positif</td>\n",
       "    </tr>\n",
       "    <tr>\n",
       "      <th>3</th>\n",
       "      <td>['turun', 'minta', 'masyarakat', 'telur', 'aya...</td>\n",
       "      <td>-1</td>\n",
       "      <td>Negatif</td>\n",
       "    </tr>\n",
       "    <tr>\n",
       "      <th>4</th>\n",
       "      <td>['ternak', 'ayam', 'telur', 'aku', 'rugi', 'ra...</td>\n",
       "      <td>5</td>\n",
       "      <td>Positif</td>\n",
       "    </tr>\n",
       "  </tbody>\n",
       "</table>\n",
       "</div>"
      ],
      "text/plain": [
       "                                               tweet  polaritas sentimen\n",
       "0  ['jbharga', 'ayam', 'rm', 'tgk', 'telor', 'wya...         -2  Negatif\n",
       "1  ['diri', 'di', 'atas', 'kaki', 'sendiri', 'ser...         -2  Negatif\n",
       "2  ['sebab', 'harga', 'telur', 'anjlok', 'versi',...          5  Positif\n",
       "3  ['turun', 'minta', 'masyarakat', 'telur', 'aya...         -1  Negatif\n",
       "4  ['ternak', 'ayam', 'telur', 'aku', 'rugi', 'ra...          5  Positif"
      ]
     },
     "execution_count": 2,
     "metadata": {},
     "output_type": "execute_result"
    }
   ],
   "source": [
    "df = pd.read_csv(r\"data/tweets_labelled_tokenized_sastrawi.csv\")\n",
    "df2 = pd.read_csv(r\"data/tweets_labelled_tokenized_ecs.csv\")\n",
    "df.head()"
   ]
  },
  {
   "cell_type": "code",
   "execution_count": 3,
   "id": "b2369593-d90b-4d61-8ee5-26d223f4bc0c",
   "metadata": {},
   "outputs": [
    {
     "data": {
      "text/html": [
       "<div>\n",
       "<style scoped>\n",
       "    .dataframe tbody tr th:only-of-type {\n",
       "        vertical-align: middle;\n",
       "    }\n",
       "\n",
       "    .dataframe tbody tr th {\n",
       "        vertical-align: top;\n",
       "    }\n",
       "\n",
       "    .dataframe thead th {\n",
       "        text-align: right;\n",
       "    }\n",
       "</style>\n",
       "<table border=\"1\" class=\"dataframe\">\n",
       "  <thead>\n",
       "    <tr style=\"text-align: right;\">\n",
       "      <th></th>\n",
       "      <th>tweet</th>\n",
       "      <th>polaritas</th>\n",
       "      <th>sentimen</th>\n",
       "    </tr>\n",
       "  </thead>\n",
       "  <tbody>\n",
       "    <tr>\n",
       "      <th>0</th>\n",
       "      <td>['jbharga', 'ayam', 'rm', 'tgk', 'telor', 'wya...</td>\n",
       "      <td>-2</td>\n",
       "      <td>Negatif</td>\n",
       "    </tr>\n",
       "    <tr>\n",
       "      <th>1</th>\n",
       "      <td>['diri', 'di', 'atas', 'kaki', 'sendiri', 'ser...</td>\n",
       "      <td>-2</td>\n",
       "      <td>Negatif</td>\n",
       "    </tr>\n",
       "    <tr>\n",
       "      <th>2</th>\n",
       "      <td>['sebab', 'harga', 'telur', 'anjlok', 'versi',...</td>\n",
       "      <td>5</td>\n",
       "      <td>Positif</td>\n",
       "    </tr>\n",
       "    <tr>\n",
       "      <th>3</th>\n",
       "      <td>['turun', 'minta', 'masyarakat', 'telur', 'aya...</td>\n",
       "      <td>-1</td>\n",
       "      <td>Negatif</td>\n",
       "    </tr>\n",
       "    <tr>\n",
       "      <th>4</th>\n",
       "      <td>['ternak', 'ayam', 'telur', 'menga', 'rugi', '...</td>\n",
       "      <td>4</td>\n",
       "      <td>Positif</td>\n",
       "    </tr>\n",
       "  </tbody>\n",
       "</table>\n",
       "</div>"
      ],
      "text/plain": [
       "                                               tweet  polaritas sentimen\n",
       "0  ['jbharga', 'ayam', 'rm', 'tgk', 'telor', 'wya...         -2  Negatif\n",
       "1  ['diri', 'di', 'atas', 'kaki', 'sendiri', 'ser...         -2  Negatif\n",
       "2  ['sebab', 'harga', 'telur', 'anjlok', 'versi',...          5  Positif\n",
       "3  ['turun', 'minta', 'masyarakat', 'telur', 'aya...         -1  Negatif\n",
       "4  ['ternak', 'ayam', 'telur', 'menga', 'rugi', '...          4  Positif"
      ]
     },
     "execution_count": 3,
     "metadata": {},
     "output_type": "execute_result"
    }
   ],
   "source": [
    "df2.head()"
   ]
  },
  {
   "cell_type": "markdown",
   "id": "708ac052-dccd-4f91-9d23-6b3a22068d90",
   "metadata": {},
   "source": [
    "## Split Data (Test & Train)"
   ]
  },
  {
   "cell_type": "code",
   "execution_count": 4,
   "id": "08838526-e654-488a-ae9f-2ab901791da6",
   "metadata": {},
   "outputs": [],
   "source": [
    "train_X_df, test_X_df, train_Y_df, test_Y_df = model_selection.train_test_split(df['tweet'], df['sentimen'], test_size = 0.1, random_state = 42)\n",
    "train_X_df2, test_X_df2, train_Y_df2, test_Y_df2 = model_selection.train_test_split(df2['tweet'], df2['sentimen'], test_size = 0.1, random_state = 42)"
   ]
  },
  {
   "cell_type": "code",
   "execution_count": 5,
   "id": "dc3c607f-37fb-4502-9904-a9376496f21a",
   "metadata": {},
   "outputs": [],
   "source": [
    "data_train = pd.DataFrame()\n",
    "data_train['tweet'] = train_X_df\n",
    "data_train['sentimen'] = train_Y_df\n",
    "\n",
    "data_test = pd.DataFrame()\n",
    "data_test['tweet'] = test_X_df\n",
    "data_test['sentimen'] = test_Y_df\n",
    "\n",
    "data_train_2 = pd.DataFrame()\n",
    "data_train_2['tweet'] = train_X_df2\n",
    "data_train['sentimen'] = train_Y_df2\n",
    "\n",
    "data_test_2 = pd.DataFrame()\n",
    "data_test_2['tweet'] = test_X_df2\n",
    "data_test_2['sentimen'] = test_Y_df2"
   ]
  },
  {
   "cell_type": "markdown",
   "id": "9ff667b6-614d-49b4-bc2f-3cd403337311",
   "metadata": {},
   "source": [
    "## Klasifikasi Data dengan KNN (K = 10) dan Menampilkan Akurasi"
   ]
  },
  {
   "cell_type": "markdown",
   "id": "fbd83d15-5f7f-4ead-87cf-0ffbdfa27d84",
   "metadata": {},
   "source": [
    "### Dataset DF (_Stemming Nazief_)"
   ]
  },
  {
   "cell_type": "code",
   "execution_count": 6,
   "id": "472acb45-8530-4b97-b26c-1f5f17b6bdf0",
   "metadata": {
    "tags": []
   },
   "outputs": [
    {
     "name": "stdout",
     "output_type": "stream",
     "text": [
      "K-Nearest Neighbors Accuracy: 85.76388888888889 %\n",
      "K-Nearest Neighbors Precision: 90.33613445378151 %\n",
      "K-Nearest Neighbors Recall: 92.27467811158799 %\n",
      "K-Nearest Neighbors f1_score: 91.29511677282377 %\n",
      "Confusion Matrix:\n",
      " [[ 32  23]\n",
      " [ 18 215]]\n",
      "====================================================\n",
      "\n",
      "              precision    recall  f1-score   support\n",
      "\n",
      "     Negatif       0.64      0.58      0.61        55\n",
      "     Positif       0.90      0.92      0.91       233\n",
      "\n",
      "    accuracy                           0.86       288\n",
      "   macro avg       0.77      0.75      0.76       288\n",
      "weighted avg       0.85      0.86      0.86       288\n",
      "\n"
     ]
    }
   ],
   "source": [
    "text_clf = Pipeline([('vect', CountVectorizer()),\n",
    "                     ('tfidf', TfidfTransformer()),\n",
    "                     ('clf', KNeighborsClassifier(n_neighbors=10)),\n",
    "                     ])\n",
    "\n",
    "text_clf.fit(train_X_df, train_Y_df)\n",
    "predicted = text_clf.predict(test_X_df)\n",
    "\n",
    "print(\"K-Nearest Neighbors Accuracy:\", accuracy_score(test_Y_df, predicted)*100, \"%\")\n",
    "print(\"K-Nearest Neighbors Precision:\", precision_score(test_Y_df, predicted, average=\"binary\", pos_label=\"Positif\")*100, \"%\")\n",
    "print(\"K-Nearest Neighbors Recall:\", recall_score(test_Y_df, predicted, average=\"binary\", pos_label=\"Positif\")*100, \"%\")\n",
    "print(\"K-Nearest Neighbors f1_score:\", f1_score(test_Y_df, predicted, average=\"binary\", pos_label=\"Positif\")*100, \"%\")\n",
    "\n",
    "print(f'Confusion Matrix:\\n {confusion_matrix(test_Y_df, predicted)}')\n",
    "print('====================================================\\n')\n",
    "print(classification_report(test_Y_df, predicted, zero_division=0))"
   ]
  },
  {
   "cell_type": "code",
   "execution_count": 7,
   "id": "fcf09170-8420-4418-9535-d4a3969e7a41",
   "metadata": {},
   "outputs": [
    {
     "name": "stdout",
     "output_type": "stream",
     "text": [
      "K-Nearest Neighbors Accuracy: 85.76388888888889 %\n"
     ]
    },
    {
     "data": {
      "image/png": "[encoded data removed]",
      "text/plain": [
       "<Figure size 432x288 with 2 Axes>"
      ]
     },
     "metadata": {
      "needs_background": "light"
     },
     "output_type": "display_data"
    }
   ],
   "source": [
    "print(\"K-Nearest Neighbors Accuracy:\", accuracy_score(test_Y_df, predicted)*100, \"%\")\n",
    "\n",
    "conf_mat = confusion_matrix(test_Y_df, predicted)\n",
    "class_label = [\"Negatif\",\"Positif\"]\n",
    "test =pd.DataFrame(conf_mat, index = class_label, columns = class_label)\n",
    "sns.heatmap(test, annot = True, fmt = \"d\")\n",
    "plt.title(\"Confusion Matrix for test data\")\n",
    "plt.xlabel(\"Predicted Label\")\n",
    "plt.ylabel(\"True Label\")\n",
    "plt.show()"
   ]
  },
  {
   "cell_type": "markdown",
   "id": "f13ba3f0-b88a-4d67-8c0f-19e3c0e3ef5b",
   "metadata": {},
   "source": [
    "### Dataset DF2 (_Stemming ECS_)"
   ]
  },
  {
   "cell_type": "code",
   "execution_count": 8,
   "id": "2e967a11-13c2-422a-9bd5-206581746220",
   "metadata": {
    "tags": []
   },
   "outputs": [
    {
     "name": "stdout",
     "output_type": "stream",
     "text": [
      "K-Nearest Neighbors Accuracy: 87.15277777777779 %\n",
      "K-Nearest Neighbors Precision: 90.33613445378151 %\n",
      "K-Nearest Neighbors Recall: 93.88646288209607 %\n",
      "K-Nearest Neighbors f1_score: 92.07708779443254 %\n",
      "Confusion Matrix:\n",
      " [[ 36  23]\n",
      " [ 14 215]]\n",
      "====================================================\n",
      "\n",
      "              precision    recall  f1-score   support\n",
      "\n",
      "     Negatif       0.72      0.61      0.66        59\n",
      "     Positif       0.90      0.94      0.92       229\n",
      "\n",
      "    accuracy                           0.87       288\n",
      "   macro avg       0.81      0.77      0.79       288\n",
      "weighted avg       0.87      0.87      0.87       288\n",
      "\n"
     ]
    }
   ],
   "source": [
    "text_clf = Pipeline([('vect', CountVectorizer()),\n",
    "                     ('tfidf', TfidfTransformer()),\n",
    "                     ('clf', KNeighborsClassifier(n_neighbors=10)),\n",
    "                     ])\n",
    "\n",
    "text_clf.fit(train_X_df2, train_Y_df2)\n",
    "predicted = text_clf.predict(test_X_df2)\n",
    "\n",
    "print(\"K-Nearest Neighbors Accuracy:\", accuracy_score(test_Y_df2, predicted)*100, \"%\")\n",
    "print(\"K-Nearest Neighbors Precision:\", precision_score(test_Y_df2, predicted, average=\"binary\", pos_label=\"Positif\")*100, \"%\")\n",
    "print(\"K-Nearest Neighbors Recall:\", recall_score(test_Y_df2, predicted, average=\"binary\", pos_label=\"Positif\")*100, \"%\")\n",
    "print(\"K-Nearest Neighbors f1_score:\", f1_score(test_Y_df2, predicted, average=\"binary\", pos_label=\"Positif\")*100, \"%\")\n",
    "\n",
    "print(f'Confusion Matrix:\\n {confusion_matrix(test_Y_df2, predicted)}')\n",
    "print('====================================================\\n')\n",
    "print(classification_report(test_Y_df2, predicted, zero_division=0))"
   ]
  },
  {
   "cell_type": "code",
   "execution_count": 9,
   "id": "fd8956f8-8293-4194-8f4c-77dadcf7ff46",
   "metadata": {},
   "outputs": [
    {
     "name": "stdout",
     "output_type": "stream",
     "text": [
      "K-Nearest Neighbors Accuracy: 87.15277777777779 %\n"
     ]
    },
    {
     "data": {
      "image/png": "[encoded data removed]",
      "text/plain": [
       "<Figure size 432x288 with 2 Axes>"
      ]
     },
     "metadata": {
      "needs_background": "light"
     },
     "output_type": "display_data"
    }
   ],
   "source": [
    "print(\"K-Nearest Neighbors Accuracy:\", accuracy_score(test_Y_df2, predicted)*100, \"%\")\n",
    "\n",
    "conf_mat = confusion_matrix(test_Y_df2, predicted)\n",
    "class_label = [\"Negatif\",\"Positif\"]\n",
    "test =pd.DataFrame(conf_mat, index = class_label, columns = class_label)\n",
    "sns.heatmap(test, annot = True, fmt = \"d\")\n",
    "plt.title(\"Confusion Matrix for test data\")\n",
    "plt.xlabel(\"Predicted Label\")\n",
    "plt.ylabel(\"True Label\")\n",
    "plt.show()"
   ]
  }
 ],
 "metadata": {
  "kernelspec": {
   "display_name": "Python 3 (ipykernel)",
   "language": "python",
   "name": "python3"
  },
  "language_info": {
   "codemirror_mode": {
    "name": "ipython",
    "version": 3
   },
   "file_extension": ".py",
   "mimetype": "text/x-python",
   "name": "python",
   "nbconvert_exporter": "python",
   "pygments_lexer": "ipython3",
   "version": "3.9.7"
  }
 },
 "nbformat": 4,
 "nbformat_minor": 5
}
