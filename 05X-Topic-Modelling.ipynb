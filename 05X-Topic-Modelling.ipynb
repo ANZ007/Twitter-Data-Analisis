{
 "cells": [
  {
   "cell_type": "code",
   "execution_count": 1,
   "metadata": {},
   "outputs": [],
   "source": [
    "from IPython.core.interactiveshell import InteractiveShell\n",
    "InteractiveShell.ast_node_interactivity = \"all\""
   ]
  },
  {
   "cell_type": "code",
   "execution_count": 2,
   "metadata": {},
   "outputs": [],
   "source": [
    "import warnings\n",
    "warnings.filterwarnings('ignore')"
   ]
  },
  {
   "cell_type": "code",
   "execution_count": 3,
   "metadata": {
    "id": "MS10HciSuKmD"
   },
   "outputs": [],
   "source": [
    "import pandas as pd\n",
    "import numpy as np\n",
    "\n",
    "# https://www.youtube.com/watch?v=tUh0mgB0QuA\n",
    "from nltk.tokenize import word_tokenize\n",
    "from nltk.corpus import stopwords\n",
    "from string import punctuation\n",
    "\n",
    "import matplotlib.pyplot as plt\n",
    "\n",
    "import pyLDAvis.sklearn"
   ]
  },
  {
   "cell_type": "code",
   "execution_count": 4,
   "metadata": {
    "colab": {
     "base_uri": "https://localhost:8080/"
    },
    "executionInfo": {
     "elapsed": 10,
     "status": "ok",
     "timestamp": 1639985650706,
     "user": {
      "displayName": "Dedy Sugiarto",
      "photoUrl": "https://lh3.googleusercontent.com/a-/AOh14GgZ3KJCHYihGVY543qox0fz80SyLvAvjea8S7VIZg=s64",
      "userId": "11585466058060706990"
     },
     "user_tz": -420
    },
    "id": "s-lwBsWowZ1U",
    "outputId": "f4421f55-0703-488c-9c9b-77903b9d11ba"
   },
   "outputs": [
    {
     "name": "stderr",
     "output_type": "stream",
     "text": [
      "[nltk_data] Downloading package stopwords to\n",
      "[nltk_data]     C:\\Users\\ANZ007\\AppData\\Roaming\\nltk_data...\n",
      "[nltk_data]   Package stopwords is already up-to-date!\n"
     ]
    },
    {
     "data": {
      "text/plain": [
       "True"
      ]
     },
     "execution_count": 4,
     "metadata": {},
     "output_type": "execute_result"
    }
   ],
   "source": [
    "import nltk\n",
    "nltk.download('stopwords')\n",
    "sw_indo = stopwords.words(\"indonesian\") + list(punctuation)"
   ]
  },
  {
   "cell_type": "code",
   "execution_count": 5,
   "metadata": {
    "executionInfo": {
     "elapsed": 622,
     "status": "ok",
     "timestamp": 1639985713398,
     "user": {
      "displayName": "Dedy Sugiarto",
      "photoUrl": "https://lh3.googleusercontent.com/a-/AOh14GgZ3KJCHYihGVY543qox0fz80SyLvAvjea8S7VIZg=s64",
      "userId": "11585466058060706990"
     },
     "user_tz": -420
    },
    "id": "T4hvJ7LWw1nI"
   },
   "outputs": [
    {
     "data": {
      "text/html": [
       "<div>\n",
       "<style scoped>\n",
       "    .dataframe tbody tr th:only-of-type {\n",
       "        vertical-align: middle;\n",
       "    }\n",
       "\n",
       "    .dataframe tbody tr th {\n",
       "        vertical-align: top;\n",
       "    }\n",
       "\n",
       "    .dataframe thead th {\n",
       "        text-align: right;\n",
       "    }\n",
       "</style>\n",
       "<table border=\"1\" class=\"dataframe\">\n",
       "  <thead>\n",
       "    <tr style=\"text-align: right;\">\n",
       "      <th></th>\n",
       "      <th>tweet</th>\n",
       "      <th>sentimen</th>\n",
       "    </tr>\n",
       "  </thead>\n",
       "  <tbody>\n",
       "    <tr>\n",
       "      <th>0</th>\n",
       "      <td>menangani  kekerasan  seksual  disahkan  enam ...</td>\n",
       "      <td>Negatif</td>\n",
       "    </tr>\n",
       "    <tr>\n",
       "      <th>1</th>\n",
       "      <td>menangani  kekerasan  seksual  disahkan  enam ...</td>\n",
       "      <td>Negatif</td>\n",
       "    </tr>\n",
       "    <tr>\n",
       "      <th>2</th>\n",
       "      <td>wakil  ketua  mpr  ri  mahasiswa  kawal  imple...</td>\n",
       "      <td>Negatif</td>\n",
       "    </tr>\n",
       "    <tr>\n",
       "      <th>3</th>\n",
       "      <td>fadel  muhammad  mahasiswa  kawal  implementasi</td>\n",
       "      <td>Negatif</td>\n",
       "    </tr>\n",
       "    <tr>\n",
       "      <th>4</th>\n",
       "      <td>tanggal  chatnya  april  dijerat</td>\n",
       "      <td>Negatif</td>\n",
       "    </tr>\n",
       "  </tbody>\n",
       "</table>\n",
       "</div>"
      ],
      "text/plain": [
       "                                               tweet sentimen\n",
       "0  menangani  kekerasan  seksual  disahkan  enam ...  Negatif\n",
       "1  menangani  kekerasan  seksual  disahkan  enam ...  Negatif\n",
       "2  wakil  ketua  mpr  ri  mahasiswa  kawal  imple...  Negatif\n",
       "3    fadel  muhammad  mahasiswa  kawal  implementasi  Negatif\n",
       "4                   tanggal  chatnya  april  dijerat  Negatif"
      ]
     },
     "execution_count": 5,
     "metadata": {},
     "output_type": "execute_result"
    }
   ],
   "source": [
    "df = pd.read_csv(\"data/tweets_labelled_nltk.csv\")\n",
    "df.head()"
   ]
  },
  {
   "cell_type": "code",
   "execution_count": 6,
   "metadata": {
    "colab": {
     "base_uri": "https://localhost:8080/"
    },
    "executionInfo": {
     "elapsed": 655,
     "status": "ok",
     "timestamp": 1639986136532,
     "user": {
      "displayName": "Dedy Sugiarto",
      "photoUrl": "https://lh3.googleusercontent.com/a-/AOh14GgZ3KJCHYihGVY543qox0fz80SyLvAvjea8S7VIZg=s64",
      "userId": "11585466058060706990"
     },
     "user_tz": -420
    },
    "id": "G8eMbxnFylCU",
    "outputId": "5021b916-4dd2-4424-f646-f4e9e259ac5e"
   },
   "outputs": [
    {
     "name": "stderr",
     "output_type": "stream",
     "text": [
      "[nltk_data] Downloading package punkt to\n",
      "[nltk_data]     C:\\Users\\ANZ007\\AppData\\Roaming\\nltk_data...\n",
      "[nltk_data]   Package punkt is already up-to-date!\n"
     ]
    },
    {
     "data": {
      "text/plain": [
       "True"
      ]
     },
     "execution_count": 6,
     "metadata": {},
     "output_type": "execute_result"
    }
   ],
   "source": [
    "import nltk\n",
    "nltk.download('punkt')"
   ]
  },
  {
   "cell_type": "code",
   "execution_count": 7,
   "metadata": {},
   "outputs": [],
   "source": [
    "with pd.option_context('display.max_rows', None, 'display.max_columns', None, 'display.width', 30):\n",
    "    with open('data/wordcount_topik.txt', 'w') as f:\n",
    "        print(df['tweet'].str.split(expand=True).stack().value_counts(), file=f)"
   ]
  },
  {
   "cell_type": "code",
   "execution_count": 8,
   "metadata": {
    "colab": {
     "base_uri": "https://localhost:8080/"
    },
    "executionInfo": {
     "elapsed": 636,
     "status": "ok",
     "timestamp": 1639986358748,
     "user": {
      "displayName": "Dedy Sugiarto",
      "photoUrl": "https://lh3.googleusercontent.com/a-/AOh14GgZ3KJCHYihGVY543qox0fz80SyLvAvjea8S7VIZg=s64",
      "userId": "11585466058060706990"
     },
     "user_tz": -420
    },
    "id": "4-QVGe3gxmUd",
    "outputId": "dd2f982a-6d59-48bb-bf4e-1af9cbc7e670"
   },
   "outputs": [
    {
     "name": "stdout",
     "output_type": "stream",
     "text": [
      "  (0, 25864)\t1\n",
      "  (0, 19143)\t2\n",
      "  (0, 41373)\t2\n",
      "  (0, 10013)\t1\n",
      "  (0, 12366)\t1\n",
      "  (0, 8302)\t1\n",
      "  (0, 7977)\t1\n",
      "  (0, 36007)\t1\n",
      "  (0, 38359)\t1\n",
      "  (0, 26787)\t1\n",
      "  (0, 48180)\t1\n",
      "  (0, 46943)\t1\n",
      "  (0, 36166)\t1\n",
      "  (0, 42130)\t1\n",
      "  (0, 1866)\t1\n",
      "  (0, 25869)\t1\n",
      "  (0, 19224)\t2\n",
      "  (0, 41508)\t1\n",
      "  (0, 10123)\t1\n",
      "  (0, 12367)\t1\n",
      "  (0, 8307)\t1\n",
      "  (0, 7995)\t1\n",
      "  (0, 36019)\t1\n",
      "  (0, 38386)\t1\n",
      "  (0, 26863)\t1\n",
      "  :\t:\n",
      "  (15631, 23334)\t1\n",
      "  (15631, 20396)\t1\n",
      "  (15631, 11655)\t1\n",
      "  (15631, 39258)\t1\n",
      "  (15631, 37801)\t1\n",
      "  (15631, 14596)\t1\n",
      "  (15631, 38510)\t1\n",
      "  (15631, 38524)\t1\n",
      "  (15631, 22590)\t1\n",
      "  (15631, 22596)\t1\n",
      "  (15631, 38563)\t1\n",
      "  (15631, 33574)\t1\n",
      "  (15631, 19846)\t1\n",
      "  (15631, 33575)\t1\n",
      "  (15631, 2651)\t1\n",
      "  (15631, 28025)\t1\n",
      "  (15631, 2657)\t1\n",
      "  (15631, 10384)\t1\n",
      "  (15631, 36561)\t1\n",
      "  (15631, 23589)\t1\n",
      "  (15631, 38581)\t1\n",
      "  (15631, 36562)\t1\n",
      "  (15631, 14638)\t1\n",
      "  (15631, 19848)\t1\n",
      "  (15631, 11613)\t1\n"
     ]
    }
   ],
   "source": [
    "from sklearn.feature_extraction.text import CountVectorizer\n",
    "bow = CountVectorizer(ngram_range=(1,2), tokenizer=word_tokenize)\n",
    "bow_matrix = bow.fit_transform(df.tweet.astype(\"U\"))\n",
    "print(bow_matrix)"
   ]
  },
  {
   "cell_type": "code",
   "execution_count": 9,
   "metadata": {},
   "outputs": [
    {
     "data": {
      "text/plain": [
       "TfidfVectorizer(ngram_range=(1, 2), strip_accents='unicode', sublinear_tf=True,\n",
       "                token_pattern='\\\\w+',\n",
       "                tokenizer=<function word_tokenize at 0x00000288B9278EE0>)"
      ]
     },
     "execution_count": 9,
     "metadata": {},
     "output_type": "execute_result"
    },
    {
     "name": "stdout",
     "output_type": "stream",
     "text": [
      "TfidfVectorizer(ngram_range=(1, 2), strip_accents='unicode', sublinear_tf=True,\n",
      "                token_pattern='\\\\w+',\n",
      "                tokenizer=<function word_tokenize at 0x00000288B9278EE0>)\n"
     ]
    }
   ],
   "source": [
    "from sklearn.feature_extraction.text import TfidfVectorizer\n",
    "\n",
    "datatfidf = TfidfVectorizer(ngram_range=(1,2), strip_accents='unicode', \n",
    "                            analyzer='word', tokenizer=word_tokenize, \n",
    "                            use_idf=True, smooth_idf=True, sublinear_tf=True, token_pattern=r'\\w+')\n",
    "datatfidf.fit(df.tweet.astype(\"U\"))\n",
    "print(datatfidf)"
   ]
  },
  {
   "cell_type": "code",
   "execution_count": 10,
   "metadata": {
    "colab": {
     "base_uri": "https://localhost:8080/"
    },
    "executionInfo": {
     "elapsed": 492,
     "status": "ok",
     "timestamp": 1639986469665,
     "user": {
      "displayName": "Dedy Sugiarto",
      "photoUrl": "https://lh3.googleusercontent.com/a-/AOh14GgZ3KJCHYihGVY543qox0fz80SyLvAvjea8S7VIZg=s64",
      "userId": "11585466058060706990"
     },
     "user_tz": -420
    },
    "id": "7NUynZygz0Q5",
    "outputId": "1a0e6844-03f3-4c7a-d22e-fb413e82bccb"
   },
   "outputs": [
    {
     "data": {
      "text/plain": [
       "49955"
      ]
     },
     "execution_count": 10,
     "metadata": {},
     "output_type": "execute_result"
    }
   ],
   "source": [
    "vocab = bow.get_feature_names()\n",
    "len(vocab)"
   ]
  },
  {
   "cell_type": "code",
   "execution_count": 11,
   "metadata": {},
   "outputs": [
    {
     "data": {
      "text/plain": [
       "49955"
      ]
     },
     "execution_count": 11,
     "metadata": {},
     "output_type": "execute_result"
    }
   ],
   "source": [
    "vocab2 = datatfidf.get_feature_names()\n",
    "len(vocab2)"
   ]
  },
  {
   "cell_type": "markdown",
   "metadata": {
    "id": "a-bcrR0K0oQJ"
   },
   "source": [
    "## Latent Semantic Analysis (LSA) BoW"
   ]
  },
  {
   "cell_type": "code",
   "execution_count": 12,
   "metadata": {
    "executionInfo": {
     "elapsed": 440,
     "status": "ok",
     "timestamp": 1639986718857,
     "user": {
      "displayName": "Dedy Sugiarto",
      "photoUrl": "https://lh3.googleusercontent.com/a-/AOh14GgZ3KJCHYihGVY543qox0fz80SyLvAvjea8S7VIZg=s64",
      "userId": "11585466058060706990"
     },
     "user_tz": -420
    },
    "id": "xbVDXc5C0d1A"
   },
   "outputs": [],
   "source": [
    "from sklearn.decomposition import TruncatedSVD"
   ]
  },
  {
   "cell_type": "code",
   "execution_count": 13,
   "metadata": {
    "executionInfo": {
     "elapsed": 6,
     "status": "ok",
     "timestamp": 1639986800487,
     "user": {
      "displayName": "Dedy Sugiarto",
      "photoUrl": "https://lh3.googleusercontent.com/a-/AOh14GgZ3KJCHYihGVY543qox0fz80SyLvAvjea8S7VIZg=s64",
      "userId": "11585466058060706990"
     },
     "user_tz": -420
    },
    "id": "jJvwdZx803Fe"
   },
   "outputs": [],
   "source": [
    "lsa = TruncatedSVD(n_components=3, n_iter=10, random_state=0)\n",
    "lsa_matrix = lsa.fit_transform(bow_matrix)"
   ]
  },
  {
   "cell_type": "code",
   "execution_count": 14,
   "metadata": {
    "colab": {
     "base_uri": "https://localhost:8080/"
    },
    "executionInfo": {
     "elapsed": 436,
     "status": "ok",
     "timestamp": 1639986909873,
     "user": {
      "displayName": "Dedy Sugiarto",
      "photoUrl": "https://lh3.googleusercontent.com/a-/AOh14GgZ3KJCHYihGVY543qox0fz80SyLvAvjea8S7VIZg=s64",
      "userId": "11585466058060706990"
     },
     "user_tz": -420
    },
    "id": "5uncosoJ1LBz",
    "outputId": "03463829-1e12-45c3-f934-00e935e62fd2"
   },
   "outputs": [
    {
     "name": "stdout",
     "output_type": "stream",
     "text": [
      "(15632, 3)\n",
      "(3, 49955)\n"
     ]
    }
   ],
   "source": [
    "# print(bow_matrix.shape)\n",
    "print(lsa_matrix.shape)\n",
    "print(lsa.components_.shape)"
   ]
  },
  {
   "cell_type": "code",
   "execution_count": 15,
   "metadata": {
    "executionInfo": {
     "elapsed": 441,
     "status": "ok",
     "timestamp": 1639987127338,
     "user": {
      "displayName": "Dedy Sugiarto",
      "photoUrl": "https://lh3.googleusercontent.com/a-/AOh14GgZ3KJCHYihGVY543qox0fz80SyLvAvjea8S7VIZg=s64",
      "userId": "11585466058060706990"
     },
     "user_tz": -420
    },
    "id": "6awWGToD1mkI"
   },
   "outputs": [],
   "source": [
    "def get_topic(model):\n",
    "    return [[vocab[idx] for idx in comp.argsort()[-6:] if vocab[idx].isalnum()]\n",
    "        for comp in model.components_]"
   ]
  },
  {
   "cell_type": "code",
   "execution_count": 16,
   "metadata": {
    "colab": {
     "base_uri": "https://localhost:8080/"
    },
    "executionInfo": {
     "elapsed": 454,
     "status": "ok",
     "timestamp": 1639987205797,
     "user": {
      "displayName": "Dedy Sugiarto",
      "photoUrl": "https://lh3.googleusercontent.com/a-/AOh14GgZ3KJCHYihGVY543qox0fz80SyLvAvjea8S7VIZg=s64",
      "userId": "11585466058060706990"
     },
     "user_tz": -420
    },
    "id": "pSkkQXGH2bT6",
    "outputId": "11b55182-1756-46d9-fdd2-722b9eb906a5"
   },
   "outputs": [
    {
     "data": {
      "text/plain": [
       "[['maharani', 'pahlawan', 'disahkan', 'puan'],\n",
       " ['pidana', 'tindak', 'kekerasan', 'seksual'],\n",
       " ['ri', 'ketua', 'maharani', 'dpr', 'disahkan']]"
      ]
     },
     "execution_count": 16,
     "metadata": {},
     "output_type": "execute_result"
    }
   ],
   "source": [
    "get_topic(lsa)"
   ]
  },
  {
   "cell_type": "markdown",
   "metadata": {
    "id": "a-bcrR0K0oQJ"
   },
   "source": [
    "## Latent Semantic Analysis (LSA) TF-IDF"
   ]
  },
  {
   "cell_type": "code",
   "execution_count": 17,
   "metadata": {
    "executionInfo": {
     "elapsed": 440,
     "status": "ok",
     "timestamp": 1639986718857,
     "user": {
      "displayName": "Dedy Sugiarto",
      "photoUrl": "https://lh3.googleusercontent.com/a-/AOh14GgZ3KJCHYihGVY543qox0fz80SyLvAvjea8S7VIZg=s64",
      "userId": "11585466058060706990"
     },
     "user_tz": -420
    },
    "id": "xbVDXc5C0d1A"
   },
   "outputs": [],
   "source": [
    "from sklearn.decomposition import TruncatedSVD"
   ]
  },
  {
   "cell_type": "code",
   "execution_count": 18,
   "metadata": {
    "executionInfo": {
     "elapsed": 6,
     "status": "ok",
     "timestamp": 1639986800487,
     "user": {
      "displayName": "Dedy Sugiarto",
      "photoUrl": "https://lh3.googleusercontent.com/a-/AOh14GgZ3KJCHYihGVY543qox0fz80SyLvAvjea8S7VIZg=s64",
      "userId": "11585466058060706990"
     },
     "user_tz": -420
    },
    "id": "jJvwdZx803Fe"
   },
   "outputs": [],
   "source": [
    "lsa2 = TruncatedSVD(n_components=3, n_iter=10, random_state=0)\n",
    "lsa_matrix2 = lsa2.fit_transform(datatfidf.transform(df.tweet.astype(\"U\")))"
   ]
  },
  {
   "cell_type": "code",
   "execution_count": 19,
   "metadata": {
    "colab": {
     "base_uri": "https://localhost:8080/"
    },
    "executionInfo": {
     "elapsed": 436,
     "status": "ok",
     "timestamp": 1639986909873,
     "user": {
      "displayName": "Dedy Sugiarto",
      "photoUrl": "https://lh3.googleusercontent.com/a-/AOh14GgZ3KJCHYihGVY543qox0fz80SyLvAvjea8S7VIZg=s64",
      "userId": "11585466058060706990"
     },
     "user_tz": -420
    },
    "id": "5uncosoJ1LBz",
    "outputId": "03463829-1e12-45c3-f934-00e935e62fd2"
   },
   "outputs": [
    {
     "name": "stdout",
     "output_type": "stream",
     "text": [
      "(15632, 3)\n",
      "(3, 49955)\n"
     ]
    }
   ],
   "source": [
    "# print(datatfidf.shape)\n",
    "print(lsa_matrix2.shape)\n",
    "print(lsa2.components_.shape)"
   ]
  },
  {
   "cell_type": "code",
   "execution_count": 20,
   "metadata": {
    "executionInfo": {
     "elapsed": 441,
     "status": "ok",
     "timestamp": 1639987127338,
     "user": {
      "displayName": "Dedy Sugiarto",
      "photoUrl": "https://lh3.googleusercontent.com/a-/AOh14GgZ3KJCHYihGVY543qox0fz80SyLvAvjea8S7VIZg=s64",
      "userId": "11585466058060706990"
     },
     "user_tz": -420
    },
    "id": "6awWGToD1mkI"
   },
   "outputs": [],
   "source": [
    "def get_topic(model):\n",
    "    return [[vocab[idx] for idx in reversed(comp.argsort()[-6:]) if vocab[idx].isalnum()]\n",
    "        for comp in model.components_]"
   ]
  },
  {
   "cell_type": "code",
   "execution_count": 21,
   "metadata": {
    "colab": {
     "base_uri": "https://localhost:8080/"
    },
    "executionInfo": {
     "elapsed": 454,
     "status": "ok",
     "timestamp": 1639987205797,
     "user": {
      "displayName": "Dedy Sugiarto",
      "photoUrl": "https://lh3.googleusercontent.com/a-/AOh14GgZ3KJCHYihGVY543qox0fz80SyLvAvjea8S7VIZg=s64",
      "userId": "11585466058060706990"
     },
     "user_tz": -420
    },
    "id": "pSkkQXGH2bT6",
    "outputId": "11b55182-1756-46d9-fdd2-722b9eb906a5"
   },
   "outputs": [
    {
     "data": {
      "text/plain": [
       "[['puan', 'disahkan', 'pahlawan', 'maharani'],\n",
       " ['seksual', 'kekerasan', 'tindak', 'pidana'],\n",
       " ['disahkan', 'dpr', 'maharani', 'ketua', 'ri']]"
      ]
     },
     "execution_count": 21,
     "metadata": {},
     "output_type": "execute_result"
    }
   ],
   "source": [
    "get_topic(lsa)"
   ]
  },
  {
   "cell_type": "markdown",
   "metadata": {
    "id": "5E20ZXy53eBS"
   },
   "source": [
    "## Latent Dirichlet Allocation (LDA) BoW"
   ]
  },
  {
   "cell_type": "code",
   "execution_count": 22,
   "metadata": {
    "executionInfo": {
     "elapsed": 490,
     "status": "ok",
     "timestamp": 1639987474944,
     "user": {
      "displayName": "Dedy Sugiarto",
      "photoUrl": "https://lh3.googleusercontent.com/a-/AOh14GgZ3KJCHYihGVY543qox0fz80SyLvAvjea8S7VIZg=s64",
      "userId": "11585466058060706990"
     },
     "user_tz": -420
    },
    "id": "hlDO8Fyv3o18"
   },
   "outputs": [],
   "source": [
    "from sklearn.decomposition import LatentDirichletAllocation"
   ]
  },
  {
   "cell_type": "code",
   "execution_count": 23,
   "metadata": {
    "executionInfo": {
     "elapsed": 457,
     "status": "ok",
     "timestamp": 1639987559977,
     "user": {
      "displayName": "Dedy Sugiarto",
      "photoUrl": "https://lh3.googleusercontent.com/a-/AOh14GgZ3KJCHYihGVY543qox0fz80SyLvAvjea8S7VIZg=s64",
      "userId": "11585466058060706990"
     },
     "user_tz": -420
    },
    "id": "D-tIcOqo3wCc"
   },
   "outputs": [],
   "source": [
    "lda = LatentDirichletAllocation(n_components=3, max_iter = 10, learning_method='online', learning_offset=50., random_state=0)\n",
    "lda_matrix = lda.fit_transform(bow_matrix)"
   ]
  },
  {
   "cell_type": "code",
   "execution_count": 24,
   "metadata": {
    "colab": {
     "base_uri": "https://localhost:8080/"
    },
    "executionInfo": {
     "elapsed": 473,
     "status": "ok",
     "timestamp": 1639987576924,
     "user": {
      "displayName": "Dedy Sugiarto",
      "photoUrl": "https://lh3.googleusercontent.com/a-/AOh14GgZ3KJCHYihGVY543qox0fz80SyLvAvjea8S7VIZg=s64",
      "userId": "11585466058060706990"
     },
     "user_tz": -420
    },
    "id": "Q4iSM1iH4EoP",
    "outputId": "aa7b277a-1c19-430a-a50c-ed6f9df100de"
   },
   "outputs": [
    {
     "data": {
      "text/plain": [
       "[['puan', 'disahkan', 'banget', 'sah', 'pahlawan'],\n",
       " ['seksual', 'kekerasan', 'korban', 'hukum', 'disahkan'],\n",
       " ['puan', 'disahkan', 'dpr', 'perempuan', 'maharani']]"
      ]
     },
     "execution_count": 24,
     "metadata": {},
     "output_type": "execute_result"
    }
   ],
   "source": [
    "get_topic(lda)"
   ]
  },
  {
   "cell_type": "code",
   "execution_count": 25,
   "metadata": {},
   "outputs": [
    {
     "data": {
      "text/html": [
       "\n",
       "        <iframe\n",
       "            width=\"1400\"\n",
       "            height=\"800\"\n",
       "            src=\"data/pyldavis-output.html\"\n",
       "            frameborder=\"0\"\n",
       "            allowfullscreen\n",
       "            \n",
       "        ></iframe>\n",
       "        "
      ],
      "text/plain": [
       "<IPython.lib.display.IFrame at 0x288bc2eeca0>"
      ]
     },
     "execution_count": 25,
     "metadata": {},
     "output_type": "execute_result"
    }
   ],
   "source": [
    "vis_lda = pyLDAvis.sklearn.prepare(lda, bow_matrix, bow)\n",
    "pyLDAvis.save_html(vis_lda, \"data/pyldavis-output.html\")\n",
    "\n",
    "from IPython.display import IFrame\n",
    "IFrame(src='data/pyldavis-output.html', width=1400, height=800)"
   ]
  },
  {
   "cell_type": "markdown",
   "metadata": {
    "id": "5E20ZXy53eBS"
   },
   "source": [
    "## Latent Dirichlet Allocation (LDA) TF-IDF"
   ]
  },
  {
   "cell_type": "code",
   "execution_count": 26,
   "metadata": {
    "executionInfo": {
     "elapsed": 490,
     "status": "ok",
     "timestamp": 1639987474944,
     "user": {
      "displayName": "Dedy Sugiarto",
      "photoUrl": "https://lh3.googleusercontent.com/a-/AOh14GgZ3KJCHYihGVY543qox0fz80SyLvAvjea8S7VIZg=s64",
      "userId": "11585466058060706990"
     },
     "user_tz": -420
    },
    "id": "hlDO8Fyv3o18"
   },
   "outputs": [],
   "source": [
    "from sklearn.decomposition import LatentDirichletAllocation"
   ]
  },
  {
   "cell_type": "code",
   "execution_count": 27,
   "metadata": {
    "executionInfo": {
     "elapsed": 457,
     "status": "ok",
     "timestamp": 1639987559977,
     "user": {
      "displayName": "Dedy Sugiarto",
      "photoUrl": "https://lh3.googleusercontent.com/a-/AOh14GgZ3KJCHYihGVY543qox0fz80SyLvAvjea8S7VIZg=s64",
      "userId": "11585466058060706990"
     },
     "user_tz": -420
    },
    "id": "D-tIcOqo3wCc"
   },
   "outputs": [],
   "source": [
    "lda2 = LatentDirichletAllocation(n_components=3, max_iter = 10, learning_method='online', learning_offset=50., random_state=0)\n",
    "lda_matrix2 = lda2.fit_transform(datatfidf.transform(df.tweet.astype(\"U\")))"
   ]
  },
  {
   "cell_type": "code",
   "execution_count": 28,
   "metadata": {
    "colab": {
     "base_uri": "https://localhost:8080/"
    },
    "executionInfo": {
     "elapsed": 473,
     "status": "ok",
     "timestamp": 1639987576924,
     "user": {
      "displayName": "Dedy Sugiarto",
      "photoUrl": "https://lh3.googleusercontent.com/a-/AOh14GgZ3KJCHYihGVY543qox0fz80SyLvAvjea8S7VIZg=s64",
      "userId": "11585466058060706990"
     },
     "user_tz": -420
    },
    "id": "Q4iSM1iH4EoP",
    "outputId": "aa7b277a-1c19-430a-a50c-ed6f9df100de"
   },
   "outputs": [
    {
     "data": {
      "text/plain": [
       "[['puan', 'disahkan', 'terima', 'kasih', 'pemerintah'],\n",
       " ['puan', 'korban', 'indonesia', 'disahkan', 'perempuan', 'maharani'],\n",
       " ['disahkan', 'puan', 'perempuan', 'seksual', 'kekerasan', 'dpr']]"
      ]
     },
     "execution_count": 28,
     "metadata": {},
     "output_type": "execute_result"
    }
   ],
   "source": [
    "get_topic(lda2)"
   ]
  },
  {
   "cell_type": "code",
   "execution_count": 29,
   "metadata": {},
   "outputs": [
    {
     "data": {
      "text/html": [
       "\n",
       "        <iframe\n",
       "            width=\"1400\"\n",
       "            height=\"800\"\n",
       "            src=\"data/pyldavis-output-2.html\"\n",
       "            frameborder=\"0\"\n",
       "            allowfullscreen\n",
       "            \n",
       "        ></iframe>\n",
       "        "
      ],
      "text/plain": [
       "<IPython.lib.display.IFrame at 0x288bea6a430>"
      ]
     },
     "execution_count": 29,
     "metadata": {},
     "output_type": "execute_result"
    }
   ],
   "source": [
    "vis_lda = pyLDAvis.sklearn.prepare(lda2, datatfidf.transform(df.tweet.astype(\"U\")), datatfidf)\n",
    "pyLDAvis.save_html(vis_lda, \"data/pyldavis-output-2.html\")\n",
    "\n",
    "from IPython.display import IFrame\n",
    "IFrame(src='data/pyldavis-output-2.html', width=1400, height=800)"
   ]
  },
  {
   "cell_type": "code",
   "execution_count": 30,
   "metadata": {},
   "outputs": [
    {
     "name": "stderr",
     "output_type": "stream",
     "text": [
      "[nltk_data] Downloading package punkt to\n",
      "[nltk_data]     C:\\Users\\ANZ007\\AppData\\Roaming\\nltk_data...\n",
      "[nltk_data]   Package punkt is already up-to-date!\n"
     ]
    },
    {
     "data": {
      "text/plain": [
       "True"
      ]
     },
     "execution_count": 30,
     "metadata": {},
     "output_type": "execute_result"
    },
    {
     "data": {
      "text/plain": [
       "0        [menangani, kekerasan, seksual, disahkan, enam...\n",
       "1        [menangani, kekerasan, seksual, disahkan, enam...\n",
       "2        [wakil, ketua, mpr, ri, mahasiswa, kawal, impl...\n",
       "3        [fadel, muhammad, mahasiswa, kawal, implementasi]\n",
       "4                       [tanggal, chatnya, april, dijerat]\n",
       "                               ...                        \n",
       "15627    [koordinator, forum, perempuan, indonesia, ber...\n",
       "15628    [puan, maharani, dinilai, penuhi, harapan, kau...\n",
       "15629    [keberadaan, puan, maharani, payung, hukum, me...\n",
       "15630    [puan, menyebut, kehadiran, wujud, keberpihaka...\n",
       "15631    [ketua, dpr, ri, puan, maharani, rancangan, un...\n",
       "Name: tweet, Length: 15632, dtype: object"
      ]
     },
     "execution_count": 30,
     "metadata": {},
     "output_type": "execute_result"
    }
   ],
   "source": [
    "nltk.download('punkt')\n",
    "def word_tokenize_wrapper(text):\n",
    "    return word_tokenize(text)\n",
    "\n",
    "df['tweet'] = df['tweet'].astype(\"U\").apply(word_tokenize_wrapper)\n",
    "df['tweet']\n",
    "data_words = df['tweet'].values.tolist()"
   ]
  },
  {
   "cell_type": "code",
   "execution_count": 31,
   "metadata": {},
   "outputs": [
    {
     "name": "stderr",
     "output_type": "stream",
     "text": [
      "F:\\Apps-Files\\Windows\\Miniconda\\envs\\data-mining\\lib\\site-packages\\scipy\\sparse\\sparsetools.py:21: DeprecationWarning: `scipy.sparse.sparsetools` is deprecated!\n",
      "scipy.sparse.sparsetools is a private module for scipy.sparse, and should not be used.\n",
      "  _deprecated()\n"
     ]
    },
    {
     "name": "stdout",
     "output_type": "stream",
     "text": [
      "[(0, 1), (1, 1), (2, 1), (3, 1), (4, 1), (5, 2), (6, 1), (7, 1), (8, 1), (9, 1), (10, 1), (11, 2), (12, 1), (13, 1), (14, 1)]\n"
     ]
    }
   ],
   "source": [
    "import gensim.corpora as corpora\n",
    "\n",
    "# Create Dictionary\n",
    "id2word = corpora.Dictionary(data_words)\n",
    "\n",
    "# Create Corpus\n",
    "texts = data_words\n",
    "\n",
    "# Term Document Frequency\n",
    "corpus = [id2word.doc2bow(text) for text in texts]\n",
    "\n",
    "# View\n",
    "print(corpus[:1][0][:30])"
   ]
  },
  {
   "cell_type": "code",
   "execution_count": 32,
   "metadata": {},
   "outputs": [],
   "source": [
    "import gensim\n",
    "from gensim.models.coherencemodel import CoherenceModel"
   ]
  },
  {
   "cell_type": "code",
   "execution_count": 33,
   "metadata": {},
   "outputs": [],
   "source": [
    "def compute_coherence_values(dictionary, corpus, texts, limit, start=2, step=3):\n",
    "    \"\"\"\n",
    "    Compute c_v coherence for various number of topics\n",
    "\n",
    "    Parameters:\n",
    "    ----------\n",
    "    dictionary : Gensim dictionary\n",
    "    corpus : Gensim corpus\n",
    "    texts : List of input texts\n",
    "    limit : Max num of topics\n",
    "\n",
    "    Returns:\n",
    "    -------\n",
    "    model_list : List of LDA topic models\n",
    "    coherence_values : Coherence values corresponding to the LDA model with respective number of topics\n",
    "    \"\"\"\n",
    "    coherence_values = []\n",
    "    model_list = []\n",
    "    for num_topics in range(start, limit, step):\n",
    "        model = gensim.models.ldamodel.LdaModel(corpus=corpus, num_topics=num_topics, id2word=dictionary)\n",
    "        model_list.append(model)\n",
    "        coherencemodel = CoherenceModel(model=model, texts=texts, dictionary=dictionary, coherence='c_v')\n",
    "        coherence_values.append(coherencemodel.get_coherence())\n",
    "\n",
    "    return model_list, coherence_values"
   ]
  },
  {
   "cell_type": "code",
   "execution_count": null,
   "metadata": {},
   "outputs": [],
   "source": [
    "model_list, coherence_values = compute_coherence_values(dictionary=id2word, corpus=corpus, texts=data_words, start=2, limit=11, step=1)"
   ]
  },
  {
   "cell_type": "code",
   "execution_count": null,
   "metadata": {},
   "outputs": [],
   "source": [
    "# Print the coherence scores\n",
    "for m, cv in zip(model_list, coherence_values):\n",
    "    print(\"Num Topics =\", m, \" has Coherence Value of\", round(cv, 10))"
   ]
  }
 ],
 "metadata": {
  "colab": {
   "name": "Tugas_topicModelling.ipynb",
   "provenance": []
  },
  "kernelspec": {
   "display_name": "Python 3 (ipykernel)",
   "language": "python",
   "name": "python3"
  },
  "language_info": {
   "codemirror_mode": {
    "name": "ipython",
    "version": 3
   },
   "file_extension": ".py",
   "mimetype": "text/x-python",
   "name": "python",
   "nbconvert_exporter": "python",
   "pygments_lexer": "ipython3",
   "version": "3.9.9"
  }
 },
 "nbformat": 4,
 "nbformat_minor": 4
}
