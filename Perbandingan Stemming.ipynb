{
 "cells": [
  {
   "cell_type": "code",
   "execution_count": 1,
   "id": "7fc657d3-39db-4af8-8614-eef231434277",
   "metadata": {},
   "outputs": [],
   "source": [
    "from ecsstemmer import EcsStemmer\n",
    "from Sastrawi.Stemmer.StemmerFactory import StemmerFactory"
   ]
  },
  {
   "cell_type": "code",
   "execution_count": 2,
   "id": "577db020-8ced-4305-ac02-bf7de4b617ac",
   "metadata": {},
   "outputs": [
    {
     "data": {
      "text/plain": [
       "['tengah',\n",
       " 'harga',\n",
       " 'telor',\n",
       " 'ayam',\n",
       " 'di',\n",
       " 'tingkat',\n",
       " 'tan',\n",
       " 'yang',\n",
       " 'tidak',\n",
       " 'sahabat',\n",
       " 'alhamdulillah',\n",
       " 'kami',\n",
       " 'dr',\n",
       " 'koperasi',\n",
       " 'lumbungbumi',\n",
       " 'sejahtera',\n",
       " 'bisa',\n",
       " 'fasilitas',\n",
       " 'hubung',\n",
       " 'antara',\n",
       " 'ternak',\n",
       " 'dg',\n",
       " 'industri',\n",
       " 'pasar',\n",
       " 'telor',\n",
       " 'sehat',\n",
       " 'tanpa',\n",
       " 'vaksin',\n",
       " 'tanpa',\n",
       " 'obat',\n",
       " 'kimia',\n",
       " 'sintetis']"
      ]
     },
     "execution_count": 2,
     "metadata": {},
     "output_type": "execute_result"
    }
   ],
   "source": [
    "stemmer1 = EcsStemmer()\n",
    "\n",
    "listOfWords = ['ditengah', 'harga', 'telor', 'ayam', 'di', 'tingkat', 'petani', 'yang', 'tidak', 'bersahabat', 'alhamdulillah', 'kami', 'dr', 'koperasi', 'lumbungbumi', 'sejahtera', 'bisa', 'memfasilitasi', 'menghubungkan', 'antara', 'peternak', 'dg', 'industri', 'pasar', 'telor', 'sehat', 'tanpa', 'vaksin', 'tanpa', 'obat', 'kimia', 'sintetis']\n",
    "stemmer1.stemm(listOfWords)"
   ]
  },
  {
   "cell_type": "code",
   "execution_count": 3,
   "id": "81cba976-4afe-4345-b3c0-025c0960f407",
   "metadata": {},
   "outputs": [
    {
     "name": "stdout",
     "output_type": "stream",
     "text": [
      "tengah harga telor ayam di tingkat tani yg tidak sahabat alhamdulillah kami dr koperasi lumbungbumi sejahtera bisa fasilitas hubung antara ternak dg industri pasar telor sehat tanpa vaksin tanpa obat kimia sintetis\n"
     ]
    }
   ],
   "source": [
    "stemmerfactory2 = StemmerFactory()\n",
    "stemmer2 = stemmerfactory2.create_stemmer()\n",
    "\n",
    "print(stemmer2.stem('ditengah harga telor ayam di tingkat petani yg tidak bersahabat alhamdulillah kami dr Koperasi LumbungBumi sejahtera bisa memfasilitasi menghubungkan antara peternak dg industri pasar telor sehat tanpa vaksin tanpa obat kimia sintetis'))"
   ]
  },
  {
   "cell_type": "code",
   "execution_count": null,
   "id": "858d2d58-606e-43c6-98be-ddb1534d2a00",
   "metadata": {},
   "outputs": [],
   "source": []
  }
 ],
 "metadata": {
  "kernelspec": {
   "display_name": "Python 3",
   "language": "python",
   "name": "python3"
  },
  "language_info": {
   "codemirror_mode": {
    "name": "ipython",
    "version": 3
   },
   "file_extension": ".py",
   "mimetype": "text/x-python",
   "name": "python",
   "nbconvert_exporter": "python",
   "pygments_lexer": "ipython3",
   "version": "3.9.7"
  }
 },
 "nbformat": 4,
 "nbformat_minor": 5
}
