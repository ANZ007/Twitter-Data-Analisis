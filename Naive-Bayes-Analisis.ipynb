{
 "cells": [
  {
   "cell_type": "code",
   "execution_count": 1,
   "id": "e75016fa",
   "metadata": {},
   "outputs": [],
   "source": [
    "import string\n",
    "import sklearn\n",
    "from sklearn.pipeline import Pipeline\n",
    "import pandas as pd\n",
    "import numpy as np\n",
    "import xgboost as xgb"
   ]
  },
  {
   "cell_type": "code",
   "execution_count": 2,
   "id": "fd4b20cf",
   "metadata": {},
   "outputs": [
    {
     "data": {
      "text/html": [
       "<div>\n",
       "<style scoped>\n",
       "    .dataframe tbody tr th:only-of-type {\n",
       "        vertical-align: middle;\n",
       "    }\n",
       "\n",
       "    .dataframe tbody tr th {\n",
       "        vertical-align: top;\n",
       "    }\n",
       "\n",
       "    .dataframe thead th {\n",
       "        text-align: right;\n",
       "    }\n",
       "</style>\n",
       "<table border=\"1\" class=\"dataframe\">\n",
       "  <thead>\n",
       "    <tr style=\"text-align: right;\">\n",
       "      <th></th>\n",
       "      <th>tweet</th>\n",
       "      <th>polaritas</th>\n",
       "      <th>sentimen</th>\n",
       "    </tr>\n",
       "  </thead>\n",
       "  <tbody>\n",
       "    <tr>\n",
       "      <th>0</th>\n",
       "      <td>['jbharga', 'ayam', 'rm', 'tgk', 'telor', 'wya...</td>\n",
       "      <td>-2</td>\n",
       "      <td>Negatif</td>\n",
       "    </tr>\n",
       "    <tr>\n",
       "      <th>1</th>\n",
       "      <td>['berdiri', 'di', 'atas', 'kaki', 'sendiri', '...</td>\n",
       "      <td>-2</td>\n",
       "      <td>Negatif</td>\n",
       "    </tr>\n",
       "    <tr>\n",
       "      <th>2</th>\n",
       "      <td>['penyebab', 'harga', 'telur', 'anjlok', 'vers...</td>\n",
       "      <td>-1</td>\n",
       "      <td>Negatif</td>\n",
       "    </tr>\n",
       "    <tr>\n",
       "      <th>3</th>\n",
       "      <td>['turunnya', 'permintaan', 'masyarakat', 'telu...</td>\n",
       "      <td>-1</td>\n",
       "      <td>Negatif</td>\n",
       "    </tr>\n",
       "    <tr>\n",
       "      <th>4</th>\n",
       "      <td>['peternak', 'ayam', 'petelur', 'mengaku', 'me...</td>\n",
       "      <td>1</td>\n",
       "      <td>Positif</td>\n",
       "    </tr>\n",
       "  </tbody>\n",
       "</table>\n",
       "</div>"
      ],
      "text/plain": [
       "                                               tweet  polaritas sentimen\n",
       "0  ['jbharga', 'ayam', 'rm', 'tgk', 'telor', 'wya...         -2  Negatif\n",
       "1  ['berdiri', 'di', 'atas', 'kaki', 'sendiri', '...         -2  Negatif\n",
       "2  ['penyebab', 'harga', 'telur', 'anjlok', 'vers...         -1  Negatif\n",
       "3  ['turunnya', 'permintaan', 'masyarakat', 'telu...         -1  Negatif\n",
       "4  ['peternak', 'ayam', 'petelur', 'mengaku', 'me...          1  Positif"
      ]
     },
     "execution_count": 2,
     "metadata": {},
     "output_type": "execute_result"
    }
   ],
   "source": [
    "data = pd.read_csv('data/tweets_labelled_tokenized.csv', sep=',', encoding='utf-8')\n",
    "data.head()"
   ]
  },
  {
   "cell_type": "code",
   "execution_count": 3,
   "id": "e62f93a4",
   "metadata": {},
   "outputs": [
    {
     "data": {
      "text/plain": [
       "tweet          string\n",
       "polaritas       int64\n",
       "sentimen     category\n",
       "dtype: object"
      ]
     },
     "execution_count": 3,
     "metadata": {},
     "output_type": "execute_result"
    }
   ],
   "source": [
    "data = data.astype({'sentimen' : 'category'})\n",
    "data = data.astype({'tweet' : 'string'})\n",
    "data.dtypes"
   ]
  },
  {
   "cell_type": "code",
   "execution_count": 4,
   "id": "73b77f4f",
   "metadata": {},
   "outputs": [
    {
     "data": {
      "text/plain": [
       "<4386x10353 sparse matrix of type '<class 'numpy.float64'>'\n",
       "\twith 56891 stored elements in Compressed Sparse Row format>"
      ]
     },
     "execution_count": 4,
     "metadata": {},
     "output_type": "execute_result"
    }
   ],
   "source": [
    "#PROSES TF IDF\n",
    "from sklearn.feature_extraction.text import CountVectorizer\n",
    "from sklearn.feature_extraction.text import TfidfVectorizer\n",
    "from sklearn.feature_extraction.text import TfidfTransformer\n",
    "\n",
    "tf = TfidfVectorizer()\n",
    "text_tf = tf.fit_transform(data['tweet'].astype('U'))\n",
    "text_tf"
   ]
  },
  {
   "cell_type": "code",
   "execution_count": 5,
   "id": "810b413d",
   "metadata": {},
   "outputs": [
    {
     "name": "stdout",
     "output_type": "stream",
     "text": [
      "  (0, 3089)\t0.2455191305690832\n",
      "  (0, 1889)\t0.4286137636182555\n",
      "  (0, 8588)\t0.2796941853126207\n",
      "  (0, 10236)\t0.4286137636182555\n",
      "  (0, 9330)\t0.11984901447532116\n",
      "  (0, 9633)\t0.3544564579045937\n",
      "  (0, 8043)\t0.3992517388900208\n",
      "  (0, 438)\t0.10467629297129073\n",
      "  (0, 3781)\t0.4286137636182555\n",
      "  (1, 3240)\t0.05373538408790208\n",
      "  (1, 8964)\t0.32215136472903816\n",
      "  (1, 7380)\t0.14167859907237537\n",
      "  (1, 9349)\t0.06866897958003924\n",
      "  (1, 8625)\t0.3240865325770883\n",
      "  (1, 8552)\t0.3959178221593758\n",
      "  (1, 3958)\t0.37693870213520575\n",
      "  (1, 399)\t0.3959178221593758\n",
      "  (1, 1917)\t0.3959178221593758\n",
      "  (1, 872)\t0.388812449688775\n",
      "  (2, 3942)\t0.45465252763931324\n",
      "  (2, 6947)\t0.41072887492121823\n",
      "  (2, 10059)\t0.5634385498720684\n",
      "  (2, 272)\t0.2451338257491483\n",
      "  (2, 7176)\t0.4819336466654894\n",
      "  (2, 3240)\t0.07491972425200762\n",
      "  :\t:\n",
      "  (4384, 8021)\t0.31356491190268604\n",
      "  (4384, 9531)\t0.31356491190268604\n",
      "  (4384, 8450)\t0.2805143842347406\n",
      "  (4384, 5250)\t0.259312969928757\n",
      "  (4384, 9028)\t0.2989398204248909\n",
      "  (4384, 7148)\t0.24088753373860675\n",
      "  (4384, 4199)\t0.2885631528843473\n",
      "  (4384, 5467)\t0.26356139386600863\n",
      "  (4384, 9750)\t0.20046790597282366\n",
      "  (4384, 8078)\t0.21470304863918926\n",
      "  (4384, 6195)\t0.16355435779265368\n",
      "  (4384, 775)\t0.23902495676123844\n",
      "  (4384, 3240)\t0.03642520382634159\n",
      "  (4384, 9349)\t0.046548128764803104\n",
      "  (4384, 8043)\t0.292084265505634\n",
      "  (4385, 3360)\t0.45852177877158556\n",
      "  (4385, 7947)\t0.4101924339999073\n",
      "  (4385, 9991)\t0.2898091960372689\n",
      "  (4385, 1417)\t0.2818325861887841\n",
      "  (4385, 8454)\t0.2749053275101316\n",
      "  (4385, 7997)\t0.47270998563462335\n",
      "  (4385, 3251)\t0.2491105078076223\n",
      "  (4385, 3240)\t0.05326408860362236\n",
      "  (4385, 9349)\t0.06806670641245144\n",
      "  (4385, 8588)\t0.2992108192676575\n"
     ]
    }
   ],
   "source": [
    "print(text_tf)"
   ]
  },
  {
   "cell_type": "code",
   "execution_count": 6,
   "id": "c59f47d6",
   "metadata": {},
   "outputs": [],
   "source": [
    "#SPLITTING DATA\n",
    "from sklearn.model_selection import train_test_split\n",
    "\n",
    "X_train, X_test, y_train, y_test = train_test_split(text_tf, data['sentimen'], test_size = 0.3, random_state = 42)"
   ]
  },
  {
   "cell_type": "code",
   "execution_count": 7,
   "id": "f2fa5935",
   "metadata": {},
   "outputs": [
    {
     "name": "stdout",
     "output_type": "stream",
     "text": [
      "Multinomial Naive Bayes Acuracy: 81.38297872340425\n",
      "Multinomial Naive Bayes Precision: 100.0\n",
      "Multinomial Naive Bayes Recall: 4.669260700389105\n",
      "Multinomial Naive Bayes f1_score: 8.921933085501859\n",
      "confusion matrix:\n",
      " [[  12  245]\n",
      " [   0 1059]]\n",
      "====================================================\n",
      "\n",
      "              precision    recall  f1-score   support\n",
      "\n",
      "     Negatif       1.00      0.05      0.09       257\n",
      "     Positif       0.81      1.00      0.90      1059\n",
      "\n",
      "    accuracy                           0.81      1316\n",
      "   macro avg       0.91      0.52      0.49      1316\n",
      "weighted avg       0.85      0.81      0.74      1316\n",
      "\n"
     ]
    }
   ],
   "source": [
    "#ALGORITMA NAIVE BAYES\n",
    "from sklearn.naive_bayes import MultinomialNB\n",
    "from sklearn.metrics import accuracy_score, precision_score, recall_score, f1_score\n",
    "from sklearn.metrics import classification_report\n",
    "from sklearn.metrics import confusion_matrix\n",
    "\n",
    "clf = MultinomialNB().fit(X_train, y_train)\n",
    "predicted = clf.predict(X_test)\n",
    "\n",
    "print(\"Multinomial Naive Bayes Acuracy:\", accuracy_score(y_test, predicted)*100)\n",
    "print(\"Multinomial Naive Bayes Precision:\", precision_score(y_test, predicted, average=\"binary\", pos_label=\"Negatif\")*100)\n",
    "print(\"Multinomial Naive Bayes Recall:\", recall_score(y_test, predicted, average=\"binary\", pos_label=\"Negatif\")*100)\n",
    "print(\"Multinomial Naive Bayes f1_score:\", f1_score(y_test, predicted, average=\"binary\", pos_label=\"Negatif\")*100)\n",
    "\n",
    "print(f'confusion matrix:\\n {confusion_matrix(y_test, predicted)}')\n",
    "print('====================================================\\n')\n",
    "print(classification_report(y_test, predicted, zero_division=0))"
   ]
  },
  {
   "cell_type": "code",
   "execution_count": 8,
   "id": "8789b02b",
   "metadata": {},
   "outputs": [
    {
     "name": "stdout",
     "output_type": "stream",
     "text": [
      "Multinomial Naive Bayes Acuracy: 81.38297872340425\n"
     ]
    }
   ],
   "source": [
    "print(\"Multinomial Naive Bayes Acuracy:\", accuracy_score(y_test, predicted)*100)"
   ]
  },
  {
   "cell_type": "code",
   "execution_count": 9,
   "id": "3db55aed",
   "metadata": {},
   "outputs": [],
   "source": [
    "from sklearn.metrics import confusion_matrix\n",
    "import seaborn as sns\n",
    "import matplotlib.pyplot as plt"
   ]
  },
  {
   "cell_type": "code",
   "execution_count": 10,
   "id": "24443f14",
   "metadata": {},
   "outputs": [
    {
     "name": "stdout",
     "output_type": "stream",
     "text": [
      "Multinomial Naive Bayes Acuracy: 81.38297872340425\n"
     ]
    },
    {
     "data": {
      "image/png": "[encoded data removed]",
      "text/plain": [
       "<Figure size 432x288 with 2 Axes>"
      ]
     },
     "metadata": {
      "needs_background": "light"
     },
     "output_type": "display_data"
    }
   ],
   "source": [
    "print(\"Multinomial Naive Bayes Acuracy:\", accuracy_score(y_test, predicted)*100)\n",
    "\n",
    "conf_mat = confusion_matrix(y_test, predicted)\n",
    "class_label = [\"Negative\",\"Positive\"]\n",
    "test =pd.DataFrame(conf_mat, index = class_label, columns = class_label)\n",
    "sns.heatmap(test, annot = True, fmt = \"d\")\n",
    "plt.title(\"Confusion Matrix for test data\")\n",
    "plt.xlabel(\"Predicted Label\")\n",
    "plt.ylabel(\"True Label\")\n",
    "plt.show()"
   ]
  },
  {
   "cell_type": "code",
   "execution_count": null,
   "id": "181349ac",
   "metadata": {},
   "outputs": [],
   "source": []
  }
 ],
 "metadata": {
  "kernelspec": {
   "display_name": "Python 3",
   "language": "python",
   "name": "python3"
  },
  "language_info": {
   "codemirror_mode": {
    "name": "ipython",
    "version": 3
   },
   "file_extension": ".py",
   "mimetype": "text/x-python",
   "name": "python",
   "nbconvert_exporter": "python",
   "pygments_lexer": "ipython3",
   "version": "3.9.7"
  }
 },
 "nbformat": 4,
 "nbformat_minor": 5
}
