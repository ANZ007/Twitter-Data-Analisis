{
 "cells": [
  {
   "cell_type": "code",
   "execution_count": 1,
   "id": "e75016fa",
   "metadata": {},
   "outputs": [],
   "source": [
    "import string\n",
    "import sklearn\n",
    "from sklearn.pipeline import Pipeline\n",
    "import pandas as pd\n",
    "import numpy as np\n",
    "import xgboost as xgb"
   ]
  },
  {
   "cell_type": "code",
   "execution_count": 2,
   "id": "fd4b20cf",
   "metadata": {},
   "outputs": [
    {
     "data": {
      "text/html": [
       "<div>\n",
       "<style scoped>\n",
       "    .dataframe tbody tr th:only-of-type {\n",
       "        vertical-align: middle;\n",
       "    }\n",
       "\n",
       "    .dataframe tbody tr th {\n",
       "        vertical-align: top;\n",
       "    }\n",
       "\n",
       "    .dataframe thead th {\n",
       "        text-align: right;\n",
       "    }\n",
       "</style>\n",
       "<table border=\"1\" class=\"dataframe\">\n",
       "  <thead>\n",
       "    <tr style=\"text-align: right;\">\n",
       "      <th></th>\n",
       "      <th>tweet</th>\n",
       "      <th>polaritas</th>\n",
       "      <th>sentimen</th>\n",
       "    </tr>\n",
       "  </thead>\n",
       "  <tbody>\n",
       "    <tr>\n",
       "      <th>0</th>\n",
       "      <td>['jbharga', 'ayam', 'rm', 'tgk', 'telor', 'wya...</td>\n",
       "      <td>-2</td>\n",
       "      <td>Negatif</td>\n",
       "    </tr>\n",
       "    <tr>\n",
       "      <th>1</th>\n",
       "      <td>['diri', 'di', 'atas', 'kaki', 'sendiri', 'ser...</td>\n",
       "      <td>-2</td>\n",
       "      <td>Negatif</td>\n",
       "    </tr>\n",
       "    <tr>\n",
       "      <th>2</th>\n",
       "      <td>['sebab', 'harga', 'telur', 'anjlok', 'versi',...</td>\n",
       "      <td>5</td>\n",
       "      <td>Positif</td>\n",
       "    </tr>\n",
       "    <tr>\n",
       "      <th>3</th>\n",
       "      <td>['turun', 'minta', 'masyarakat', 'telur', 'aya...</td>\n",
       "      <td>-1</td>\n",
       "      <td>Negatif</td>\n",
       "    </tr>\n",
       "    <tr>\n",
       "      <th>4</th>\n",
       "      <td>['ternak', 'ayam', 'telur', 'aku', 'rugi', 'ra...</td>\n",
       "      <td>5</td>\n",
       "      <td>Positif</td>\n",
       "    </tr>\n",
       "  </tbody>\n",
       "</table>\n",
       "</div>"
      ],
      "text/plain": [
       "                                               tweet  polaritas sentimen\n",
       "0  ['jbharga', 'ayam', 'rm', 'tgk', 'telor', 'wya...         -2  Negatif\n",
       "1  ['diri', 'di', 'atas', 'kaki', 'sendiri', 'ser...         -2  Negatif\n",
       "2  ['sebab', 'harga', 'telur', 'anjlok', 'versi',...          5  Positif\n",
       "3  ['turun', 'minta', 'masyarakat', 'telur', 'aya...         -1  Negatif\n",
       "4  ['ternak', 'ayam', 'telur', 'aku', 'rugi', 'ra...          5  Positif"
      ]
     },
     "execution_count": 2,
     "metadata": {},
     "output_type": "execute_result"
    }
   ],
   "source": [
    "data = pd.read_csv('data/tweets_labelled_tokenized.csv', sep=',', encoding='utf-8')\n",
    "data.head()"
   ]
  },
  {
   "cell_type": "code",
   "execution_count": 3,
   "id": "e62f93a4",
   "metadata": {},
   "outputs": [
    {
     "data": {
      "text/plain": [
       "tweet          string\n",
       "polaritas       int64\n",
       "sentimen     category\n",
       "dtype: object"
      ]
     },
     "execution_count": 3,
     "metadata": {},
     "output_type": "execute_result"
    }
   ],
   "source": [
    "data = data.astype({'sentimen' : 'category'})\n",
    "data = data.astype({'tweet' : 'string'})\n",
    "data.dtypes"
   ]
  },
  {
   "cell_type": "code",
   "execution_count": 4,
   "id": "73b77f4f",
   "metadata": {},
   "outputs": [
    {
     "data": {
      "text/plain": [
       "<2879x5910 sparse matrix of type '<class 'numpy.float64'>'\n",
       "\twith 34731 stored elements in Compressed Sparse Row format>"
      ]
     },
     "execution_count": 4,
     "metadata": {},
     "output_type": "execute_result"
    }
   ],
   "source": [
    "#PROSES TF IDF\n",
    "from sklearn.feature_extraction.text import CountVectorizer\n",
    "from sklearn.feature_extraction.text import TfidfVectorizer\n",
    "from sklearn.feature_extraction.text import TfidfTransformer\n",
    "\n",
    "tf = TfidfVectorizer()\n",
    "text_tf = tf.fit_transform(data['tweet'].astype('U'))\n",
    "text_tf"
   ]
  },
  {
   "cell_type": "code",
   "execution_count": 5,
   "id": "810b413d",
   "metadata": {},
   "outputs": [
    {
     "name": "stdout",
     "output_type": "stream",
     "text": [
      "  (0, 1707)\t0.25979584298337827\n",
      "  (0, 1119)\t0.41295004942863756\n",
      "  (0, 3884)\t0.27612999197438504\n",
      "  (0, 5841)\t0.41295004942863756\n",
      "  (0, 5316)\t0.1330222058963743\n",
      "  (0, 5441)\t0.35041334541457875\n",
      "  (0, 4525)\t0.4404523848214634\n",
      "  (0, 294)\t0.10095738868626981\n",
      "  (0, 2162)\t0.41295004942863756\n",
      "  (1, 1804)\t0.062389089641635045\n",
      "  (1, 5069)\t0.2835884350969081\n",
      "  (1, 5410)\t0.13877219318947345\n",
      "  (1, 5326)\t0.07546306533573656\n",
      "  (1, 4864)\t0.27166679753677436\n",
      "  (1, 4828)\t0.434314213946434\n",
      "  (1, 2273)\t0.434314213946434\n",
      "  (1, 274)\t0.3312979610541905\n",
      "  (1, 1138)\t0.434314213946434\n",
      "  (1, 1231)\t0.37587911347960734\n",
      "  (2, 2264)\t0.4821161802797001\n",
      "  (2, 1030)\t0.3699277142976232\n",
      "  (2, 5731)\t0.6243073763765257\n",
      "  (2, 193)\t0.21942891308221735\n",
      "  (2, 4721)\t0.42075705428872345\n",
      "  (2, 1804)\t0.0800225085951331\n",
      "  :\t:\n",
      "  (2876, 1297)\t0.23263013629577486\n",
      "  (2876, 4866)\t0.2795462362660438\n",
      "  (2876, 5653)\t0.26833591588147465\n",
      "  (2876, 5119)\t0.2195185734483243\n",
      "  (2876, 3905)\t0.19851509760473363\n",
      "  (2876, 2062)\t0.16413038489184745\n",
      "  (2876, 3005)\t0.2745766655463739\n",
      "  (2876, 507)\t0.25958406951016877\n",
      "  (2876, 1027)\t0.19181848136479998\n",
      "  (2876, 1804)\t0.03929383241748025\n",
      "  (2876, 5326)\t0.04752807037326864\n",
      "  (2877, 2145)\t0.6500903199227188\n",
      "  (2877, 796)\t0.49174821802225327\n",
      "  (2877, 317)\t0.49174821802225327\n",
      "  (2877, 193)\t0.21729168639835977\n",
      "  (2877, 1804)\t0.07924309334726802\n",
      "  (2877, 5410)\t0.176260591749041\n",
      "  (2877, 5326)\t0.09584891789605605\n",
      "  (2878, 1736)\t0.7260177421232289\n",
      "  (2878, 153)\t0.5556714486274836\n",
      "  (2878, 193)\t0.2551776417525856\n",
      "  (2878, 1804)\t0.09305954599875799\n",
      "  (2878, 5410)\t0.20699255862913232\n",
      "  (2878, 5326)\t0.1125606839297714\n",
      "  (2878, 294)\t0.1866438974519229\n"
     ]
    }
   ],
   "source": [
    "print(text_tf)"
   ]
  },
  {
   "cell_type": "code",
   "execution_count": 6,
   "id": "c59f47d6",
   "metadata": {},
   "outputs": [],
   "source": [
    "#SPLITTING DATA\n",
    "from sklearn.model_selection import train_test_split\n",
    "\n",
    "X_train, X_test, y_train, y_test = train_test_split(text_tf, data['sentimen'], test_size = 0.2, random_state = 42)"
   ]
  },
  {
   "cell_type": "code",
   "execution_count": 7,
   "id": "f2fa5935",
   "metadata": {},
   "outputs": [
    {
     "name": "stdout",
     "output_type": "stream",
     "text": [
      "Multinomial Naive Bayes Acuracy: 80.72916666666666\n",
      "Multinomial Naive Bayes Precision: 84.61538461538461\n",
      "Multinomial Naive Bayes Recall: 9.166666666666666\n",
      "Multinomial Naive Bayes f1_score: 16.54135338345864\n",
      "confusion matrix:\n",
      " [[ 11 109]\n",
      " [  2 454]]\n",
      "====================================================\n",
      "\n",
      "              precision    recall  f1-score   support\n",
      "\n",
      "     Negatif       0.85      0.09      0.17       120\n",
      "     Positif       0.81      1.00      0.89       456\n",
      "\n",
      "    accuracy                           0.81       576\n",
      "   macro avg       0.83      0.54      0.53       576\n",
      "weighted avg       0.81      0.81      0.74       576\n",
      "\n"
     ]
    }
   ],
   "source": [
    "#ALGORITMA NAIVE BAYES\n",
    "from sklearn.naive_bayes import MultinomialNB\n",
    "from sklearn.metrics import accuracy_score, precision_score, recall_score, f1_score\n",
    "from sklearn.metrics import classification_report\n",
    "from sklearn.metrics import confusion_matrix\n",
    "\n",
    "clf = MultinomialNB().fit(X_train, y_train)\n",
    "predicted = clf.predict(X_test)\n",
    "\n",
    "print(\"Multinomial Naive Bayes Acuracy:\", accuracy_score(y_test, predicted)*100)\n",
    "print(\"Multinomial Naive Bayes Precision:\", precision_score(y_test, predicted, average=\"binary\", pos_label=\"Negatif\")*100)\n",
    "print(\"Multinomial Naive Bayes Recall:\", recall_score(y_test, predicted, average=\"binary\", pos_label=\"Negatif\")*100)\n",
    "print(\"Multinomial Naive Bayes f1_score:\", f1_score(y_test, predicted, average=\"binary\", pos_label=\"Negatif\")*100)\n",
    "\n",
    "print(f'confusion matrix:\\n {confusion_matrix(y_test, predicted)}')\n",
    "print('====================================================\\n')\n",
    "print(classification_report(y_test, predicted, zero_division=0))"
   ]
  },
  {
   "cell_type": "code",
   "execution_count": 8,
   "id": "8789b02b",
   "metadata": {},
   "outputs": [
    {
     "name": "stdout",
     "output_type": "stream",
     "text": [
      "Multinomial Naive Bayes Acuracy: 80.72916666666666\n"
     ]
    }
   ],
   "source": [
    "print(\"Multinomial Naive Bayes Acuracy:\", accuracy_score(y_test, predicted)*100)"
   ]
  },
  {
   "cell_type": "code",
   "execution_count": 9,
   "id": "3db55aed",
   "metadata": {},
   "outputs": [],
   "source": [
    "from sklearn.metrics import confusion_matrix\n",
    "import seaborn as sns\n",
    "import matplotlib.pyplot as plt"
   ]
  },
  {
   "cell_type": "code",
   "execution_count": 10,
   "id": "24443f14",
   "metadata": {},
   "outputs": [
    {
     "name": "stdout",
     "output_type": "stream",
     "text": [
      "Multinomial Naive Bayes Acuracy: 80.72916666666666\n"
     ]
    },
    {
     "data": {
      "image/png": "[encoded data removed]",
      "text/plain": [
       "<Figure size 432x288 with 2 Axes>"
      ]
     },
     "metadata": {
      "needs_background": "light"
     },
     "output_type": "display_data"
    }
   ],
   "source": [
    "print(\"Multinomial Naive Bayes Acuracy:\", accuracy_score(y_test, predicted)*100)\n",
    "\n",
    "conf_mat = confusion_matrix(y_test, predicted)\n",
    "class_label = [\"Negative\",\"Positive\"]\n",
    "test =pd.DataFrame(conf_mat, index = class_label, columns = class_label)\n",
    "sns.heatmap(test, annot = True, fmt = \"d\")\n",
    "plt.title(\"Confusion Matrix for test data\")\n",
    "plt.xlabel(\"Predicted Label\")\n",
    "plt.ylabel(\"True Label\")\n",
    "plt.show()"
   ]
  },
  {
   "cell_type": "code",
   "execution_count": null,
   "id": "181349ac",
   "metadata": {},
   "outputs": [],
   "source": []
  }
 ],
 "metadata": {
  "kernelspec": {
   "display_name": "Python 3 (ipykernel)",
   "language": "python",
   "name": "python3"
  },
  "language_info": {
   "codemirror_mode": {
    "name": "ipython",
    "version": 3
   },
   "file_extension": ".py",
   "mimetype": "text/x-python",
   "name": "python",
   "nbconvert_exporter": "python",
   "pygments_lexer": "ipython3",
   "version": "3.9.7"
  }
 },
 "nbformat": 4,
 "nbformat_minor": 5
}
