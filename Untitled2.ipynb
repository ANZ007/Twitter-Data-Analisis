{
 "cells": [
  {
   "cell_type": "code",
   "execution_count": 1,
   "id": "8ae18fc3-bce1-4db9-ac70-00cb1e3918a6",
   "metadata": {},
   "outputs": [],
   "source": [
    "import json\n",
    "import pandas as pd"
   ]
  },
  {
   "cell_type": "code",
   "execution_count": 2,
   "id": "3556cc35-5345-4339-94f2-c1483b06f87f",
   "metadata": {},
   "outputs": [],
   "source": [
    "def tsv2json(input_file,output_file):\n",
    "    arr = []\n",
    "    file = open(input_file, 'r')\n",
    "    a = file.readline()\n",
    "      \n",
    "    # The first line consist of headings of the record \n",
    "    # so we will store it in an array and move to \n",
    "    # next line in input_file.\n",
    "    titles = [t.strip() for t in a.split('\\t')]\n",
    "    for line in file:\n",
    "        d = {}\n",
    "        for t, f in zip(titles, line.split('\\t')):\n",
    "            \n",
    "              # Convert each row into dictionary with keys as titles\n",
    "            d[t] = f.strip()\n",
    "              \n",
    "        # we will use strip to remove '\\n'.\n",
    "        arr.append(d)\n",
    "          \n",
    "        # we will append all the individual dictionaires into list \n",
    "        # and dump into file.\n",
    "    with open(output_file, 'w', encoding='utf-8') as output_file:\n",
    "        output_file.write(json.dumps(arr, indent=4))  \n",
    "\n",
    "input_filename = 'data/lexicon/InSet/positive.tsv'\n",
    "output_filename = 'data/lexicon/InSet/positive.json'\n",
    "tsv2json(input_filename,output_filename)\n",
    "input_filename = 'data/lexicon/InSet/negative.tsv'\n",
    "output_filename = 'data/lexicon/InSet/negative.json'\n",
    "tsv2json(input_filename,output_filename)"
   ]
  },
  {
   "cell_type": "code",
   "execution_count": 5,
   "id": "f60d53fd-442c-472c-8310-914369d1b331",
   "metadata": {},
   "outputs": [],
   "source": [
    "def txt2json(in_file,out_file):\n",
    "    content = (open(in_file, \"r\")).read()\n",
    "    x = content.split(\"\\n\")\n",
    "    y = [-5 for i in range(len(x))]\n",
    "    df = pd.DataFrame(list(zip(x,y)),columns =['word','weight'])\n",
    "    df.to_json(out_file, orient='records')\n",
    "    \n",
    "in_file = 'data/lexicon/swear-words.txt'\n",
    "out_file = 'data/lexicon/swear-words.json'\n",
    "txt2json(in_file,out_file)"
   ]
  },
  {
   "cell_type": "code",
   "execution_count": null,
   "id": "effb81bb-f96b-4003-bfc1-d1e4b1aa183c",
   "metadata": {},
   "outputs": [],
   "source": []
  }
 ],
 "metadata": {
  "kernelspec": {
   "display_name": "Python 3 (ipykernel)",
   "language": "python",
   "name": "python3"
  },
  "language_info": {
   "codemirror_mode": {
    "name": "ipython",
    "version": 3
   },
   "file_extension": ".py",
   "mimetype": "text/x-python",
   "name": "python",
   "nbconvert_exporter": "python",
   "pygments_lexer": "ipython3",
   "version": "3.9.7"
  }
 },
 "nbformat": 4,
 "nbformat_minor": 5
}
