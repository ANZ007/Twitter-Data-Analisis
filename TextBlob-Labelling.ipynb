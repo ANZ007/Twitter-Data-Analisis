{
 "cells": [
  {
   "cell_type": "code",
   "execution_count": 1,
   "id": "ed4c743d-a061-4679-8d6a-4f0a64e19646",
   "metadata": {},
   "outputs": [],
   "source": [
    "import pandas as pd\n",
    "from textblob import TextBlob\n",
    "from textblob.sentiments import NaiveBayesAnalyzer\n",
    "from googletrans import Translator, constants\n",
    "from nltk.tokenize.treebank import TreebankWordDetokenizer\n",
    "from tqdm.notebook import tqdm\n",
    "import string"
   ]
  },
  {
   "cell_type": "code",
   "execution_count": 2,
   "id": "13abd917-0ba6-46de-95f1-17d072b0d4f4",
   "metadata": {},
   "outputs": [
    {
     "data": {
      "text/html": [
       "<div>\n",
       "<style scoped>\n",
       "    .dataframe tbody tr th:only-of-type {\n",
       "        vertical-align: middle;\n",
       "    }\n",
       "\n",
       "    .dataframe tbody tr th {\n",
       "        vertical-align: top;\n",
       "    }\n",
       "\n",
       "    .dataframe thead th {\n",
       "        text-align: right;\n",
       "    }\n",
       "</style>\n",
       "<table border=\"1\" class=\"dataframe\">\n",
       "  <thead>\n",
       "    <tr style=\"text-align: right;\">\n",
       "      <th></th>\n",
       "      <th>tweet</th>\n",
       "    </tr>\n",
       "  </thead>\n",
       "  <tbody>\n",
       "    <tr>\n",
       "      <th>0</th>\n",
       "      <td>['pembelajaran', 'tatap', 'muka', 'terbatas', ...</td>\n",
       "    </tr>\n",
       "    <tr>\n",
       "      <th>1</th>\n",
       "      <td>['pembelajaran', 'tatap', 'muka', 'terbatas', ...</td>\n",
       "    </tr>\n",
       "    <tr>\n",
       "      <th>2</th>\n",
       "      <td>['satgas', 'covid', 'dukung', 'perguruan', 'ti...</td>\n",
       "    </tr>\n",
       "    <tr>\n",
       "      <th>3</th>\n",
       "      <td>['lagi', 'dan', 'lagi', 'pembelajaran', 'tatap...</td>\n",
       "    </tr>\n",
       "    <tr>\n",
       "      <th>4</th>\n",
       "      <td>['anakanak', 'harus', 'dipastikan', 'siap', 'm...</td>\n",
       "    </tr>\n",
       "    <tr>\n",
       "      <th>5</th>\n",
       "      <td>['pembelajaran', 'tatap', 'muka', 'ptm', 'perl...</td>\n",
       "    </tr>\n",
       "    <tr>\n",
       "      <th>6</th>\n",
       "      <td>['pembelajaran', 'tatap', 'muka', 'siap', 'dil...</td>\n",
       "    </tr>\n",
       "    <tr>\n",
       "      <th>7</th>\n",
       "      <td>['ingin', 'menggelar', 'pembelajaran', 'tatap'...</td>\n",
       "    </tr>\n",
       "    <tr>\n",
       "      <th>8</th>\n",
       "      <td>['bupati', 'sleman', 'dra', 'hj', 'kustini', '...</td>\n",
       "    </tr>\n",
       "    <tr>\n",
       "      <th>9</th>\n",
       "      <td>['pembelajaran', 'tatap', 'muka', 'ptm', 'perl...</td>\n",
       "    </tr>\n",
       "  </tbody>\n",
       "</table>\n",
       "</div>"
      ],
      "text/plain": [
       "                                               tweet\n",
       "0  ['pembelajaran', 'tatap', 'muka', 'terbatas', ...\n",
       "1  ['pembelajaran', 'tatap', 'muka', 'terbatas', ...\n",
       "2  ['satgas', 'covid', 'dukung', 'perguruan', 'ti...\n",
       "3  ['lagi', 'dan', 'lagi', 'pembelajaran', 'tatap...\n",
       "4  ['anakanak', 'harus', 'dipastikan', 'siap', 'm...\n",
       "5  ['pembelajaran', 'tatap', 'muka', 'ptm', 'perl...\n",
       "6  ['pembelajaran', 'tatap', 'muka', 'siap', 'dil...\n",
       "7  ['ingin', 'menggelar', 'pembelajaran', 'tatap'...\n",
       "8  ['bupati', 'sleman', 'dra', 'hj', 'kustini', '...\n",
       "9  ['pembelajaran', 'tatap', 'muka', 'ptm', 'perl..."
      ]
     },
     "execution_count": 2,
     "metadata": {},
     "output_type": "execute_result"
    }
   ],
   "source": [
    "data = pd.read_csv(\"data/tweets_bf_stpwrd.csv\")\n",
    "data.head(10)\n",
    "# data.drop([\"sentimen\"], axis = 1, inplace = True)"
   ]
  },
  {
   "cell_type": "code",
   "execution_count": 3,
   "id": "b2cf16a0-3e1a-4a3c-86a0-c2d62ced1d85",
   "metadata": {},
   "outputs": [],
   "source": [
    "temp_detokenize = []\n",
    "\n",
    "def detokenize(text):\n",
    "    text1 = text.replace(']','').replace('[','')\n",
    "    arr = text1.replace('\"','').replace(\"\\'\",\"\").split(\",\")\n",
    "    return(TreebankWordDetokenizer().detokenize(arr))\n",
    "\n",
    "data['tweet'] = data['tweet'].astype('U').apply(detokenize)"
   ]
  },
  {
   "cell_type": "code",
   "execution_count": 4,
   "id": "06dc96c9-b8f8-4006-ab69-4ccca801d351",
   "metadata": {},
   "outputs": [
    {
     "data": {
      "application/vnd.jupyter.widget-view+json": {
       "model_id": "f493fa23eeb340f6aa98fcc49ace3722",
       "version_major": 2,
       "version_minor": 0
      },
      "text/plain": [
       "Total progress:   0%|          | 0/1001 [00:00<?, ?it/s]"
      ]
     },
     "metadata": {},
     "output_type": "display_data"
    }
   ],
   "source": [
    "temp_translate = []\n",
    "translator = Translator()\n",
    "data_len = len(data)\n",
    "\n",
    "for tweet in tqdm(data['tweet'],desc='Total progress'):\n",
    "    all_polarity = 0\n",
    "    translation = translator.translate(tweet)\n",
    "    translated_word = translation.text\n",
    "    anal = TextBlob(translated_word, analyzer=NaiveBayesAnalyzer())\n",
    "    all_polarity += anal.polarity\n",
    "    if (all_polarity/100 > 0):\n",
    "        an_translate = \"Positif\"\n",
    "    elif (all_polarity/100 == 0):\n",
    "        an_translate = \"Netral\"\n",
    "    else:\n",
    "        an_translate = \"Negatif\"\n",
    "    temp_translate.append([tweet, an_translate, all_polarity])\n",
    "\n",
    "data_anal = pd.DataFrame(temp_translate, columns=['tweet', 'sentimen','polaritas'])"
   ]
  },
  {
   "cell_type": "code",
   "execution_count": 5,
   "id": "e66e0c87-b584-434f-91c1-dcf8ee13f77c",
   "metadata": {},
   "outputs": [
    {
     "data": {
      "text/html": [
       "<div>\n",
       "<style scoped>\n",
       "    .dataframe tbody tr th:only-of-type {\n",
       "        vertical-align: middle;\n",
       "    }\n",
       "\n",
       "    .dataframe tbody tr th {\n",
       "        vertical-align: top;\n",
       "    }\n",
       "\n",
       "    .dataframe thead th {\n",
       "        text-align: right;\n",
       "    }\n",
       "</style>\n",
       "<table border=\"1\" class=\"dataframe\">\n",
       "  <thead>\n",
       "    <tr style=\"text-align: right;\">\n",
       "      <th></th>\n",
       "      <th>tweet</th>\n",
       "      <th>sentimen</th>\n",
       "      <th>polaritas</th>\n",
       "    </tr>\n",
       "  </thead>\n",
       "  <tbody>\n",
       "    <tr>\n",
       "      <th>0</th>\n",
       "      <td>pembelajaran  tatap  muka  terbatas  wajib  te...</td>\n",
       "      <td>Negatif</td>\n",
       "      <td>-0.071429</td>\n",
       "    </tr>\n",
       "    <tr>\n",
       "      <th>1</th>\n",
       "      <td>pembelajaran  tatap  muka  terbatas  wajib  te...</td>\n",
       "      <td>Negatif</td>\n",
       "      <td>-0.071429</td>\n",
       "    </tr>\n",
       "    <tr>\n",
       "      <th>2</th>\n",
       "      <td>satgas  covid  dukung  perguruan  tinggi  mela...</td>\n",
       "      <td>Netral</td>\n",
       "      <td>0.000000</td>\n",
       "    </tr>\n",
       "    <tr>\n",
       "      <th>3</th>\n",
       "      <td>lagi  dan  lagi  pembelajaran  tatap  muka  pt...</td>\n",
       "      <td>Positif</td>\n",
       "      <td>0.071429</td>\n",
       "    </tr>\n",
       "    <tr>\n",
       "      <th>4</th>\n",
       "      <td>anakanak  harus  dipastikan  siap  mengikuti  ...</td>\n",
       "      <td>Positif</td>\n",
       "      <td>0.200000</td>\n",
       "    </tr>\n",
       "    <tr>\n",
       "      <th>...</th>\n",
       "      <td>...</td>\n",
       "      <td>...</td>\n",
       "      <td>...</td>\n",
       "    </tr>\n",
       "    <tr>\n",
       "      <th>295</th>\n",
       "      <td>menteri  pendidikan  kebudayaan  riset  dan  t...</td>\n",
       "      <td>Netral</td>\n",
       "      <td>0.000000</td>\n",
       "    </tr>\n",
       "    <tr>\n",
       "      <th>296</th>\n",
       "      <td>karina  ptm  pembelajaran  tatap  muka</td>\n",
       "      <td>Netral</td>\n",
       "      <td>0.000000</td>\n",
       "    </tr>\n",
       "    <tr>\n",
       "      <th>297</th>\n",
       "      <td>pembelajaran  tatap  muka  perlu  dilakukan  m...</td>\n",
       "      <td>Netral</td>\n",
       "      <td>0.000000</td>\n",
       "    </tr>\n",
       "    <tr>\n",
       "      <th>298</th>\n",
       "      <td>pembelajaran  tatap  muka  dapat  mendorong  m...</td>\n",
       "      <td>Netral</td>\n",
       "      <td>0.000000</td>\n",
       "    </tr>\n",
       "    <tr>\n",
       "      <th>299</th>\n",
       "      <td>segera  dilakukan  pembelajaran  tatap  muka  ...</td>\n",
       "      <td>Netral</td>\n",
       "      <td>0.000000</td>\n",
       "    </tr>\n",
       "  </tbody>\n",
       "</table>\n",
       "<p>300 rows × 3 columns</p>\n",
       "</div>"
      ],
      "text/plain": [
       "                                                 tweet sentimen  polaritas\n",
       "0    pembelajaran  tatap  muka  terbatas  wajib  te...  Negatif  -0.071429\n",
       "1    pembelajaran  tatap  muka  terbatas  wajib  te...  Negatif  -0.071429\n",
       "2    satgas  covid  dukung  perguruan  tinggi  mela...   Netral   0.000000\n",
       "3    lagi  dan  lagi  pembelajaran  tatap  muka  pt...  Positif   0.071429\n",
       "4    anakanak  harus  dipastikan  siap  mengikuti  ...  Positif   0.200000\n",
       "..                                                 ...      ...        ...\n",
       "295  menteri  pendidikan  kebudayaan  riset  dan  t...   Netral   0.000000\n",
       "296             karina  ptm  pembelajaran  tatap  muka   Netral   0.000000\n",
       "297  pembelajaran  tatap  muka  perlu  dilakukan  m...   Netral   0.000000\n",
       "298  pembelajaran  tatap  muka  dapat  mendorong  m...   Netral   0.000000\n",
       "299  segera  dilakukan  pembelajaran  tatap  muka  ...   Netral   0.000000\n",
       "\n",
       "[300 rows x 3 columns]"
      ]
     },
     "execution_count": 5,
     "metadata": {},
     "output_type": "execute_result"
    }
   ],
   "source": [
    "data_anal.head()"
   ]
  },
  {
   "cell_type": "code",
   "execution_count": 6,
   "id": "9a5df6c2-eedc-48c1-9d31-468708b98d16",
   "metadata": {},
   "outputs": [],
   "source": [
    "data_anal.to_csv('test_textblob.csv',index=False)"
   ]
  },
  {
   "cell_type": "code",
   "execution_count": null,
   "id": "34a26924-2cbb-4704-8aa5-27c45e4e1fcb",
   "metadata": {},
   "outputs": [],
   "source": []
  }
 ],
 "metadata": {
  "kernelspec": {
   "display_name": "Python 3 (ipykernel)",
   "language": "python",
   "name": "python3"
  },
  "language_info": {
   "codemirror_mode": {
    "name": "ipython",
    "version": 3
   },
   "file_extension": ".py",
   "mimetype": "text/x-python",
   "name": "python",
   "nbconvert_exporter": "python",
   "pygments_lexer": "ipython3",
   "version": "3.8.11"
  }
 },
 "nbformat": 4,
 "nbformat_minor": 5
}
