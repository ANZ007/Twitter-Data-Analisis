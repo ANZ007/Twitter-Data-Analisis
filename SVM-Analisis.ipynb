{
 "cells": [
  {
   "cell_type": "code",
   "execution_count": 1,
   "id": "9e71c8d9",
   "metadata": {},
   "outputs": [],
   "source": [
    "import numpy as np\n",
    "import pandas as pd\n",
    "import csv\n",
    "import matplotlib.pyplot as plt\n",
    "from sklearn import model_selection\n",
    "from sklearn.model_selection import train_test_split\n",
    "from sklearn.feature_extraction.text import TfidfVectorizer\n",
    "from sklearn import svm\n",
    "from sklearn.metrics import accuracy_score"
   ]
  },
  {
   "cell_type": "code",
   "execution_count": 2,
   "id": "9c4ccbde",
   "metadata": {},
   "outputs": [
    {
     "data": {
      "text/html": [
       "<div>\n",
       "<style scoped>\n",
       "    .dataframe tbody tr th:only-of-type {\n",
       "        vertical-align: middle;\n",
       "    }\n",
       "\n",
       "    .dataframe tbody tr th {\n",
       "        vertical-align: top;\n",
       "    }\n",
       "\n",
       "    .dataframe thead th {\n",
       "        text-align: right;\n",
       "    }\n",
       "</style>\n",
       "<table border=\"1\" class=\"dataframe\">\n",
       "  <thead>\n",
       "    <tr style=\"text-align: right;\">\n",
       "      <th></th>\n",
       "      <th>tweet</th>\n",
       "      <th>polaritas</th>\n",
       "      <th>sentimen</th>\n",
       "    </tr>\n",
       "  </thead>\n",
       "  <tbody>\n",
       "    <tr>\n",
       "      <th>0</th>\n",
       "      <td>['jbharga', 'ayam', 'rm', 'tgk', 'telor', 'wya...</td>\n",
       "      <td>-2</td>\n",
       "      <td>Negatif</td>\n",
       "    </tr>\n",
       "    <tr>\n",
       "      <th>1</th>\n",
       "      <td>['berdiri', 'di', 'atas', 'kaki', 'sendiri', '...</td>\n",
       "      <td>-2</td>\n",
       "      <td>Negatif</td>\n",
       "    </tr>\n",
       "    <tr>\n",
       "      <th>2</th>\n",
       "      <td>['penyebab', 'harga', 'telur', 'anjlok', 'vers...</td>\n",
       "      <td>-1</td>\n",
       "      <td>Negatif</td>\n",
       "    </tr>\n",
       "    <tr>\n",
       "      <th>3</th>\n",
       "      <td>['turunnya', 'permintaan', 'masyarakat', 'telu...</td>\n",
       "      <td>-1</td>\n",
       "      <td>Negatif</td>\n",
       "    </tr>\n",
       "    <tr>\n",
       "      <th>4</th>\n",
       "      <td>['peternak', 'ayam', 'petelur', 'mengaku', 'me...</td>\n",
       "      <td>1</td>\n",
       "      <td>Positif</td>\n",
       "    </tr>\n",
       "  </tbody>\n",
       "</table>\n",
       "</div>"
      ],
      "text/plain": [
       "                                               tweet  polaritas sentimen\n",
       "0  ['jbharga', 'ayam', 'rm', 'tgk', 'telor', 'wya...         -2  Negatif\n",
       "1  ['berdiri', 'di', 'atas', 'kaki', 'sendiri', '...         -2  Negatif\n",
       "2  ['penyebab', 'harga', 'telur', 'anjlok', 'vers...         -1  Negatif\n",
       "3  ['turunnya', 'permintaan', 'masyarakat', 'telu...         -1  Negatif\n",
       "4  ['peternak', 'ayam', 'petelur', 'mengaku', 'me...          1  Positif"
      ]
     },
     "execution_count": 2,
     "metadata": {},
     "output_type": "execute_result"
    }
   ],
   "source": [
    "datasenti = pd.read_csv(r\"data/tweets_labelled_tokenized.csv\")\n",
    "datasenti.head()"
   ]
  },
  {
   "cell_type": "code",
   "execution_count": 3,
   "id": "3be360e1",
   "metadata": {},
   "outputs": [],
   "source": [
    "train_X, test_X, train_Y, test_Y = model_selection.train_test_split(datasenti['tweet'], datasenti['sentimen'], test_size = 0.1, random_state = 42)"
   ]
  },
  {
   "cell_type": "code",
   "execution_count": 4,
   "id": "93dab41b",
   "metadata": {},
   "outputs": [],
   "source": [
    "data_train = pd.DataFrame()\n",
    "data_train['tweet'] = train_X\n",
    "data_train['sentimen'] = train_Y\n",
    "\n",
    "data_test = pd.DataFrame()\n",
    "data_test['tweet'] = test_X\n",
    "data_test['sentimen'] = test_Y"
   ]
  },
  {
   "cell_type": "code",
   "execution_count": 5,
   "id": "1747e350",
   "metadata": {},
   "outputs": [],
   "source": [
    "data_train.to_csv(r\"df_trainsvm.csv\")\n",
    "data_test.to_csv(r\"df_testsvm.csv\")"
   ]
  },
  {
   "cell_type": "code",
   "execution_count": 6,
   "id": "59cb2860",
   "metadata": {},
   "outputs": [],
   "source": [
    "from sklearn.feature_extraction.text import TfidfVectorizer\n",
    "\n",
    "datatfidf = TfidfVectorizer(max_features = 5000)\n",
    "datatfidf.fit(datasenti['tweet'].values.astype('U'))\n",
    "train_X_datatfidf = datatfidf.transform(data_train['tweet'].values.astype('U'))\n",
    "test_X_datatfidf = datatfidf.transform(data_test['tweet'].values.astype('U'))"
   ]
  },
  {
   "cell_type": "code",
   "execution_count": 7,
   "id": "cbf76db9",
   "metadata": {},
   "outputs": [
    {
     "data": {
      "text/plain": [
       "TfidfVectorizer(max_features=5000)"
      ]
     },
     "execution_count": 7,
     "metadata": {},
     "output_type": "execute_result"
    }
   ],
   "source": [
    "datatfidf"
   ]
  },
  {
   "cell_type": "code",
   "execution_count": 8,
   "id": "c3476f7d",
   "metadata": {},
   "outputs": [
    {
     "name": "stdout",
     "output_type": "stream",
     "text": [
      "  (0, 4382)\t0.07974587443110454\n",
      "  (0, 3621)\t0.29069884833471427\n",
      "  (0, 2975)\t0.49436403924273015\n",
      "  (0, 2905)\t0.4442528644445051\n",
      "  (0, 2122)\t0.4693084518436177\n",
      "  (0, 2018)\t0.30549743695446296\n",
      "  (0, 1436)\t0.284705242106001\n",
      "  (0, 1248)\t0.06240336201568706\n",
      "  (0, 161)\t0.2623890294838127\n",
      "  (1, 4750)\t0.45611879089103297\n",
      "  (1, 4666)\t0.41797140698819535\n",
      "  (1, 4382)\t0.07102257631741818\n",
      "  (1, 4086)\t0.47843357997480673\n",
      "  (1, 4075)\t0.44028619607196917\n",
      "  (1, 3734)\t0.21314918358678203\n",
      "  (1, 1959)\t0.375418869340408\n",
      "  (1, 1248)\t0.05557713891583974\n",
      "  (2, 4382)\t0.10448490442633843\n",
      "  (2, 3734)\t0.31357454531194023\n",
      "  (2, 3703)\t0.36281362999352007\n",
      "  (2, 1811)\t0.3912645013602243\n",
      "  (2, 1248)\t0.08176234021641225\n",
      "  (2, 706)\t0.42198981536049435\n",
      "  (2, 479)\t0.5658231939508186\n",
      "  (2, 161)\t0.17189411279088374\n",
      "  :\t:\n",
      "  (437, 3734)\t0.13942076055618902\n",
      "  (437, 3690)\t0.2983470434176258\n",
      "  (437, 3213)\t0.22662276609291235\n",
      "  (437, 3016)\t0.23005377907861294\n",
      "  (437, 2597)\t0.3129431343496092\n",
      "  (437, 2474)\t0.2630387698339728\n",
      "  (437, 1488)\t0.21794132041422665\n",
      "  (437, 1288)\t0.5966940868352516\n",
      "  (437, 1248)\t0.03635297516412284\n",
      "  (437, 1096)\t0.2630387698339728\n",
      "  (437, 549)\t0.2733948611598076\n",
      "  (437, 66)\t0.2630387698339728\n",
      "  (438, 4626)\t0.17865608108547298\n",
      "  (438, 4382)\t0.06679842229022362\n",
      "  (438, 3875)\t0.2793798261142727\n",
      "  (438, 2556)\t0.29363563646130203\n",
      "  (438, 2084)\t0.36173739028278507\n",
      "  (438, 2032)\t0.21648810898816842\n",
      "  (438, 1811)\t0.2501399750761101\n",
      "  (438, 1744)\t0.3334473230594665\n",
      "  (438, 1248)\t0.05227162104611245\n",
      "  (438, 1025)\t0.2722289206752217\n",
      "  (438, 958)\t0.30646407388641117\n",
      "  (438, 752)\t0.3392045583135955\n",
      "  (438, 658)\t0.4025493353615266\n"
     ]
    }
   ],
   "source": [
    "print(test_X_datatfidf)"
   ]
  },
  {
   "cell_type": "code",
   "execution_count": 9,
   "id": "f8b8d434",
   "metadata": {},
   "outputs": [
    {
     "name": "stdout",
     "output_type": "stream",
     "text": [
      "  (0, 4803)\t0.3598161635325953\n",
      "  (0, 4673)\t0.33424949109358865\n",
      "  (0, 4626)\t0.17274689689836326\n",
      "  (0, 4379)\t0.12166124112000182\n",
      "  (0, 4337)\t0.4004029826824378\n",
      "  (0, 3827)\t0.345417760299169\n",
      "  (0, 1681)\t0.38923471347685745\n",
      "  (0, 1248)\t0.10108539576935047\n",
      "  (0, 974)\t0.4148013859158642\n",
      "  (0, 619)\t0.3174091544732485\n",
      "  (1, 4379)\t0.09218034457494102\n",
      "  (1, 4004)\t0.31428690297654005\n",
      "  (1, 3828)\t0.31428690297654005\n",
      "  (1, 3734)\t0.14686962720961794\n",
      "  (1, 3535)\t0.2650159038879987\n",
      "  (1, 3531)\t0.31428690297654005\n",
      "  (1, 3019)\t0.2532543066251865\n",
      "  (1, 2440)\t0.14146339568464203\n",
      "  (1, 2406)\t0.13457156049928795\n",
      "  (1, 2018)\t0.18747531308574544\n",
      "  (1, 1688)\t0.22572555279026893\n",
      "  (1, 1652)\t0.24634036611465968\n",
      "  (1, 1428)\t0.409358275559326\n",
      "  (1, 1248)\t0.03829521434982741\n",
      "  (1, 1025)\t0.1994402442633853\n",
      "  :\t:\n",
      "  (3943, 681)\t0.37509184041514954\n",
      "  (3943, 381)\t0.44800702870034464\n",
      "  (3943, 107)\t0.3158788231691944\n",
      "  (3943, 45)\t0.3772786219341547\n",
      "  (3944, 4382)\t0.16495054000285883\n",
      "  (3944, 4231)\t0.6661962156312571\n",
      "  (3944, 2950)\t0.6623226054346066\n",
      "  (3944, 1248)\t0.12907837973956113\n",
      "  (3944, 161)\t0.27136960007613453\n",
      "  (3945, 4565)\t0.3736561226078328\n",
      "  (3945, 4382)\t0.08871909802060501\n",
      "  (3945, 4080)\t0.35726584434819697\n",
      "  (3945, 2047)\t0.3736561226078328\n",
      "  (3945, 1496)\t0.3431866404557594\n",
      "  (3945, 1472)\t0.2654324054706203\n",
      "  (3945, 1403)\t0.3615639931208868\n",
      "  (3945, 1402)\t0.36268187122016254\n",
      "  (3945, 1248)\t0.06942515874307854\n",
      "  (3945, 167)\t0.3604640018405849\n",
      "  (3946, 4382)\t0.14300591182917907\n",
      "  (3946, 3734)\t0.42918174663564396\n",
      "  (3946, 3703)\t0.4965740674803044\n",
      "  (3946, 1732)\t0.6341739751523827\n",
      "  (3946, 1248)\t0.11190609859033535\n",
      "  (3946, 106)\t0.36615150877807967\n"
     ]
    }
   ],
   "source": [
    "print(train_X_datatfidf)"
   ]
  },
  {
   "cell_type": "code",
   "execution_count": 10,
   "id": "b57efe91",
   "metadata": {},
   "outputs": [
    {
     "name": "stdout",
     "output_type": "stream",
     "text": [
      "(439, 5000)\n",
      "(3947, 5000)\n"
     ]
    }
   ],
   "source": [
    "print(test_X_datatfidf.shape)\n",
    "print(train_X_datatfidf.shape)"
   ]
  },
  {
   "cell_type": "code",
   "execution_count": 11,
   "id": "8ec2fabf",
   "metadata": {},
   "outputs": [
    {
     "data": {
      "text/plain": [
       "SVC(kernel='linear')"
      ]
     },
     "execution_count": 11,
     "metadata": {},
     "output_type": "execute_result"
    }
   ],
   "source": [
    "from sklearn.svm import SVC\n",
    "\n",
    "model = SVC(kernel='linear')\n",
    "model.fit(train_X_datatfidf,train_Y)"
   ]
  },
  {
   "cell_type": "code",
   "execution_count": 12,
   "id": "d0ff4f24",
   "metadata": {},
   "outputs": [],
   "source": [
    "from sklearn.metrics import accuracy_score\n",
    "\n",
    "predictionsSVM = model.predict(test_X_datatfidf)\n",
    "test_prediction = pd.DataFrame()\n",
    "test_prediction['tweet'] = test_X\n",
    "test_prediction['sentimen'] = predictionsSVM\n",
    "SVMaccuracy = accuracy_score(predictionsSVM, test_Y)*100\n",
    "SVMaccuracy= round(SVMaccuracy,1)"
   ]
  },
  {
   "cell_type": "code",
   "execution_count": 13,
   "id": "e189b717",
   "metadata": {},
   "outputs": [
    {
     "data": {
      "text/html": [
       "<div>\n",
       "<style scoped>\n",
       "    .dataframe tbody tr th:only-of-type {\n",
       "        vertical-align: middle;\n",
       "    }\n",
       "\n",
       "    .dataframe tbody tr th {\n",
       "        vertical-align: top;\n",
       "    }\n",
       "\n",
       "    .dataframe thead th {\n",
       "        text-align: right;\n",
       "    }\n",
       "</style>\n",
       "<table border=\"1\" class=\"dataframe\">\n",
       "  <thead>\n",
       "    <tr style=\"text-align: right;\">\n",
       "      <th></th>\n",
       "      <th>tweet</th>\n",
       "      <th>sentimen</th>\n",
       "    </tr>\n",
       "  </thead>\n",
       "  <tbody>\n",
       "    <tr>\n",
       "      <th>2776</th>\n",
       "      <td>['pantau', 'harga', 'ayam', 'je', 'telur', 'ay...</td>\n",
       "      <td>Positif</td>\n",
       "    </tr>\n",
       "    <tr>\n",
       "      <th>3022</th>\n",
       "      <td>['miniso', 'sikat', 'wajah', 'unik', 'berbentu...</td>\n",
       "      <td>Positif</td>\n",
       "    </tr>\n",
       "    <tr>\n",
       "      <th>2606</th>\n",
       "      <td>['harga', 'telur', 'ayam', 'daerah', 'anjlok',...</td>\n",
       "      <td>Negatif</td>\n",
       "    </tr>\n",
       "    <tr>\n",
       "      <th>912</th>\n",
       "      <td>['ayo', 'makan', 'telor', 'selagi', 'harga', '...</td>\n",
       "      <td>Positif</td>\n",
       "    </tr>\n",
       "    <tr>\n",
       "      <th>877</th>\n",
       "      <td>['kemarin', 'daerah', 'rumahku', 'geger', 'tel...</td>\n",
       "      <td>Positif</td>\n",
       "    </tr>\n",
       "    <tr>\n",
       "      <th>...</th>\n",
       "      <td>...</td>\n",
       "      <td>...</td>\n",
       "    </tr>\n",
       "    <tr>\n",
       "      <th>2090</th>\n",
       "      <td>['nobody', 'demo', 'pasal', 'harga', 'ayam', '...</td>\n",
       "      <td>Negatif</td>\n",
       "    </tr>\n",
       "    <tr>\n",
       "      <th>2547</th>\n",
       "      <td>['ditangkap', 'jeritan', 'peternak', 'ayam', '...</td>\n",
       "      <td>Negatif</td>\n",
       "    </tr>\n",
       "    <tr>\n",
       "      <th>1454</th>\n",
       "      <td>['strategi', 'kementan', 'stabilisasi', 'harga...</td>\n",
       "      <td>Positif</td>\n",
       "    </tr>\n",
       "    <tr>\n",
       "      <th>1564</th>\n",
       "      <td>['nx', 'resmi', 'pecah', 'telur', 'all', 'new'...</td>\n",
       "      <td>Positif</td>\n",
       "    </tr>\n",
       "    <tr>\n",
       "      <th>964</th>\n",
       "      <td>['nagawa', 'emang', 'segitu', 'turun', 'cmn', ...</td>\n",
       "      <td>Positif</td>\n",
       "    </tr>\n",
       "  </tbody>\n",
       "</table>\n",
       "<p>439 rows × 2 columns</p>\n",
       "</div>"
      ],
      "text/plain": [
       "                                                  tweet sentimen\n",
       "2776  ['pantau', 'harga', 'ayam', 'je', 'telur', 'ay...  Positif\n",
       "3022  ['miniso', 'sikat', 'wajah', 'unik', 'berbentu...  Positif\n",
       "2606  ['harga', 'telur', 'ayam', 'daerah', 'anjlok',...  Negatif\n",
       "912   ['ayo', 'makan', 'telor', 'selagi', 'harga', '...  Positif\n",
       "877   ['kemarin', 'daerah', 'rumahku', 'geger', 'tel...  Positif\n",
       "...                                                 ...      ...\n",
       "2090  ['nobody', 'demo', 'pasal', 'harga', 'ayam', '...  Negatif\n",
       "2547  ['ditangkap', 'jeritan', 'peternak', 'ayam', '...  Negatif\n",
       "1454  ['strategi', 'kementan', 'stabilisasi', 'harga...  Positif\n",
       "1564  ['nx', 'resmi', 'pecah', 'telur', 'all', 'new'...  Positif\n",
       "964   ['nagawa', 'emang', 'segitu', 'turun', 'cmn', ...  Positif\n",
       "\n",
       "[439 rows x 2 columns]"
      ]
     },
     "execution_count": 13,
     "metadata": {},
     "output_type": "execute_result"
    }
   ],
   "source": [
    "test_prediction"
   ]
  },
  {
   "cell_type": "code",
   "execution_count": 14,
   "id": "fe7ad477",
   "metadata": {},
   "outputs": [
    {
     "data": {
      "text/plain": [
       "88.4"
      ]
     },
     "execution_count": 14,
     "metadata": {},
     "output_type": "execute_result"
    }
   ],
   "source": [
    "SVMaccuracy"
   ]
  },
  {
   "cell_type": "code",
   "execution_count": 15,
   "id": "2348146b",
   "metadata": {},
   "outputs": [
    {
     "name": "stdout",
     "output_type": "stream",
     "text": [
      "Support Vector Machine Acuracy: 88.38268792710706\n",
      "Support Vector Machine Precision: 84.90566037735849\n",
      "Support Vector Machine Recall: 51.13636363636363\n",
      "Support Vector Machine f1_score: 63.829787234042556\n",
      "====================================================\n",
      "\n",
      "              precision    recall  f1-score   support\n",
      "\n",
      "     Negatif       0.85      0.51      0.64        88\n",
      "     Positif       0.89      0.98      0.93       351\n",
      "\n",
      "    accuracy                           0.88       439\n",
      "   macro avg       0.87      0.74      0.78       439\n",
      "weighted avg       0.88      0.88      0.87       439\n",
      "\n"
     ]
    }
   ],
   "source": [
    "from sklearn.metrics import classification_report\n",
    "from sklearn.metrics import accuracy_score, precision_score, recall_score, f1_score\n",
    "\n",
    "print(\"Support Vector Machine Acuracy:\", accuracy_score(test_Y, predictionsSVM)*100)\n",
    "print(\"Support Vector Machine Precision:\", precision_score(test_Y, predictionsSVM, average=\"binary\", pos_label=\"Negatif\")*100)\n",
    "print(\"Support Vector Machine Recall:\", recall_score(test_Y, predictionsSVM, average=\"binary\", pos_label=\"Negatif\")*100)\n",
    "print(\"Support Vector Machine f1_score:\", f1_score(test_Y, predictionsSVM, average=\"binary\", pos_label=\"Negatif\")*100)\n",
    "print('====================================================\\n')\n",
    "print (classification_report(test_Y, predictionsSVM))"
   ]
  },
  {
   "cell_type": "code",
   "execution_count": 16,
   "id": "ab98926c",
   "metadata": {},
   "outputs": [
    {
     "name": "stdout",
     "output_type": "stream",
     "text": [
      "Support Vector Machine Acuracy: 88.4\n"
     ]
    },
    {
     "data": {
      "image/png": "[encoded data removed]",
      "text/plain": [
       "<Figure size 432x288 with 2 Axes>"
      ]
     },
     "metadata": {
      "needs_background": "light"
     },
     "output_type": "display_data"
    }
   ],
   "source": [
    "from sklearn.metrics import confusion_matrix\n",
    "import seaborn as sns\n",
    "\n",
    "print(\"Support Vector Machine Acuracy:\", SVMaccuracy)\n",
    "\n",
    "conf_mat = confusion_matrix(test_Y, predictionsSVM)\n",
    "class_label = [\"Negative\",\"Positive\"]\n",
    "test =pd.DataFrame(conf_mat, index = class_label, columns = class_label)\n",
    "sns.heatmap(test, annot = True, fmt = \"d\")\n",
    "plt.title(\"Confusion Matrix for test data Support Vector Machine\")\n",
    "plt.xlabel(\"Predicted Label\")\n",
    "plt.ylabel(\"True Label\")\n",
    "plt.show()"
   ]
  },
  {
   "cell_type": "code",
   "execution_count": null,
   "id": "70486333",
   "metadata": {},
   "outputs": [],
   "source": []
  }
 ],
 "metadata": {
  "kernelspec": {
   "display_name": "Python 3",
   "language": "python",
   "name": "python3"
  },
  "language_info": {
   "codemirror_mode": {
    "name": "ipython",
    "version": 3
   },
   "file_extension": ".py",
   "mimetype": "text/x-python",
   "name": "python",
   "nbconvert_exporter": "python",
   "pygments_lexer": "ipython3",
   "version": "3.9.7"
  }
 },
 "nbformat": 4,
 "nbformat_minor": 5
}
