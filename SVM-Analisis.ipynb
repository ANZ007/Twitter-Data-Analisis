{
 "cells": [
  {
   "cell_type": "markdown",
   "id": "f28fdfa2-c8f3-492b-b694-9d7b05ae89eb",
   "metadata": {},
   "source": [
    "# Klasifikasi Support Vector Machine (SVM)"
   ]
  },
  {
   "cell_type": "markdown",
   "id": "5f599b05-0a7b-4cd3-a6d8-1c7a637d1aec",
   "metadata": {},
   "source": [
    "## Import module / package"
   ]
  },
  {
   "cell_type": "code",
   "execution_count": 1,
   "id": "9e71c8d9",
   "metadata": {},
   "outputs": [],
   "source": [
    "import numpy as np\n",
    "import pandas as pd\n",
    "import csv\n",
    "import matplotlib.pyplot as plt\n",
    "from sklearn import model_selection\n",
    "from sklearn.model_selection import train_test_split\n",
    "from sklearn.feature_extraction.text import TfidfVectorizer\n",
    "from sklearn import svm\n",
    "from sklearn.metrics import accuracy_score"
   ]
  },
  {
   "cell_type": "code",
   "execution_count": 2,
   "id": "9c4ccbde",
   "metadata": {},
   "outputs": [
    {
     "data": {
      "text/html": [
       "<div>\n",
       "<style scoped>\n",
       "    .dataframe tbody tr th:only-of-type {\n",
       "        vertical-align: middle;\n",
       "    }\n",
       "\n",
       "    .dataframe tbody tr th {\n",
       "        vertical-align: top;\n",
       "    }\n",
       "\n",
       "    .dataframe thead th {\n",
       "        text-align: right;\n",
       "    }\n",
       "</style>\n",
       "<table border=\"1\" class=\"dataframe\">\n",
       "  <thead>\n",
       "    <tr style=\"text-align: right;\">\n",
       "      <th></th>\n",
       "      <th>tweet</th>\n",
       "      <th>polaritas</th>\n",
       "      <th>sentimen</th>\n",
       "    </tr>\n",
       "  </thead>\n",
       "  <tbody>\n",
       "    <tr>\n",
       "      <th>0</th>\n",
       "      <td>['jbharga', 'ayam', 'rm', 'tgk', 'telor', 'wya...</td>\n",
       "      <td>-2</td>\n",
       "      <td>Negatif</td>\n",
       "    </tr>\n",
       "    <tr>\n",
       "      <th>1</th>\n",
       "      <td>['diri', 'di', 'atas', 'kaki', 'sendiri', 'ser...</td>\n",
       "      <td>-2</td>\n",
       "      <td>Negatif</td>\n",
       "    </tr>\n",
       "    <tr>\n",
       "      <th>2</th>\n",
       "      <td>['sebab', 'harga', 'telur', 'anjlok', 'versi',...</td>\n",
       "      <td>5</td>\n",
       "      <td>Positif</td>\n",
       "    </tr>\n",
       "    <tr>\n",
       "      <th>3</th>\n",
       "      <td>['turun', 'minta', 'masyarakat', 'telur', 'aya...</td>\n",
       "      <td>-1</td>\n",
       "      <td>Negatif</td>\n",
       "    </tr>\n",
       "    <tr>\n",
       "      <th>4</th>\n",
       "      <td>['ternak', 'ayam', 'telur', 'aku', 'rugi', 'ra...</td>\n",
       "      <td>5</td>\n",
       "      <td>Positif</td>\n",
       "    </tr>\n",
       "  </tbody>\n",
       "</table>\n",
       "</div>"
      ],
      "text/plain": [
       "                                               tweet  polaritas sentimen\n",
       "0  ['jbharga', 'ayam', 'rm', 'tgk', 'telor', 'wya...         -2  Negatif\n",
       "1  ['diri', 'di', 'atas', 'kaki', 'sendiri', 'ser...         -2  Negatif\n",
       "2  ['sebab', 'harga', 'telur', 'anjlok', 'versi',...          5  Positif\n",
       "3  ['turun', 'minta', 'masyarakat', 'telur', 'aya...         -1  Negatif\n",
       "4  ['ternak', 'ayam', 'telur', 'aku', 'rugi', 'ra...          5  Positif"
      ]
     },
     "execution_count": 2,
     "metadata": {},
     "output_type": "execute_result"
    }
   ],
   "source": [
    "df = pd.read_csv(r\"data/tweets_labelled_tokenized_sastrawi.csv\")\n",
    "df2 = pd.read_csv(r\"data/tweets_labelled_tokenized_ecs.csv\")\n",
    "df.head()"
   ]
  },
  {
   "cell_type": "code",
   "execution_count": 3,
   "id": "4f5af99d-6cf4-47d6-b34d-b34cee58c1d7",
   "metadata": {},
   "outputs": [
    {
     "data": {
      "text/html": [
       "<div>\n",
       "<style scoped>\n",
       "    .dataframe tbody tr th:only-of-type {\n",
       "        vertical-align: middle;\n",
       "    }\n",
       "\n",
       "    .dataframe tbody tr th {\n",
       "        vertical-align: top;\n",
       "    }\n",
       "\n",
       "    .dataframe thead th {\n",
       "        text-align: right;\n",
       "    }\n",
       "</style>\n",
       "<table border=\"1\" class=\"dataframe\">\n",
       "  <thead>\n",
       "    <tr style=\"text-align: right;\">\n",
       "      <th></th>\n",
       "      <th>tweet</th>\n",
       "      <th>polaritas</th>\n",
       "      <th>sentimen</th>\n",
       "    </tr>\n",
       "  </thead>\n",
       "  <tbody>\n",
       "    <tr>\n",
       "      <th>0</th>\n",
       "      <td>['jbharga', 'ayam', 'rm', 'tgk', 'telor', 'wya...</td>\n",
       "      <td>-2</td>\n",
       "      <td>Negatif</td>\n",
       "    </tr>\n",
       "    <tr>\n",
       "      <th>1</th>\n",
       "      <td>['diri', 'di', 'atas', 'kaki', 'sendiri', 'ser...</td>\n",
       "      <td>-2</td>\n",
       "      <td>Negatif</td>\n",
       "    </tr>\n",
       "    <tr>\n",
       "      <th>2</th>\n",
       "      <td>['sebab', 'harga', 'telur', 'anjlok', 'versi',...</td>\n",
       "      <td>5</td>\n",
       "      <td>Positif</td>\n",
       "    </tr>\n",
       "    <tr>\n",
       "      <th>3</th>\n",
       "      <td>['turun', 'minta', 'masyarakat', 'telur', 'aya...</td>\n",
       "      <td>-1</td>\n",
       "      <td>Negatif</td>\n",
       "    </tr>\n",
       "    <tr>\n",
       "      <th>4</th>\n",
       "      <td>['ternak', 'ayam', 'telur', 'menga', 'rugi', '...</td>\n",
       "      <td>4</td>\n",
       "      <td>Positif</td>\n",
       "    </tr>\n",
       "  </tbody>\n",
       "</table>\n",
       "</div>"
      ],
      "text/plain": [
       "                                               tweet  polaritas sentimen\n",
       "0  ['jbharga', 'ayam', 'rm', 'tgk', 'telor', 'wya...         -2  Negatif\n",
       "1  ['diri', 'di', 'atas', 'kaki', 'sendiri', 'ser...         -2  Negatif\n",
       "2  ['sebab', 'harga', 'telur', 'anjlok', 'versi',...          5  Positif\n",
       "3  ['turun', 'minta', 'masyarakat', 'telur', 'aya...         -1  Negatif\n",
       "4  ['ternak', 'ayam', 'telur', 'menga', 'rugi', '...          4  Positif"
      ]
     },
     "execution_count": 3,
     "metadata": {},
     "output_type": "execute_result"
    }
   ],
   "source": [
    "df2.head()"
   ]
  },
  {
   "cell_type": "markdown",
   "id": "86e30840-c89a-46f2-85b6-7ca0adb76d11",
   "metadata": {},
   "source": [
    "## Split Data (Test & Train)"
   ]
  },
  {
   "cell_type": "code",
   "execution_count": 4,
   "id": "3be360e1",
   "metadata": {},
   "outputs": [],
   "source": [
    "train_X_df, test_X_df, train_Y_df, test_Y_df = model_selection.train_test_split(df['tweet'], df['sentimen'], test_size = 0.1, random_state = 42)\n",
    "train_X_df2, test_X_df2, train_Y_df2, test_Y_df2 = model_selection.train_test_split(df2['tweet'], df2['sentimen'], test_size = 0.1, random_state = 42)"
   ]
  },
  {
   "cell_type": "code",
   "execution_count": 5,
   "id": "93dab41b",
   "metadata": {},
   "outputs": [],
   "source": [
    "data_train = pd.DataFrame()\n",
    "data_train['tweet'] = train_X_df\n",
    "data_train['sentimen'] = train_Y_df\n",
    "\n",
    "data_test = pd.DataFrame()\n",
    "data_test['tweet'] = test_X_df\n",
    "data_test['sentimen'] = test_Y_df\n",
    "\n",
    "data_train_2 = pd.DataFrame()\n",
    "data_train_2['tweet'] = train_X_df2\n",
    "data_train['sentimen'] = train_Y_df2\n",
    "\n",
    "data_test_2 = pd.DataFrame()\n",
    "data_test_2['tweet'] = test_X_df2\n",
    "data_test_2['sentimen'] = test_Y_df2"
   ]
  },
  {
   "cell_type": "code",
   "execution_count": 6,
   "id": "1747e350",
   "metadata": {},
   "outputs": [],
   "source": [
    "# data_train.to_csv(r\"df_trainsvm.csv\")\n",
    "# data_test.to_csv(r\"df_testsvm.csv\")"
   ]
  },
  {
   "cell_type": "markdown",
   "id": "7fdac040-bc88-4a86-ae69-d83ddc8e4b3e",
   "metadata": {},
   "source": [
    "## TF-IDF"
   ]
  },
  {
   "cell_type": "code",
   "execution_count": 7,
   "id": "59cb2860",
   "metadata": {},
   "outputs": [],
   "source": [
    "from sklearn.feature_extraction.text import TfidfVectorizer\n",
    "\n",
    "datatfidf = TfidfVectorizer(max_features = 5000)\n",
    "datatfidf.fit(df['tweet'].values.astype('U'))\n",
    "train_X_datatfidf = datatfidf.transform(data_train['tweet'].values.astype('U'))\n",
    "test_X_datatfidf = datatfidf.transform(data_test['tweet'].values.astype('U'))\n",
    "\n",
    "datatfidf2 = TfidfVectorizer(max_features = 5000)\n",
    "datatfidf2.fit(df2['tweet'].values.astype('U'))\n",
    "train_X_datatfidf2 = datatfidf2.transform(data_train_2['tweet'].values.astype('U'))\n",
    "test_X_datatfidf2 = datatfidf2.transform(data_test_2['tweet'].values.astype('U'))"
   ]
  },
  {
   "cell_type": "code",
   "execution_count": 8,
   "id": "cbf76db9",
   "metadata": {},
   "outputs": [
    {
     "data": {
      "text/plain": [
       "TfidfVectorizer(max_features=5000)"
      ]
     },
     "execution_count": 8,
     "metadata": {},
     "output_type": "execute_result"
    }
   ],
   "source": [
    "datatfidf"
   ]
  },
  {
   "cell_type": "code",
   "execution_count": 9,
   "id": "1426548a-6d0b-4ffc-ae45-d264a2627367",
   "metadata": {},
   "outputs": [
    {
     "data": {
      "text/plain": [
       "TfidfVectorizer(max_features=5000)"
      ]
     },
     "execution_count": 9,
     "metadata": {},
     "output_type": "execute_result"
    }
   ],
   "source": [
    "datatfidf2"
   ]
  },
  {
   "cell_type": "code",
   "execution_count": 10,
   "id": "c3476f7d",
   "metadata": {},
   "outputs": [],
   "source": [
    "# print(test_X_datatfidf)"
   ]
  },
  {
   "cell_type": "code",
   "execution_count": 11,
   "id": "dd352feb-1975-4540-8e73-c74d14dfcac4",
   "metadata": {},
   "outputs": [],
   "source": [
    "# print(test_X_datatfidf2)"
   ]
  },
  {
   "cell_type": "code",
   "execution_count": 12,
   "id": "f8b8d434",
   "metadata": {},
   "outputs": [],
   "source": [
    "# print(train_X_datatfidf)"
   ]
  },
  {
   "cell_type": "code",
   "execution_count": 13,
   "id": "411c217e-4f73-4802-a422-739a9de73f92",
   "metadata": {},
   "outputs": [],
   "source": [
    "# print(train_X_datatfidf2)"
   ]
  },
  {
   "cell_type": "code",
   "execution_count": 14,
   "id": "b57efe91",
   "metadata": {},
   "outputs": [
    {
     "name": "stdout",
     "output_type": "stream",
     "text": [
      "(288, 5000)\n",
      "(2591, 5000)\n",
      "(288, 5000)\n",
      "(2591, 5000)\n"
     ]
    }
   ],
   "source": [
    "print(test_X_datatfidf.shape)\n",
    "print(train_X_datatfidf.shape)\n",
    "print(test_X_datatfidf2.shape)\n",
    "print(train_X_datatfidf2.shape)"
   ]
  },
  {
   "cell_type": "markdown",
   "id": "5d6bd8c7-d802-4d75-8f28-a02d0f4292d7",
   "metadata": {},
   "source": [
    "## Klasifikasi SVM (Kernel Linear)"
   ]
  },
  {
   "cell_type": "code",
   "execution_count": 15,
   "id": "8ec2fabf",
   "metadata": {},
   "outputs": [
    {
     "data": {
      "text/plain": [
       "SVC(kernel='linear')"
      ]
     },
     "execution_count": 15,
     "metadata": {},
     "output_type": "execute_result"
    }
   ],
   "source": [
    "from sklearn.svm import SVC\n",
    "\n",
    "model = SVC(kernel='linear')\n",
    "model2 = SVC(kernel='linear')\n",
    "model.fit(train_X_datatfidf,train_Y_df)\n",
    "model2.fit(train_X_datatfidf2,train_Y_df2)"
   ]
  },
  {
   "cell_type": "code",
   "execution_count": 16,
   "id": "d0ff4f24",
   "metadata": {},
   "outputs": [],
   "source": [
    "from sklearn.metrics import accuracy_score\n",
    "\n",
    "predictionsSVM = model.predict(test_X_datatfidf)\n",
    "predictionsSVM2 = model2.predict(test_X_datatfidf2)\n",
    "\n",
    "test_prediction = pd.DataFrame()\n",
    "test_prediction['tweet'] = test_X_df\n",
    "test_prediction['sentimen'] = predictionsSVM\n",
    "test_prediction_2 = pd.DataFrame()\n",
    "test_prediction_2['tweet'] = test_X_df2\n",
    "test_prediction_2['sentimen'] = predictionsSVM2\n",
    "\n",
    "SVMaccuracy = accuracy_score(predictionsSVM, test_Y_df)*100\n",
    "SVMaccuracy = round(SVMaccuracy,1)\n",
    "SVMaccuracy2 = accuracy_score(predictionsSVM2, test_Y_df2)*100\n",
    "SVMaccuracy2 = round(SVMaccuracy2,1)"
   ]
  },
  {
   "cell_type": "markdown",
   "id": "d86f0f0c-4803-4e67-a43e-a66b8149bf3e",
   "metadata": {},
   "source": [
    "## Mengecek Akurasi"
   ]
  },
  {
   "cell_type": "markdown",
   "id": "0513d689-c24a-4e9d-b881-c02860a58068",
   "metadata": {},
   "source": [
    "### Dataset DF (_Stemming Nazief_)"
   ]
  },
  {
   "cell_type": "code",
   "execution_count": 17,
   "id": "fe7ad477",
   "metadata": {},
   "outputs": [
    {
     "name": "stdout",
     "output_type": "stream",
     "text": [
      "Akurasi SVM :  90.6 %\n"
     ]
    }
   ],
   "source": [
    "print(\"Akurasi SVM : \",SVMaccuracy, \"%\")"
   ]
  },
  {
   "cell_type": "code",
   "execution_count": 18,
   "id": "2348146b",
   "metadata": {},
   "outputs": [
    {
     "name": "stdout",
     "output_type": "stream",
     "text": [
      "Support Vector Machine Acuracy: 90.625 %\n",
      "Support Vector Machine Precision: 91.53225806451613 %\n",
      "Support Vector Machine Recall: 97.42489270386267 %\n",
      "Support Vector Machine f1_score: 94.38669438669439 %\n",
      "====================================================\n",
      "\n",
      "              precision    recall  f1-score   support\n",
      "\n",
      "     Negatif       0.85      0.62      0.72        55\n",
      "     Positif       0.92      0.97      0.94       233\n",
      "\n",
      "    accuracy                           0.91       288\n",
      "   macro avg       0.88      0.80      0.83       288\n",
      "weighted avg       0.90      0.91      0.90       288\n",
      "\n"
     ]
    }
   ],
   "source": [
    "from sklearn.metrics import classification_report\n",
    "from sklearn.metrics import accuracy_score, precision_score, recall_score, f1_score\n",
    "\n",
    "print(\"Support Vector Machine Acuracy:\", accuracy_score(test_Y_df, predictionsSVM)*100, \"%\")\n",
    "print(\"Support Vector Machine Precision:\", precision_score(test_Y_df, predictionsSVM, average=\"binary\", pos_label=\"Positif\")*100, \"%\")\n",
    "print(\"Support Vector Machine Recall:\", recall_score(test_Y_df, predictionsSVM, average=\"binary\", pos_label=\"Positif\")*100, \"%\")\n",
    "print(\"Support Vector Machine f1_score:\", f1_score(test_Y_df, predictionsSVM, average=\"binary\", pos_label=\"Positif\")*100, \"%\")\n",
    "print('====================================================\\n')\n",
    "print (classification_report(test_Y_df, predictionsSVM))"
   ]
  },
  {
   "cell_type": "code",
   "execution_count": 19,
   "id": "ab98926c",
   "metadata": {},
   "outputs": [
    {
     "name": "stdout",
     "output_type": "stream",
     "text": [
      "Support Vector Machine Acuracy: 90.6 %\n"
     ]
    },
    {
     "data": {
      "image/png": "[encoded data removed]",
      "text/plain": [
       "<Figure size 432x288 with 2 Axes>"
      ]
     },
     "metadata": {
      "needs_background": "light"
     },
     "output_type": "display_data"
    }
   ],
   "source": [
    "from sklearn.metrics import confusion_matrix\n",
    "import seaborn as sns\n",
    "\n",
    "print(\"Support Vector Machine Acuracy:\", SVMaccuracy, \"%\")\n",
    "\n",
    "conf_mat = confusion_matrix(test_Y_df, predictionsSVM)\n",
    "class_label = [\"Negative\",\"Positive\"]\n",
    "test =pd.DataFrame(conf_mat, index = class_label, columns = class_label)\n",
    "sns.heatmap(test, annot = True, fmt = \"d\")\n",
    "plt.title(\"Confusion Matrix for test data Support Vector Machine\")\n",
    "plt.xlabel(\"Predicted Label\")\n",
    "plt.ylabel(\"True Label\")\n",
    "plt.show()"
   ]
  },
  {
   "cell_type": "markdown",
   "id": "88930034-6629-4dc2-a12b-d4dbada39825",
   "metadata": {},
   "source": [
    "### Dataset DF2 (_Stemming ECS_)"
   ]
  },
  {
   "cell_type": "code",
   "execution_count": 20,
   "id": "ee122c98-0066-414c-9d51-8f107e2d370a",
   "metadata": {},
   "outputs": [
    {
     "name": "stdout",
     "output_type": "stream",
     "text": [
      "Akurasi SVM :  89.6 %\n"
     ]
    }
   ],
   "source": [
    "print(\"Akurasi SVM : \",SVMaccuracy2, \"%\")"
   ]
  },
  {
   "cell_type": "code",
   "execution_count": 21,
   "id": "dc74440b-5a1a-4849-a801-9dfc286d537e",
   "metadata": {},
   "outputs": [
    {
     "name": "stdout",
     "output_type": "stream",
     "text": [
      "Support Vector Machine Acuracy: 89.58333333333334 %\n",
      "Support Vector Machine Precision: 90.2834008097166 %\n",
      "Support Vector Machine Recall: 97.37991266375546 %\n",
      "Support Vector Machine f1_score: 93.69747899159664 %\n",
      "====================================================\n",
      "\n",
      "              precision    recall  f1-score   support\n",
      "\n",
      "     Negatif       0.85      0.58      0.69        59\n",
      "     Positif       0.90      0.97      0.94       229\n",
      "\n",
      "    accuracy                           0.89       288\n",
      "   macro avg       0.87      0.78      0.81       288\n",
      "weighted avg       0.89      0.89      0.88       288\n",
      "\n"
     ]
    }
   ],
   "source": [
    "from sklearn.metrics import classification_report\n",
    "from sklearn.metrics import accuracy_score, precision_score, recall_score, f1_score\n",
    "\n",
    "print(\"Support Vector Machine Acuracy:\", accuracy_score(test_Y_df2, predictionsSVM2)*100, \"%\")\n",
    "print(\"Support Vector Machine Precision:\", precision_score(test_Y_df2, predictionsSVM2, average=\"binary\", pos_label=\"Positif\")*100, \"%\")\n",
    "print(\"Support Vector Machine Recall:\", recall_score(test_Y_df2, predictionsSVM2, average=\"binary\", pos_label=\"Positif\")*100, \"%\")\n",
    "print(\"Support Vector Machine f1_score:\", f1_score(test_Y_df2, predictionsSVM2, average=\"binary\", pos_label=\"Positif\")*100, \"%\")\n",
    "print('====================================================\\n')\n",
    "print (classification_report(test_Y_df2, predictionsSVM))"
   ]
  },
  {
   "cell_type": "code",
   "execution_count": 22,
   "id": "ee867050-e633-4cd3-b4c2-e20c8044188c",
   "metadata": {},
   "outputs": [
    {
     "name": "stdout",
     "output_type": "stream",
     "text": [
      "Support Vector Machine Acuracy: 90.6 %\n"
     ]
    },
    {
     "data": {
      "image/png": "[encoded data removed]",
      "text/plain": [
       "<Figure size 432x288 with 2 Axes>"
      ]
     },
     "metadata": {
      "needs_background": "light"
     },
     "output_type": "display_data"
    }
   ],
   "source": [
    "from sklearn.metrics import confusion_matrix\n",
    "import seaborn as sns\n",
    "\n",
    "print(\"Support Vector Machine Acuracy:\", SVMaccuracy, \"%\")\n",
    "\n",
    "conf_mat = confusion_matrix(test_Y_df2, predictionsSVM2)\n",
    "class_label = [\"Negative\",\"Positive\"]\n",
    "test =pd.DataFrame(conf_mat, index = class_label, columns = class_label)\n",
    "sns.heatmap(test, annot = True, fmt = \"d\")\n",
    "plt.title(\"Confusion Matrix for test data Support Vector Machine\")\n",
    "plt.xlabel(\"Predicted Label\")\n",
    "plt.ylabel(\"True Label\")\n",
    "plt.show()"
   ]
  },
  {
   "cell_type": "markdown",
   "id": "ee4d7592-b3f1-4019-9112-2e9f80f95fbb",
   "metadata": {},
   "source": [
    "## Klasifikasi SVM (Kernel RBF)"
   ]
  },
  {
   "cell_type": "code",
   "execution_count": 23,
   "id": "aa528817-c11f-42f2-911d-133435a59a25",
   "metadata": {},
   "outputs": [
    {
     "data": {
      "text/plain": [
       "SVC(random_state=42)"
      ]
     },
     "execution_count": 23,
     "metadata": {},
     "output_type": "execute_result"
    }
   ],
   "source": [
    "from sklearn.svm import SVC\n",
    "model_rbf = SVC(random_state=42, kernel='rbf')\n",
    "model2_rbf = SVC(random_state=42, kernel='rbf')\n",
    "model_rbf.fit(train_X_datatfidf,train_Y_df)\n",
    "model2_rbf.fit(train_X_datatfidf2,train_Y_df2)"
   ]
  },
  {
   "cell_type": "code",
   "execution_count": 24,
   "id": "4ac3b5ee-d4d8-44d3-a846-0291919f3d46",
   "metadata": {},
   "outputs": [],
   "source": [
    "from sklearn.metrics import accuracy_score\n",
    "\n",
    "predictionsSVM_rbf = model_rbf.predict(test_X_datatfidf)\n",
    "predictionsSVM2_rbf = model2_rbf.predict(test_X_datatfidf2)\n",
    "\n",
    "test_prediction_rbf = pd.DataFrame()\n",
    "test_prediction_rbf['tweet'] = test_X_df\n",
    "test_prediction_rbf['sentimen'] = predictionsSVM_rbf\n",
    "test_prediction_2_rbf = pd.DataFrame()\n",
    "test_prediction_2_rbf['tweet'] = test_X_df2\n",
    "test_prediction_2_rbf['sentimen'] = predictionsSVM2_rbf\n",
    "\n",
    "SVMaccuracy_rbf = accuracy_score(predictionsSVM_rbf, test_Y_df)*100\n",
    "SVMaccuracy_rbf = round(SVMaccuracy_rbf,1)\n",
    "SVMaccuracy2_rbf = accuracy_score(predictionsSVM2_rbf, test_Y_df2)*100\n",
    "SVMaccuracy2_rbf = round(SVMaccuracy2_rbf,1)"
   ]
  },
  {
   "cell_type": "markdown",
   "id": "ba9735fb-b03e-4788-89c5-f833f3e01d76",
   "metadata": {},
   "source": [
    "## Mengecek Akurasi"
   ]
  },
  {
   "cell_type": "markdown",
   "id": "fc10e9bb-1cec-4799-8fe9-25acd590999a",
   "metadata": {},
   "source": [
    "### Dataset DF (_Stemming Nazief_)"
   ]
  },
  {
   "cell_type": "code",
   "execution_count": 25,
   "id": "959e1ef5-b1ca-4811-958b-afaec144747b",
   "metadata": {},
   "outputs": [
    {
     "name": "stdout",
     "output_type": "stream",
     "text": [
      "Akurasi SVM RBF DF :  87.5 %\n"
     ]
    }
   ],
   "source": [
    "print(\"Akurasi SVM RBF DF : \",SVMaccuracy_rbf, \"%\")"
   ]
  },
  {
   "cell_type": "code",
   "execution_count": 26,
   "id": "22f23fd9-e38a-412f-b4b9-343dbedbe069",
   "metadata": {},
   "outputs": [
    {
     "name": "stdout",
     "output_type": "stream",
     "text": [
      "SVM RBF DF Acuracy: 87.5 %\n",
      "SVM RBF DF Precision: 88.03088803088804 %\n",
      "SVM RBF DF Recall: 97.85407725321889 %\n",
      "SVM RBF DF f1_score: 92.6829268292683 %\n",
      "====================================================\n",
      "\n",
      "              precision    recall  f1-score   support\n",
      "\n",
      "     Negatif       0.83      0.44      0.57        55\n",
      "     Positif       0.88      0.98      0.93       233\n",
      "\n",
      "    accuracy                           0.88       288\n",
      "   macro avg       0.85      0.71      0.75       288\n",
      "weighted avg       0.87      0.88      0.86       288\n",
      "\n"
     ]
    }
   ],
   "source": [
    "from sklearn.metrics import classification_report\n",
    "from sklearn.metrics import accuracy_score, precision_score, recall_score, f1_score\n",
    "\n",
    "print(\"SVM RBF DF Acuracy:\", accuracy_score(test_Y_df, predictionsSVM_rbf)*100, \"%\")\n",
    "print(\"SVM RBF DF Precision:\", precision_score(test_Y_df, predictionsSVM_rbf, average=\"binary\", pos_label=\"Positif\")*100, \"%\")\n",
    "print(\"SVM RBF DF Recall:\", recall_score(test_Y_df, predictionsSVM_rbf, average=\"binary\", pos_label=\"Positif\")*100, \"%\")\n",
    "print(\"SVM RBF DF f1_score:\", f1_score(test_Y_df, predictionsSVM_rbf, average=\"binary\", pos_label=\"Positif\")*100, \"%\")\n",
    "print('====================================================\\n')\n",
    "print (classification_report(test_Y_df, predictionsSVM_rbf))"
   ]
  },
  {
   "cell_type": "code",
   "execution_count": 27,
   "id": "8df4d7fb-155e-4900-8b0c-b3625368a1ff",
   "metadata": {},
   "outputs": [
    {
     "name": "stdout",
     "output_type": "stream",
     "text": [
      "Support Vector Machine Acuracy: 87.5 %\n"
     ]
    },
    {
     "data": {
      "image/png": "[encoded data removed]",
      "text/plain": [
       "<Figure size 432x288 with 2 Axes>"
      ]
     },
     "metadata": {
      "needs_background": "light"
     },
     "output_type": "display_data"
    }
   ],
   "source": [
    "from sklearn.metrics import confusion_matrix\n",
    "import seaborn as sns\n",
    "\n",
    "print(\"Support Vector Machine Acuracy:\", SVMaccuracy_rbf, \"%\")\n",
    "\n",
    "conf_mat = confusion_matrix(test_Y_df, predictionsSVM_rbf)\n",
    "class_label = [\"Negative\",\"Positive\"]\n",
    "test =pd.DataFrame(conf_mat, index = class_label, columns = class_label)\n",
    "sns.heatmap(test, annot = True, fmt = \"d\")\n",
    "plt.title(\"Confusion Matrix for test data Support Vector Machine\")\n",
    "plt.xlabel(\"Predicted Label\")\n",
    "plt.ylabel(\"True Label\")\n",
    "plt.show()"
   ]
  },
  {
   "cell_type": "markdown",
   "id": "8d7ada7b-5bff-4d98-bd12-07f520092032",
   "metadata": {},
   "source": [
    "### Dataset DF2 (_Stemming ECS_)"
   ]
  },
  {
   "cell_type": "code",
   "execution_count": 28,
   "id": "a71be498-5c67-41e2-bdbc-6dfaa897348a",
   "metadata": {},
   "outputs": [
    {
     "name": "stdout",
     "output_type": "stream",
     "text": [
      "Akurasi SVM RBF DF2 :  86.8 %\n"
     ]
    }
   ],
   "source": [
    "print(\"Akurasi SVM RBF DF2 : \",SVMaccuracy2_rbf, \"%\")"
   ]
  },
  {
   "cell_type": "code",
   "execution_count": 29,
   "id": "f4d05195-be90-47bc-980d-38bf5bab2829",
   "metadata": {},
   "outputs": [
    {
     "name": "stdout",
     "output_type": "stream",
     "text": [
      "SVM RBF DF2 Acuracy: 86.80555555555556 %\n",
      "SVM RBF DF2 Precision: 87.15953307392996 %\n",
      "SVM RBF DF2 Recall: 97.81659388646288 %\n",
      "SVM RBF DF2 f1_score: 92.18106995884773 %\n",
      "====================================================\n",
      "\n",
      "              precision    recall  f1-score   support\n",
      "\n",
      "     Negatif       0.86      0.42      0.57        59\n",
      "     Positif       0.87      0.98      0.92       229\n",
      "\n",
      "    accuracy                           0.87       288\n",
      "   macro avg       0.87      0.70      0.75       288\n",
      "weighted avg       0.87      0.87      0.85       288\n",
      "\n"
     ]
    }
   ],
   "source": [
    "from sklearn.metrics import classification_report\n",
    "from sklearn.metrics import accuracy_score, precision_score, recall_score, f1_score\n",
    "\n",
    "print(\"SVM RBF DF2 Acuracy:\", accuracy_score(test_Y_df2, predictionsSVM2_rbf)*100, \"%\")\n",
    "print(\"SVM RBF DF2 Precision:\", precision_score(test_Y_df2, predictionsSVM2_rbf, average=\"binary\", pos_label=\"Positif\")*100, \"%\")\n",
    "print(\"SVM RBF DF2 Recall:\", recall_score(test_Y_df2, predictionsSVM2_rbf, average=\"binary\", pos_label=\"Positif\")*100, \"%\")\n",
    "print(\"SVM RBF DF2 f1_score:\", f1_score(test_Y_df2, predictionsSVM2_rbf, average=\"binary\", pos_label=\"Positif\")*100, \"%\")\n",
    "print('====================================================\\n')\n",
    "print (classification_report(test_Y_df2, predictionsSVM_rbf))"
   ]
  },
  {
   "cell_type": "code",
   "execution_count": 30,
   "id": "fe1e814c-eb0a-490b-9cdd-4e9db70e149f",
   "metadata": {},
   "outputs": [
    {
     "name": "stdout",
     "output_type": "stream",
     "text": [
      "Support Vector Machine Acuracy: 86.8 %\n"
     ]
    },
    {
     "data": {
      "image/png": "[encoded data removed]",
      "text/plain": [
       "<Figure size 432x288 with 2 Axes>"
      ]
     },
     "metadata": {
      "needs_background": "light"
     },
     "output_type": "display_data"
    }
   ],
   "source": [
    "from sklearn.metrics import confusion_matrix\n",
    "import seaborn as sns\n",
    "\n",
    "print(\"Support Vector Machine Acuracy:\", SVMaccuracy2_rbf, \"%\")\n",
    "\n",
    "conf_mat = confusion_matrix(test_Y_df2, predictionsSVM2_rbf)\n",
    "class_label = [\"Negative\",\"Positive\"]\n",
    "test =pd.DataFrame(conf_mat, index = class_label, columns = class_label)\n",
    "sns.heatmap(test, annot = True, fmt = \"d\")\n",
    "plt.title(\"Confusion Matrix for test data Support Vector Machine\")\n",
    "plt.xlabel(\"Predicted Label\")\n",
    "plt.ylabel(\"True Label\")\n",
    "plt.show()"
   ]
  },
  {
   "cell_type": "code",
   "execution_count": null,
   "id": "52261714-e819-47e6-8285-e1c803139a46",
   "metadata": {},
   "outputs": [],
   "source": []
  }
 ],
 "metadata": {
  "kernelspec": {
   "display_name": "Python 3 (ipykernel)",
   "language": "python",
   "name": "python3"
  },
  "language_info": {
   "codemirror_mode": {
    "name": "ipython",
    "version": 3
   },
   "file_extension": ".py",
   "mimetype": "text/x-python",
   "name": "python",
   "nbconvert_exporter": "python",
   "pygments_lexer": "ipython3",
   "version": "3.9.7"
  }
 },
 "nbformat": 4,
 "nbformat_minor": 5
}
