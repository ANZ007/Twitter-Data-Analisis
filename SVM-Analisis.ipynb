{
 "cells": [
  {
   "cell_type": "markdown",
   "id": "f28fdfa2-c8f3-492b-b694-9d7b05ae89eb",
   "metadata": {},
   "source": [
    "# Klasifikasi Support Vector Machine (SVM)"
   ]
  },
  {
   "cell_type": "markdown",
   "id": "5f599b05-0a7b-4cd3-a6d8-1c7a637d1aec",
   "metadata": {},
   "source": [
    "## Import module / package"
   ]
  },
  {
   "cell_type": "code",
   "execution_count": 1,
   "id": "9e71c8d9",
   "metadata": {},
   "outputs": [],
   "source": [
    "import numpy as np\n",
    "import pandas as pd\n",
    "import csv\n",
    "import matplotlib.pyplot as plt\n",
    "from sklearn import model_selection\n",
    "from sklearn.model_selection import train_test_split\n",
    "from sklearn.feature_extraction.text import TfidfVectorizer\n",
    "from sklearn import svm\n",
    "from sklearn.metrics import accuracy_score"
   ]
  },
  {
   "cell_type": "code",
   "execution_count": 2,
   "id": "9c4ccbde",
   "metadata": {},
   "outputs": [
    {
     "data": {
      "text/html": [
       "<div>\n",
       "<style scoped>\n",
       "    .dataframe tbody tr th:only-of-type {\n",
       "        vertical-align: middle;\n",
       "    }\n",
       "\n",
       "    .dataframe tbody tr th {\n",
       "        vertical-align: top;\n",
       "    }\n",
       "\n",
       "    .dataframe thead th {\n",
       "        text-align: right;\n",
       "    }\n",
       "</style>\n",
       "<table border=\"1\" class=\"dataframe\">\n",
       "  <thead>\n",
       "    <tr style=\"text-align: right;\">\n",
       "      <th></th>\n",
       "      <th>tweet</th>\n",
       "      <th>polaritas</th>\n",
       "      <th>sentimen</th>\n",
       "    </tr>\n",
       "  </thead>\n",
       "  <tbody>\n",
       "    <tr>\n",
       "      <th>0</th>\n",
       "      <td>['jbharga', 'ayam', 'rm', 'tgk', 'telor', 'wya...</td>\n",
       "      <td>-2</td>\n",
       "      <td>Negatif</td>\n",
       "    </tr>\n",
       "    <tr>\n",
       "      <th>1</th>\n",
       "      <td>['berdiri', 'di', 'atas', 'kaki', 'sendiri', '...</td>\n",
       "      <td>-2</td>\n",
       "      <td>Negatif</td>\n",
       "    </tr>\n",
       "    <tr>\n",
       "      <th>2</th>\n",
       "      <td>['penyebab', 'harga', 'telur', 'anjlok', 'vers...</td>\n",
       "      <td>-1</td>\n",
       "      <td>Negatif</td>\n",
       "    </tr>\n",
       "    <tr>\n",
       "      <th>3</th>\n",
       "      <td>['turunnya', 'permintaan', 'masyarakat', 'telu...</td>\n",
       "      <td>-1</td>\n",
       "      <td>Negatif</td>\n",
       "    </tr>\n",
       "    <tr>\n",
       "      <th>4</th>\n",
       "      <td>['peternak', 'ayam', 'petelur', 'mengaku', 'me...</td>\n",
       "      <td>1</td>\n",
       "      <td>Positif</td>\n",
       "    </tr>\n",
       "  </tbody>\n",
       "</table>\n",
       "</div>"
      ],
      "text/plain": [
       "                                               tweet  polaritas sentimen\n",
       "0  ['jbharga', 'ayam', 'rm', 'tgk', 'telor', 'wya...         -2  Negatif\n",
       "1  ['berdiri', 'di', 'atas', 'kaki', 'sendiri', '...         -2  Negatif\n",
       "2  ['penyebab', 'harga', 'telur', 'anjlok', 'vers...         -1  Negatif\n",
       "3  ['turunnya', 'permintaan', 'masyarakat', 'telu...         -1  Negatif\n",
       "4  ['peternak', 'ayam', 'petelur', 'mengaku', 'me...          1  Positif"
      ]
     },
     "execution_count": 2,
     "metadata": {},
     "output_type": "execute_result"
    }
   ],
   "source": [
    "datasenti = pd.read_csv(r\"data/tweets_labelled_tokenized.csv\")\n",
    "datasenti.head()"
   ]
  },
  {
   "cell_type": "markdown",
   "id": "86e30840-c89a-46f2-85b6-7ca0adb76d11",
   "metadata": {},
   "source": [
    "## Split Data (Test & Train)"
   ]
  },
  {
   "cell_type": "code",
   "execution_count": 3,
   "id": "3be360e1",
   "metadata": {},
   "outputs": [],
   "source": [
    "train_X, test_X, train_Y, test_Y = model_selection.train_test_split(datasenti['tweet'], datasenti['sentimen'], test_size = 0.1, random_state = 42)"
   ]
  },
  {
   "cell_type": "code",
   "execution_count": 4,
   "id": "93dab41b",
   "metadata": {},
   "outputs": [],
   "source": [
    "data_train = pd.DataFrame()\n",
    "data_train['tweet'] = train_X\n",
    "data_train['sentimen'] = train_Y\n",
    "\n",
    "data_test = pd.DataFrame()\n",
    "data_test['tweet'] = test_X\n",
    "data_test['sentimen'] = test_Y"
   ]
  },
  {
   "cell_type": "code",
   "execution_count": 5,
   "id": "1747e350",
   "metadata": {},
   "outputs": [],
   "source": [
    "# data_train.to_csv(r\"df_trainsvm.csv\")\n",
    "# data_test.to_csv(r\"df_testsvm.csv\")"
   ]
  },
  {
   "cell_type": "markdown",
   "id": "7fdac040-bc88-4a86-ae69-d83ddc8e4b3e",
   "metadata": {},
   "source": [
    "## TF-IDF"
   ]
  },
  {
   "cell_type": "code",
   "execution_count": 6,
   "id": "59cb2860",
   "metadata": {},
   "outputs": [],
   "source": [
    "from sklearn.feature_extraction.text import TfidfVectorizer\n",
    "\n",
    "datatfidf = TfidfVectorizer(max_features = 5000)\n",
    "datatfidf.fit(datasenti['tweet'].values.astype('U'))\n",
    "train_X_datatfidf = datatfidf.transform(data_train['tweet'].values.astype('U'))\n",
    "test_X_datatfidf = datatfidf.transform(data_test['tweet'].values.astype('U'))"
   ]
  },
  {
   "cell_type": "code",
   "execution_count": 7,
   "id": "cbf76db9",
   "metadata": {},
   "outputs": [
    {
     "data": {
      "text/plain": [
       "TfidfVectorizer(max_features=5000)"
      ]
     },
     "execution_count": 7,
     "metadata": {},
     "output_type": "execute_result"
    }
   ],
   "source": [
    "datatfidf"
   ]
  },
  {
   "cell_type": "code",
   "execution_count": 8,
   "id": "c3476f7d",
   "metadata": {},
   "outputs": [
    {
     "name": "stdout",
     "output_type": "stream",
     "text": [
      "  (0, 4718)\t0.29126863209984605\n",
      "  (0, 4381)\t0.45636265198016035\n",
      "  (0, 4326)\t0.0859194016118799\n",
      "  (0, 4011)\t0.18578980962931133\n",
      "  (0, 3962)\t0.21591755319090725\n",
      "  (0, 3665)\t0.2424576291609905\n",
      "  (0, 3503)\t0.18086883413424903\n",
      "  (0, 3087)\t0.24715922889379166\n",
      "  (0, 2752)\t0.29126863209984605\n",
      "  (0, 2706)\t0.29126863209984605\n",
      "  (0, 2182)\t0.25900631403759466\n",
      "  (0, 2014)\t0.21390502281916982\n",
      "  (0, 1711)\t0.2346008125681669\n",
      "  (0, 1378)\t0.035516669950536824\n",
      "  (0, 928)\t0.29126863209984605\n",
      "  (0, 105)\t0.2052743356036768\n",
      "  (1, 4446)\t0.512404997862957\n",
      "  (1, 4326)\t0.12468145337969237\n",
      "  (1, 2571)\t0.4235991483022605\n",
      "  (1, 1774)\t0.4736254460052394\n",
      "  (1, 1378)\t0.10307962917720065\n",
      "  (1, 183)\t0.514389306851672\n",
      "  (1, 97)\t0.20716317927536093\n",
      "  (2, 4940)\t0.25261543926566\n",
      "  (2, 4830)\t0.20055729751261106\n",
      "  :\t:\n",
      "  (284, 1895)\t0.42238658525958833\n",
      "  (284, 1488)\t0.39270535091596714\n",
      "  (284, 1378)\t0.17569043307565177\n",
      "  (285, 4326)\t0.06897084222568797\n",
      "  (285, 4171)\t0.37664637616423935\n",
      "  (285, 3562)\t0.38926032010364586\n",
      "  (285, 2202)\t0.26997338193044085\n",
      "  (285, 1903)\t0.23957620108549843\n",
      "  (285, 1895)\t0.6168946984961201\n",
      "  (285, 1434)\t0.29162331432029936\n",
      "  (285, 1378)\t0.057021222065904265\n",
      "  (285, 1348)\t0.3204994603843343\n",
      "  (286, 4326)\t0.19263315864390854\n",
      "  (286, 4147)\t0.6530305793880894\n",
      "  (286, 2942)\t0.18045466657892115\n",
      "  (286, 2814)\t0.43415992860858565\n",
      "  (286, 1378)\t0.07962914299602283\n",
      "  (286, 920)\t0.418543386264512\n",
      "  (286, 149)\t0.3658762518603243\n",
      "  (287, 4326)\t0.11650855838936637\n",
      "  (287, 1904)\t0.46838928106206196\n",
      "  (287, 1488)\t0.32295259950898986\n",
      "  (287, 1378)\t0.48161369109859126\n",
      "  (287, 572)\t0.6271463161453419\n",
      "  (287, 97)\t0.19358359013692233\n"
     ]
    }
   ],
   "source": [
    "print(test_X_datatfidf)"
   ]
  },
  {
   "cell_type": "code",
   "execution_count": 9,
   "id": "f8b8d434",
   "metadata": {},
   "outputs": [
    {
     "name": "stdout",
     "output_type": "stream",
     "text": [
      "  (0, 4326)\t0.1067641713310835\n",
      "  (0, 3166)\t0.7238657057075818\n",
      "  (0, 2881)\t0.5064271080595512\n",
      "  (0, 1662)\t0.44761639694272837\n",
      "  (0, 1378)\t0.08826662580444133\n",
      "  (1, 4326)\t0.14408331869877541\n",
      "  (1, 2697)\t0.5260558242935783\n",
      "  (1, 2612)\t0.5833896544250018\n",
      "  (1, 1471)\t0.5898916875735374\n",
      "  (1, 1378)\t0.1191200026908672\n",
      "  (2, 4737)\t0.2396400187809026\n",
      "  (2, 4670)\t0.2961828933827369\n",
      "  (2, 4313)\t0.10427747387850324\n",
      "  (2, 3500)\t0.3232697825404699\n",
      "  (2, 2921)\t0.2743141600980124\n",
      "  (2, 2773)\t0.2566514308954176\n",
      "  (2, 2627)\t0.2874628627597628\n",
      "  (2, 2567)\t0.1990774114910737\n",
      "  (2, 1378)\t0.03941882134268364\n",
      "  (2, 1329)\t0.19520512524113795\n",
      "  (2, 198)\t0.13569815381721667\n",
      "  (2, 89)\t0.6465395650809398\n",
      "  (3, 4313)\t0.1257085655992977\n",
      "  (3, 3859)\t0.2812346241685436\n",
      "  (3, 3227)\t0.21592705857612984\n",
      "  :\t:\n",
      "  (2589, 4706)\t0.44205257590739283\n",
      "  (2589, 4326)\t0.16836389265051235\n",
      "  (2589, 1378)\t0.13919381873416248\n",
      "  (2589, 1006)\t0.8237790331299503\n",
      "  (2589, 97)\t0.2797432844357317\n",
      "  (2590, 4326)\t0.04704525260988821\n",
      "  (2590, 3738)\t0.2231553051001885\n",
      "  (2590, 3450)\t0.2706645563175309\n",
      "  (2590, 3135)\t0.22006900180235486\n",
      "  (2590, 3080)\t0.2097252234547504\n",
      "  (2590, 2942)\t0.0881419941779785\n",
      "  (2590, 2728)\t0.3033348426779833\n",
      "  (2590, 2491)\t0.1274758755577757\n",
      "  (2590, 2216)\t0.236451735980682\n",
      "  (2590, 2193)\t0.3033348426779833\n",
      "  (2590, 2130)\t0.3033348426779833\n",
      "  (2590, 1993)\t0.2532368203185256\n",
      "  (2590, 1840)\t0.23878931270291276\n",
      "  (2590, 1708)\t0.24393804379159928\n",
      "  (2590, 1378)\t0.07778874984408643\n",
      "  (2590, 702)\t0.3033348426779833\n",
      "  (2590, 97)\t0.07816755288212184\n",
      "  (2590, 87)\t0.2836383224943196\n",
      "  (2590, 65)\t0.11242848745242119\n",
      "  (2590, 28)\t0.22006900180235486\n"
     ]
    }
   ],
   "source": [
    "print(train_X_datatfidf)"
   ]
  },
  {
   "cell_type": "code",
   "execution_count": 10,
   "id": "b57efe91",
   "metadata": {},
   "outputs": [
    {
     "name": "stdout",
     "output_type": "stream",
     "text": [
      "(288, 5000)\n",
      "(2591, 5000)\n"
     ]
    }
   ],
   "source": [
    "print(test_X_datatfidf.shape)\n",
    "print(train_X_datatfidf.shape)"
   ]
  },
  {
   "cell_type": "markdown",
   "id": "5d6bd8c7-d802-4d75-8f28-a02d0f4292d7",
   "metadata": {},
   "source": [
    "## Klasifikasi SVM (Kernel Linear)"
   ]
  },
  {
   "cell_type": "code",
   "execution_count": 11,
   "id": "8ec2fabf",
   "metadata": {},
   "outputs": [
    {
     "data": {
      "text/plain": [
       "SVC(kernel='linear')"
      ]
     },
     "execution_count": 11,
     "metadata": {},
     "output_type": "execute_result"
    }
   ],
   "source": [
    "from sklearn.svm import SVC\n",
    "\n",
    "model = SVC(kernel='linear')\n",
    "model.fit(train_X_datatfidf,train_Y)"
   ]
  },
  {
   "cell_type": "code",
   "execution_count": 12,
   "id": "d0ff4f24",
   "metadata": {},
   "outputs": [],
   "source": [
    "from sklearn.metrics import accuracy_score\n",
    "\n",
    "predictionsSVM = model.predict(test_X_datatfidf)\n",
    "test_prediction = pd.DataFrame()\n",
    "test_prediction['tweet'] = test_X\n",
    "test_prediction['sentimen'] = predictionsSVM\n",
    "SVMaccuracy = accuracy_score(predictionsSVM, test_Y)*100\n",
    "SVMaccuracy= round(SVMaccuracy,1)"
   ]
  },
  {
   "cell_type": "code",
   "execution_count": 13,
   "id": "e189b717",
   "metadata": {},
   "outputs": [
    {
     "data": {
      "text/html": [
       "<div>\n",
       "<style scoped>\n",
       "    .dataframe tbody tr th:only-of-type {\n",
       "        vertical-align: middle;\n",
       "    }\n",
       "\n",
       "    .dataframe tbody tr th {\n",
       "        vertical-align: top;\n",
       "    }\n",
       "\n",
       "    .dataframe thead th {\n",
       "        text-align: right;\n",
       "    }\n",
       "</style>\n",
       "<table border=\"1\" class=\"dataframe\">\n",
       "  <thead>\n",
       "    <tr style=\"text-align: right;\">\n",
       "      <th></th>\n",
       "      <th>tweet</th>\n",
       "      <th>sentimen</th>\n",
       "    </tr>\n",
       "  </thead>\n",
       "  <tbody>\n",
       "    <tr>\n",
       "      <th>471</th>\n",
       "      <td>['salah', 'solusi', 'memecahkan', 'turunya', '...</td>\n",
       "      <td>Positif</td>\n",
       "    </tr>\n",
       "    <tr>\n",
       "      <th>1453</th>\n",
       "      <td>['harga', 'telur', 'ayam', 'kota', 'cimahi', '...</td>\n",
       "      <td>Positif</td>\n",
       "    </tr>\n",
       "    <tr>\n",
       "      <th>2377</th>\n",
       "      <td>['coba', 'mikir', 'ala', 'peternak', 'ditangka...</td>\n",
       "      <td>Positif</td>\n",
       "    </tr>\n",
       "    <tr>\n",
       "      <th>1601</th>\n",
       "      <td>['harga', 'telur', 'prediksi', 'rp', 'kg', 'ja...</td>\n",
       "      <td>Positif</td>\n",
       "    </tr>\n",
       "    <tr>\n",
       "      <th>1094</th>\n",
       "      <td>['harga', 'telur', 'menguntungkan', 'produsen'...</td>\n",
       "      <td>Positif</td>\n",
       "    </tr>\n",
       "    <tr>\n",
       "      <th>...</th>\n",
       "      <td>...</td>\n",
       "      <td>...</td>\n",
       "    </tr>\n",
       "    <tr>\n",
       "      <th>1097</th>\n",
       "      <td>['perbaiki', 'harga', 'telur', 'peternak', 'di...</td>\n",
       "      <td>Positif</td>\n",
       "    </tr>\n",
       "    <tr>\n",
       "      <th>1425</th>\n",
       "      <td>['harga', 'jagung', 'murah', 'petani', 'sengsa...</td>\n",
       "      <td>Positif</td>\n",
       "    </tr>\n",
       "    <tr>\n",
       "      <th>1764</th>\n",
       "      <td>['habis', 'harga', 'ikan', 'mahal', 'sardin', ...</td>\n",
       "      <td>Positif</td>\n",
       "    </tr>\n",
       "    <tr>\n",
       "      <th>1127</th>\n",
       "      <td>['perbaiki', 'harga', 'telur', 'supays', 'telu...</td>\n",
       "      <td>Positif</td>\n",
       "    </tr>\n",
       "    <tr>\n",
       "      <th>2504</th>\n",
       "      <td>['harga', 'dedak', 'harga', 'jagung', 'harga',...</td>\n",
       "      <td>Positif</td>\n",
       "    </tr>\n",
       "  </tbody>\n",
       "</table>\n",
       "<p>288 rows × 2 columns</p>\n",
       "</div>"
      ],
      "text/plain": [
       "                                                  tweet sentimen\n",
       "471   ['salah', 'solusi', 'memecahkan', 'turunya', '...  Positif\n",
       "1453  ['harga', 'telur', 'ayam', 'kota', 'cimahi', '...  Positif\n",
       "2377  ['coba', 'mikir', 'ala', 'peternak', 'ditangka...  Positif\n",
       "1601  ['harga', 'telur', 'prediksi', 'rp', 'kg', 'ja...  Positif\n",
       "1094  ['harga', 'telur', 'menguntungkan', 'produsen'...  Positif\n",
       "...                                                 ...      ...\n",
       "1097  ['perbaiki', 'harga', 'telur', 'peternak', 'di...  Positif\n",
       "1425  ['harga', 'jagung', 'murah', 'petani', 'sengsa...  Positif\n",
       "1764  ['habis', 'harga', 'ikan', 'mahal', 'sardin', ...  Positif\n",
       "1127  ['perbaiki', 'harga', 'telur', 'supays', 'telu...  Positif\n",
       "2504  ['harga', 'dedak', 'harga', 'jagung', 'harga',...  Positif\n",
       "\n",
       "[288 rows x 2 columns]"
      ]
     },
     "execution_count": 13,
     "metadata": {},
     "output_type": "execute_result"
    }
   ],
   "source": [
    "test_prediction"
   ]
  },
  {
   "cell_type": "markdown",
   "id": "d86f0f0c-4803-4e67-a43e-a66b8149bf3e",
   "metadata": {},
   "source": [
    "## Mengecek Akurasi"
   ]
  },
  {
   "cell_type": "code",
   "execution_count": 14,
   "id": "fe7ad477",
   "metadata": {},
   "outputs": [
    {
     "name": "stdout",
     "output_type": "stream",
     "text": [
      "Akurasi SVM :  88.2 %\n"
     ]
    }
   ],
   "source": [
    "print(\"Akurasi SVM : \",SVMaccuracy, \"%\")"
   ]
  },
  {
   "cell_type": "code",
   "execution_count": 15,
   "id": "2348146b",
   "metadata": {},
   "outputs": [
    {
     "name": "stdout",
     "output_type": "stream",
     "text": [
      "Support Vector Machine Acuracy: 88.19444444444444 %\n",
      "Support Vector Machine Precision: 89.30041152263375 %\n",
      "Support Vector Machine Recall: 96.44444444444444 %\n",
      "Support Vector Machine f1_score: 92.73504273504274 %\n",
      "====================================================\n",
      "\n",
      "              precision    recall  f1-score   support\n",
      "\n",
      "     Negatif       0.82      0.59      0.69        63\n",
      "     Positif       0.89      0.96      0.93       225\n",
      "\n",
      "    accuracy                           0.88       288\n",
      "   macro avg       0.86      0.78      0.81       288\n",
      "weighted avg       0.88      0.88      0.87       288\n",
      "\n"
     ]
    }
   ],
   "source": [
    "from sklearn.metrics import classification_report\n",
    "from sklearn.metrics import accuracy_score, precision_score, recall_score, f1_score\n",
    "\n",
    "print(\"Support Vector Machine Acuracy:\", accuracy_score(test_Y, predictionsSVM)*100, \"%\")\n",
    "print(\"Support Vector Machine Precision:\", precision_score(test_Y, predictionsSVM, average=\"binary\", pos_label=\"Positif\")*100, \"%\")\n",
    "print(\"Support Vector Machine Recall:\", recall_score(test_Y, predictionsSVM, average=\"binary\", pos_label=\"Positif\")*100, \"%\")\n",
    "print(\"Support Vector Machine f1_score:\", f1_score(test_Y, predictionsSVM, average=\"binary\", pos_label=\"Positif\")*100, \"%\")\n",
    "print('====================================================\\n')\n",
    "print (classification_report(test_Y, predictionsSVM))"
   ]
  },
  {
   "cell_type": "code",
   "execution_count": 16,
   "id": "ab98926c",
   "metadata": {},
   "outputs": [
    {
     "name": "stdout",
     "output_type": "stream",
     "text": [
      "Support Vector Machine Acuracy: 88.2 %\n"
     ]
    },
    {
     "data": {
      "image/png": "[encoded data removed]",
      "text/plain": [
       "<Figure size 432x288 with 2 Axes>"
      ]
     },
     "metadata": {
      "needs_background": "light"
     },
     "output_type": "display_data"
    }
   ],
   "source": [
    "from sklearn.metrics import confusion_matrix\n",
    "import seaborn as sns\n",
    "\n",
    "print(\"Support Vector Machine Acuracy:\", SVMaccuracy, \"%\")\n",
    "\n",
    "conf_mat = confusion_matrix(test_Y, predictionsSVM)\n",
    "class_label = [\"Negative\",\"Positive\"]\n",
    "test =pd.DataFrame(conf_mat, index = class_label, columns = class_label)\n",
    "sns.heatmap(test, annot = True, fmt = \"d\")\n",
    "plt.title(\"Confusion Matrix for test data Support Vector Machine\")\n",
    "plt.xlabel(\"Predicted Label\")\n",
    "plt.ylabel(\"True Label\")\n",
    "plt.show()"
   ]
  }
 ],
 "metadata": {
  "kernelspec": {
   "display_name": "Python 3 (ipykernel)",
   "language": "python",
   "name": "python3"
  },
  "language_info": {
   "codemirror_mode": {
    "name": "ipython",
    "version": 3
   },
   "file_extension": ".py",
   "mimetype": "text/x-python",
   "name": "python",
   "nbconvert_exporter": "python",
   "pygments_lexer": "ipython3",
   "version": "3.9.7"
  }
 },
 "nbformat": 4,
 "nbformat_minor": 5
}
