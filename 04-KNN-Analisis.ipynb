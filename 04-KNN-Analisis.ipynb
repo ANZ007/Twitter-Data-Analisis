{
 "cells": [
  {
   "cell_type": "markdown",
   "id": "67b91803-726b-4b29-b265-686e7168cf0c",
   "metadata": {},
   "source": [
    "# Klasifikasi K-Nearest Neighbour (KNN)\n",
    "### Dengan K = 4\n",
    "Sumber : https://github.com/kk7nc/Text_Classification#id34 (Dengan Perubahan)"
   ]
  },
  {
   "cell_type": "markdown",
   "id": "fff40547-59d5-454f-a572-403c3214a8b0",
   "metadata": {},
   "source": [
    "## Import module / package"
   ]
  },
  {
   "cell_type": "code",
   "execution_count": 1,
   "id": "2a236f7b-8a09-4ee0-8033-7076ec33414e",
   "metadata": {},
   "outputs": [],
   "source": [
    "import pandas as pd\n",
    "from sklearn import model_selection\n",
    "from sklearn.pipeline import Pipeline\n",
    "from sklearn.neighbors import KNeighborsClassifier\n",
    "from sklearn.metrics import accuracy_score, precision_score, recall_score, f1_score, classification_report\n",
    "from sklearn.feature_extraction.text import CountVectorizer\n",
    "from sklearn.feature_extraction.text import TfidfVectorizer\n",
    "from sklearn.metrics import confusion_matrix\n",
    "import seaborn as sns\n",
    "import matplotlib.pyplot as plt"
   ]
  },
  {
   "cell_type": "code",
   "execution_count": 2,
   "id": "40fe9b70-fad0-4d61-ad84-88639c2ee44e",
   "metadata": {},
   "outputs": [
    {
     "data": {
      "text/html": [
       "<div>\n",
       "<style scoped>\n",
       "    .dataframe tbody tr th:only-of-type {\n",
       "        vertical-align: middle;\n",
       "    }\n",
       "\n",
       "    .dataframe tbody tr th {\n",
       "        vertical-align: top;\n",
       "    }\n",
       "\n",
       "    .dataframe thead th {\n",
       "        text-align: right;\n",
       "    }\n",
       "</style>\n",
       "<table border=\"1\" class=\"dataframe\">\n",
       "  <thead>\n",
       "    <tr style=\"text-align: right;\">\n",
       "      <th></th>\n",
       "      <th>tweet</th>\n",
       "      <th>sentimen</th>\n",
       "    </tr>\n",
       "  </thead>\n",
       "  <tbody>\n",
       "    <tr>\n",
       "      <th>0</th>\n",
       "      <td>['menangani', 'kekerasan', 'seksual', 'disahka...</td>\n",
       "      <td>Positif</td>\n",
       "    </tr>\n",
       "    <tr>\n",
       "      <th>1</th>\n",
       "      <td>['menangani', 'kekerasan', 'seksual', 'disahka...</td>\n",
       "      <td>Positif</td>\n",
       "    </tr>\n",
       "    <tr>\n",
       "      <th>2</th>\n",
       "      <td>['wakil', 'mpr', 'ri', 'mahasiswa', 'kawal', '...</td>\n",
       "      <td>Negatif</td>\n",
       "    </tr>\n",
       "    <tr>\n",
       "      <th>3</th>\n",
       "      <td>['fadel', 'muhammad', 'mahasiswa', 'kawal', 'i...</td>\n",
       "      <td>Negatif</td>\n",
       "    </tr>\n",
       "    <tr>\n",
       "      <th>4</th>\n",
       "      <td>['tanggal', 'chatnya', 'april', 'dijerat']</td>\n",
       "      <td>Negatif</td>\n",
       "    </tr>\n",
       "  </tbody>\n",
       "</table>\n",
       "</div>"
      ],
      "text/plain": [
       "                                               tweet sentimen\n",
       "0  ['menangani', 'kekerasan', 'seksual', 'disahka...  Positif\n",
       "1  ['menangani', 'kekerasan', 'seksual', 'disahka...  Positif\n",
       "2  ['wakil', 'mpr', 'ri', 'mahasiswa', 'kawal', '...  Negatif\n",
       "3  ['fadel', 'muhammad', 'mahasiswa', 'kawal', 'i...  Negatif\n",
       "4         ['tanggal', 'chatnya', 'april', 'dijerat']  Negatif"
      ]
     },
     "execution_count": 2,
     "metadata": {},
     "output_type": "execute_result"
    }
   ],
   "source": [
    "df = pd.read_csv(\"data/tweets_labelled_tokenized_nltk.csv\")\n",
    "# df = pd.read_csv(r\"data/tweets_labelled_tokenized_sastrawi.csv\")\n",
    "# df2 = pd.read_csv(r\"data/tweets_labelled_tokenized_ecs.csv\")\n",
    "df.head()"
   ]
  },
  {
   "cell_type": "code",
   "execution_count": 3,
   "id": "b2369593-d90b-4d61-8ee5-26d223f4bc0c",
   "metadata": {},
   "outputs": [],
   "source": [
    "# df2.head()"
   ]
  },
  {
   "cell_type": "code",
   "execution_count": 4,
   "id": "278309d3-a3de-4d0b-92f3-7014670356a7",
   "metadata": {},
   "outputs": [
    {
     "data": {
      "text/html": [
       "<div>\n",
       "<style scoped>\n",
       "    .dataframe tbody tr th:only-of-type {\n",
       "        vertical-align: middle;\n",
       "    }\n",
       "\n",
       "    .dataframe tbody tr th {\n",
       "        vertical-align: top;\n",
       "    }\n",
       "\n",
       "    .dataframe thead th {\n",
       "        text-align: right;\n",
       "    }\n",
       "</style>\n",
       "<table border=\"1\" class=\"dataframe\">\n",
       "  <thead>\n",
       "    <tr style=\"text-align: right;\">\n",
       "      <th></th>\n",
       "      <th>tweet</th>\n",
       "      <th>sentimen</th>\n",
       "    </tr>\n",
       "  </thead>\n",
       "  <tbody>\n",
       "    <tr>\n",
       "      <th>0</th>\n",
       "      <td>['menangani', 'kekerasan', 'seksual', 'disahka...</td>\n",
       "      <td>Positif</td>\n",
       "    </tr>\n",
       "    <tr>\n",
       "      <th>1</th>\n",
       "      <td>['menangani', 'kekerasan', 'seksual', 'disahka...</td>\n",
       "      <td>Positif</td>\n",
       "    </tr>\n",
       "    <tr>\n",
       "      <th>2</th>\n",
       "      <td>['wakil', 'mpr', 'ri', 'mahasiswa', 'kawal', '...</td>\n",
       "      <td>Negatif</td>\n",
       "    </tr>\n",
       "    <tr>\n",
       "      <th>3</th>\n",
       "      <td>['fadel', 'muhammad', 'mahasiswa', 'kawal', 'i...</td>\n",
       "      <td>Negatif</td>\n",
       "    </tr>\n",
       "    <tr>\n",
       "      <th>4</th>\n",
       "      <td>['tanggal', 'chatnya', 'april', 'dijerat']</td>\n",
       "      <td>Negatif</td>\n",
       "    </tr>\n",
       "    <tr>\n",
       "      <th>...</th>\n",
       "      <td>...</td>\n",
       "      <td>...</td>\n",
       "    </tr>\n",
       "    <tr>\n",
       "      <th>15627</th>\n",
       "      <td>['koordinator', 'forum', 'perempuan', 'indones...</td>\n",
       "      <td>Positif</td>\n",
       "    </tr>\n",
       "    <tr>\n",
       "      <th>15628</th>\n",
       "      <td>['dinilai', 'penuhi', 'harapan', 'kaum', 'pere...</td>\n",
       "      <td>Positif</td>\n",
       "    </tr>\n",
       "    <tr>\n",
       "      <th>15629</th>\n",
       "      <td>['keberadaan', 'payung', 'hukum', 'merehabilit...</td>\n",
       "      <td>Positif</td>\n",
       "    </tr>\n",
       "    <tr>\n",
       "      <th>15630</th>\n",
       "      <td>['menyebut', 'kehadiran', 'wujud', 'keberpihak...</td>\n",
       "      <td>Positif</td>\n",
       "    </tr>\n",
       "    <tr>\n",
       "      <th>15631</th>\n",
       "      <td>['ri', 'rancangan', 'undang', 'undang', 'tinda...</td>\n",
       "      <td>Positif</td>\n",
       "    </tr>\n",
       "  </tbody>\n",
       "</table>\n",
       "<p>15632 rows × 2 columns</p>\n",
       "</div>"
      ],
      "text/plain": [
       "                                                   tweet sentimen\n",
       "0      ['menangani', 'kekerasan', 'seksual', 'disahka...  Positif\n",
       "1      ['menangani', 'kekerasan', 'seksual', 'disahka...  Positif\n",
       "2      ['wakil', 'mpr', 'ri', 'mahasiswa', 'kawal', '...  Negatif\n",
       "3      ['fadel', 'muhammad', 'mahasiswa', 'kawal', 'i...  Negatif\n",
       "4             ['tanggal', 'chatnya', 'april', 'dijerat']  Negatif\n",
       "...                                                  ...      ...\n",
       "15627  ['koordinator', 'forum', 'perempuan', 'indones...  Positif\n",
       "15628  ['dinilai', 'penuhi', 'harapan', 'kaum', 'pere...  Positif\n",
       "15629  ['keberadaan', 'payung', 'hukum', 'merehabilit...  Positif\n",
       "15630  ['menyebut', 'kehadiran', 'wujud', 'keberpihak...  Positif\n",
       "15631  ['ri', 'rancangan', 'undang', 'undang', 'tinda...  Positif\n",
       "\n",
       "[15632 rows x 2 columns]"
      ]
     },
     "execution_count": 4,
     "metadata": {},
     "output_type": "execute_result"
    }
   ],
   "source": [
    "def merge_neutral(text):\n",
    "    if text == \"Netral\":\n",
    "        return \"Positif\"\n",
    "    if text == \"Positif\":\n",
    "        return \"Positif\"\n",
    "    else:\n",
    "        return \"Negatif\"\n",
    "\n",
    "df['sentimen'] = df['sentimen'].apply(merge_neutral)\n",
    "df"
   ]
  },
  {
   "cell_type": "markdown",
   "id": "708ac052-dccd-4f91-9d23-6b3a22068d90",
   "metadata": {},
   "source": [
    "## Split Data (Test & Train)"
   ]
  },
  {
   "cell_type": "code",
   "execution_count": 5,
   "id": "08838526-e654-488a-ae9f-2ab901791da6",
   "metadata": {},
   "outputs": [],
   "source": [
    "train_X_df, test_X_df, train_Y_df, test_Y_df = model_selection.train_test_split(df['tweet'], df['sentimen'], test_size = 0.1, random_state = 42)\n",
    "# train_X_df2, test_X_df2, train_Y_df2, test_Y_df2 = model_selection.train_test_split(df2['tweet'], df2['sentimen'], test_size = 0.1, random_state = 42)"
   ]
  },
  {
   "cell_type": "code",
   "execution_count": 6,
   "id": "dc3c607f-37fb-4502-9904-a9376496f21a",
   "metadata": {},
   "outputs": [],
   "source": [
    "data_train = pd.DataFrame()\n",
    "data_train['tweet'] = train_X_df\n",
    "data_train['sentimen'] = train_Y_df\n",
    "\n",
    "data_test = pd.DataFrame()\n",
    "data_test['tweet'] = test_X_df\n",
    "data_test['sentimen'] = test_Y_df\n",
    "\n",
    "# data_train_2 = pd.DataFrame()\n",
    "# data_train_2['tweet'] = train_X_df2\n",
    "# data_train['sentimen'] = train_Y_df2\n",
    "\n",
    "# data_test_2 = pd.DataFrame()\n",
    "# data_test_2['tweet'] = test_X_df2\n",
    "# data_test_2['sentimen'] = test_Y_df2"
   ]
  },
  {
   "cell_type": "markdown",
   "id": "9ff667b6-614d-49b4-bc2f-3cd403337311",
   "metadata": {},
   "source": [
    "## Klasifikasi Data dengan KNN (K = 4) dan Menampilkan Akurasi"
   ]
  },
  {
   "cell_type": "markdown",
   "id": "fbd83d15-5f7f-4ead-87cf-0ffbdfa27d84",
   "metadata": {},
   "source": [
    "### Dataset DF (_Stemming Nazief_)"
   ]
  },
  {
   "cell_type": "code",
   "execution_count": 7,
   "id": "472acb45-8530-4b97-b26c-1f5f17b6bdf0",
   "metadata": {
    "tags": []
   },
   "outputs": [
    {
     "name": "stdout",
     "output_type": "stream",
     "text": [
      "Akurasi K-Fold Cross Validation (10 Fold): 87.01307019060359 %\n",
      "\n",
      "\n",
      "\n",
      "K-Nearest Neighbors Accuracy: 88.81074168797954 %\n",
      "K-Nearest Neighbors Precision: 89.31899641577061 %\n",
      "K-Nearest Neighbors Recall: 97.95597484276729 %\n",
      "K-Nearest Neighbors f1_score: 93.43832020997377 %\n",
      "Confusion Matrix:\n",
      " [[ 143  149]\n",
      " [  26 1246]]\n",
      "====================================================\n",
      "\n",
      "              precision    recall  f1-score   support\n",
      "\n",
      "     Negatif       0.85      0.49      0.62       292\n",
      "     Positif       0.89      0.98      0.93      1272\n",
      "\n",
      "    accuracy                           0.89      1564\n",
      "   macro avg       0.87      0.73      0.78      1564\n",
      "weighted avg       0.88      0.89      0.88      1564\n",
      "\n"
     ]
    }
   ],
   "source": [
    "text_clf = Pipeline([('vect', TfidfVectorizer()),\n",
    "                     ('clf', KNeighborsClassifier(n_neighbors=4)),\n",
    "                     ])\n",
    "\n",
    "text_clf.fit(train_X_df, train_Y_df)\n",
    "predicted = text_clf.predict(test_X_df)\n",
    "\n",
    "train_Y_df_cross = train_Y_df.replace(\"Positif\",1).replace(\"Negatif\",0)\n",
    "\n",
    "from sklearn.model_selection import cross_val_score\n",
    "print(\"Akurasi K-Fold Cross Validation (10 Fold): \"+str(cross_val_score(text_clf, train_X_df, train_Y_df_cross, cv=10, n_jobs=6, scoring=\"accuracy\").mean()*100)+\" %\")\n",
    "\n",
    "print(\"\\n\\n\")\n",
    "\n",
    "print(\"K-Nearest Neighbors Accuracy:\", accuracy_score(test_Y_df, predicted)*100, \"%\")\n",
    "print(\"K-Nearest Neighbors Precision:\", precision_score(test_Y_df, predicted, average=\"binary\",\n",
    "                                                        pos_label=\"Positif\")*100, \"%\")\n",
    "print(\"K-Nearest Neighbors Recall:\", recall_score(test_Y_df, predicted, average=\"binary\",\n",
    "                                                  pos_label=\"Positif\")*100, \"%\")\n",
    "print(\"K-Nearest Neighbors f1_score:\", f1_score(test_Y_df, predicted, average=\"binary\",\n",
    "                                                pos_label=\"Positif\")*100, \"%\")\n",
    "\n",
    "print(f'Confusion Matrix:\\n {confusion_matrix(test_Y_df, predicted)}')\n",
    "print('====================================================\\n')\n",
    "print(classification_report(test_Y_df, predicted, zero_division=0))"
   ]
  },
  {
   "cell_type": "code",
   "execution_count": 8,
   "id": "fcf09170-8420-4418-9535-d4a3969e7a41",
   "metadata": {},
   "outputs": [
    {
     "name": "stdout",
     "output_type": "stream",
     "text": [
      "K-Nearest Neighbors Accuracy: 88.81074168797954 %\n"
     ]
    },
    {
     "data": {
      "image/png": "[encoded data removed]",
      "text/plain": [
       "<Figure size 432x288 with 2 Axes>"
      ]
     },
     "metadata": {
      "needs_background": "light"
     },
     "output_type": "display_data"
    }
   ],
   "source": [
    "print(\"K-Nearest Neighbors Accuracy:\", accuracy_score(test_Y_df, predicted)*100, \"%\")\n",
    "\n",
    "conf_mat = confusion_matrix(test_Y_df, predicted)\n",
    "class_label = [\"Negatif\",\"Positif\"]\n",
    "test =pd.DataFrame(conf_mat, index = class_label, columns = class_label)\n",
    "sns.heatmap(test, annot = True, fmt = \"d\")\n",
    "plt.title(\"Confusion Matrix for test data\")\n",
    "plt.xlabel(\"Predicted Label\")\n",
    "plt.ylabel(\"True Label\")\n",
    "plt.show()"
   ]
  },
  {
   "cell_type": "markdown",
   "id": "f13ba3f0-b88a-4d67-8c0f-19e3c0e3ef5b",
   "metadata": {},
   "source": [
    "### Dataset DF2 (_Stemming ECS_)"
   ]
  },
  {
   "cell_type": "code",
   "execution_count": 9,
   "id": "2e967a11-13c2-422a-9bd5-206581746220",
   "metadata": {
    "tags": []
   },
   "outputs": [],
   "source": [
    "# text_clf = Pipeline([('vect', CountVectorizer()),\n",
    "#                      ('tfidf', TfidfTransformer()),\n",
    "#                      ('clf', KNeighborsClassifier(n_neighbors=10)),\n",
    "#                      ])\n",
    "\n",
    "# text_clf.fit(train_X_df2, train_Y_df2)\n",
    "# predicted = text_clf.predict(test_X_df2)\n",
    "\n",
    "# print(\"K-Nearest Neighbors Accuracy:\", accuracy_score(test_Y_df2, predicted)*100, \"%\")\n",
    "# print(\"K-Nearest Neighbors Precision:\", precision_score(test_Y_df2, predicted, average=\"binary\", pos_label=\"Positif\")*100, \"%\")\n",
    "# print(\"K-Nearest Neighbors Recall:\", recall_score(test_Y_df2, predicted, average=\"binary\", pos_label=\"Positif\")*100, \"%\")\n",
    "# print(\"K-Nearest Neighbors f1_score:\", f1_score(test_Y_df2, predicted, average=\"binary\", pos_label=\"Positif\")*100, \"%\")\n",
    "\n",
    "# print(f'Confusion Matrix:\\n {confusion_matrix(test_Y_df2, predicted)}')\n",
    "# print('====================================================\\n')\n",
    "# print(classification_report(test_Y_df2, predicted, zero_division=0))"
   ]
  },
  {
   "cell_type": "code",
   "execution_count": 10,
   "id": "fd8956f8-8293-4194-8f4c-77dadcf7ff46",
   "metadata": {},
   "outputs": [],
   "source": [
    "# print(\"K-Nearest Neighbors Accuracy:\", accuracy_score(test_Y_df2, predicted)*100, \"%\")\n",
    "\n",
    "# conf_mat = confusion_matrix(test_Y_df2, predicted)\n",
    "# class_label = [\"Negatif\",\"Positif\"]\n",
    "# test =pd.DataFrame(conf_mat, index = class_label, columns = class_label)\n",
    "# sns.heatmap(test, annot = True, fmt = \"d\")\n",
    "# plt.title(\"Confusion Matrix for test data\")\n",
    "# plt.xlabel(\"Predicted Label\")\n",
    "# plt.ylabel(\"True Label\")\n",
    "# plt.show()"
   ]
  },
  {
   "cell_type": "code",
   "execution_count": 11,
   "id": "1a303b51-1610-4e9c-bcde-2326e3cb5f28",
   "metadata": {},
   "outputs": [
    {
     "name": "stdout",
     "output_type": "stream",
     "text": [
      "Akurasi SVM Kernel Linear Menggunakan K-Fold Cross Validation : 87.2336639660786 %\n"
     ]
    }
   ],
   "source": [
    "train_Y_df_bin = train_Y_df.replace(\"Negatif\", 0).replace(\"Positif\", 1)\n",
    "\n",
    "from sklearn.model_selection import cross_val_score\n",
    "scores = cross_val_score(text_clf, train_X_df, train_Y_df_bin, cv = 50, scoring='accuracy', n_jobs=12)\n",
    "scores\n",
    "print(\"Akurasi SVM Kernel Linear Menggunakan K-Fold Cross Validation : \"+str(scores.mean()*100)+\" %\")"
   ]
  }
 ],
 "metadata": {
  "kernelspec": {
   "display_name": "Python 3 (ipykernel)",
   "language": "python",
   "name": "python3"
  },
  "language_info": {
   "codemirror_mode": {
    "name": "ipython",
    "version": 3
   },
   "file_extension": ".py",
   "mimetype": "text/x-python",
   "name": "python",
   "nbconvert_exporter": "python",
   "pygments_lexer": "ipython3",
   "version": "3.9.7"
  }
 },
 "nbformat": 4,
 "nbformat_minor": 5
}
