{
 "cells": [
  {
   "cell_type": "code",
   "execution_count": 1,
   "metadata": {
    "colab": {
     "base_uri": "https://localhost:8080/"
    },
    "id": "oC3Dls0Gi6ea",
    "outputId": "8d8038ac-0579-4cbb-c5de-d3ab62bbbe3b"
   },
   "outputs": [
    {
     "name": "stderr",
     "output_type": "stream",
     "text": [
      "[nltk_data] Downloading package wordnet to /home/anz007/nltk_data...\n",
      "[nltk_data]   Package wordnet is already up-to-date!\n",
      "[nltk_data] Downloading package stopwords to /home/anz007/nltk_data...\n",
      "[nltk_data]   Package stopwords is already up-to-date!\n",
      "[nltk_data] Downloading package punkt to /home/anz007/nltk_data...\n",
      "[nltk_data]   Package punkt is already up-to-date!\n"
     ]
    },
    {
     "name": "stdout",
     "output_type": "stream",
     "text": [
      "Requirement already satisfied: demoji in /media/DATA/Apps-Files/Linux/Miniconda3/envs/data-mining/lib/python3.9/site-packages (1.1.0)\n"
     ]
    }
   ],
   "source": [
    "import numpy as np\n",
    "import pandas as pd\n",
    "import json\n",
    "import nltk\n",
    "from nltk.tokenize import word_tokenize\n",
    "from nltk.corpus import stopwords\n",
    "from nltk.stem import WordNetLemmatizer\n",
    "from sklearn.model_selection import train_test_split\n",
    "import keras\n",
    "from keras.layers import Input, Bidirectional, LSTM, Embedding, Dense, Dropout, Conv1D, MaxPooling1D, Flatten, TextVectorization\n",
    "from keras.models import Model, Sequential\n",
    "from tensorflow.keras.utils import to_categorical\n",
    "from sklearn.metrics import classification_report\n",
    "from sklearn.metrics import confusion_matrix\n",
    "import seaborn as sn\n",
    "import matplotlib.pyplot as plt\n",
    "\n",
    "nltk.download('wordnet')\n",
    "nltk.download('stopwords')\n",
    "nltk.download('punkt')\n",
    "!pip install demoji\n",
    "import demoji"
   ]
  },
  {
   "cell_type": "markdown",
   "metadata": {},
   "source": [
    "## Preprocessing"
   ]
  },
  {
   "cell_type": "markdown",
   "metadata": {
    "id": "8YG7iZTkkYLa"
   },
   "source": [
    "#### Load Data"
   ]
  },
  {
   "cell_type": "code",
   "execution_count": 2,
   "metadata": {
    "colab": {
     "base_uri": "https://localhost:8080/",
     "height": 415
    },
    "id": "g1SWam74kW9k",
    "outputId": "dce1e159-b576-4422-fed7-8cd0b146bfab"
   },
   "outputs": [
    {
     "data": {
      "text/html": [
       "<div>\n",
       "<style scoped>\n",
       "    .dataframe tbody tr th:only-of-type {\n",
       "        vertical-align: middle;\n",
       "    }\n",
       "\n",
       "    .dataframe tbody tr th {\n",
       "        vertical-align: top;\n",
       "    }\n",
       "\n",
       "    .dataframe thead th {\n",
       "        text-align: right;\n",
       "    }\n",
       "</style>\n",
       "<table border=\"1\" class=\"dataframe\">\n",
       "  <thead>\n",
       "    <tr style=\"text-align: right;\">\n",
       "      <th></th>\n",
       "      <th>tweet</th>\n",
       "      <th>polaritas</th>\n",
       "      <th>sentimen</th>\n",
       "    </tr>\n",
       "  </thead>\n",
       "  <tbody>\n",
       "    <tr>\n",
       "      <th>0</th>\n",
       "      <td>jbharga  ayam  rm  tgk  telor  wyam  sepapan  rm  depend  gred</td>\n",
       "      <td>-2</td>\n",
       "      <td>Negatif</td>\n",
       "    </tr>\n",
       "    <tr>\n",
       "      <th>1</th>\n",
       "      <td>berdiri di atas kaki sendiri  serap  telur  peternak  stabilkan  harga</td>\n",
       "      <td>-2</td>\n",
       "      <td>Negatif</td>\n",
       "    </tr>\n",
       "    <tr>\n",
       "      <th>2</th>\n",
       "      <td>penyebab  harga  telur  anjlok  versi  pedagang  kaget</td>\n",
       "      <td>-1</td>\n",
       "      <td>Negatif</td>\n",
       "    </tr>\n",
       "    <tr>\n",
       "      <th>3</th>\n",
       "      <td>turunnya  permintaan  masyarakat  telur  ayam  ppkm  level  jawa  bali  harga  telur  ayam  daerah  jawa  bali  anjlok  rupiah  kilogramnyapara  peternak  ayam  petelur  mengeluhkan  gulung  tikar</td>\n",
       "      <td>-1</td>\n",
       "      <td>Negatif</td>\n",
       "    </tr>\n",
       "    <tr>\n",
       "      <th>4</th>\n",
       "      <td>peternak  ayam  petelur  mengaku  merugi  ratusan  juta  rupiah  bulannya  harga  pakan  ayam  petelur  pasarananjloknya  harga  jual  telur  ayam  situasi  ppkm  menyebabkan  turunnya  permintaan</td>\n",
       "      <td>1</td>\n",
       "      <td>Positif</td>\n",
       "    </tr>\n",
       "    <tr>\n",
       "      <th>5</th>\n",
       "      <td>harga  jual  telur  ayam  solo  raya  anjlok  iniharga  eceran  telur  ayam  negeri  pasar  tradisional  warung  berandol  rp  kilogramnyatentu  rumah  tangga  pengusaha  kuliner  berbahan  dasar  telur  ayam  kegirangan</td>\n",
       "      <td>-5</td>\n",
       "      <td>Negatif</td>\n",
       "    </tr>\n",
       "    <tr>\n",
       "      <th>6</th>\n",
       "      <td>harga  telur  anjlok  rp  kg  pemerintah  bantu  peternak  ayam</td>\n",
       "      <td>-2</td>\n",
       "      <td>Negatif</td>\n",
       "    </tr>\n",
       "    <tr>\n",
       "      <th>7</th>\n",
       "      <td>ikutan  main  telur  bareng  voucher  potongan  harga  belanja  hhe</td>\n",
       "      <td>15</td>\n",
       "      <td>Positif</td>\n",
       "    </tr>\n",
       "    <tr>\n",
       "      <th>8</th>\n",
       "      <td>telor  geprek  abah  uya  selera  bohong  harga  murmer</td>\n",
       "      <td>4</td>\n",
       "      <td>Positif</td>\n",
       "    </tr>\n",
       "    <tr>\n",
       "      <th>9</th>\n",
       "      <td>beli  order  telur  set  telur  mcd  scam  bayar  harga  set  telur  set  pulak  mengandung  kecewa</td>\n",
       "      <td>1</td>\n",
       "      <td>Positif</td>\n",
       "    </tr>\n",
       "  </tbody>\n",
       "</table>\n",
       "</div>"
      ],
      "text/plain": [
       "                                                                                                                                                                                                                          tweet  \\\n",
       "0                                                                                                                                                                jbharga  ayam  rm  tgk  telor  wyam  sepapan  rm  depend  gred   \n",
       "1                                                                                                                                                        berdiri di atas kaki sendiri  serap  telur  peternak  stabilkan  harga   \n",
       "2                                                                                                                                                                        penyebab  harga  telur  anjlok  versi  pedagang  kaget   \n",
       "3                          turunnya  permintaan  masyarakat  telur  ayam  ppkm  level  jawa  bali  harga  telur  ayam  daerah  jawa  bali  anjlok  rupiah  kilogramnyapara  peternak  ayam  petelur  mengeluhkan  gulung  tikar   \n",
       "4                          peternak  ayam  petelur  mengaku  merugi  ratusan  juta  rupiah  bulannya  harga  pakan  ayam  petelur  pasarananjloknya  harga  jual  telur  ayam  situasi  ppkm  menyebabkan  turunnya  permintaan   \n",
       "5  harga  jual  telur  ayam  solo  raya  anjlok  iniharga  eceran  telur  ayam  negeri  pasar  tradisional  warung  berandol  rp  kilogramnyatentu  rumah  tangga  pengusaha  kuliner  berbahan  dasar  telur  ayam  kegirangan   \n",
       "6                                                                                                                                                               harga  telur  anjlok  rp  kg  pemerintah  bantu  peternak  ayam   \n",
       "7                                                                                                                                                           ikutan  main  telur  bareng  voucher  potongan  harga  belanja  hhe   \n",
       "8                                                                                                                                                                       telor  geprek  abah  uya  selera  bohong  harga  murmer   \n",
       "9                                                                                                                           beli  order  telur  set  telur  mcd  scam  bayar  harga  set  telur  set  pulak  mengandung  kecewa   \n",
       "\n",
       "   polaritas sentimen  \n",
       "0         -2  Negatif  \n",
       "1         -2  Negatif  \n",
       "2         -1  Negatif  \n",
       "3         -1  Negatif  \n",
       "4          1  Positif  \n",
       "5         -5  Negatif  \n",
       "6         -2  Negatif  \n",
       "7         15  Positif  \n",
       "8          4  Positif  \n",
       "9          1  Positif  "
      ]
     },
     "execution_count": 2,
     "metadata": {},
     "output_type": "execute_result"
    }
   ],
   "source": [
    "pd.set_option(\"display.max_colwidth\", None)\n",
    "data = pd.read_csv(\"data/tweets_labelled.csv\")\n",
    "data.head(10)"
   ]
  },
  {
   "cell_type": "markdown",
   "metadata": {
    "id": "QdI5nKjpo5Oe"
   },
   "source": [
    "#### Convert Label to Integer"
   ]
  },
  {
   "cell_type": "code",
   "execution_count": 3,
   "metadata": {
    "colab": {
     "base_uri": "https://localhost:8080/",
     "height": 241
    },
    "id": "anOZLmcQpdPP",
    "outputId": "87c1305f-2367-4982-9f2a-c40edefaabd7"
   },
   "outputs": [
    {
     "data": {
      "text/html": [
       "<div>\n",
       "<style scoped>\n",
       "    .dataframe tbody tr th:only-of-type {\n",
       "        vertical-align: middle;\n",
       "    }\n",
       "\n",
       "    .dataframe tbody tr th {\n",
       "        vertical-align: top;\n",
       "    }\n",
       "\n",
       "    .dataframe thead th {\n",
       "        text-align: right;\n",
       "    }\n",
       "</style>\n",
       "<table border=\"1\" class=\"dataframe\">\n",
       "  <thead>\n",
       "    <tr style=\"text-align: right;\">\n",
       "      <th></th>\n",
       "      <th>tweet</th>\n",
       "      <th>polaritas</th>\n",
       "      <th>sentimen</th>\n",
       "    </tr>\n",
       "  </thead>\n",
       "  <tbody>\n",
       "    <tr>\n",
       "      <th>0</th>\n",
       "      <td>jbharga  ayam  rm  tgk  telor  wyam  sepapan  rm  depend  gred</td>\n",
       "      <td>-2</td>\n",
       "      <td>0</td>\n",
       "    </tr>\n",
       "    <tr>\n",
       "      <th>1</th>\n",
       "      <td>berdiri di atas kaki sendiri  serap  telur  peternak  stabilkan  harga</td>\n",
       "      <td>-2</td>\n",
       "      <td>0</td>\n",
       "    </tr>\n",
       "    <tr>\n",
       "      <th>2</th>\n",
       "      <td>penyebab  harga  telur  anjlok  versi  pedagang  kaget</td>\n",
       "      <td>-1</td>\n",
       "      <td>0</td>\n",
       "    </tr>\n",
       "    <tr>\n",
       "      <th>3</th>\n",
       "      <td>turunnya  permintaan  masyarakat  telur  ayam  ppkm  level  jawa  bali  harga  telur  ayam  daerah  jawa  bali  anjlok  rupiah  kilogramnyapara  peternak  ayam  petelur  mengeluhkan  gulung  tikar</td>\n",
       "      <td>-1</td>\n",
       "      <td>0</td>\n",
       "    </tr>\n",
       "    <tr>\n",
       "      <th>4</th>\n",
       "      <td>peternak  ayam  petelur  mengaku  merugi  ratusan  juta  rupiah  bulannya  harga  pakan  ayam  petelur  pasarananjloknya  harga  jual  telur  ayam  situasi  ppkm  menyebabkan  turunnya  permintaan</td>\n",
       "      <td>1</td>\n",
       "      <td>1</td>\n",
       "    </tr>\n",
       "  </tbody>\n",
       "</table>\n",
       "</div>"
      ],
      "text/plain": [
       "                                                                                                                                                                                                  tweet  \\\n",
       "0                                                                                                                                        jbharga  ayam  rm  tgk  telor  wyam  sepapan  rm  depend  gred   \n",
       "1                                                                                                                                berdiri di atas kaki sendiri  serap  telur  peternak  stabilkan  harga   \n",
       "2                                                                                                                                                penyebab  harga  telur  anjlok  versi  pedagang  kaget   \n",
       "3  turunnya  permintaan  masyarakat  telur  ayam  ppkm  level  jawa  bali  harga  telur  ayam  daerah  jawa  bali  anjlok  rupiah  kilogramnyapara  peternak  ayam  petelur  mengeluhkan  gulung  tikar   \n",
       "4  peternak  ayam  petelur  mengaku  merugi  ratusan  juta  rupiah  bulannya  harga  pakan  ayam  petelur  pasarananjloknya  harga  jual  telur  ayam  situasi  ppkm  menyebabkan  turunnya  permintaan   \n",
       "\n",
       "   polaritas  sentimen  \n",
       "0         -2         0  \n",
       "1         -2         0  \n",
       "2         -1         0  \n",
       "3         -1         0  \n",
       "4          1         1  "
      ]
     },
     "execution_count": 3,
     "metadata": {},
     "output_type": "execute_result"
    }
   ],
   "source": [
    "data['sentimen'] = data['sentimen'].astype('category').cat.codes\n",
    "data.head()"
   ]
  },
  {
   "cell_type": "markdown",
   "metadata": {
    "id": "CIiwDTpOpuGw"
   },
   "source": [
    "#### Split Data to Train and Test"
   ]
  },
  {
   "cell_type": "code",
   "execution_count": 4,
   "metadata": {
    "id": "XUfDjrw2pxwW"
   },
   "outputs": [],
   "source": [
    "X = data['tweet']\n",
    "y = data['sentimen']\n",
    "X_train, X_test, y_train, y_test = train_test_split(X, y, random_state=0, test_size=0.1, stratify=y)"
   ]
  },
  {
   "cell_type": "markdown",
   "metadata": {
    "id": "seTrQJRtqNNR"
   },
   "source": [
    "#### Convert Word to Integer (Index) and Label to One Hot Encoding"
   ]
  },
  {
   "cell_type": "code",
   "execution_count": 5,
   "metadata": {
    "id": "Xo1BgPiyqMZq"
   },
   "outputs": [
    {
     "name": "stderr",
     "output_type": "stream",
     "text": [
      "2021-12-12 13:34:43.146604: I tensorflow/stream_executor/cuda/cuda_gpu_executor.cc:939] successful NUMA node read from SysFS had negative value (-1), but there must be at least one NUMA node, so returning NUMA node zero\n",
      "2021-12-12 13:34:43.191351: I tensorflow/stream_executor/cuda/cuda_gpu_executor.cc:939] successful NUMA node read from SysFS had negative value (-1), but there must be at least one NUMA node, so returning NUMA node zero\n",
      "2021-12-12 13:34:43.191504: I tensorflow/stream_executor/cuda/cuda_gpu_executor.cc:939] successful NUMA node read from SysFS had negative value (-1), but there must be at least one NUMA node, so returning NUMA node zero\n",
      "2021-12-12 13:34:43.192112: I tensorflow/core/platform/cpu_feature_guard.cc:151] This TensorFlow binary is optimized with oneAPI Deep Neural Network Library (oneDNN) to use the following CPU instructions in performance-critical operations:  AVX2 AVX512F FMA\n",
      "To enable them in other operations, rebuild TensorFlow with the appropriate compiler flags.\n",
      "2021-12-12 13:34:43.194034: I tensorflow/stream_executor/cuda/cuda_gpu_executor.cc:939] successful NUMA node read from SysFS had negative value (-1), but there must be at least one NUMA node, so returning NUMA node zero\n",
      "2021-12-12 13:34:43.194185: I tensorflow/stream_executor/cuda/cuda_gpu_executor.cc:939] successful NUMA node read from SysFS had negative value (-1), but there must be at least one NUMA node, so returning NUMA node zero\n",
      "2021-12-12 13:34:43.194297: I tensorflow/stream_executor/cuda/cuda_gpu_executor.cc:939] successful NUMA node read from SysFS had negative value (-1), but there must be at least one NUMA node, so returning NUMA node zero\n",
      "2021-12-12 13:34:47.477020: I tensorflow/stream_executor/cuda/cuda_gpu_executor.cc:939] successful NUMA node read from SysFS had negative value (-1), but there must be at least one NUMA node, so returning NUMA node zero\n",
      "2021-12-12 13:34:47.477445: I tensorflow/stream_executor/cuda/cuda_gpu_executor.cc:939] successful NUMA node read from SysFS had negative value (-1), but there must be at least one NUMA node, so returning NUMA node zero\n",
      "2021-12-12 13:34:47.477760: I tensorflow/stream_executor/cuda/cuda_gpu_executor.cc:939] successful NUMA node read from SysFS had negative value (-1), but there must be at least one NUMA node, so returning NUMA node zero\n",
      "2021-12-12 13:34:47.490580: I tensorflow/core/common_runtime/gpu/gpu_device.cc:1525] Created device /job:localhost/replica:0/task:0/device:GPU:0 with 4127 MB memory:  -> device: 0, name: NVIDIA GeForce RTX 3060 Laptop GPU, pci bus id: 0000:01:00.0, compute capability: 8.6\n"
     ]
    }
   ],
   "source": [
    "vectorizer = TextVectorization(max_tokens=20000, output_sequence_length=200)\n",
    "vectorizer.adapt(X_train)\n",
    "voc = len(vectorizer.get_vocabulary())"
   ]
  },
  {
   "cell_type": "code",
   "execution_count": 6,
   "metadata": {
    "colab": {
     "base_uri": "https://localhost:8080/"
    },
    "id": "-voGTaxusgYr",
    "outputId": "7454ed58-da00-46b0-9616-1b3a4610f82b"
   },
   "outputs": [
    {
     "data": {
      "text/plain": [
       "<tf.Tensor: shape=(3, 200), dtype=int64, numpy=\n",
       "array([[ 114,    2,    6,    4,   83,   15, 5797,    0,    0,    0,    0,\n",
       "           0,    0,    0,    0,    0,    0,    0,    0,    0,    0,    0,\n",
       "           0,    0,    0,    0,    0,    0,    0,    0,    0,    0,    0,\n",
       "           0,    0,    0,    0,    0,    0,    0,    0,    0,    0,    0,\n",
       "           0,    0,    0,    0,    0,    0,    0,    0,    0,    0,    0,\n",
       "           0,    0,    0,    0,    0,    0,    0,    0,    0,    0,    0,\n",
       "           0,    0,    0,    0,    0,    0,    0,    0,    0,    0,    0,\n",
       "           0,    0,    0,    0,    0,    0,    0,    0,    0,    0,    0,\n",
       "           0,    0,    0,    0,    0,    0,    0,    0,    0,    0,    0,\n",
       "           0,    0,    0,    0,    0,    0,    0,    0,    0,    0,    0,\n",
       "           0,    0,    0,    0,    0,    0,    0,    0,    0,    0,    0,\n",
       "           0,    0,    0,    0,    0,    0,    0,    0,    0,    0,    0,\n",
       "           0,    0,    0,    0,    0,    0,    0,    0,    0,    0,    0,\n",
       "           0,    0,    0,    0,    0,    0,    0,    0,    0,    0,    0,\n",
       "           0,    0,    0,    0,    0,    0,    0,    0,    0,    0,    0,\n",
       "           0,    0,    0,    0,    0,    0,    0,    0,    0,    0,    0,\n",
       "           0,    0,    0,    0,    0,    0,    0,    0,    0,    0,    0,\n",
       "           0,    0,    0,    0,    0,    0,    0,    0,    0,    0,    0,\n",
       "           0,    0],\n",
       "       [  99,    3,    2,    0,    0,    0,    0,    0,    0,    0,    0,\n",
       "           0,    0,    0,    0,    0,    0,    0,    0,    0,    0,    0,\n",
       "           0,    0,    0,    0,    0,    0,    0,    0,    0,    0,    0,\n",
       "           0,    0,    0,    0,    0,    0,    0,    0,    0,    0,    0,\n",
       "           0,    0,    0,    0,    0,    0,    0,    0,    0,    0,    0,\n",
       "           0,    0,    0,    0,    0,    0,    0,    0,    0,    0,    0,\n",
       "           0,    0,    0,    0,    0,    0,    0,    0,    0,    0,    0,\n",
       "           0,    0,    0,    0,    0,    0,    0,    0,    0,    0,    0,\n",
       "           0,    0,    0,    0,    0,    0,    0,    0,    0,    0,    0,\n",
       "           0,    0,    0,    0,    0,    0,    0,    0,    0,    0,    0,\n",
       "           0,    0,    0,    0,    0,    0,    0,    0,    0,    0,    0,\n",
       "           0,    0,    0,    0,    0,    0,    0,    0,    0,    0,    0,\n",
       "           0,    0,    0,    0,    0,    0,    0,    0,    0,    0,    0,\n",
       "           0,    0,    0,    0,    0,    0,    0,    0,    0,    0,    0,\n",
       "           0,    0,    0,    0,    0,    0,    0,    0,    0,    0,    0,\n",
       "           0,    0,    0,    0,    0,    0,    0,    0,    0,    0,    0,\n",
       "           0,    0,    0,    0,    0,    0,    0,    0,    0,    0,    0,\n",
       "           0,    0,    0,    0,    0,    0,    0,    0,    0,    0,    0,\n",
       "           0,    0],\n",
       "       [2486,    2,    3,    7,    2,    8,    5, 2302,  214,   13, 1418,\n",
       "           0,    0,    0,    0,    0,    0,    0,    0,    0,    0,    0,\n",
       "           0,    0,    0,    0,    0,    0,    0,    0,    0,    0,    0,\n",
       "           0,    0,    0,    0,    0,    0,    0,    0,    0,    0,    0,\n",
       "           0,    0,    0,    0,    0,    0,    0,    0,    0,    0,    0,\n",
       "           0,    0,    0,    0,    0,    0,    0,    0,    0,    0,    0,\n",
       "           0,    0,    0,    0,    0,    0,    0,    0,    0,    0,    0,\n",
       "           0,    0,    0,    0,    0,    0,    0,    0,    0,    0,    0,\n",
       "           0,    0,    0,    0,    0,    0,    0,    0,    0,    0,    0,\n",
       "           0,    0,    0,    0,    0,    0,    0,    0,    0,    0,    0,\n",
       "           0,    0,    0,    0,    0,    0,    0,    0,    0,    0,    0,\n",
       "           0,    0,    0,    0,    0,    0,    0,    0,    0,    0,    0,\n",
       "           0,    0,    0,    0,    0,    0,    0,    0,    0,    0,    0,\n",
       "           0,    0,    0,    0,    0,    0,    0,    0,    0,    0,    0,\n",
       "           0,    0,    0,    0,    0,    0,    0,    0,    0,    0,    0,\n",
       "           0,    0,    0,    0,    0,    0,    0,    0,    0,    0,    0,\n",
       "           0,    0,    0,    0,    0,    0,    0,    0,    0,    0,    0,\n",
       "           0,    0,    0,    0,    0,    0,    0,    0,    0,    0,    0,\n",
       "           0,    0]])>"
      ]
     },
     "execution_count": 6,
     "metadata": {},
     "output_type": "execute_result"
    }
   ],
   "source": [
    "train_seq = vectorizer(X_train)\n",
    "train_seq[:3]"
   ]
  },
  {
   "cell_type": "code",
   "execution_count": 7,
   "metadata": {
    "colab": {
     "base_uri": "https://localhost:8080/"
    },
    "id": "ZGdt--u4slx9",
    "outputId": "8e3ca981-5d74-41a2-c74a-cef632fc2ce4"
   },
   "outputs": [
    {
     "data": {
      "text/plain": [
       "array([[0., 1., 0.],\n",
       "       [0., 1., 0.],\n",
       "       [0., 1., 0.]], dtype=float32)"
      ]
     },
     "execution_count": 7,
     "metadata": {},
     "output_type": "execute_result"
    }
   ],
   "source": [
    "y_seq = to_categorical(y_train, num_classes = 3)\n",
    "y_seq[:3]"
   ]
  },
  {
   "cell_type": "markdown",
   "metadata": {
    "id": "Qdy7OAUgssdL"
   },
   "source": [
    "### Modeling"
   ]
  },
  {
   "cell_type": "markdown",
   "metadata": {
    "id": "27FKaRs8svCR"
   },
   "source": [
    "#### ANN"
   ]
  },
  {
   "cell_type": "code",
   "execution_count": 8,
   "metadata": {
    "colab": {
     "base_uri": "https://localhost:8080/"
    },
    "id": "9rQ30g8BvWru",
    "outputId": "4d9affa5-773b-4557-d805-87fc1da0c070"
   },
   "outputs": [
    {
     "name": "stdout",
     "output_type": "stream",
     "text": [
      "Model: \"sequential\"\n",
      "_________________________________________________________________\n",
      " Layer (type)                Output Shape              Param #   \n",
      "=================================================================\n",
      " embedding (Embedding)       (None, 200, 50)           339300    \n",
      "                                                                 \n",
      " dense (Dense)               (None, 200, 10)           510       \n",
      "                                                                 \n",
      " dropout (Dropout)           (None, 200, 10)           0         \n",
      "                                                                 \n",
      " dense_1 (Dense)             (None, 200, 5)            55        \n",
      "                                                                 \n",
      " flatten (Flatten)           (None, 1000)              0         \n",
      "                                                                 \n",
      " dense_2 (Dense)             (None, 3)                 3003      \n",
      "                                                                 \n",
      "=================================================================\n",
      "Total params: 342,868\n",
      "Trainable params: 342,868\n",
      "Non-trainable params: 0\n",
      "_________________________________________________________________\n",
      "Epoch 1/10\n",
      "52/52 [==============================] - 1s 2ms/step - loss: 0.1584\n",
      "Epoch 2/10\n",
      "52/52 [==============================] - 0s 2ms/step - loss: 0.1198\n",
      "Epoch 3/10\n",
      " 1/52 [..............................] - ETA: 0s - loss: 0.1026"
     ]
    },
    {
     "name": "stderr",
     "output_type": "stream",
     "text": [
      "2021-12-12 13:34:49.614161: I tensorflow/stream_executor/cuda/cuda_blas.cc:1774] TensorFloat-32 will be used for the matrix multiplication. This will only be logged once.\n"
     ]
    },
    {
     "name": "stdout",
     "output_type": "stream",
     "text": [
      "52/52 [==============================] - 0s 2ms/step - loss: 0.0963\n",
      "Epoch 4/10\n",
      "52/52 [==============================] - 0s 2ms/step - loss: 0.0652\n",
      "Epoch 5/10\n",
      "52/52 [==============================] - 0s 2ms/step - loss: 0.0455\n",
      "Epoch 6/10\n",
      "52/52 [==============================] - 0s 2ms/step - loss: 0.0353\n",
      "Epoch 7/10\n",
      "52/52 [==============================] - 0s 2ms/step - loss: 0.0291\n",
      "Epoch 8/10\n",
      "52/52 [==============================] - 0s 2ms/step - loss: 0.0247\n",
      "Epoch 9/10\n",
      "52/52 [==============================] - 0s 2ms/step - loss: 0.0195\n",
      "Epoch 10/10\n",
      "52/52 [==============================] - 0s 2ms/step - loss: 0.0166\n"
     ]
    },
    {
     "data": {
      "text/plain": [
       "<keras.callbacks.History at 0x7f3650313d30>"
      ]
     },
     "execution_count": 8,
     "metadata": {},
     "output_type": "execute_result"
    }
   ],
   "source": [
    "ann = Sequential()\n",
    "ann.add(Embedding(voc, 50, input_length=200))\n",
    "ann.add(Dense(10, activation='relu'))\n",
    "ann.add(Dropout(0.2))\n",
    "ann.add(Dense(5, activation='relu'))\n",
    "ann.add(Flatten())\n",
    "ann.add(Dense(3, activation='softmax'))\n",
    "ann.compile(loss='mean_squared_error', optimizer='adam')\n",
    "ann.summary()\n",
    "\n",
    "ann.fit(train_seq, y_seq, epochs=10, batch_size=50, shuffle=False)"
   ]
  },
  {
   "cell_type": "markdown",
   "metadata": {
    "id": "-7t36oulswLy"
   },
   "source": [
    "#### CNN"
   ]
  },
  {
   "cell_type": "code",
   "execution_count": 9,
   "metadata": {
    "colab": {
     "base_uri": "https://localhost:8080/"
    },
    "id": "6k1EEsR6vz7y",
    "outputId": "5dd072bf-4e99-44ed-fc6a-1d4ac75f43de"
   },
   "outputs": [
    {
     "name": "stdout",
     "output_type": "stream",
     "text": [
      "Model: \"sequential_1\"\n",
      "_________________________________________________________________\n",
      " Layer (type)                Output Shape              Param #   \n",
      "=================================================================\n",
      " embedding_1 (Embedding)     (None, 200, 50)           339300    \n",
      "                                                                 \n",
      " conv1d (Conv1D)             (None, 196, 32)           8032      \n",
      "                                                                 \n",
      " max_pooling1d (MaxPooling1D  (None, 98, 32)           0         \n",
      " )                                                               \n",
      "                                                                 \n",
      " conv1d_1 (Conv1D)           (None, 94, 64)            10304     \n",
      "                                                                 \n",
      " max_pooling1d_1 (MaxPooling  (None, 47, 64)           0         \n",
      " 1D)                                                             \n",
      "                                                                 \n",
      " flatten_1 (Flatten)         (None, 3008)              0         \n",
      "                                                                 \n",
      " dense_3 (Dense)             (None, 10)                30090     \n",
      "                                                                 \n",
      " dropout_1 (Dropout)         (None, 10)                0         \n",
      "                                                                 \n",
      " dense_4 (Dense)             (None, 3)                 33        \n",
      "                                                                 \n",
      "=================================================================\n",
      "Total params: 387,759\n",
      "Trainable params: 387,759\n",
      "Non-trainable params: 0\n",
      "_________________________________________________________________\n",
      "Epoch 1/10\n"
     ]
    },
    {
     "name": "stderr",
     "output_type": "stream",
     "text": [
      "2021-12-12 13:34:51.366547: I tensorflow/stream_executor/cuda/cuda_dnn.cc:366] Loaded cuDNN version 8204\n"
     ]
    },
    {
     "name": "stdout",
     "output_type": "stream",
     "text": [
      "52/52 [==============================] - 2s 7ms/step - loss: 0.1506\n",
      "Epoch 2/10\n",
      "52/52 [==============================] - 0s 2ms/step - loss: 0.1097\n",
      "Epoch 3/10\n",
      "52/52 [==============================] - 0s 2ms/step - loss: 0.0576\n",
      "Epoch 4/10\n",
      "52/52 [==============================] - 0s 2ms/step - loss: 0.0358\n",
      "Epoch 5/10\n",
      "52/52 [==============================] - 0s 2ms/step - loss: 0.0242\n",
      "Epoch 6/10\n",
      "52/52 [==============================] - 0s 2ms/step - loss: 0.0211\n",
      "Epoch 7/10\n",
      "52/52 [==============================] - 0s 2ms/step - loss: 0.0177\n",
      "Epoch 8/10\n",
      "52/52 [==============================] - 0s 2ms/step - loss: 0.0143\n",
      "Epoch 9/10\n",
      "52/52 [==============================] - 0s 2ms/step - loss: 0.0159\n",
      "Epoch 10/10\n",
      "52/52 [==============================] - 0s 2ms/step - loss: 0.0150\n"
     ]
    },
    {
     "data": {
      "text/plain": [
       "<keras.callbacks.History at 0x7f35a821b1c0>"
      ]
     },
     "execution_count": 9,
     "metadata": {},
     "output_type": "execute_result"
    }
   ],
   "source": [
    "cnn = Sequential()\n",
    "cnn.add(Embedding(voc, 50, input_length=200))\n",
    "cnn.add(Conv1D(32, kernel_size=5, activation='relu'))\n",
    "cnn.add(MaxPooling1D(pool_size=2))\n",
    "cnn.add(Conv1D(64, kernel_size=5, activation='relu'))\n",
    "cnn.add(MaxPooling1D(pool_size=2))\n",
    "cnn.add(Flatten())\n",
    "cnn.add(Dense(10, activation='relu'))\n",
    "cnn.add(Dropout(0.2))\n",
    "cnn.add(Dense(3, activation='softmax'))\n",
    "cnn.compile(loss='mean_squared_error', optimizer='adam')\n",
    "cnn.summary()\n",
    "\n",
    "cnn.fit(train_seq, y_seq, epochs=10, batch_size=50, shuffle=False)"
   ]
  },
  {
   "cell_type": "markdown",
   "metadata": {
    "id": "CN-r0UbOsywC"
   },
   "source": [
    "#### LSTM"
   ]
  },
  {
   "cell_type": "code",
   "execution_count": 10,
   "metadata": {
    "colab": {
     "base_uri": "https://localhost:8080/"
    },
    "id": "NI6yDRucwxkX",
    "outputId": "9e83cdd4-2ec3-48f3-ea51-a33fcbce83d1"
   },
   "outputs": [
    {
     "name": "stdout",
     "output_type": "stream",
     "text": [
      "Model: \"sequential_2\"\n",
      "_________________________________________________________________\n",
      " Layer (type)                Output Shape              Param #   \n",
      "=================================================================\n",
      " embedding_2 (Embedding)     (None, 200, 50)           339300    \n",
      "                                                                 \n",
      " lstm (LSTM)                 (None, 200, 10)           2440      \n",
      "                                                                 \n",
      " lstm_1 (LSTM)               (None, 5)                 320       \n",
      "                                                                 \n",
      " dropout_2 (Dropout)         (None, 5)                 0         \n",
      "                                                                 \n",
      " dense_5 (Dense)             (None, 5)                 30        \n",
      "                                                                 \n",
      " dense_6 (Dense)             (None, 3)                 18        \n",
      "                                                                 \n",
      "=================================================================\n",
      "Total params: 342,108\n",
      "Trainable params: 342,108\n",
      "Non-trainable params: 0\n",
      "_________________________________________________________________\n",
      "Epoch 1/10\n",
      "52/52 [==============================] - 2s 8ms/step - loss: 0.1638\n",
      "Epoch 2/10\n",
      "52/52 [==============================] - 0s 8ms/step - loss: 0.1371\n",
      "Epoch 3/10\n",
      "52/52 [==============================] - 0s 8ms/step - loss: 0.1320\n",
      "Epoch 4/10\n",
      "52/52 [==============================] - 0s 8ms/step - loss: 0.1296\n",
      "Epoch 5/10\n",
      "52/52 [==============================] - 0s 8ms/step - loss: 0.1285\n",
      "Epoch 6/10\n",
      "52/52 [==============================] - 0s 8ms/step - loss: 0.1283\n",
      "Epoch 7/10\n",
      "52/52 [==============================] - 0s 8ms/step - loss: 0.1286\n",
      "Epoch 8/10\n",
      "52/52 [==============================] - 0s 8ms/step - loss: 0.1287\n",
      "Epoch 9/10\n",
      "52/52 [==============================] - 0s 8ms/step - loss: 0.1270\n",
      "Epoch 10/10\n",
      "52/52 [==============================] - 0s 8ms/step - loss: 0.1274\n"
     ]
    },
    {
     "data": {
      "text/plain": [
       "<keras.callbacks.History at 0x7f359c684550>"
      ]
     },
     "execution_count": 10,
     "metadata": {},
     "output_type": "execute_result"
    }
   ],
   "source": [
    "lstm = Sequential()\n",
    "lstm.add(Embedding(voc, 50, input_length=200))\n",
    "lstm.add(LSTM(10, return_sequences=True))\n",
    "lstm.add(LSTM(5))\n",
    "lstm.add(Dropout(0.2))\n",
    "lstm.add(Dense(5))\n",
    "lstm.add(Dense(3, activation=\"softmax\"))\n",
    "lstm.summary()\n",
    "lstm.compile('rmsprop','mse')\n",
    "\n",
    "lstm.fit(train_seq, y_seq, epochs=10, batch_size=50, shuffle=False)"
   ]
  },
  {
   "cell_type": "markdown",
   "metadata": {
    "id": "dWDGwS8-s0MJ"
   },
   "source": [
    "#### BiLSTM"
   ]
  },
  {
   "cell_type": "code",
   "execution_count": 11,
   "metadata": {
    "colab": {
     "base_uri": "https://localhost:8080/"
    },
    "id": "yQqm5WIVwo75",
    "outputId": "b3feae39-bd24-4f8e-b7c2-bf87a49b7292"
   },
   "outputs": [
    {
     "name": "stdout",
     "output_type": "stream",
     "text": [
      "Model: \"sequential_3\"\n",
      "_________________________________________________________________\n",
      " Layer (type)                Output Shape              Param #   \n",
      "=================================================================\n",
      " embedding_3 (Embedding)     (None, 200, 50)           339300    \n",
      "                                                                 \n",
      " bidirectional (Bidirectiona  (None, 200, 20)          4880      \n",
      " l)                                                              \n",
      "                                                                 \n",
      " bidirectional_1 (Bidirectio  (None, 10)               1040      \n",
      " nal)                                                            \n",
      "                                                                 \n",
      " dropout_3 (Dropout)         (None, 10)                0         \n",
      "                                                                 \n",
      " dense_7 (Dense)             (None, 5)                 55        \n",
      "                                                                 \n",
      " dense_8 (Dense)             (None, 3)                 18        \n",
      "                                                                 \n",
      "=================================================================\n",
      "Total params: 345,293\n",
      "Trainable params: 345,293\n",
      "Non-trainable params: 0\n",
      "_________________________________________________________________\n",
      "Epoch 1/10\n",
      "52/52 [==============================] - 3s 16ms/step - loss: 0.1466\n",
      "Epoch 2/10\n",
      "52/52 [==============================] - 1s 15ms/step - loss: 0.1127\n",
      "Epoch 3/10\n",
      "52/52 [==============================] - 1s 15ms/step - loss: 0.0755\n",
      "Epoch 4/10\n",
      "52/52 [==============================] - 1s 15ms/step - loss: 0.0513\n",
      "Epoch 5/10\n",
      "52/52 [==============================] - 1s 15ms/step - loss: 0.0342\n",
      "Epoch 6/10\n",
      "52/52 [==============================] - 1s 15ms/step - loss: 0.0241\n",
      "Epoch 7/10\n",
      "52/52 [==============================] - 1s 15ms/step - loss: 0.0186\n",
      "Epoch 8/10\n",
      "52/52 [==============================] - 1s 15ms/step - loss: 0.0148\n",
      "Epoch 9/10\n",
      "52/52 [==============================] - 1s 15ms/step - loss: 0.0122\n",
      "Epoch 10/10\n",
      "52/52 [==============================] - 1s 15ms/step - loss: 0.0108\n"
     ]
    },
    {
     "data": {
      "text/plain": [
       "<keras.callbacks.History at 0x7f35107dd9a0>"
      ]
     },
     "execution_count": 11,
     "metadata": {},
     "output_type": "execute_result"
    }
   ],
   "source": [
    "blstm = Sequential()\n",
    "blstm.add(Embedding(voc, 50, input_length=200))\n",
    "blstm.add(Bidirectional(LSTM(10, return_sequences=True)))\n",
    "blstm.add(Bidirectional(LSTM(5)))\n",
    "blstm.add(Dropout(0.2))\n",
    "blstm.add(Dense(5))\n",
    "blstm.add(Dense(3, activation=\"softmax\"))\n",
    "blstm.summary()\n",
    "blstm.compile('rmsprop','mse')\n",
    "\n",
    "blstm.fit(train_seq, y_seq, epochs=10, batch_size=50, shuffle=False)"
   ]
  },
  {
   "cell_type": "markdown",
   "metadata": {
    "id": "VMB6b4pZs4im"
   },
   "source": [
    "### Evaluation"
   ]
  },
  {
   "cell_type": "code",
   "execution_count": 12,
   "metadata": {
    "id": "VaH0mUHKtJGf"
   },
   "outputs": [],
   "source": [
    "def plot_matrix(y_test, y_pred):\n",
    "  cnf_matrix = confusion_matrix(y_test, y_pred)\n",
    "  index = [\"negative\", \"positive\"]\n",
    "  columns = [\"negative\", \"positive\"]\n",
    "  df_cm = pd.DataFrame(cnf_matrix,columns,index)\n",
    "\n",
    "  sn.heatmap(df_cm, annot=True, cmap=plt.cm.Blues, fmt=\".0f\", annot_kws={\"size\": 10}) # font size\n",
    "  plt.xlabel(\"Predicted label\", fontsize = 10)\n",
    "  plt.ylabel(\"True label\", fontsize = 10)\n",
    "\n",
    "  plt.show()"
   ]
  },
  {
   "cell_type": "code",
   "execution_count": 13,
   "metadata": {
    "id": "59zCa4FiuCgA"
   },
   "outputs": [],
   "source": [
    "def false_cases(sentences, y_test, y_pred):\n",
    "  df = pd.DataFrame(list(zip(sentences, y_test, y_pred)), columns=[\"sentence\", \"label\", \"prediction\"])\n",
    "  df = df[df['label'] != df['prediction']]\n",
    "  return df\n"
   ]
  },
  {
   "cell_type": "markdown",
   "metadata": {
    "id": "sK4T3EM9tdqQ"
   },
   "source": [
    "#### Convert Word to Integer (Index)"
   ]
  },
  {
   "cell_type": "code",
   "execution_count": 14,
   "metadata": {
    "id": "VPOWxJQ0tg3q"
   },
   "outputs": [],
   "source": [
    "test_seq = vectorizer(np.array(X_test))"
   ]
  },
  {
   "cell_type": "code",
   "execution_count": 15,
   "metadata": {
    "id": "3ADZN08DtBTc"
   },
   "outputs": [],
   "source": [
    "target_names = [\"negative\", \"positive\"]"
   ]
  },
  {
   "cell_type": "markdown",
   "metadata": {
    "id": "jhboniHptpBB"
   },
   "source": [
    "#### ANN"
   ]
  },
  {
   "cell_type": "code",
   "execution_count": 16,
   "metadata": {
    "id": "14lbIdO9x5DK"
   },
   "outputs": [],
   "source": [
    "y_pred = ann.predict(test_seq, verbose=0)\n",
    "y_pred = np.argmax(y_pred, axis=1)"
   ]
  },
  {
   "cell_type": "code",
   "execution_count": 17,
   "metadata": {
    "colab": {
     "base_uri": "https://localhost:8080/"
    },
    "id": "dsJps6_lyT68",
    "outputId": "cb301078-1731-4709-8fa3-966ffaaaf346"
   },
   "outputs": [
    {
     "name": "stdout",
     "output_type": "stream",
     "text": [
      "              precision    recall  f1-score   support\n",
      "\n",
      "    negative       0.58      0.53      0.56        73\n",
      "    positive       0.85      0.87      0.86       215\n",
      "\n",
      "    accuracy                           0.78       288\n",
      "   macro avg       0.71      0.70      0.71       288\n",
      "weighted avg       0.78      0.78      0.78       288\n",
      "\n"
     ]
    }
   ],
   "source": [
    "print(classification_report(y_test, y_pred, target_names=target_names))"
   ]
  },
  {
   "cell_type": "code",
   "execution_count": 18,
   "metadata": {
    "colab": {
     "base_uri": "https://localhost:8080/",
     "height": 280
    },
    "id": "gB11hd8OyY5s",
    "outputId": "7ca387cf-f2e0-4682-95e0-a9033e772014"
   },
   "outputs": [
    {
     "data": {
      "image/png": "[encoded data removed]",
      "text/plain": [
       "<Figure size 432x288 with 2 Axes>"
      ]
     },
     "metadata": {
      "needs_background": "light"
     },
     "output_type": "display_data"
    }
   ],
   "source": [
    "plot_matrix(y_test, y_pred)"
   ]
  },
  {
   "cell_type": "code",
   "execution_count": 19,
   "metadata": {
    "colab": {
     "base_uri": "https://localhost:8080/",
     "height": 1000
    },
    "id": "VPVTouMpyfAS",
    "outputId": "c08e9f68-0ca3-4f01-8530-180542bea299"
   },
   "outputs": [
    {
     "data": {
      "text/html": [
       "<div>\n",
       "<style scoped>\n",
       "    .dataframe tbody tr th:only-of-type {\n",
       "        vertical-align: middle;\n",
       "    }\n",
       "\n",
       "    .dataframe tbody tr th {\n",
       "        vertical-align: top;\n",
       "    }\n",
       "\n",
       "    .dataframe thead th {\n",
       "        text-align: right;\n",
       "    }\n",
       "</style>\n",
       "<table border=\"1\" class=\"dataframe\">\n",
       "  <thead>\n",
       "    <tr style=\"text-align: right;\">\n",
       "      <th></th>\n",
       "      <th>sentence</th>\n",
       "      <th>label</th>\n",
       "      <th>prediction</th>\n",
       "    </tr>\n",
       "  </thead>\n",
       "  <tbody>\n",
       "    <tr>\n",
       "      <th>2</th>\n",
       "      <td>sedih  banget  sebulan  jualan  telur  ayam  tipis  banget  untungnya  harga  pasaran  anjlok  semoga  berita</td>\n",
       "      <td>0</td>\n",
       "      <td>1</td>\n",
       "    </tr>\n",
       "    <tr>\n",
       "      <th>3</th>\n",
       "      <td>tv  kmrin  harga  telor  anjlok  perusahaan  ayam  petelor</td>\n",
       "      <td>1</td>\n",
       "      <td>0</td>\n",
       "    </tr>\n",
       "    <tr>\n",
       "      <th>5</th>\n",
       "      <td>kemarin  jokowi  bantu  peternak  beli  telor  telorkan  turun  jokowi  disuruh  beli  jagung  harga  wajar  emang  jkw  pedagang</td>\n",
       "      <td>1</td>\n",
       "      <td>0</td>\n",
       "    </tr>\n",
       "    <tr>\n",
       "      <th>10</th>\n",
       "      <td>maghrib  berburu  telur  harga  telur  kg  kedepan  telur  telur  telur</td>\n",
       "      <td>0</td>\n",
       "      <td>1</td>\n",
       "    </tr>\n",
       "    <tr>\n",
       "      <th>12</th>\n",
       "      <td>harga  pakan  meroket  telur  ambruk  peternak  garut  terpaksa  lelang  ayam</td>\n",
       "      <td>0</td>\n",
       "      <td>1</td>\n",
       "    </tr>\n",
       "    <tr>\n",
       "      <th>...</th>\n",
       "      <td>...</td>\n",
       "      <td>...</td>\n",
       "      <td>...</td>\n",
       "    </tr>\n",
       "    <tr>\n",
       "      <th>263</th>\n",
       "      <td>pasar  sederhana  harga  beras  medium  rpkg  gula  pasir  rpkg  daging  ayam  ras  rpkg  daging  sapi  rpkg  telur  ayam  ras  rpkg  cabai  merah  keriting  rpkg  bawang  putih  kating  rpkg</td>\n",
       "      <td>0</td>\n",
       "      <td>1</td>\n",
       "    </tr>\n",
       "    <tr>\n",
       "      <th>276</th>\n",
       "      <td>sehari  rp  juta  harga  telur  anjlok  peternak  berpotensi  rugi  puluhan  juta  rupiah</td>\n",
       "      <td>1</td>\n",
       "      <td>0</td>\n",
       "    </tr>\n",
       "    <tr>\n",
       "      <th>277</th>\n",
       "      <td>harga  telor  turun  banget  plis  ayah  ambil  dijual  toko  what the fuck  seperempat  ribu  ratus  what the fuck  kobisa  turun  segitu</td>\n",
       "      <td>0</td>\n",
       "      <td>1</td>\n",
       "    </tr>\n",
       "    <tr>\n",
       "      <th>278</th>\n",
       "      <td>harga  telur  ayam  turun  rp  kilogramnya</td>\n",
       "      <td>1</td>\n",
       "      <td>0</td>\n",
       "    </tr>\n",
       "    <tr>\n",
       "      <th>283</th>\n",
       "      <td>salah  protes  skr  terpuruk  presiden  tergerak  hatinya  rakyat  sengsara  gulung  tikar  boss  harga  pakan  gilaan  harga  telur  terjun  bebas  mikirrr</td>\n",
       "      <td>0</td>\n",
       "      <td>1</td>\n",
       "    </tr>\n",
       "  </tbody>\n",
       "</table>\n",
       "<p>62 rows × 3 columns</p>\n",
       "</div>"
      ],
      "text/plain": [
       "                                                                                                                                                                                            sentence  \\\n",
       "2                                                                                      sedih  banget  sebulan  jualan  telur  ayam  tipis  banget  untungnya  harga  pasaran  anjlok  semoga  berita   \n",
       "3                                                                                                                                         tv  kmrin  harga  telor  anjlok  perusahaan  ayam  petelor   \n",
       "5                                                                  kemarin  jokowi  bantu  peternak  beli  telor  telorkan  turun  jokowi  disuruh  beli  jagung  harga  wajar  emang  jkw  pedagang   \n",
       "10                                                                                                                           maghrib  berburu  telur  harga  telur  kg  kedepan  telur  telur  telur   \n",
       "12                                                                                                                     harga  pakan  meroket  telur  ambruk  peternak  garut  terpaksa  lelang  ayam   \n",
       "..                                                                                                                                                                                               ...   \n",
       "263  pasar  sederhana  harga  beras  medium  rpkg  gula  pasir  rpkg  daging  ayam  ras  rpkg  daging  sapi  rpkg  telur  ayam  ras  rpkg  cabai  merah  keriting  rpkg  bawang  putih  kating  rpkg   \n",
       "276                                                                                                        sehari  rp  juta  harga  telur  anjlok  peternak  berpotensi  rugi  puluhan  juta  rupiah   \n",
       "277                                                       harga  telor  turun  banget  plis  ayah  ambil  dijual  toko  what the fuck  seperempat  ribu  ratus  what the fuck  kobisa  turun  segitu   \n",
       "278                                                                                                                                                       harga  telur  ayam  turun  rp  kilogramnya   \n",
       "283                                     salah  protes  skr  terpuruk  presiden  tergerak  hatinya  rakyat  sengsara  gulung  tikar  boss  harga  pakan  gilaan  harga  telur  terjun  bebas  mikirrr   \n",
       "\n",
       "     label  prediction  \n",
       "2        0           1  \n",
       "3        1           0  \n",
       "5        1           0  \n",
       "10       0           1  \n",
       "12       0           1  \n",
       "..     ...         ...  \n",
       "263      0           1  \n",
       "276      1           0  \n",
       "277      0           1  \n",
       "278      1           0  \n",
       "283      0           1  \n",
       "\n",
       "[62 rows x 3 columns]"
      ]
     },
     "execution_count": 19,
     "metadata": {},
     "output_type": "execute_result"
    }
   ],
   "source": [
    "pred_result = false_cases(X_test, y_test, y_pred)\n",
    "pred_result"
   ]
  },
  {
   "cell_type": "markdown",
   "metadata": {
    "id": "ND7Le8FBtzsG"
   },
   "source": [
    "#### CNN"
   ]
  },
  {
   "cell_type": "code",
   "execution_count": 20,
   "metadata": {
    "id": "o7UpvB446GVv"
   },
   "outputs": [],
   "source": [
    "y_pred = cnn.predict(test_seq, verbose=0)\n",
    "y_pred = np.argmax(y_pred, axis=1)"
   ]
  },
  {
   "cell_type": "code",
   "execution_count": 21,
   "metadata": {
    "colab": {
     "base_uri": "https://localhost:8080/"
    },
    "id": "vPLSuS9S6GWK",
    "outputId": "d9c215f6-869f-41c9-a406-abbd0ba5f9d4"
   },
   "outputs": [
    {
     "name": "stdout",
     "output_type": "stream",
     "text": [
      "              precision    recall  f1-score   support\n",
      "\n",
      "    negative       0.80      0.56      0.66        73\n",
      "    positive       0.86      0.95      0.91       215\n",
      "\n",
      "    accuracy                           0.85       288\n",
      "   macro avg       0.83      0.76      0.78       288\n",
      "weighted avg       0.85      0.85      0.84       288\n",
      "\n"
     ]
    }
   ],
   "source": [
    "print(classification_report(y_test, y_pred, target_names=target_names))"
   ]
  },
  {
   "cell_type": "code",
   "execution_count": 22,
   "metadata": {
    "colab": {
     "base_uri": "https://localhost:8080/",
     "height": 279
    },
    "id": "ie2_KLbT6GWL",
    "outputId": "77611650-4d5e-4946-eacb-dd369fb3091e"
   },
   "outputs": [
    {
     "data": {
      "image/png": "[encoded data removed]",
      "text/plain": [
       "<Figure size 432x288 with 2 Axes>"
      ]
     },
     "metadata": {
      "needs_background": "light"
     },
     "output_type": "display_data"
    }
   ],
   "source": [
    "plot_matrix(y_test, y_pred)"
   ]
  },
  {
   "cell_type": "code",
   "execution_count": 23,
   "metadata": {
    "colab": {
     "base_uri": "https://localhost:8080/",
     "height": 1000
    },
    "id": "2Ah5gV606GWM",
    "outputId": "6bf24d46-8ece-4149-9c91-576b2cc583d5"
   },
   "outputs": [
    {
     "data": {
      "text/html": [
       "<div>\n",
       "<style scoped>\n",
       "    .dataframe tbody tr th:only-of-type {\n",
       "        vertical-align: middle;\n",
       "    }\n",
       "\n",
       "    .dataframe tbody tr th {\n",
       "        vertical-align: top;\n",
       "    }\n",
       "\n",
       "    .dataframe thead th {\n",
       "        text-align: right;\n",
       "    }\n",
       "</style>\n",
       "<table border=\"1\" class=\"dataframe\">\n",
       "  <thead>\n",
       "    <tr style=\"text-align: right;\">\n",
       "      <th></th>\n",
       "      <th>sentence</th>\n",
       "      <th>label</th>\n",
       "      <th>prediction</th>\n",
       "    </tr>\n",
       "  </thead>\n",
       "  <tbody>\n",
       "    <tr>\n",
       "      <th>2</th>\n",
       "      <td>sedih  banget  sebulan  jualan  telur  ayam  tipis  banget  untungnya  harga  pasaran  anjlok  semoga  berita</td>\n",
       "      <td>0</td>\n",
       "      <td>1</td>\n",
       "    </tr>\n",
       "    <tr>\n",
       "      <th>3</th>\n",
       "      <td>tv  kmrin  harga  telor  anjlok  perusahaan  ayam  petelor</td>\n",
       "      <td>1</td>\n",
       "      <td>0</td>\n",
       "    </tr>\n",
       "    <tr>\n",
       "      <th>10</th>\n",
       "      <td>maghrib  berburu  telur  harga  telur  kg  kedepan  telur  telur  telur</td>\n",
       "      <td>0</td>\n",
       "      <td>1</td>\n",
       "    </tr>\n",
       "    <tr>\n",
       "      <th>24</th>\n",
       "      <td>harga  telur  ayam  segitu  harga  pakan  ayamnya  menangis</td>\n",
       "      <td>0</td>\n",
       "      <td>1</td>\n",
       "    </tr>\n",
       "    <tr>\n",
       "      <th>33</th>\n",
       "      <td>nasi  kuning  namribu  nasi  kuning  pakai  telor  sepuluribu  harga  telor  bandung  patribu  itb</td>\n",
       "      <td>0</td>\n",
       "      <td>1</td>\n",
       "    </tr>\n",
       "    <tr>\n",
       "      <th>34</th>\n",
       "      <td>telur  ayam  mahal  kos  penetasan  mahal  upah  buruh  mahal  sebagai berikut  harga  anak  ayam  mahal  jual  kotoran  ayam  mahal  diungkitkan  benawe  tokey  ayam</td>\n",
       "      <td>0</td>\n",
       "      <td>1</td>\n",
       "    </tr>\n",
       "    <tr>\n",
       "      <th>35</th>\n",
       "      <td>peternak  ayam  blitar  keluhkan  harga  telur  terjun  bebas</td>\n",
       "      <td>0</td>\n",
       "      <td>1</td>\n",
       "    </tr>\n",
       "    <tr>\n",
       "      <th>40</th>\n",
       "      <td>salah  soto  ayam  recomen  kota  malang  segi  porsi  harga  komplit  lokasi  dkt  psr  bunul  soto  cak  boneng  kulit  telor  muda  istimewa  antrinya  sabar  kesini</td>\n",
       "      <td>0</td>\n",
       "      <td>1</td>\n",
       "    </tr>\n",
       "    <tr>\n",
       "      <th>45</th>\n",
       "      <td>harga  daging  ayam  harga  telur  jatuh  chicken  eggs  nasib  peternaknya</td>\n",
       "      <td>1</td>\n",
       "      <td>0</td>\n",
       "    </tr>\n",
       "    <tr>\n",
       "      <th>68</th>\n",
       "      <td>langkah  cerdas  pemerintah  upayakan  menyerap  telur  peternak  diperuntukkan  bantuan  sosial  bansos  pemerintah  masyarakat  terdampak  pandemi  covid  upaya  memperbaiki  harga  telur  anjlok</td>\n",
       "      <td>1</td>\n",
       "      <td>0</td>\n",
       "    </tr>\n",
       "    <tr>\n",
       "      <th>90</th>\n",
       "      <td>sayang  harga  telor  titik  terendahnya</td>\n",
       "      <td>0</td>\n",
       "      <td>1</td>\n",
       "    </tr>\n",
       "    <tr>\n",
       "      <th>91</th>\n",
       "      <td>harga  telur  ayam  peternak  anjlok  konsumen  turunnya  signifikan  harga  telur  ayam  warung  kg  lotte  kg  pedagangnya  mengambil  untung  kebanyakan</td>\n",
       "      <td>0</td>\n",
       "      <td>1</td>\n",
       "    </tr>\n",
       "    <tr>\n",
       "      <th>107</th>\n",
       "      <td>terobosanyang  dipikirkan  pemerintah  harga  telur</td>\n",
       "      <td>0</td>\n",
       "      <td>1</td>\n",
       "    </tr>\n",
       "    <tr>\n",
       "      <th>108</th>\n",
       "      <td>mendag  menyerap  telur  peternak  ayam  bansos  mendongkrak  harga  telur  rendah</td>\n",
       "      <td>0</td>\n",
       "      <td>1</td>\n",
       "    </tr>\n",
       "    <tr>\n",
       "      <th>124</th>\n",
       "      <td>harga  ayam  je  harga  telur  ayam  raya  beli  sepapan  telur  gred  rm  mcm  sepapan  cecah  rm  pening  kepala  bakers  mmg  seharian  berpapanpapan  telur  ayam</td>\n",
       "      <td>0</td>\n",
       "      <td>1</td>\n",
       "    </tr>\n",
       "    <tr>\n",
       "      <th>128</th>\n",
       "      <td>numpang  lapak  mimin  open  pastel  isi  kentang  wortel  bihun  telur  matang  cocok  cemilan  harga  murah  rp  pcs  minimal  order  pcs  pengiriman  pemesanan  pengiriman  jakarta  timur  dm  terima  kasih  mimin</td>\n",
       "      <td>1</td>\n",
       "      <td>0</td>\n",
       "    </tr>\n",
       "    <tr>\n",
       "      <th>130</th>\n",
       "      <td>berdasarkan  data  perhimpunan  perunggasan  rakyat  pinsar  indonesia  harga  telur  jabodetabek  jawa  barat  banten  ratarata  rp  kg</td>\n",
       "      <td>0</td>\n",
       "      <td>1</td>\n",
       "    </tr>\n",
       "    <tr>\n",
       "      <th>131</th>\n",
       "      <td>bps  september  deflasi  penurunan  harga  telur  berpengaruh</td>\n",
       "      <td>1</td>\n",
       "      <td>0</td>\n",
       "    </tr>\n",
       "    <tr>\n",
       "      <th>144</th>\n",
       "      <td>buka  harga  telur  ayam  indogrosir  ketahuan  dibawah  harga  batas  peternak</td>\n",
       "      <td>0</td>\n",
       "      <td>1</td>\n",
       "    </tr>\n",
       "    <tr>\n",
       "      <th>153</th>\n",
       "      <td>defaluasi  hutang  sejibun  telur  disalahkan  mmg  harga  telur  njt  ayam  petelur  disalahkan  rezim  sungsang  salah  kaprah  blunder</td>\n",
       "      <td>0</td>\n",
       "      <td>1</td>\n",
       "    </tr>\n",
       "    <tr>\n",
       "      <th>157</th>\n",
       "      <td>coba  hidup  masak  beras  seliter  makan  seminggu  butuh  liter  seliter  harga  telur  sekilo  isi  biji  ayam  salah  ekor  total  sisa  bumbu  ngerokok</td>\n",
       "      <td>0</td>\n",
       "      <td>1</td>\n",
       "    </tr>\n",
       "    <tr>\n",
       "      <th>164</th>\n",
       "      <td>mie  ayam  murah  kayaknya  pakainya  ayam  petelur  afkir  ayam  produksi  telur  harga  ayam  afkir  murah  dibanding  ayam  broiler</td>\n",
       "      <td>0</td>\n",
       "      <td>1</td>\n",
       "    </tr>\n",
       "    <tr>\n",
       "      <th>176</th>\n",
       "      <td>serba  salah  jagung  turun  pusing  ganti  petani  jagung  harga  telur  konsumen  protes  penyelesaianya  pekerja  harian  lepas  peternak  ayam  petelur  aju  puyeng</td>\n",
       "      <td>0</td>\n",
       "      <td>1</td>\n",
       "    </tr>\n",
       "    <tr>\n",
       "      <th>177</th>\n",
       "      <td>harga  telur  ayam  anjlok  peternak  kabupaten  blitar  gulung  tikar</td>\n",
       "      <td>1</td>\n",
       "      <td>0</td>\n",
       "    </tr>\n",
       "    <tr>\n",
       "      <th>180</th>\n",
       "      <td>gatau  faktor  harga  telor  turun  telor  murah  demand  telor  kota  kota  berkurang  telor  menyebar  daerah  daerah  analisa  bodoh  rebu  turunnya</td>\n",
       "      <td>0</td>\n",
       "      <td>1</td>\n",
       "    </tr>\n",
       "    <tr>\n",
       "      <th>187</th>\n",
       "      <td>peternak  wil  blitar  sebulan  peternak  merugi  harga  telur  murah  harga  pakan  mengadu  bawa  spaduk  memuntahkan  uneg  mewakili  peternak  isi  tulisan  cacian  hinaan</td>\n",
       "      <td>0</td>\n",
       "      <td>1</td>\n",
       "    </tr>\n",
       "    <tr>\n",
       "      <th>193</th>\n",
       "      <td>telur  gulung  segini  banyaknya  capek  mimin  butuh  uang  ngomong-ngomong  harga  tusuk  tusuk  dibeli</td>\n",
       "      <td>0</td>\n",
       "      <td>1</td>\n",
       "    </tr>\n",
       "    <tr>\n",
       "      <th>194</th>\n",
       "      <td>teman  distributor  telor  pasarpasar  doi  ambil  telor  peternaknya  ton  minggudoi  ngebersihin  tai  nempel  telornya  seharian  peternak  ngapernah  dibersihin  wqwq  pokoknya  standar  laen  harga  telor  mari  murah</td>\n",
       "      <td>0</td>\n",
       "      <td>1</td>\n",
       "    </tr>\n",
       "    <tr>\n",
       "      <th>202</th>\n",
       "      <td>rugi  kemarin  peternak  rugi  peternak  plus  petani  harga  jagung  turun  harga  telor</td>\n",
       "      <td>0</td>\n",
       "      <td>1</td>\n",
       "    </tr>\n",
       "    <tr>\n",
       "      <th>217</th>\n",
       "      <td>beli  order  telur  set  telur  mcd  scam  bayar  harga  set  telur  set  pulak  mengandung  kecewa</td>\n",
       "      <td>1</td>\n",
       "      <td>0</td>\n",
       "    </tr>\n",
       "    <tr>\n",
       "      <th>219</th>\n",
       "      <td>indeks  harga  konsumen  september  mengalami  penurunan  deflasi  deflasi  disumbang  penurunan  harga  bahan  pangan  telur  ayam  ras  cabai  rawit  bawang  merah</td>\n",
       "      <td>0</td>\n",
       "      <td>1</td>\n",
       "    </tr>\n",
       "    <tr>\n",
       "      <th>231</th>\n",
       "      <td>bentuk  protes  harga  anjlok  pedagang  bagikan  ton  telur  warga</td>\n",
       "      <td>1</td>\n",
       "      <td>0</td>\n",
       "    </tr>\n",
       "    <tr>\n",
       "      <th>233</th>\n",
       "      <td>ku  menangis  harga  telur  kian  tipis  pedagang  miris</td>\n",
       "      <td>0</td>\n",
       "      <td>1</td>\n",
       "    </tr>\n",
       "    <tr>\n",
       "      <th>238</th>\n",
       "      <td>cah  harga  telur  aplikasi  web  infonya</td>\n",
       "      <td>0</td>\n",
       "      <td>1</td>\n",
       "    </tr>\n",
       "    <tr>\n",
       "      <th>239</th>\n",
       "      <td>ciri  warung tegal  radikal  harga  telor  dadar  ceban  malu  telor  gocengan  warnaspad  tebel</td>\n",
       "      <td>0</td>\n",
       "      <td>1</td>\n",
       "    </tr>\n",
       "    <tr>\n",
       "      <th>244</th>\n",
       "      <td>anggap  tinggal  gajian  tanggal  telur  kg  butir  beras  kg  grade  indomie  bks  tempe  balok  tepung  tempe  cabe  bamer  baput  kangkung  bayem  total  harga  jakarta</td>\n",
       "      <td>0</td>\n",
       "      <td>1</td>\n",
       "    </tr>\n",
       "    <tr>\n",
       "      <th>256</th>\n",
       "      <td>pedagang  telur  bansos  sembilan bahan pokok  picu  anjloknya  harga  telur</td>\n",
       "      <td>0</td>\n",
       "      <td>1</td>\n",
       "    </tr>\n",
       "    <tr>\n",
       "      <th>260</th>\n",
       "      <td>naiknya  harga  telor  pound  berpotensi  mengangkat  derajat  telor  hidangan  kelompok  proletar  hidangan  kelompok  borjuis</td>\n",
       "      <td>1</td>\n",
       "      <td>0</td>\n",
       "    </tr>\n",
       "    <tr>\n",
       "      <th>275</th>\n",
       "      <td>tindakan  diambil  harga  telur  ayam  meningkat  kartel  memanipulasi  peringkat  rantaian  nanta  linggi</td>\n",
       "      <td>0</td>\n",
       "      <td>1</td>\n",
       "    </tr>\n",
       "    <tr>\n",
       "      <th>276</th>\n",
       "      <td>sehari  rp  juta  harga  telur  anjlok  peternak  berpotensi  rugi  puluhan  juta  rupiah</td>\n",
       "      <td>1</td>\n",
       "      <td>0</td>\n",
       "    </tr>\n",
       "    <tr>\n",
       "      <th>277</th>\n",
       "      <td>harga  telor  turun  banget  plis  ayah  ambil  dijual  toko  what the fuck  seperempat  ribu  ratus  what the fuck  kobisa  turun  segitu</td>\n",
       "      <td>0</td>\n",
       "      <td>1</td>\n",
       "    </tr>\n",
       "    <tr>\n",
       "      <th>283</th>\n",
       "      <td>salah  protes  skr  terpuruk  presiden  tergerak  hatinya  rakyat  sengsara  gulung  tikar  boss  harga  pakan  gilaan  harga  telur  terjun  bebas  mikirrr</td>\n",
       "      <td>0</td>\n",
       "      <td>1</td>\n",
       "    </tr>\n",
       "  </tbody>\n",
       "</table>\n",
       "</div>"
      ],
      "text/plain": [
       "                                                                                                                                                                                                                           sentence  \\\n",
       "2                                                                                                                     sedih  banget  sebulan  jualan  telur  ayam  tipis  banget  untungnya  harga  pasaran  anjlok  semoga  berita   \n",
       "3                                                                                                                                                                        tv  kmrin  harga  telor  anjlok  perusahaan  ayam  petelor   \n",
       "10                                                                                                                                                          maghrib  berburu  telur  harga  telur  kg  kedepan  telur  telur  telur   \n",
       "24                                                                                                                                                                      harga  telur  ayam  segitu  harga  pakan  ayamnya  menangis   \n",
       "33                                                                                                                               nasi  kuning  namribu  nasi  kuning  pakai  telor  sepuluribu  harga  telor  bandung  patribu  itb   \n",
       "34                                                           telur  ayam  mahal  kos  penetasan  mahal  upah  buruh  mahal  sebagai berikut  harga  anak  ayam  mahal  jual  kotoran  ayam  mahal  diungkitkan  benawe  tokey  ayam   \n",
       "35                                                                                                                                                                    peternak  ayam  blitar  keluhkan  harga  telur  terjun  bebas   \n",
       "40                                                         salah  soto  ayam  recomen  kota  malang  segi  porsi  harga  komplit  lokasi  dkt  psr  bunul  soto  cak  boneng  kulit  telor  muda  istimewa  antrinya  sabar  kesini   \n",
       "45                                                                                                                                                      harga  daging  ayam  harga  telur  jatuh  chicken  eggs  nasib  peternaknya   \n",
       "68                            langkah  cerdas  pemerintah  upayakan  menyerap  telur  peternak  diperuntukkan  bantuan  sosial  bansos  pemerintah  masyarakat  terdampak  pandemi  covid  upaya  memperbaiki  harga  telur  anjlok   \n",
       "90                                                                                                                                                                                         sayang  harga  telor  titik  terendahnya   \n",
       "91                                                                      harga  telur  ayam  peternak  anjlok  konsumen  turunnya  signifikan  harga  telur  ayam  warung  kg  lotte  kg  pedagangnya  mengambil  untung  kebanyakan   \n",
       "107                                                                                                                                                                             terobosanyang  dipikirkan  pemerintah  harga  telur   \n",
       "108                                                                                                                                              mendag  menyerap  telur  peternak  ayam  bansos  mendongkrak  harga  telur  rendah   \n",
       "124                                                           harga  ayam  je  harga  telur  ayam  raya  beli  sepapan  telur  gred  rm  mcm  sepapan  cecah  rm  pening  kepala  bakers  mmg  seharian  berpapanpapan  telur  ayam   \n",
       "128        numpang  lapak  mimin  open  pastel  isi  kentang  wortel  bihun  telur  matang  cocok  cemilan  harga  murah  rp  pcs  minimal  order  pcs  pengiriman  pemesanan  pengiriman  jakarta  timur  dm  terima  kasih  mimin   \n",
       "130                                                                                        berdasarkan  data  perhimpunan  perunggasan  rakyat  pinsar  indonesia  harga  telur  jabodetabek  jawa  barat  banten  ratarata  rp  kg   \n",
       "131                                                                                                                                                                   bps  september  deflasi  penurunan  harga  telur  berpengaruh   \n",
       "144                                                                                                                                                 buka  harga  telur  ayam  indogrosir  ketahuan  dibawah  harga  batas  peternak   \n",
       "153                                                                                       defaluasi  hutang  sejibun  telur  disalahkan  mmg  harga  telur  njt  ayam  petelur  disalahkan  rezim  sungsang  salah  kaprah  blunder   \n",
       "157                                                                    coba  hidup  masak  beras  seliter  makan  seminggu  butuh  liter  seliter  harga  telur  sekilo  isi  biji  ayam  salah  ekor  total  sisa  bumbu  ngerokok   \n",
       "164                                                                                          mie  ayam  murah  kayaknya  pakainya  ayam  petelur  afkir  ayam  produksi  telur  harga  ayam  afkir  murah  dibanding  ayam  broiler   \n",
       "176                                                        serba  salah  jagung  turun  pusing  ganti  petani  jagung  harga  telur  konsumen  protes  penyelesaianya  pekerja  harian  lepas  peternak  ayam  petelur  aju  puyeng   \n",
       "177                                                                                                                                                          harga  telur  ayam  anjlok  peternak  kabupaten  blitar  gulung  tikar   \n",
       "180                                                                         gatau  faktor  harga  telor  turun  telor  murah  demand  telor  kota  kota  berkurang  telor  menyebar  daerah  daerah  analisa  bodoh  rebu  turunnya   \n",
       "187                                                 peternak  wil  blitar  sebulan  peternak  merugi  harga  telur  murah  harga  pakan  mengadu  bawa  spaduk  memuntahkan  uneg  mewakili  peternak  isi  tulisan  cacian  hinaan   \n",
       "193                                                                                                                       telur  gulung  segini  banyaknya  capek  mimin  butuh  uang  ngomong-ngomong  harga  tusuk  tusuk  dibeli   \n",
       "194  teman  distributor  telor  pasarpasar  doi  ambil  telor  peternaknya  ton  minggudoi  ngebersihin  tai  nempel  telornya  seharian  peternak  ngapernah  dibersihin  wqwq  pokoknya  standar  laen  harga  telor  mari  murah   \n",
       "202                                                                                                                                       rugi  kemarin  peternak  rugi  peternak  plus  petani  harga  jagung  turun  harga  telor   \n",
       "217                                                                                                                             beli  order  telur  set  telur  mcd  scam  bayar  harga  set  telur  set  pulak  mengandung  kecewa   \n",
       "219                                                           indeks  harga  konsumen  september  mengalami  penurunan  deflasi  deflasi  disumbang  penurunan  harga  bahan  pangan  telur  ayam  ras  cabai  rawit  bawang  merah   \n",
       "231                                                                                                                                                             bentuk  protes  harga  anjlok  pedagang  bagikan  ton  telur  warga   \n",
       "233                                                                                                                                                                        ku  menangis  harga  telur  kian  tipis  pedagang  miris   \n",
       "238                                                                                                                                                                                       cah  harga  telur  aplikasi  web  infonya   \n",
       "239                                                                                                                                ciri  warung tegal  radikal  harga  telor  dadar  ceban  malu  telor  gocengan  warnaspad  tebel   \n",
       "244                                                     anggap  tinggal  gajian  tanggal  telur  kg  butir  beras  kg  grade  indomie  bks  tempe  balok  tepung  tempe  cabe  bamer  baput  kangkung  bayem  total  harga  jakarta   \n",
       "256                                                                                                                                                    pedagang  telur  bansos  sembilan bahan pokok  picu  anjloknya  harga  telur   \n",
       "260                                                                                                 naiknya  harga  telor  pound  berpotensi  mengangkat  derajat  telor  hidangan  kelompok  proletar  hidangan  kelompok  borjuis   \n",
       "275                                                                                                                      tindakan  diambil  harga  telur  ayam  meningkat  kartel  memanipulasi  peringkat  rantaian  nanta  linggi   \n",
       "276                                                                                                                                       sehari  rp  juta  harga  telur  anjlok  peternak  berpotensi  rugi  puluhan  juta  rupiah   \n",
       "277                                                                                      harga  telor  turun  banget  plis  ayah  ambil  dijual  toko  what the fuck  seperempat  ribu  ratus  what the fuck  kobisa  turun  segitu   \n",
       "283                                                                    salah  protes  skr  terpuruk  presiden  tergerak  hatinya  rakyat  sengsara  gulung  tikar  boss  harga  pakan  gilaan  harga  telur  terjun  bebas  mikirrr   \n",
       "\n",
       "     label  prediction  \n",
       "2        0           1  \n",
       "3        1           0  \n",
       "10       0           1  \n",
       "24       0           1  \n",
       "33       0           1  \n",
       "34       0           1  \n",
       "35       0           1  \n",
       "40       0           1  \n",
       "45       1           0  \n",
       "68       1           0  \n",
       "90       0           1  \n",
       "91       0           1  \n",
       "107      0           1  \n",
       "108      0           1  \n",
       "124      0           1  \n",
       "128      1           0  \n",
       "130      0           1  \n",
       "131      1           0  \n",
       "144      0           1  \n",
       "153      0           1  \n",
       "157      0           1  \n",
       "164      0           1  \n",
       "176      0           1  \n",
       "177      1           0  \n",
       "180      0           1  \n",
       "187      0           1  \n",
       "193      0           1  \n",
       "194      0           1  \n",
       "202      0           1  \n",
       "217      1           0  \n",
       "219      0           1  \n",
       "231      1           0  \n",
       "233      0           1  \n",
       "238      0           1  \n",
       "239      0           1  \n",
       "244      0           1  \n",
       "256      0           1  \n",
       "260      1           0  \n",
       "275      0           1  \n",
       "276      1           0  \n",
       "277      0           1  \n",
       "283      0           1  "
      ]
     },
     "execution_count": 23,
     "metadata": {},
     "output_type": "execute_result"
    }
   ],
   "source": [
    "pred_result = false_cases(X_test, y_test, y_pred)\n",
    "pred_result"
   ]
  },
  {
   "cell_type": "markdown",
   "metadata": {
    "id": "cDoVaYoDt0zh"
   },
   "source": [
    "#### LSTM"
   ]
  },
  {
   "cell_type": "code",
   "execution_count": 24,
   "metadata": {
    "id": "EIAhM81S6Qxu"
   },
   "outputs": [],
   "source": [
    "y_pred = lstm.predict(test_seq, verbose=0)\n",
    "y_pred = np.argmax(y_pred, axis=1)"
   ]
  },
  {
   "cell_type": "code",
   "execution_count": 25,
   "metadata": {
    "colab": {
     "base_uri": "https://localhost:8080/"
    },
    "id": "E_v30fAn6Qxv",
    "outputId": "8497dc37-0d52-4309-c517-72b75a94e73b"
   },
   "outputs": [
    {
     "name": "stdout",
     "output_type": "stream",
     "text": [
      "              precision    recall  f1-score   support\n",
      "\n",
      "    negative       0.00      0.00      0.00        73\n",
      "    positive       0.75      1.00      0.85       215\n",
      "\n",
      "    accuracy                           0.75       288\n",
      "   macro avg       0.37      0.50      0.43       288\n",
      "weighted avg       0.56      0.75      0.64       288\n",
      "\n"
     ]
    },
    {
     "name": "stderr",
     "output_type": "stream",
     "text": [
      "/media/DATA/Apps-Files/Linux/Miniconda3/envs/data-mining/lib/python3.9/site-packages/sklearn/metrics/_classification.py:1308: UndefinedMetricWarning: Precision and F-score are ill-defined and being set to 0.0 in labels with no predicted samples. Use `zero_division` parameter to control this behavior.\n",
      "  _warn_prf(average, modifier, msg_start, len(result))\n",
      "/media/DATA/Apps-Files/Linux/Miniconda3/envs/data-mining/lib/python3.9/site-packages/sklearn/metrics/_classification.py:1308: UndefinedMetricWarning: Precision and F-score are ill-defined and being set to 0.0 in labels with no predicted samples. Use `zero_division` parameter to control this behavior.\n",
      "  _warn_prf(average, modifier, msg_start, len(result))\n",
      "/media/DATA/Apps-Files/Linux/Miniconda3/envs/data-mining/lib/python3.9/site-packages/sklearn/metrics/_classification.py:1308: UndefinedMetricWarning: Precision and F-score are ill-defined and being set to 0.0 in labels with no predicted samples. Use `zero_division` parameter to control this behavior.\n",
      "  _warn_prf(average, modifier, msg_start, len(result))\n"
     ]
    }
   ],
   "source": [
    "print(classification_report(y_test, y_pred, target_names=target_names))"
   ]
  },
  {
   "cell_type": "code",
   "execution_count": 26,
   "metadata": {
    "colab": {
     "base_uri": "https://localhost:8080/",
     "height": 279
    },
    "id": "T9kfHQ7Z6Qxw",
    "outputId": "d93b5600-1fe8-4408-d823-74bf36c48ae6"
   },
   "outputs": [
    {
     "data": {
      "image/png": "[encoded data removed]",
      "text/plain": [
       "<Figure size 432x288 with 2 Axes>"
      ]
     },
     "metadata": {
      "needs_background": "light"
     },
     "output_type": "display_data"
    }
   ],
   "source": [
    "plot_matrix(y_test, y_pred)"
   ]
  },
  {
   "cell_type": "code",
   "execution_count": 27,
   "metadata": {
    "colab": {
     "base_uri": "https://localhost:8080/",
     "height": 424
    },
    "id": "vtDOdRh26Qxw",
    "outputId": "e1024620-1f51-4558-c79c-3ad0c6b69567"
   },
   "outputs": [
    {
     "data": {
      "text/html": [
       "<div>\n",
       "<style scoped>\n",
       "    .dataframe tbody tr th:only-of-type {\n",
       "        vertical-align: middle;\n",
       "    }\n",
       "\n",
       "    .dataframe tbody tr th {\n",
       "        vertical-align: top;\n",
       "    }\n",
       "\n",
       "    .dataframe thead th {\n",
       "        text-align: right;\n",
       "    }\n",
       "</style>\n",
       "<table border=\"1\" class=\"dataframe\">\n",
       "  <thead>\n",
       "    <tr style=\"text-align: right;\">\n",
       "      <th></th>\n",
       "      <th>sentence</th>\n",
       "      <th>label</th>\n",
       "      <th>prediction</th>\n",
       "    </tr>\n",
       "  </thead>\n",
       "  <tbody>\n",
       "    <tr>\n",
       "      <th>2</th>\n",
       "      <td>sedih  banget  sebulan  jualan  telur  ayam  tipis  banget  untungnya  harga  pasaran  anjlok  semoga  berita</td>\n",
       "      <td>0</td>\n",
       "      <td>1</td>\n",
       "    </tr>\n",
       "    <tr>\n",
       "      <th>4</th>\n",
       "      <td>harga  telur  jatuh  ternak  ayam  ditangkap  kejam  bengis  rezim  jokowi  dikit  ngamuk</td>\n",
       "      <td>0</td>\n",
       "      <td>1</td>\n",
       "    </tr>\n",
       "    <tr>\n",
       "      <th>10</th>\n",
       "      <td>maghrib  berburu  telur  harga  telur  kg  kedepan  telur  telur  telur</td>\n",
       "      <td>0</td>\n",
       "      <td>1</td>\n",
       "    </tr>\n",
       "    <tr>\n",
       "      <th>12</th>\n",
       "      <td>harga  pakan  meroket  telur  ambruk  peternak  garut  terpaksa  lelang  ayam</td>\n",
       "      <td>0</td>\n",
       "      <td>1</td>\n",
       "    </tr>\n",
       "    <tr>\n",
       "      <th>14</th>\n",
       "      <td>cantikkk  harga  mesti  cantikkk  wallet  cantikkk  kosong  telur  ayam</td>\n",
       "      <td>0</td>\n",
       "      <td>1</td>\n",
       "    </tr>\n",
       "    <tr>\n",
       "      <th>...</th>\n",
       "      <td>...</td>\n",
       "      <td>...</td>\n",
       "      <td>...</td>\n",
       "    </tr>\n",
       "    <tr>\n",
       "      <th>263</th>\n",
       "      <td>pasar  sederhana  harga  beras  medium  rpkg  gula  pasir  rpkg  daging  ayam  ras  rpkg  daging  sapi  rpkg  telur  ayam  ras  rpkg  cabai  merah  keriting  rpkg  bawang  putih  kating  rpkg</td>\n",
       "      <td>0</td>\n",
       "      <td>1</td>\n",
       "    </tr>\n",
       "    <tr>\n",
       "      <th>273</th>\n",
       "      <td>harga  telur  ayam  anjlok  ribu  kilogram  radar  banyumas</td>\n",
       "      <td>0</td>\n",
       "      <td>1</td>\n",
       "    </tr>\n",
       "    <tr>\n",
       "      <th>275</th>\n",
       "      <td>tindakan  diambil  harga  telur  ayam  meningkat  kartel  memanipulasi  peringkat  rantaian  nanta  linggi</td>\n",
       "      <td>0</td>\n",
       "      <td>1</td>\n",
       "    </tr>\n",
       "    <tr>\n",
       "      <th>277</th>\n",
       "      <td>harga  telor  turun  banget  plis  ayah  ambil  dijual  toko  what the fuck  seperempat  ribu  ratus  what the fuck  kobisa  turun  segitu</td>\n",
       "      <td>0</td>\n",
       "      <td>1</td>\n",
       "    </tr>\n",
       "    <tr>\n",
       "      <th>283</th>\n",
       "      <td>salah  protes  skr  terpuruk  presiden  tergerak  hatinya  rakyat  sengsara  gulung  tikar  boss  harga  pakan  gilaan  harga  telur  terjun  bebas  mikirrr</td>\n",
       "      <td>0</td>\n",
       "      <td>1</td>\n",
       "    </tr>\n",
       "  </tbody>\n",
       "</table>\n",
       "<p>73 rows × 3 columns</p>\n",
       "</div>"
      ],
      "text/plain": [
       "                                                                                                                                                                                            sentence  \\\n",
       "2                                                                                      sedih  banget  sebulan  jualan  telur  ayam  tipis  banget  untungnya  harga  pasaran  anjlok  semoga  berita   \n",
       "4                                                                                                          harga  telur  jatuh  ternak  ayam  ditangkap  kejam  bengis  rezim  jokowi  dikit  ngamuk   \n",
       "10                                                                                                                           maghrib  berburu  telur  harga  telur  kg  kedepan  telur  telur  telur   \n",
       "12                                                                                                                     harga  pakan  meroket  telur  ambruk  peternak  garut  terpaksa  lelang  ayam   \n",
       "14                                                                                                                           cantikkk  harga  mesti  cantikkk  wallet  cantikkk  kosong  telur  ayam   \n",
       "..                                                                                                                                                                                               ...   \n",
       "263  pasar  sederhana  harga  beras  medium  rpkg  gula  pasir  rpkg  daging  ayam  ras  rpkg  daging  sapi  rpkg  telur  ayam  ras  rpkg  cabai  merah  keriting  rpkg  bawang  putih  kating  rpkg   \n",
       "273                                                                                                                                      harga  telur  ayam  anjlok  ribu  kilogram  radar  banyumas   \n",
       "275                                                                                       tindakan  diambil  harga  telur  ayam  meningkat  kartel  memanipulasi  peringkat  rantaian  nanta  linggi   \n",
       "277                                                       harga  telor  turun  banget  plis  ayah  ambil  dijual  toko  what the fuck  seperempat  ribu  ratus  what the fuck  kobisa  turun  segitu   \n",
       "283                                     salah  protes  skr  terpuruk  presiden  tergerak  hatinya  rakyat  sengsara  gulung  tikar  boss  harga  pakan  gilaan  harga  telur  terjun  bebas  mikirrr   \n",
       "\n",
       "     label  prediction  \n",
       "2        0           1  \n",
       "4        0           1  \n",
       "10       0           1  \n",
       "12       0           1  \n",
       "14       0           1  \n",
       "..     ...         ...  \n",
       "263      0           1  \n",
       "273      0           1  \n",
       "275      0           1  \n",
       "277      0           1  \n",
       "283      0           1  \n",
       "\n",
       "[73 rows x 3 columns]"
      ]
     },
     "execution_count": 27,
     "metadata": {},
     "output_type": "execute_result"
    }
   ],
   "source": [
    "pred_result = false_cases(X_test, y_test, y_pred)\n",
    "pred_result"
   ]
  },
  {
   "cell_type": "markdown",
   "metadata": {
    "id": "O7A6ZWRAt145"
   },
   "source": [
    "#### BiLSTM"
   ]
  },
  {
   "cell_type": "code",
   "execution_count": 28,
   "metadata": {
    "id": "QNXiCuj46S6S"
   },
   "outputs": [],
   "source": [
    "y_pred = blstm.predict(test_seq, verbose=0)\n",
    "y_pred = np.argmax(y_pred, axis=1)"
   ]
  },
  {
   "cell_type": "code",
   "execution_count": 29,
   "metadata": {
    "colab": {
     "base_uri": "https://localhost:8080/"
    },
    "id": "3CvQqV3O6S6T",
    "outputId": "ddc493b6-96f9-4781-accc-6450b835ca26"
   },
   "outputs": [
    {
     "name": "stdout",
     "output_type": "stream",
     "text": [
      "              precision    recall  f1-score   support\n",
      "\n",
      "    negative       0.68      0.74      0.71        73\n",
      "    positive       0.91      0.88      0.89       215\n",
      "\n",
      "    accuracy                           0.84       288\n",
      "   macro avg       0.79      0.81      0.80       288\n",
      "weighted avg       0.85      0.84      0.85       288\n",
      "\n"
     ]
    }
   ],
   "source": [
    "print(classification_report(y_test, y_pred, target_names=target_names))"
   ]
  },
  {
   "cell_type": "code",
   "execution_count": 30,
   "metadata": {
    "colab": {
     "base_uri": "https://localhost:8080/",
     "height": 279
    },
    "id": "ypYasD3y6S6U",
    "outputId": "130be769-d47b-4a37-e57e-861b4c6054de"
   },
   "outputs": [
    {
     "data": {
      "image/png": "[encoded data removed]",
      "text/plain": [
       "<Figure size 432x288 with 2 Axes>"
      ]
     },
     "metadata": {
      "needs_background": "light"
     },
     "output_type": "display_data"
    }
   ],
   "source": [
    "plot_matrix(y_test, y_pred)"
   ]
  },
  {
   "cell_type": "code",
   "execution_count": 31,
   "metadata": {
    "colab": {
     "base_uri": "https://localhost:8080/",
     "height": 1000
    },
    "id": "mXBdtCgZ6S6V",
    "outputId": "e974dcab-7bb9-41cc-b2c4-d2d28d82e091"
   },
   "outputs": [
    {
     "data": {
      "text/html": [
       "<div>\n",
       "<style scoped>\n",
       "    .dataframe tbody tr th:only-of-type {\n",
       "        vertical-align: middle;\n",
       "    }\n",
       "\n",
       "    .dataframe tbody tr th {\n",
       "        vertical-align: top;\n",
       "    }\n",
       "\n",
       "    .dataframe thead th {\n",
       "        text-align: right;\n",
       "    }\n",
       "</style>\n",
       "<table border=\"1\" class=\"dataframe\">\n",
       "  <thead>\n",
       "    <tr style=\"text-align: right;\">\n",
       "      <th></th>\n",
       "      <th>sentence</th>\n",
       "      <th>label</th>\n",
       "      <th>prediction</th>\n",
       "    </tr>\n",
       "  </thead>\n",
       "  <tbody>\n",
       "    <tr>\n",
       "      <th>2</th>\n",
       "      <td>sedih  banget  sebulan  jualan  telur  ayam  tipis  banget  untungnya  harga  pasaran  anjlok  semoga  berita</td>\n",
       "      <td>0</td>\n",
       "      <td>1</td>\n",
       "    </tr>\n",
       "    <tr>\n",
       "      <th>3</th>\n",
       "      <td>tv  kmrin  harga  telor  anjlok  perusahaan  ayam  petelor</td>\n",
       "      <td>1</td>\n",
       "      <td>0</td>\n",
       "    </tr>\n",
       "    <tr>\n",
       "      <th>7</th>\n",
       "      <td>turun  harga  telur  daging  keberhasilan  pemerintah  memakmurkan  rakyat</td>\n",
       "      <td>1</td>\n",
       "      <td>0</td>\n",
       "    </tr>\n",
       "    <tr>\n",
       "      <th>10</th>\n",
       "      <td>maghrib  berburu  telur  harga  telur  kg  kedepan  telur  telur  telur</td>\n",
       "      <td>0</td>\n",
       "      <td>1</td>\n",
       "    </tr>\n",
       "    <tr>\n",
       "      <th>17</th>\n",
       "      <td>topang  harga  kemendag  serap  telur  perternak  bansos</td>\n",
       "      <td>1</td>\n",
       "      <td>0</td>\n",
       "    </tr>\n",
       "    <tr>\n",
       "      <th>33</th>\n",
       "      <td>nasi  kuning  namribu  nasi  kuning  pakai  telor  sepuluribu  harga  telor  bandung  patribu  itb</td>\n",
       "      <td>0</td>\n",
       "      <td>1</td>\n",
       "    </tr>\n",
       "    <tr>\n",
       "      <th>35</th>\n",
       "      <td>peternak  ayam  blitar  keluhkan  harga  telur  terjun  bebas</td>\n",
       "      <td>0</td>\n",
       "      <td>1</td>\n",
       "    </tr>\n",
       "    <tr>\n",
       "      <th>45</th>\n",
       "      <td>harga  daging  ayam  harga  telur  jatuh  chicken  eggs  nasib  peternaknya</td>\n",
       "      <td>1</td>\n",
       "      <td>0</td>\n",
       "    </tr>\n",
       "    <tr>\n",
       "      <th>60</th>\n",
       "      <td>kurangnya  permintaan  pasar  telur  ayam  cabai  memengaruhi  penjualan  sebulan  harga  merosot  drastis  rdy</td>\n",
       "      <td>1</td>\n",
       "      <td>0</td>\n",
       "    </tr>\n",
       "    <tr>\n",
       "      <th>68</th>\n",
       "      <td>langkah  cerdas  pemerintah  upayakan  menyerap  telur  peternak  diperuntukkan  bantuan  sosial  bansos  pemerintah  masyarakat  terdampak  pandemi  covid  upaya  memperbaiki  harga  telur  anjlok</td>\n",
       "      <td>1</td>\n",
       "      <td>0</td>\n",
       "    </tr>\n",
       "    <tr>\n",
       "      <th>71</th>\n",
       "      <td>terkait  harga  telur  kepala  bidang  ketahanan  pangan  provinsi  dki  jakarta  lia  imbasari  mengakui  mengalami  penurunan  persen  pekan  keempat  september</td>\n",
       "      <td>1</td>\n",
       "      <td>0</td>\n",
       "    </tr>\n",
       "    <tr>\n",
       "      <th>72</th>\n",
       "      <td>survey  lingkungan  adik  bem  harga  telur  daging  ayam  kondisi  stabil  smart</td>\n",
       "      <td>1</td>\n",
       "      <td>0</td>\n",
       "    </tr>\n",
       "    <tr>\n",
       "      <th>90</th>\n",
       "      <td>sayang  harga  telor  titik  terendahnya</td>\n",
       "      <td>0</td>\n",
       "      <td>1</td>\n",
       "    </tr>\n",
       "    <tr>\n",
       "      <th>91</th>\n",
       "      <td>harga  telur  ayam  peternak  anjlok  konsumen  turunnya  signifikan  harga  telur  ayam  warung  kg  lotte  kg  pedagangnya  mengambil  untung  kebanyakan</td>\n",
       "      <td>0</td>\n",
       "      <td>1</td>\n",
       "    </tr>\n",
       "    <tr>\n",
       "      <th>94</th>\n",
       "      <td>salah  terobosan  pemerintah  jokowi  perbaikan  harga  telur  peternak  diserap  bansos  muhammad  lutfi</td>\n",
       "      <td>1</td>\n",
       "      <td>0</td>\n",
       "    </tr>\n",
       "    <tr>\n",
       "      <th>103</th>\n",
       "      <td>nanta  linggi  harga  telur  sebijik  ringgit</td>\n",
       "      <td>1</td>\n",
       "      <td>0</td>\n",
       "    </tr>\n",
       "    <tr>\n",
       "      <th>124</th>\n",
       "      <td>harga  ayam  je  harga  telur  ayam  raya  beli  sepapan  telur  gred  rm  mcm  sepapan  cecah  rm  pening  kepala  bakers  mmg  seharian  berpapanpapan  telur  ayam</td>\n",
       "      <td>0</td>\n",
       "      <td>1</td>\n",
       "    </tr>\n",
       "    <tr>\n",
       "      <th>128</th>\n",
       "      <td>numpang  lapak  mimin  open  pastel  isi  kentang  wortel  bihun  telur  matang  cocok  cemilan  harga  murah  rp  pcs  minimal  order  pcs  pengiriman  pemesanan  pengiriman  jakarta  timur  dm  terima  kasih  mimin</td>\n",
       "      <td>1</td>\n",
       "      <td>0</td>\n",
       "    </tr>\n",
       "    <tr>\n",
       "      <th>130</th>\n",
       "      <td>berdasarkan  data  perhimpunan  perunggasan  rakyat  pinsar  indonesia  harga  telur  jabodetabek  jawa  barat  banten  ratarata  rp  kg</td>\n",
       "      <td>0</td>\n",
       "      <td>1</td>\n",
       "    </tr>\n",
       "    <tr>\n",
       "      <th>131</th>\n",
       "      <td>bps  september  deflasi  penurunan  harga  telur  berpengaruh</td>\n",
       "      <td>1</td>\n",
       "      <td>0</td>\n",
       "    </tr>\n",
       "    <tr>\n",
       "      <th>141</th>\n",
       "      <td>asam  pedas  manbukit  katilbg  restoran  terbaik  melakaduduk  sedapmakanpun  sedapikan  jenahak  parangtenggiriampkembung  disediakan  telur  masinharga  berpatutan  masakan  panaspun  adaterlanjur  melakasinggah  yasedap  terkata</td>\n",
       "      <td>1</td>\n",
       "      <td>0</td>\n",
       "    </tr>\n",
       "    <tr>\n",
       "      <th>144</th>\n",
       "      <td>buka  harga  telur  ayam  indogrosir  ketahuan  dibawah  harga  batas  peternak</td>\n",
       "      <td>0</td>\n",
       "      <td>1</td>\n",
       "    </tr>\n",
       "    <tr>\n",
       "      <th>145</th>\n",
       "      <td>tolong  bebaskan  peternak  ayam  blitarkarena  mewakili  kawankawan  peternak  ayam  petelur  dihimpit  harga  pakan  mahalharga  telur  anjlokdan  berlanjut  menyebabkan  gulung  tikar  masal</td>\n",
       "      <td>1</td>\n",
       "      <td>0</td>\n",
       "    </tr>\n",
       "    <tr>\n",
       "      <th>157</th>\n",
       "      <td>coba  hidup  masak  beras  seliter  makan  seminggu  butuh  liter  seliter  harga  telur  sekilo  isi  biji  ayam  salah  ekor  total  sisa  bumbu  ngerokok</td>\n",
       "      <td>0</td>\n",
       "      <td>1</td>\n",
       "    </tr>\n",
       "    <tr>\n",
       "      <th>159</th>\n",
       "      <td>harga  telur  ayam  mengalami  penurunan  daerah  masjid  hudal  islam  pondokgede  bekasi  harganya  kian  menyentuh  level  terendah  rp  ribu  kilogram  selengkapnya  fm  profesional  rri  amd</td>\n",
       "      <td>1</td>\n",
       "      <td>0</td>\n",
       "    </tr>\n",
       "    <tr>\n",
       "      <th>166</th>\n",
       "      <td>tertekan  harga  telur  anjlok  peternak  daerah  jakarta  demo  perusahaan  unggas</td>\n",
       "      <td>1</td>\n",
       "      <td>0</td>\n",
       "    </tr>\n",
       "    <tr>\n",
       "      <th>170</th>\n",
       "      <td>tgk  tgk  harga  brgn  mknn  ayam  sayur  telur  ikan  telur  ayam  pon  harganya  ampon  pemborong  confirm  mknn  harga  projek  mega  tunggu  larakyat  jaga</td>\n",
       "      <td>1</td>\n",
       "      <td>0</td>\n",
       "    </tr>\n",
       "    <tr>\n",
       "      <th>173</th>\n",
       "      <td>open  order  ekado  isian  telur  puyuh  dibalut  daging  ayam  isian  mozarella  harga  isian  telur  puyuh  kpcs  isian  mozarella  kpcs  dom  malang  ongkos kirim  via  shopee  pemesanan  dm</td>\n",
       "      <td>1</td>\n",
       "      <td>0</td>\n",
       "    </tr>\n",
       "    <tr>\n",
       "      <th>177</th>\n",
       "      <td>harga  telur  ayam  anjlok  peternak  kabupaten  blitar  gulung  tikar</td>\n",
       "      <td>1</td>\n",
       "      <td>0</td>\n",
       "    </tr>\n",
       "    <tr>\n",
       "      <th>180</th>\n",
       "      <td>gatau  faktor  harga  telor  turun  telor  murah  demand  telor  kota  kota  berkurang  telor  menyebar  daerah  daerah  analisa  bodoh  rebu  turunnya</td>\n",
       "      <td>0</td>\n",
       "      <td>1</td>\n",
       "    </tr>\n",
       "    <tr>\n",
       "      <th>186</th>\n",
       "      <td>kljabodetabek  gakmcocok  menggerus  perusahaan  mobil  ygbada  ygnsdh  standart  gaji  tki  tpkldiluar  jabodetabek  tebruka  lebar  apaalgi  daersh  tk  kesejahteraannya  rendah  harga  telur  makasimal  ribu</td>\n",
       "      <td>1</td>\n",
       "      <td>0</td>\n",
       "    </tr>\n",
       "    <tr>\n",
       "      <th>193</th>\n",
       "      <td>telur  gulung  segini  banyaknya  capek  mimin  butuh  uang  ngomong-ngomong  harga  tusuk  tusuk  dibeli</td>\n",
       "      <td>0</td>\n",
       "      <td>1</td>\n",
       "    </tr>\n",
       "    <tr>\n",
       "      <th>194</th>\n",
       "      <td>teman  distributor  telor  pasarpasar  doi  ambil  telor  peternaknya  ton  minggudoi  ngebersihin  tai  nempel  telornya  seharian  peternak  ngapernah  dibersihin  wqwq  pokoknya  standar  laen  harga  telor  mari  murah</td>\n",
       "      <td>0</td>\n",
       "      <td>1</td>\n",
       "    </tr>\n",
       "    <tr>\n",
       "      <th>205</th>\n",
       "      <td>pemerintah  gelem  ngurusi  receh  koyo  ngene  ndor  harga  telur  asline  turun  ndor  cuman  dibarengi  harga  jagung  gilaan  pakan  ayam  petelur  bahannya  jagung  giling</td>\n",
       "      <td>1</td>\n",
       "      <td>0</td>\n",
       "    </tr>\n",
       "    <tr>\n",
       "      <th>207</th>\n",
       "      <td>harga  telur  kaya  roller  coaster  berubah</td>\n",
       "      <td>1</td>\n",
       "      <td>0</td>\n",
       "    </tr>\n",
       "    <tr>\n",
       "      <th>217</th>\n",
       "      <td>beli  order  telur  set  telur  mcd  scam  bayar  harga  set  telur  set  pulak  mengandung  kecewa</td>\n",
       "      <td>1</td>\n",
       "      <td>0</td>\n",
       "    </tr>\n",
       "    <tr>\n",
       "      <th>219</th>\n",
       "      <td>indeks  harga  konsumen  september  mengalami  penurunan  deflasi  deflasi  disumbang  penurunan  harga  bahan  pangan  telur  ayam  ras  cabai  rawit  bawang  merah</td>\n",
       "      <td>0</td>\n",
       "      <td>1</td>\n",
       "    </tr>\n",
       "    <tr>\n",
       "      <th>223</th>\n",
       "      <td>dampak  lonjakan  harga  telur</td>\n",
       "      <td>1</td>\n",
       "      <td>0</td>\n",
       "    </tr>\n",
       "    <tr>\n",
       "      <th>233</th>\n",
       "      <td>ku  menangis  harga  telur  kian  tipis  pedagang  miris</td>\n",
       "      <td>0</td>\n",
       "      <td>1</td>\n",
       "    </tr>\n",
       "    <tr>\n",
       "      <th>238</th>\n",
       "      <td>cah  harga  telur  aplikasi  web  infonya</td>\n",
       "      <td>0</td>\n",
       "      <td>1</td>\n",
       "    </tr>\n",
       "    <tr>\n",
       "      <th>239</th>\n",
       "      <td>ciri  warung tegal  radikal  harga  telor  dadar  ceban  malu  telor  gocengan  warnaspad  tebel</td>\n",
       "      <td>0</td>\n",
       "      <td>1</td>\n",
       "    </tr>\n",
       "    <tr>\n",
       "      <th>244</th>\n",
       "      <td>anggap  tinggal  gajian  tanggal  telur  kg  butir  beras  kg  grade  indomie  bks  tempe  balok  tepung  tempe  cabe  bamer  baput  kangkung  bayem  total  harga  jakarta</td>\n",
       "      <td>0</td>\n",
       "      <td>1</td>\n",
       "    </tr>\n",
       "    <tr>\n",
       "      <th>256</th>\n",
       "      <td>pedagang  telur  bansos  sembilan bahan pokok  picu  anjloknya  harga  telur</td>\n",
       "      <td>0</td>\n",
       "      <td>1</td>\n",
       "    </tr>\n",
       "    <tr>\n",
       "      <th>260</th>\n",
       "      <td>naiknya  harga  telor  pound  berpotensi  mengangkat  derajat  telor  hidangan  kelompok  proletar  hidangan  kelompok  borjuis</td>\n",
       "      <td>1</td>\n",
       "      <td>0</td>\n",
       "    </tr>\n",
       "    <tr>\n",
       "      <th>276</th>\n",
       "      <td>sehari  rp  juta  harga  telur  anjlok  peternak  berpotensi  rugi  puluhan  juta  rupiah</td>\n",
       "      <td>1</td>\n",
       "      <td>0</td>\n",
       "    </tr>\n",
       "  </tbody>\n",
       "</table>\n",
       "</div>"
      ],
      "text/plain": [
       "                                                                                                                                                                                                                                     sentence  \\\n",
       "2                                                                                                                               sedih  banget  sebulan  jualan  telur  ayam  tipis  banget  untungnya  harga  pasaran  anjlok  semoga  berita   \n",
       "3                                                                                                                                                                                  tv  kmrin  harga  telor  anjlok  perusahaan  ayam  petelor   \n",
       "7                                                                                                                                                                  turun  harga  telur  daging  keberhasilan  pemerintah  memakmurkan  rakyat   \n",
       "10                                                                                                                                                                    maghrib  berburu  telur  harga  telur  kg  kedepan  telur  telur  telur   \n",
       "17                                                                                                                                                                                   topang  harga  kemendag  serap  telur  perternak  bansos   \n",
       "33                                                                                                                                         nasi  kuning  namribu  nasi  kuning  pakai  telor  sepuluribu  harga  telor  bandung  patribu  itb   \n",
       "35                                                                                                                                                                              peternak  ayam  blitar  keluhkan  harga  telur  terjun  bebas   \n",
       "45                                                                                                                                                                harga  daging  ayam  harga  telur  jatuh  chicken  eggs  nasib  peternaknya   \n",
       "60                                                                                                                            kurangnya  permintaan  pasar  telur  ayam  cabai  memengaruhi  penjualan  sebulan  harga  merosot  drastis  rdy   \n",
       "68                                      langkah  cerdas  pemerintah  upayakan  menyerap  telur  peternak  diperuntukkan  bantuan  sosial  bansos  pemerintah  masyarakat  terdampak  pandemi  covid  upaya  memperbaiki  harga  telur  anjlok   \n",
       "71                                                                         terkait  harga  telur  kepala  bidang  ketahanan  pangan  provinsi  dki  jakarta  lia  imbasari  mengakui  mengalami  penurunan  persen  pekan  keempat  september   \n",
       "72                                                                                                                                                          survey  lingkungan  adik  bem  harga  telur  daging  ayam  kondisi  stabil  smart   \n",
       "90                                                                                                                                                                                                   sayang  harga  telor  titik  terendahnya   \n",
       "91                                                                                harga  telur  ayam  peternak  anjlok  konsumen  turunnya  signifikan  harga  telur  ayam  warung  kg  lotte  kg  pedagangnya  mengambil  untung  kebanyakan   \n",
       "94                                                                                                                                  salah  terobosan  pemerintah  jokowi  perbaikan  harga  telur  peternak  diserap  bansos  muhammad  lutfi   \n",
       "103                                                                                                                                                                                             nanta  linggi  harga  telur  sebijik  ringgit   \n",
       "124                                                                     harga  ayam  je  harga  telur  ayam  raya  beli  sepapan  telur  gred  rm  mcm  sepapan  cecah  rm  pening  kepala  bakers  mmg  seharian  berpapanpapan  telur  ayam   \n",
       "128                  numpang  lapak  mimin  open  pastel  isi  kentang  wortel  bihun  telur  matang  cocok  cemilan  harga  murah  rp  pcs  minimal  order  pcs  pengiriman  pemesanan  pengiriman  jakarta  timur  dm  terima  kasih  mimin   \n",
       "130                                                                                                  berdasarkan  data  perhimpunan  perunggasan  rakyat  pinsar  indonesia  harga  telur  jabodetabek  jawa  barat  banten  ratarata  rp  kg   \n",
       "131                                                                                                                                                                             bps  september  deflasi  penurunan  harga  telur  berpengaruh   \n",
       "141  asam  pedas  manbukit  katilbg  restoran  terbaik  melakaduduk  sedapmakanpun  sedapikan  jenahak  parangtenggiriampkembung  disediakan  telur  masinharga  berpatutan  masakan  panaspun  adaterlanjur  melakasinggah  yasedap  terkata   \n",
       "144                                                                                                                                                           buka  harga  telur  ayam  indogrosir  ketahuan  dibawah  harga  batas  peternak   \n",
       "145                                         tolong  bebaskan  peternak  ayam  blitarkarena  mewakili  kawankawan  peternak  ayam  petelur  dihimpit  harga  pakan  mahalharga  telur  anjlokdan  berlanjut  menyebabkan  gulung  tikar  masal   \n",
       "157                                                                              coba  hidup  masak  beras  seliter  makan  seminggu  butuh  liter  seliter  harga  telur  sekilo  isi  biji  ayam  salah  ekor  total  sisa  bumbu  ngerokok   \n",
       "159                                       harga  telur  ayam  mengalami  penurunan  daerah  masjid  hudal  islam  pondokgede  bekasi  harganya  kian  menyentuh  level  terendah  rp  ribu  kilogram  selengkapnya  fm  profesional  rri  amd   \n",
       "166                                                                                                                                                       tertekan  harga  telur  anjlok  peternak  daerah  jakarta  demo  perusahaan  unggas   \n",
       "170                                                                           tgk  tgk  harga  brgn  mknn  ayam  sayur  telur  ikan  telur  ayam  pon  harganya  ampon  pemborong  confirm  mknn  harga  projek  mega  tunggu  larakyat  jaga   \n",
       "173                                         open  order  ekado  isian  telur  puyuh  dibalut  daging  ayam  isian  mozarella  harga  isian  telur  puyuh  kpcs  isian  mozarella  kpcs  dom  malang  ongkos kirim  via  shopee  pemesanan  dm   \n",
       "177                                                                                                                                                                    harga  telur  ayam  anjlok  peternak  kabupaten  blitar  gulung  tikar   \n",
       "180                                                                                   gatau  faktor  harga  telor  turun  telor  murah  demand  telor  kota  kota  berkurang  telor  menyebar  daerah  daerah  analisa  bodoh  rebu  turunnya   \n",
       "186                        kljabodetabek  gakmcocok  menggerus  perusahaan  mobil  ygbada  ygnsdh  standart  gaji  tki  tpkldiluar  jabodetabek  tebruka  lebar  apaalgi  daersh  tk  kesejahteraannya  rendah  harga  telur  makasimal  ribu   \n",
       "193                                                                                                                                 telur  gulung  segini  banyaknya  capek  mimin  butuh  uang  ngomong-ngomong  harga  tusuk  tusuk  dibeli   \n",
       "194            teman  distributor  telor  pasarpasar  doi  ambil  telor  peternaknya  ton  minggudoi  ngebersihin  tai  nempel  telornya  seharian  peternak  ngapernah  dibersihin  wqwq  pokoknya  standar  laen  harga  telor  mari  murah   \n",
       "205                                                          pemerintah  gelem  ngurusi  receh  koyo  ngene  ndor  harga  telur  asline  turun  ndor  cuman  dibarengi  harga  jagung  gilaan  pakan  ayam  petelur  bahannya  jagung  giling   \n",
       "207                                                                                                                                                                                              harga  telur  kaya  roller  coaster  berubah   \n",
       "217                                                                                                                                       beli  order  telur  set  telur  mcd  scam  bayar  harga  set  telur  set  pulak  mengandung  kecewa   \n",
       "219                                                                     indeks  harga  konsumen  september  mengalami  penurunan  deflasi  deflasi  disumbang  penurunan  harga  bahan  pangan  telur  ayam  ras  cabai  rawit  bawang  merah   \n",
       "223                                                                                                                                                                                                            dampak  lonjakan  harga  telur   \n",
       "233                                                                                                                                                                                  ku  menangis  harga  telur  kian  tipis  pedagang  miris   \n",
       "238                                                                                                                                                                                                 cah  harga  telur  aplikasi  web  infonya   \n",
       "239                                                                                                                                          ciri  warung tegal  radikal  harga  telor  dadar  ceban  malu  telor  gocengan  warnaspad  tebel   \n",
       "244                                                               anggap  tinggal  gajian  tanggal  telur  kg  butir  beras  kg  grade  indomie  bks  tempe  balok  tepung  tempe  cabe  bamer  baput  kangkung  bayem  total  harga  jakarta   \n",
       "256                                                                                                                                                              pedagang  telur  bansos  sembilan bahan pokok  picu  anjloknya  harga  telur   \n",
       "260                                                                                                           naiknya  harga  telor  pound  berpotensi  mengangkat  derajat  telor  hidangan  kelompok  proletar  hidangan  kelompok  borjuis   \n",
       "276                                                                                                                                                 sehari  rp  juta  harga  telur  anjlok  peternak  berpotensi  rugi  puluhan  juta  rupiah   \n",
       "\n",
       "     label  prediction  \n",
       "2        0           1  \n",
       "3        1           0  \n",
       "7        1           0  \n",
       "10       0           1  \n",
       "17       1           0  \n",
       "33       0           1  \n",
       "35       0           1  \n",
       "45       1           0  \n",
       "60       1           0  \n",
       "68       1           0  \n",
       "71       1           0  \n",
       "72       1           0  \n",
       "90       0           1  \n",
       "91       0           1  \n",
       "94       1           0  \n",
       "103      1           0  \n",
       "124      0           1  \n",
       "128      1           0  \n",
       "130      0           1  \n",
       "131      1           0  \n",
       "141      1           0  \n",
       "144      0           1  \n",
       "145      1           0  \n",
       "157      0           1  \n",
       "159      1           0  \n",
       "166      1           0  \n",
       "170      1           0  \n",
       "173      1           0  \n",
       "177      1           0  \n",
       "180      0           1  \n",
       "186      1           0  \n",
       "193      0           1  \n",
       "194      0           1  \n",
       "205      1           0  \n",
       "207      1           0  \n",
       "217      1           0  \n",
       "219      0           1  \n",
       "223      1           0  \n",
       "233      0           1  \n",
       "238      0           1  \n",
       "239      0           1  \n",
       "244      0           1  \n",
       "256      0           1  \n",
       "260      1           0  \n",
       "276      1           0  "
      ]
     },
     "execution_count": 31,
     "metadata": {},
     "output_type": "execute_result"
    }
   ],
   "source": [
    "pred_result = false_cases(X_test, y_test, y_pred)\n",
    "pred_result"
   ]
  },
  {
   "cell_type": "markdown",
   "metadata": {
    "id": "H0zJ6C1zGiS0"
   },
   "source": [
    "## Imbalanced Dataset"
   ]
  },
  {
   "cell_type": "markdown",
   "metadata": {
    "id": "pmakdASFGmUN"
   },
   "source": [
    "### Check Data Distribution"
   ]
  },
  {
   "cell_type": "code",
   "execution_count": 32,
   "metadata": {
    "colab": {
     "base_uri": "https://localhost:8080/"
    },
    "id": "olJoefgDHdyB",
    "outputId": "228cc6c8-7121-4cf5-8e57-62b7a9249e6f"
   },
   "outputs": [
    {
     "data": {
      "text/plain": [
       "{1: 1936, 0: 655}"
      ]
     },
     "execution_count": 32,
     "metadata": {},
     "output_type": "execute_result"
    }
   ],
   "source": [
    "label_dist = {}\n",
    "for col in y_train.unique():\n",
    "  label_dist[col] = y_train[y_train == col].count()\n",
    "label_dist"
   ]
  },
  {
   "cell_type": "markdown",
   "metadata": {
    "id": "1Mp0rhK5GyfL"
   },
   "source": [
    "### Resampling Data"
   ]
  },
  {
   "cell_type": "code",
   "execution_count": 33,
   "metadata": {
    "id": "WBVR2C3vITTw"
   },
   "outputs": [],
   "source": [
    "from imblearn.over_sampling import RandomOverSampler\n",
    "from imblearn.under_sampling import RandomUnderSampler"
   ]
  },
  {
   "cell_type": "markdown",
   "metadata": {
    "id": "edt8r9LUGxrt"
   },
   "source": [
    "#### Undersampling"
   ]
  },
  {
   "cell_type": "code",
   "execution_count": 34,
   "metadata": {
    "id": "kL_Fo2p7FEQy"
   },
   "outputs": [],
   "source": [
    "rus = RandomUnderSampler(random_state=0)\n",
    "rus.fit(train_seq, y_train)\n",
    "X_under_seq, y_under = rus.fit_resample(train_seq, y_train)"
   ]
  },
  {
   "cell_type": "code",
   "execution_count": 35,
   "metadata": {
    "colab": {
     "base_uri": "https://localhost:8080/"
    },
    "id": "s9DIRlSRIRg8",
    "outputId": "6834e1d8-b742-4321-a549-c4362991d8a0"
   },
   "outputs": [
    {
     "data": {
      "text/plain": [
       "{0: 655, 1: 655}"
      ]
     },
     "execution_count": 35,
     "metadata": {},
     "output_type": "execute_result"
    }
   ],
   "source": [
    "label_dist_under = {}\n",
    "for col in y_under.unique():\n",
    "  label_dist_under[col] = y_under[y_under == col].count()\n",
    "label_dist_under"
   ]
  },
  {
   "cell_type": "code",
   "execution_count": 36,
   "metadata": {
    "id": "tE5wZwPVqJo5"
   },
   "outputs": [],
   "source": [
    "y_under_seq = to_categorical(y_under, num_classes = 3)"
   ]
  },
  {
   "cell_type": "code",
   "execution_count": 37,
   "metadata": {
    "colab": {
     "base_uri": "https://localhost:8080/"
    },
    "id": "EcYwfdpxquoD",
    "outputId": "72f1399a-30c5-4ec8-e808-47196cb87dd5"
   },
   "outputs": [
    {
     "name": "stdout",
     "output_type": "stream",
     "text": [
      "Model: \"sequential_4\"\n",
      "_________________________________________________________________\n",
      " Layer (type)                Output Shape              Param #   \n",
      "=================================================================\n",
      " embedding_4 (Embedding)     (None, 200, 50)           339300    \n",
      "                                                                 \n",
      " bidirectional_2 (Bidirectio  (None, 200, 20)          4880      \n",
      " nal)                                                            \n",
      "                                                                 \n",
      " bidirectional_3 (Bidirectio  (None, 10)               1040      \n",
      " nal)                                                            \n",
      "                                                                 \n",
      " dropout_4 (Dropout)         (None, 10)                0         \n",
      "                                                                 \n",
      " dense_9 (Dense)             (None, 5)                 55        \n",
      "                                                                 \n",
      " dense_10 (Dense)            (None, 3)                 18        \n",
      "                                                                 \n",
      "=================================================================\n",
      "Total params: 345,293\n",
      "Trainable params: 345,293\n",
      "Non-trainable params: 0\n",
      "_________________________________________________________________\n",
      "Epoch 1/10\n",
      "27/27 [==============================] - 3s 18ms/step - loss: 0.2089\n",
      "Epoch 2/10\n",
      "27/27 [==============================] - 0s 16ms/step - loss: 0.1731\n",
      "Epoch 3/10\n",
      "27/27 [==============================] - 0s 15ms/step - loss: 0.1591\n",
      "Epoch 4/10\n",
      "27/27 [==============================] - 0s 16ms/step - loss: 0.1387\n",
      "Epoch 5/10\n",
      "27/27 [==============================] - 0s 15ms/step - loss: 0.1120\n",
      "Epoch 6/10\n",
      "27/27 [==============================] - 0s 15ms/step - loss: 0.0876\n",
      "Epoch 7/10\n",
      "27/27 [==============================] - 0s 15ms/step - loss: 0.0659\n",
      "Epoch 8/10\n",
      "27/27 [==============================] - 0s 16ms/step - loss: 0.0496\n",
      "Epoch 9/10\n",
      "27/27 [==============================] - 0s 15ms/step - loss: 0.0361\n",
      "Epoch 10/10\n",
      "27/27 [==============================] - 0s 16ms/step - loss: 0.0272\n"
     ]
    },
    {
     "data": {
      "text/plain": [
       "<keras.callbacks.History at 0x7f34a40c9310>"
      ]
     },
     "execution_count": 37,
     "metadata": {},
     "output_type": "execute_result"
    }
   ],
   "source": [
    "blstm = Sequential()\n",
    "blstm.add(Embedding(voc, 50, input_length=200))\n",
    "blstm.add(Bidirectional(LSTM(10, return_sequences=True)))\n",
    "blstm.add(Bidirectional(LSTM(5)))\n",
    "blstm.add(Dropout(0.2))\n",
    "blstm.add(Dense(5))\n",
    "blstm.add(Dense(3, activation=\"softmax\"))\n",
    "blstm.summary()\n",
    "blstm.compile('rmsprop','mse')\n",
    "\n",
    "blstm.fit(X_under_seq, y_under_seq, epochs=10, batch_size=50, shuffle=False)"
   ]
  },
  {
   "cell_type": "code",
   "execution_count": 38,
   "metadata": {
    "id": "WbPa8_1Hqz2U"
   },
   "outputs": [],
   "source": [
    "y_pred = blstm.predict(test_seq, verbose=0)\n",
    "y_pred = np.argmax(y_pred, axis=1)"
   ]
  },
  {
   "cell_type": "code",
   "execution_count": 39,
   "metadata": {
    "colab": {
     "base_uri": "https://localhost:8080/"
    },
    "id": "rN3FZCt8rOGX",
    "outputId": "1f4aed31-96e3-4c21-882f-19b989796c2c"
   },
   "outputs": [
    {
     "name": "stdout",
     "output_type": "stream",
     "text": [
      "              precision    recall  f1-score   support\n",
      "\n",
      "    negative       0.75      0.33      0.46        73\n",
      "    positive       0.81      0.96      0.88       215\n",
      "\n",
      "    accuracy                           0.80       288\n",
      "   macro avg       0.78      0.65      0.67       288\n",
      "weighted avg       0.79      0.80      0.77       288\n",
      "\n"
     ]
    }
   ],
   "source": [
    "print(classification_report(y_test, y_pred, target_names=target_names))"
   ]
  },
  {
   "cell_type": "markdown",
   "metadata": {
    "id": "EuruHIXrG4sr"
   },
   "source": [
    "#### Oversampling"
   ]
  },
  {
   "cell_type": "code",
   "execution_count": 40,
   "metadata": {
    "id": "E4QT2D-CE_8K"
   },
   "outputs": [],
   "source": [
    "ros = RandomOverSampler(random_state=0)\n",
    "ros.fit(train_seq, y_train)\n",
    "X_over, y_over = ros.fit_resample(train_seq, y_train)"
   ]
  },
  {
   "cell_type": "code",
   "execution_count": 41,
   "metadata": {
    "colab": {
     "base_uri": "https://localhost:8080/"
    },
    "id": "GnNAcINxIc7w",
    "outputId": "803ee7e8-d9e9-4185-9190-048900bca870"
   },
   "outputs": [
    {
     "data": {
      "text/plain": [
       "{1: 1936, 0: 1936}"
      ]
     },
     "execution_count": 41,
     "metadata": {},
     "output_type": "execute_result"
    }
   ],
   "source": [
    "label_dist_over = {}\n",
    "for col in y_over.unique():\n",
    "  label_dist_over[col] = y_over[y_over == col].count()\n",
    "label_dist_over"
   ]
  },
  {
   "cell_type": "markdown",
   "metadata": {
    "id": "4dTlv45tHIPM"
   },
   "source": [
    "### Back Translation"
   ]
  },
  {
   "cell_type": "code",
   "execution_count": 42,
   "metadata": {
    "id": "9SdsRjM-YN51"
   },
   "outputs": [],
   "source": [
    "# df = pd.DataFrame(list(zip(X_train, y_train)), columns=[\"tweet\", \"sentimen\"])"
   ]
  },
  {
   "cell_type": "code",
   "execution_count": 43,
   "metadata": {
    "id": "tvpGf0GCg4BX"
   },
   "outputs": [],
   "source": [
    "# num_pos_needed = label_dist[0] - label_dist[1]\n",
    "# df_pos = df[df['sentimen'] == 1][:num_pos_needed]\n",
    "# df_pos"
   ]
  },
  {
   "cell_type": "code",
   "execution_count": 44,
   "metadata": {
    "id": "MptbI8D3et7P"
   },
   "outputs": [],
   "source": [
    "# def preprocess_data(path_to_data):\n",
    "#   data = pd.read_csv(path_to_data, sep=\"\\t\", names=[\"sentence\", 'label'])\n",
    "#   data = data.replace(to_replace='@[\\w\\d_]+', regex=True, value='')\n",
    "#   data = data.replace(to_replace='[http|https]:\\\\[\\w\\d_?=#-]+', regex=True, value='')\n",
    "#   data = data.replace(to_replace='#[\\w\\d]+', regex=True, value='')\n",
    "#   data['sentence'] = data['sentence'].astype('str')\n",
    "#   data['sentence'] = data.apply(lambda x: demoji.replace_with_desc(x['sentence'], sep=\"\"), axis=1)\n",
    "  \n",
    "#   with open('data/slang.json','r') as file:\n",
    "#     slang_dict=json.loads(file.read())['CONTRACTION_MAP']\n",
    "#   data['sentence'] = data.apply(lambda x: convert_slang(x['sentence'], slang_dict), axis=1)\n",
    "  \n",
    "#   data = data.replace(to_replace='[^a-zA-Z ]+', regex=True, value='')\n",
    "#   data['sentence'] = data['sentence'].str.lower()\n",
    "\n",
    "#   stopwords = set(nltk.corpus.stopwords.words('english'))\n",
    "#   data['sentence'] = data.apply(lambda x: remove_stopwords(x['sentence'], stopwords), axis=1)\n",
    "\n",
    "#   lemmatizer = WordNetLemmatizer()\n",
    "#   data['sentence'] = data.apply(lambda x: lemmatize(x['sentence'], lemmatizer), axis=1)\n",
    "  \n",
    "#   data['label'] = data['label'].astype('category').cat.codes\n",
    "\n",
    "#   return data"
   ]
  },
  {
   "cell_type": "code",
   "execution_count": 45,
   "metadata": {
    "id": "2Pmfm0WiiHun"
   },
   "outputs": [],
   "source": [
    "# balanced_data = preprocess_data(\"/content/drive/MyDrive/Colab Notebooks/Datasets/Sentiment-Analysis-Other-1/data/dbsa/balanced.tsv\")\n",
    "# balanced_data.head()"
   ]
  },
  {
   "cell_type": "code",
   "execution_count": 46,
   "metadata": {
    "id": "BULS6T_epj5K"
   },
   "outputs": [],
   "source": [
    "# X_train_balanced = balanced_data['sentence']\n",
    "# y_train_balanced = balanced_data['label']\n",
    "# train_balanced_seq = vectorizer(X_train_balanced)\n",
    "# y_balanced_seq = to_categorical(y_train_balanced, num_classes = 3)"
   ]
  },
  {
   "cell_type": "code",
   "execution_count": 47,
   "metadata": {
    "id": "IIo2ExPRrTYl"
   },
   "outputs": [],
   "source": [
    "# blstm = Sequential()\n",
    "# blstm.add(Embedding(voc, 50, input_length=200))\n",
    "# blstm.add(Bidirectional(LSTM(10, return_sequences=True)))\n",
    "# blstm.add(Bidirectional(LSTM(5)))\n",
    "# blstm.add(Dropout(0.2))\n",
    "# blstm.add(Dense(5))\n",
    "# blstm.add(Dense(3, activation=\"softmax\"))\n",
    "# blstm.summary()\n",
    "# blstm.compile('rmsprop','mse')\n",
    "\n",
    "# blstm.fit(train_balanced_seq, y_balanced_seq, epochs=10, batch_size=50, shuffle=False)"
   ]
  },
  {
   "cell_type": "code",
   "execution_count": 48,
   "metadata": {
    "id": "Ey-PQRQprTYv"
   },
   "outputs": [],
   "source": [
    "# y_pred = blstm.predict(test_seq, verbose=0)\n",
    "# y_pred = np.argmax(y_pred, axis=1)"
   ]
  },
  {
   "cell_type": "code",
   "execution_count": 49,
   "metadata": {
    "id": "iXBAW0gOrTYw"
   },
   "outputs": [],
   "source": [
    "# print(classification_report(y_test, y_pred, target_names=target_names))"
   ]
  },
  {
   "cell_type": "markdown",
   "metadata": {
    "id": "3Gd7zKGkrrt9"
   },
   "source": [
    "## Pretrained Word Embedding"
   ]
  },
  {
   "cell_type": "code",
   "execution_count": 50,
   "metadata": {
    "id": "8sMiN40fTkXn"
   },
   "outputs": [],
   "source": [
    "path_to_glove_file = \"/media/DATA/Notebooks/Datasets/Sentiment Analysis/pretrained_embedding/wikipedia/glove.6B.50d.txt\"\n",
    "\n",
    "vocab_data = []\n",
    "embedding_matrix = [[0]*50, [0]*50]\n",
    "\n",
    "with open(path_to_glove_file) as f:\n",
    "    for line in f:\n",
    "        word, coefs = line.split(maxsplit=1)\n",
    "        coefs = np.fromstring(coefs, \"f\", sep=\" \")\n",
    "        vocab_data.append(word)\n",
    "        embedding_matrix.append(coefs)"
   ]
  },
  {
   "cell_type": "code",
   "execution_count": 51,
   "metadata": {
    "id": "tU9lFKCvY-Zz"
   },
   "outputs": [],
   "source": [
    "vectorizer = TextVectorization(output_sequence_length=200, vocabulary=vocab_data)\n",
    "voc = vectorizer.get_vocabulary()\n",
    "num_tokens = len(voc)\n",
    "embedding_dim = 50"
   ]
  },
  {
   "cell_type": "code",
   "execution_count": 52,
   "metadata": {
    "colab": {
     "base_uri": "https://localhost:8080/"
    },
    "id": "OFGvTPKi08hf",
    "outputId": "38bb9de4-0a0a-4218-8ed6-10ed028cf8e3"
   },
   "outputs": [
    {
     "data": {
      "text/plain": [
       "2763                                                                                                             guis  harga  telor  ayam  dom  kg  domku\n",
       "2024                                                                                                                                 barang  telur  harga\n",
       "1057                                                                     buntut  harga  telur  anjlok  harga  jagung  peternak  gugat  mentan  rp  miliar\n",
       "2133    diitung  makan  pakai  pakan  ayam  namanya  dedak  sekilo  berubah  ayam  betina  harga  telor  ayam  kampung  nelor  bareng  ekor  butir  butir\n",
       "2436                                                       semar  wl  yuuuk  gaez  akun  ramaikan  daftar  harga  telor  ayam  terjun  bebas  telor  ayam\n",
       "                                                                              ...                                                                        \n",
       "1563                                                                           harga  telur  ayam  tingkat  peternak  blitar  membaik  cenderung  menurun\n",
       "913                                  harga  telur  anjlok  peternak  rugi  salah  peternak  tasikmalaya  merugi  lantas  membagikan  telur  gratis  warga\n",
       "1370                                                                                                                                         harga  telor\n",
       "2007                                                                                dinaikin  harga  telor  daging  ayamnya  konsumen  ganti  teriakrepot\n",
       "2280                                             harga  telur  rataratadibanderol  rp  kilogram  harga  tertinggi  dibanderol  rp  kilogram  terendah  rp\n",
       "Name: tweet, Length: 2591, dtype: object"
      ]
     },
     "execution_count": 52,
     "metadata": {},
     "output_type": "execute_result"
    }
   ],
   "source": [
    "X_train"
   ]
  },
  {
   "cell_type": "code",
   "execution_count": 53,
   "metadata": {
    "id": "PkAT6JKPxQzq"
   },
   "outputs": [],
   "source": [
    "train_emb_seq = vectorizer(np.asarray(X_train))\n",
    "test_emb_seq = vectorizer(X_test)"
   ]
  },
  {
   "cell_type": "code",
   "execution_count": 54,
   "metadata": {
    "colab": {
     "base_uri": "https://localhost:8080/"
    },
    "id": "E0x-RNZvt4IO",
    "outputId": "5bd8c83f-f849-4eea-e799-e9bfa5747ce2"
   },
   "outputs": [
    {
     "name": "stdout",
     "output_type": "stream",
     "text": [
      "Model: \"sequential_5\"\n",
      "_________________________________________________________________\n",
      " Layer (type)                Output Shape              Param #   \n",
      "=================================================================\n",
      " embedding_5 (Embedding)     (None, None, 50)          20000100  \n",
      "                                                                 \n",
      " bidirectional_4 (Bidirectio  (None, None, 20)         4880      \n",
      " nal)                                                            \n",
      "                                                                 \n",
      " bidirectional_5 (Bidirectio  (None, 10)               1040      \n",
      " nal)                                                            \n",
      "                                                                 \n",
      " dropout_5 (Dropout)         (None, 10)                0         \n",
      "                                                                 \n",
      " dense_11 (Dense)            (None, 5)                 55        \n",
      "                                                                 \n",
      " dense_12 (Dense)            (None, 3)                 18        \n",
      "                                                                 \n",
      "=================================================================\n",
      "Total params: 20,006,093\n",
      "Trainable params: 5,993\n",
      "Non-trainable params: 20,000,100\n",
      "_________________________________________________________________\n",
      "Epoch 1/10\n",
      "52/52 [==============================] - 4s 15ms/step - loss: 0.1634\n",
      "Epoch 2/10\n",
      "52/52 [==============================] - 1s 15ms/step - loss: 0.1259\n",
      "Epoch 3/10\n",
      "52/52 [==============================] - 1s 15ms/step - loss: 0.1184\n",
      "Epoch 4/10\n",
      "52/52 [==============================] - 1s 15ms/step - loss: 0.1138\n",
      "Epoch 5/10\n",
      "52/52 [==============================] - 1s 15ms/step - loss: 0.1108\n",
      "Epoch 6/10\n",
      "52/52 [==============================] - 1s 15ms/step - loss: 0.1092\n",
      "Epoch 7/10\n",
      "52/52 [==============================] - 1s 15ms/step - loss: 0.1072\n",
      "Epoch 8/10\n",
      "52/52 [==============================] - 1s 15ms/step - loss: 0.1052\n",
      "Epoch 9/10\n",
      "52/52 [==============================] - 1s 15ms/step - loss: 0.1027\n",
      "Epoch 10/10\n",
      "52/52 [==============================] - 1s 15ms/step - loss: 0.1018\n"
     ]
    },
    {
     "data": {
      "text/plain": [
       "<keras.callbacks.History at 0x7f3301cec4f0>"
      ]
     },
     "execution_count": 54,
     "metadata": {},
     "output_type": "execute_result"
    }
   ],
   "source": [
    "blstm_emb = Sequential()\n",
    "blstm_emb.add(Embedding(\n",
    "    num_tokens,\n",
    "    embedding_dim,\n",
    "    embeddings_initializer=keras.initializers.Constant(np.array(embedding_matrix)),\n",
    "    trainable=False,\n",
    "))\n",
    "blstm_emb.add(Bidirectional(LSTM(10, return_sequences=True)))\n",
    "blstm_emb.add(Bidirectional(LSTM(5)))\n",
    "blstm_emb.add(Dropout(0.2))\n",
    "blstm_emb.add(Dense(5))\n",
    "blstm_emb.add(Dense(3, activation=\"softmax\"))\n",
    "blstm_emb.summary()\n",
    "blstm_emb.compile('rmsprop','mse')\n",
    "\n",
    "blstm_emb.fit(train_emb_seq, y_seq, epochs=10, batch_size=50, shuffle=False)"
   ]
  },
  {
   "cell_type": "code",
   "execution_count": 55,
   "metadata": {
    "id": "Gb-NUyzD2bbb"
   },
   "outputs": [],
   "source": [
    "y_pred = blstm_emb.predict(test_emb_seq, verbose=0)\n",
    "y_pred = np.argmax(y_pred, axis=1)"
   ]
  },
  {
   "cell_type": "code",
   "execution_count": 56,
   "metadata": {
    "colab": {
     "base_uri": "https://localhost:8080/"
    },
    "id": "wrs3_S2Z2wbx",
    "outputId": "a4f52288-dac5-4e9e-86a1-f97e1fabce0a"
   },
   "outputs": [
    {
     "name": "stdout",
     "output_type": "stream",
     "text": [
      "              precision    recall  f1-score   support\n",
      "\n",
      "    negative       0.64      0.25      0.36        73\n",
      "    positive       0.79      0.95      0.86       215\n",
      "\n",
      "    accuracy                           0.77       288\n",
      "   macro avg       0.72      0.60      0.61       288\n",
      "weighted avg       0.75      0.77      0.73       288\n",
      "\n"
     ]
    }
   ],
   "source": [
    "print(classification_report(y_test, y_pred, target_names=target_names))"
   ]
  },
  {
   "cell_type": "code",
   "execution_count": null,
   "metadata": {},
   "outputs": [],
   "source": []
  }
 ],
 "metadata": {
  "colab": {
   "collapsed_sections": [
    "_4Iuq56BlXx7",
    "8p31DkWQmHcy",
    "qXZPLeesmQ0R",
    "FtzNg9yOmY3x",
    "6D7Y6ArTmmX5",
    "lZAqcIkampEr",
    "XGJF2VY1m37a",
    "NKBlOqzInF2T",
    "hHiv-WUMnoDS",
    "4dTlv45tHIPM"
   ],
   "name": "Sentiment Analysis 1 - Data Sendiri.ipynb",
   "provenance": []
  },
  "kernelspec": {
   "display_name": "Python 3 (ipykernel)",
   "language": "python",
   "name": "python3"
  },
  "language_info": {
   "codemirror_mode": {
    "name": "ipython",
    "version": 3
   },
   "file_extension": ".py",
   "mimetype": "text/x-python",
   "name": "python",
   "nbconvert_exporter": "python",
   "pygments_lexer": "ipython3",
   "version": "3.9.7"
  }
 },
 "nbformat": 4,
 "nbformat_minor": 4
}
