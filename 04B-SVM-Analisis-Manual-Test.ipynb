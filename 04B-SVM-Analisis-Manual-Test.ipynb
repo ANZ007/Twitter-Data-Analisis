{
 "cells": [
  {
   "cell_type": "markdown",
   "id": "f28fdfa2-c8f3-492b-b694-9d7b05ae89eb",
   "metadata": {},
   "source": [
    "# Klasifikasi Support Vector Machine (SVM)"
   ]
  },
  {
   "cell_type": "markdown",
   "id": "5f599b05-0a7b-4cd3-a6d8-1c7a637d1aec",
   "metadata": {},
   "source": [
    "## Import module / package"
   ]
  },
  {
   "cell_type": "code",
   "execution_count": 1,
   "id": "9e71c8d9",
   "metadata": {},
   "outputs": [],
   "source": [
    "import pandas as pd\n",
    "import matplotlib.pyplot as plt\n",
    "from sklearn import model_selection\n",
    "from sklearn.feature_extraction.text import TfidfVectorizer\n",
    "from sklearn import svm\n",
    "from sklearn.metrics import accuracy_score"
   ]
  },
  {
   "cell_type": "code",
   "execution_count": 2,
   "id": "9c4ccbde",
   "metadata": {},
   "outputs": [
    {
     "data": {
      "text/html": [
       "<div>\n",
       "<style scoped>\n",
       "    .dataframe tbody tr th:only-of-type {\n",
       "        vertical-align: middle;\n",
       "    }\n",
       "\n",
       "    .dataframe tbody tr th {\n",
       "        vertical-align: top;\n",
       "    }\n",
       "\n",
       "    .dataframe thead th {\n",
       "        text-align: right;\n",
       "    }\n",
       "</style>\n",
       "<table border=\"1\" class=\"dataframe\">\n",
       "  <thead>\n",
       "    <tr style=\"text-align: right;\">\n",
       "      <th></th>\n",
       "      <th>index</th>\n",
       "      <th>tweet</th>\n",
       "      <th>sentimen</th>\n",
       "    </tr>\n",
       "  </thead>\n",
       "  <tbody>\n",
       "    <tr>\n",
       "      <th>0</th>\n",
       "      <td>0</td>\n",
       "      <td>['menangani', 'kekerasan', 'seksual', 'disahka...</td>\n",
       "      <td>Positif</td>\n",
       "    </tr>\n",
       "    <tr>\n",
       "      <th>1</th>\n",
       "      <td>1</td>\n",
       "      <td>['menangani', 'kekerasan', 'seksual', 'disahka...</td>\n",
       "      <td>Positif</td>\n",
       "    </tr>\n",
       "    <tr>\n",
       "      <th>2</th>\n",
       "      <td>2</td>\n",
       "      <td>['wakil', 'mpr', 'ri', 'mahasiswa', 'kawal', '...</td>\n",
       "      <td>Negatif</td>\n",
       "    </tr>\n",
       "    <tr>\n",
       "      <th>3</th>\n",
       "      <td>3</td>\n",
       "      <td>['fadel', 'muhammad', 'mahasiswa', 'kawal', 'i...</td>\n",
       "      <td>Negatif</td>\n",
       "    </tr>\n",
       "    <tr>\n",
       "      <th>4</th>\n",
       "      <td>4</td>\n",
       "      <td>['tanggal', 'chatnya', 'april', 'dijerat']</td>\n",
       "      <td>Negatif</td>\n",
       "    </tr>\n",
       "    <tr>\n",
       "      <th>...</th>\n",
       "      <td>...</td>\n",
       "      <td>...</td>\n",
       "      <td>...</td>\n",
       "    </tr>\n",
       "    <tr>\n",
       "      <th>15627</th>\n",
       "      <td>15627</td>\n",
       "      <td>['koordinator', 'forum', 'perempuan', 'indones...</td>\n",
       "      <td>Positif</td>\n",
       "    </tr>\n",
       "    <tr>\n",
       "      <th>15628</th>\n",
       "      <td>15628</td>\n",
       "      <td>['dinilai', 'penuhi', 'harapan', 'kaum', 'pere...</td>\n",
       "      <td>Netral</td>\n",
       "    </tr>\n",
       "    <tr>\n",
       "      <th>15629</th>\n",
       "      <td>15629</td>\n",
       "      <td>['keberadaan', 'payung', 'hukum', 'merehabilit...</td>\n",
       "      <td>Netral</td>\n",
       "    </tr>\n",
       "    <tr>\n",
       "      <th>15630</th>\n",
       "      <td>15630</td>\n",
       "      <td>['menyebut', 'kehadiran', 'wujud', 'keberpihak...</td>\n",
       "      <td>Positif</td>\n",
       "    </tr>\n",
       "    <tr>\n",
       "      <th>15631</th>\n",
       "      <td>15631</td>\n",
       "      <td>['ri', 'rancangan', 'undang', 'undang', 'tinda...</td>\n",
       "      <td>Positif</td>\n",
       "    </tr>\n",
       "  </tbody>\n",
       "</table>\n",
       "<p>15632 rows × 3 columns</p>\n",
       "</div>"
      ],
      "text/plain": [
       "       index                                              tweet sentimen\n",
       "0          0  ['menangani', 'kekerasan', 'seksual', 'disahka...  Positif\n",
       "1          1  ['menangani', 'kekerasan', 'seksual', 'disahka...  Positif\n",
       "2          2  ['wakil', 'mpr', 'ri', 'mahasiswa', 'kawal', '...  Negatif\n",
       "3          3  ['fadel', 'muhammad', 'mahasiswa', 'kawal', 'i...  Negatif\n",
       "4          4         ['tanggal', 'chatnya', 'april', 'dijerat']  Negatif\n",
       "...      ...                                                ...      ...\n",
       "15627  15627  ['koordinator', 'forum', 'perempuan', 'indones...  Positif\n",
       "15628  15628  ['dinilai', 'penuhi', 'harapan', 'kaum', 'pere...   Netral\n",
       "15629  15629  ['keberadaan', 'payung', 'hukum', 'merehabilit...   Netral\n",
       "15630  15630  ['menyebut', 'kehadiran', 'wujud', 'keberpihak...  Positif\n",
       "15631  15631  ['ri', 'rancangan', 'undang', 'undang', 'tinda...  Positif\n",
       "\n",
       "[15632 rows x 3 columns]"
      ]
     },
     "execution_count": 2,
     "metadata": {},
     "output_type": "execute_result"
    }
   ],
   "source": [
    "df = pd.read_csv(\"data/tweets_labelled_tokenized_nltk_indexed.csv\")\n",
    "df"
   ]
  },
  {
   "cell_type": "code",
   "execution_count": 3,
   "id": "135e6e17-3ea3-496f-8bfd-2416e2951594",
   "metadata": {},
   "outputs": [
    {
     "data": {
      "text/html": [
       "<div>\n",
       "<style scoped>\n",
       "    .dataframe tbody tr th:only-of-type {\n",
       "        vertical-align: middle;\n",
       "    }\n",
       "\n",
       "    .dataframe tbody tr th {\n",
       "        vertical-align: top;\n",
       "    }\n",
       "\n",
       "    .dataframe thead th {\n",
       "        text-align: right;\n",
       "    }\n",
       "</style>\n",
       "<table border=\"1\" class=\"dataframe\">\n",
       "  <thead>\n",
       "    <tr style=\"text-align: right;\">\n",
       "      <th></th>\n",
       "      <th>index</th>\n",
       "      <th>tweet</th>\n",
       "      <th>tweet_asli</th>\n",
       "      <th>auto_sentimen_vader</th>\n",
       "      <th>sentimen_manual</th>\n",
       "      <th>vader_labelling_correct</th>\n",
       "      <th>vader_labelling_correct_bin</th>\n",
       "      <th>pos_to_neg</th>\n",
       "      <th>neg_to_pos</th>\n",
       "    </tr>\n",
       "  </thead>\n",
       "  <tbody>\n",
       "    <tr>\n",
       "      <th>0</th>\n",
       "      <td>3</td>\n",
       "      <td>['fadel', 'muhammad', 'mahasiswa', 'kawal', 'i...</td>\n",
       "      <td>Fadel Muhammad Minta Mahasiswa Kawal Implement...</td>\n",
       "      <td>Negatif</td>\n",
       "      <td>Positif</td>\n",
       "      <td>False</td>\n",
       "      <td>0</td>\n",
       "      <td>NO</td>\n",
       "      <td>YES</td>\n",
       "    </tr>\n",
       "    <tr>\n",
       "      <th>1</th>\n",
       "      <td>25</td>\n",
       "      <td>['sikap', 'dinilai', 'konsisten', 'serius', 'm...</td>\n",
       "      <td>Sikap Puan yang dinilai konsisten dan serius d...</td>\n",
       "      <td>Positif</td>\n",
       "      <td>Positif</td>\n",
       "      <td>True</td>\n",
       "      <td>1</td>\n",
       "      <td>NO</td>\n",
       "      <td>NO</td>\n",
       "    </tr>\n",
       "    <tr>\n",
       "      <th>2</th>\n",
       "      <td>34</td>\n",
       "      <td>['haru', 'lega', 'rasakan', 'beleid', 'disahka...</td>\n",
       "      <td>�Haru dan lega. Itu yang saya rasakan setelah ...</td>\n",
       "      <td>Positif</td>\n",
       "      <td>Positif</td>\n",
       "      <td>True</td>\n",
       "      <td>1</td>\n",
       "      <td>NO</td>\n",
       "      <td>NO</td>\n",
       "    </tr>\n",
       "    <tr>\n",
       "      <th>3</th>\n",
       "      <td>35</td>\n",
       "      <td>['perwakilan', 'pejuang', 'berterima', 'kasih'...</td>\n",
       "      <td>Perwakilan pejuang UU TPKS berterima kasih kar...</td>\n",
       "      <td>Positif</td>\n",
       "      <td>Positif</td>\n",
       "      <td>True</td>\n",
       "      <td>1</td>\n",
       "      <td>NO</td>\n",
       "      <td>NO</td>\n",
       "    </tr>\n",
       "    <tr>\n",
       "      <th>4</th>\n",
       "      <td>64</td>\n",
       "      <td>['menko', 'pmk', 'salah', 'tokoh', 'memperjuan...</td>\n",
       "      <td>Sejak menjadi Menko PMK, Puan menjadi salah sa...</td>\n",
       "      <td>Positif</td>\n",
       "      <td>Positif</td>\n",
       "      <td>True</td>\n",
       "      <td>1</td>\n",
       "      <td>NO</td>\n",
       "      <td>NO</td>\n",
       "    </tr>\n",
       "    <tr>\n",
       "      <th>...</th>\n",
       "      <td>...</td>\n",
       "      <td>...</td>\n",
       "      <td>...</td>\n",
       "      <td>...</td>\n",
       "      <td>...</td>\n",
       "      <td>...</td>\n",
       "      <td>...</td>\n",
       "      <td>...</td>\n",
       "      <td>...</td>\n",
       "    </tr>\n",
       "    <tr>\n",
       "      <th>1559</th>\n",
       "      <td>15603</td>\n",
       "      <td>['akhiranya', 'sahhhh']</td>\n",
       "      <td>Alhamdulillah ?? akhiranya UU TPKS sahhhh</td>\n",
       "      <td>Positif</td>\n",
       "      <td>Positif</td>\n",
       "      <td>True</td>\n",
       "      <td>1</td>\n",
       "      <td>NO</td>\n",
       "      <td>NO</td>\n",
       "    </tr>\n",
       "    <tr>\n",
       "      <th>1560</th>\n",
       "      <td>15604</td>\n",
       "      <td>['kabar', 'gembira', 'pan', 'sah']</td>\n",
       "      <td>Kabar gembira min @Official_PAN RUU TPKS sah m...</td>\n",
       "      <td>Positif</td>\n",
       "      <td>Positif</td>\n",
       "      <td>True</td>\n",
       "      <td>1</td>\n",
       "      <td>NO</td>\n",
       "      <td>NO</td>\n",
       "    </tr>\n",
       "    <tr>\n",
       "      <th>1561</th>\n",
       "      <td>15608</td>\n",
       "      <td>['ketok', 'palu', 'sah']</td>\n",
       "      <td>UU TPKS KETOK PALU! SAH!</td>\n",
       "      <td>Positif</td>\n",
       "      <td>Positif</td>\n",
       "      <td>True</td>\n",
       "      <td>1</td>\n",
       "      <td>NO</td>\n",
       "      <td>NO</td>\n",
       "    </tr>\n",
       "    <tr>\n",
       "      <th>1562</th>\n",
       "      <td>15619</td>\n",
       "      <td>['disetujui', 'disahkan', 'jakarta', 'ri', 'me...</td>\n",
       "      <td>#BeritaSampit\\nKetua DPR: Hari Ini RUU TPKS Ak...</td>\n",
       "      <td>Positif</td>\n",
       "      <td>Positif</td>\n",
       "      <td>True</td>\n",
       "      <td>1</td>\n",
       "      <td>NO</td>\n",
       "      <td>NO</td>\n",
       "    </tr>\n",
       "    <tr>\n",
       "      <th>1563</th>\n",
       "      <td>15626</td>\n",
       "      <td>['dijadwalkan', 'selasa', 'april']</td>\n",
       "      <td>Sudah dijadwalkan!!\\n\\nHari ini Selasa, 12 Apr...</td>\n",
       "      <td>Positif</td>\n",
       "      <td>Positif</td>\n",
       "      <td>True</td>\n",
       "      <td>1</td>\n",
       "      <td>NO</td>\n",
       "      <td>NO</td>\n",
       "    </tr>\n",
       "  </tbody>\n",
       "</table>\n",
       "<p>1564 rows × 9 columns</p>\n",
       "</div>"
      ],
      "text/plain": [
       "      index                                              tweet  \\\n",
       "0         3  ['fadel', 'muhammad', 'mahasiswa', 'kawal', 'i...   \n",
       "1        25  ['sikap', 'dinilai', 'konsisten', 'serius', 'm...   \n",
       "2        34  ['haru', 'lega', 'rasakan', 'beleid', 'disahka...   \n",
       "3        35  ['perwakilan', 'pejuang', 'berterima', 'kasih'...   \n",
       "4        64  ['menko', 'pmk', 'salah', 'tokoh', 'memperjuan...   \n",
       "...     ...                                                ...   \n",
       "1559  15603                            ['akhiranya', 'sahhhh']   \n",
       "1560  15604                 ['kabar', 'gembira', 'pan', 'sah']   \n",
       "1561  15608                           ['ketok', 'palu', 'sah']   \n",
       "1562  15619  ['disetujui', 'disahkan', 'jakarta', 'ri', 'me...   \n",
       "1563  15626                 ['dijadwalkan', 'selasa', 'april']   \n",
       "\n",
       "                                             tweet_asli auto_sentimen_vader  \\\n",
       "0     Fadel Muhammad Minta Mahasiswa Kawal Implement...             Negatif   \n",
       "1     Sikap Puan yang dinilai konsisten dan serius d...             Positif   \n",
       "2     �Haru dan lega. Itu yang saya rasakan setelah ...             Positif   \n",
       "3     Perwakilan pejuang UU TPKS berterima kasih kar...             Positif   \n",
       "4     Sejak menjadi Menko PMK, Puan menjadi salah sa...             Positif   \n",
       "...                                                 ...                 ...   \n",
       "1559          Alhamdulillah ?? akhiranya UU TPKS sahhhh             Positif   \n",
       "1560  Kabar gembira min @Official_PAN RUU TPKS sah m...             Positif   \n",
       "1561                           UU TPKS KETOK PALU! SAH!             Positif   \n",
       "1562  #BeritaSampit\\nKetua DPR: Hari Ini RUU TPKS Ak...             Positif   \n",
       "1563  Sudah dijadwalkan!!\\n\\nHari ini Selasa, 12 Apr...             Positif   \n",
       "\n",
       "     sentimen_manual  vader_labelling_correct  vader_labelling_correct_bin  \\\n",
       "0            Positif                    False                            0   \n",
       "1            Positif                     True                            1   \n",
       "2            Positif                     True                            1   \n",
       "3            Positif                     True                            1   \n",
       "4            Positif                     True                            1   \n",
       "...              ...                      ...                          ...   \n",
       "1559         Positif                     True                            1   \n",
       "1560         Positif                     True                            1   \n",
       "1561         Positif                     True                            1   \n",
       "1562         Positif                     True                            1   \n",
       "1563         Positif                     True                            1   \n",
       "\n",
       "     pos_to_neg neg_to_pos  \n",
       "0            NO        YES  \n",
       "1            NO         NO  \n",
       "2            NO         NO  \n",
       "3            NO         NO  \n",
       "4            NO         NO  \n",
       "...         ...        ...  \n",
       "1559         NO         NO  \n",
       "1560         NO         NO  \n",
       "1561         NO         NO  \n",
       "1562         NO         NO  \n",
       "1563         NO         NO  \n",
       "\n",
       "[1564 rows x 9 columns]"
      ]
     },
     "execution_count": 3,
     "metadata": {},
     "output_type": "execute_result"
    }
   ],
   "source": [
    "df_test = pd.read_csv(\"data/Data-Test-Manual-Labelling.csv\")\n",
    "df_test"
   ]
  },
  {
   "cell_type": "code",
   "execution_count": 4,
   "id": "f05da96e-5d74-4ab1-8dd1-e35ce02ac4a5",
   "metadata": {},
   "outputs": [
    {
     "data": {
      "text/html": [
       "<div>\n",
       "<style scoped>\n",
       "    .dataframe tbody tr th:only-of-type {\n",
       "        vertical-align: middle;\n",
       "    }\n",
       "\n",
       "    .dataframe tbody tr th {\n",
       "        vertical-align: top;\n",
       "    }\n",
       "\n",
       "    .dataframe thead th {\n",
       "        text-align: right;\n",
       "    }\n",
       "</style>\n",
       "<table border=\"1\" class=\"dataframe\">\n",
       "  <thead>\n",
       "    <tr style=\"text-align: right;\">\n",
       "      <th></th>\n",
       "      <th>index</th>\n",
       "      <th>tweet</th>\n",
       "      <th>sentimen</th>\n",
       "    </tr>\n",
       "  </thead>\n",
       "  <tbody>\n",
       "    <tr>\n",
       "      <th>0</th>\n",
       "      <td>0</td>\n",
       "      <td>['menangani', 'kekerasan', 'seksual', 'disahka...</td>\n",
       "      <td>Positif</td>\n",
       "    </tr>\n",
       "    <tr>\n",
       "      <th>1</th>\n",
       "      <td>1</td>\n",
       "      <td>['menangani', 'kekerasan', 'seksual', 'disahka...</td>\n",
       "      <td>Positif</td>\n",
       "    </tr>\n",
       "    <tr>\n",
       "      <th>2</th>\n",
       "      <td>2</td>\n",
       "      <td>['wakil', 'mpr', 'ri', 'mahasiswa', 'kawal', '...</td>\n",
       "      <td>Negatif</td>\n",
       "    </tr>\n",
       "    <tr>\n",
       "      <th>3</th>\n",
       "      <td>3</td>\n",
       "      <td>['fadel', 'muhammad', 'mahasiswa', 'kawal', 'i...</td>\n",
       "      <td>Negatif</td>\n",
       "    </tr>\n",
       "    <tr>\n",
       "      <th>4</th>\n",
       "      <td>4</td>\n",
       "      <td>['tanggal', 'chatnya', 'april', 'dijerat']</td>\n",
       "      <td>Negatif</td>\n",
       "    </tr>\n",
       "    <tr>\n",
       "      <th>...</th>\n",
       "      <td>...</td>\n",
       "      <td>...</td>\n",
       "      <td>...</td>\n",
       "    </tr>\n",
       "    <tr>\n",
       "      <th>15627</th>\n",
       "      <td>15627</td>\n",
       "      <td>['koordinator', 'forum', 'perempuan', 'indones...</td>\n",
       "      <td>Positif</td>\n",
       "    </tr>\n",
       "    <tr>\n",
       "      <th>15628</th>\n",
       "      <td>15628</td>\n",
       "      <td>['dinilai', 'penuhi', 'harapan', 'kaum', 'pere...</td>\n",
       "      <td>Positif</td>\n",
       "    </tr>\n",
       "    <tr>\n",
       "      <th>15629</th>\n",
       "      <td>15629</td>\n",
       "      <td>['keberadaan', 'payung', 'hukum', 'merehabilit...</td>\n",
       "      <td>Positif</td>\n",
       "    </tr>\n",
       "    <tr>\n",
       "      <th>15630</th>\n",
       "      <td>15630</td>\n",
       "      <td>['menyebut', 'kehadiran', 'wujud', 'keberpihak...</td>\n",
       "      <td>Positif</td>\n",
       "    </tr>\n",
       "    <tr>\n",
       "      <th>15631</th>\n",
       "      <td>15631</td>\n",
       "      <td>['ri', 'rancangan', 'undang', 'undang', 'tinda...</td>\n",
       "      <td>Positif</td>\n",
       "    </tr>\n",
       "  </tbody>\n",
       "</table>\n",
       "<p>15632 rows × 3 columns</p>\n",
       "</div>"
      ],
      "text/plain": [
       "       index                                              tweet sentimen\n",
       "0          0  ['menangani', 'kekerasan', 'seksual', 'disahka...  Positif\n",
       "1          1  ['menangani', 'kekerasan', 'seksual', 'disahka...  Positif\n",
       "2          2  ['wakil', 'mpr', 'ri', 'mahasiswa', 'kawal', '...  Negatif\n",
       "3          3  ['fadel', 'muhammad', 'mahasiswa', 'kawal', 'i...  Negatif\n",
       "4          4         ['tanggal', 'chatnya', 'april', 'dijerat']  Negatif\n",
       "...      ...                                                ...      ...\n",
       "15627  15627  ['koordinator', 'forum', 'perempuan', 'indones...  Positif\n",
       "15628  15628  ['dinilai', 'penuhi', 'harapan', 'kaum', 'pere...  Positif\n",
       "15629  15629  ['keberadaan', 'payung', 'hukum', 'merehabilit...  Positif\n",
       "15630  15630  ['menyebut', 'kehadiran', 'wujud', 'keberpihak...  Positif\n",
       "15631  15631  ['ri', 'rancangan', 'undang', 'undang', 'tinda...  Positif\n",
       "\n",
       "[15632 rows x 3 columns]"
      ]
     },
     "execution_count": 4,
     "metadata": {},
     "output_type": "execute_result"
    }
   ],
   "source": [
    "def merge_neutral(text):\n",
    "    if text == \"Netral\":\n",
    "        return \"Positif\"\n",
    "    if text == \"Positif\":\n",
    "        return \"Positif\"\n",
    "    else:\n",
    "        return \"Negatif\"\n",
    "\n",
    "df['sentimen'] = df['sentimen'].apply(merge_neutral)\n",
    "df"
   ]
  },
  {
   "cell_type": "code",
   "execution_count": 5,
   "id": "3be360e1",
   "metadata": {},
   "outputs": [],
   "source": [
    "data_train_temp = pd.DataFrame()\n",
    "data_train_temp = df[~df[\"index\"].isin(df_test[\"index\"])]\n",
    "data_train_temp\n",
    "\n",
    "\n",
    "train_X_df = data_train_temp[\"tweet\"]\n",
    "test_X_df = df_test[\"tweet\"]\n",
    "train_Y_df = data_train_temp[\"sentimen\"]\n",
    "test_Y_df = df_test[\"sentimen_manual\"]"
   ]
  },
  {
   "cell_type": "code",
   "execution_count": 6,
   "id": "93dab41b",
   "metadata": {},
   "outputs": [],
   "source": [
    "data_train = pd.DataFrame()\n",
    "data_train['tweet'] = train_X_df\n",
    "data_train['sentimen'] = train_Y_df\n",
    "\n",
    "data_test = pd.DataFrame()\n",
    "data_test['tweet'] = test_X_df\n",
    "data_test['sentimen'] = test_Y_df"
   ]
  },
  {
   "cell_type": "markdown",
   "id": "7fdac040-bc88-4a86-ae69-d83ddc8e4b3e",
   "metadata": {},
   "source": [
    "## TF-IDF"
   ]
  },
  {
   "cell_type": "code",
   "execution_count": 7,
   "id": "59cb2860",
   "metadata": {},
   "outputs": [],
   "source": [
    "datatfidf = TfidfVectorizer()\n",
    "datatfidf.fit(df['tweet'].values.astype('U'))\n",
    "train_X_datatfidf = datatfidf.transform(data_train['tweet'].values.astype('U'))\n",
    "test_X_datatfidf = datatfidf.transform(data_test['tweet'].values.astype('U'))"
   ]
  },
  {
   "cell_type": "code",
   "execution_count": 8,
   "id": "b57efe91",
   "metadata": {},
   "outputs": [
    {
     "name": "stdout",
     "output_type": "stream",
     "text": [
      "(1564, 11156)\n",
      "(14068, 11156)\n"
     ]
    }
   ],
   "source": [
    "print(test_X_datatfidf.shape)\n",
    "print(train_X_datatfidf.shape)"
   ]
  },
  {
   "cell_type": "markdown",
   "id": "5d6bd8c7-d802-4d75-8f28-a02d0f4292d7",
   "metadata": {},
   "source": [
    "## Klasifikasi SVM (Kernel Linear)"
   ]
  },
  {
   "cell_type": "code",
   "execution_count": 9,
   "id": "8ec2fabf",
   "metadata": {},
   "outputs": [
    {
     "data": {
      "text/plain": [
       "SVC(kernel='linear')"
      ]
     },
     "execution_count": 9,
     "metadata": {},
     "output_type": "execute_result"
    }
   ],
   "source": [
    "from sklearn.svm import SVC\n",
    "\n",
    "model = SVC(kernel='linear')\n",
    "model.fit(train_X_datatfidf,train_Y_df)"
   ]
  },
  {
   "cell_type": "code",
   "execution_count": 10,
   "id": "d0ff4f24",
   "metadata": {},
   "outputs": [],
   "source": [
    "from sklearn.metrics import accuracy_score\n",
    "\n",
    "predictionsSVM = model.predict(test_X_datatfidf)\n",
    "\n",
    "test_prediction = pd.DataFrame()\n",
    "test_prediction['tweet'] = test_X_df\n",
    "test_prediction['sentimen'] = predictionsSVM\n",
    "\n",
    "SVMaccuracy = accuracy_score(predictionsSVM, test_Y_df)*100\n",
    "SVMaccuracy = round(SVMaccuracy,1)"
   ]
  },
  {
   "cell_type": "code",
   "execution_count": 11,
   "id": "fe7ad477",
   "metadata": {},
   "outputs": [
    {
     "name": "stdout",
     "output_type": "stream",
     "text": [
      "Akurasi SVM :  86.5 %\n"
     ]
    }
   ],
   "source": [
    "print(\"Akurasi SVM : \",SVMaccuracy, \"%\")"
   ]
  },
  {
   "cell_type": "code",
   "execution_count": 12,
   "id": "2348146b",
   "metadata": {},
   "outputs": [
    {
     "name": "stdout",
     "output_type": "stream",
     "text": [
      "Support Vector Machine Acuracy: 86.50895140664962 %\n",
      "Support Vector Machine Precision: 95.37617554858933 %\n",
      "Support Vector Machine Recall: 88.89700511322133 %\n",
      "Support Vector Machine f1_score: 92.0226843100189 %\n",
      "====================================================\n",
      "\n",
      "              precision    recall  f1-score   support\n",
      "\n",
      "     Negatif       0.47      0.70      0.56       195\n",
      "     Positif       0.95      0.89      0.92      1369\n",
      "\n",
      "    accuracy                           0.87      1564\n",
      "   macro avg       0.71      0.79      0.74      1564\n",
      "weighted avg       0.89      0.87      0.88      1564\n",
      "\n"
     ]
    }
   ],
   "source": [
    "from sklearn.metrics import classification_report\n",
    "from sklearn.metrics import accuracy_score, precision_score, recall_score, f1_score\n",
    "\n",
    "print(\"Support Vector Machine Acuracy:\", accuracy_score(test_Y_df, predictionsSVM)*100, \"%\")\n",
    "print(\"Support Vector Machine Precision:\", precision_score(test_Y_df, predictionsSVM, average=\"binary\",\n",
    "                                                           pos_label=\"Positif\")*100, \"%\")\n",
    "print(\"Support Vector Machine Recall:\", recall_score(test_Y_df, predictionsSVM, average=\"binary\",\n",
    "                                                     pos_label=\"Positif\")*100, \"%\")\n",
    "print(\"Support Vector Machine f1_score:\", f1_score(test_Y_df, predictionsSVM, average=\"binary\",\n",
    "                                                   pos_label=\"Positif\")*100, \"%\")\n",
    "print('====================================================\\n')\n",
    "print (classification_report(test_Y_df, predictionsSVM))"
   ]
  },
  {
   "cell_type": "code",
   "execution_count": 13,
   "id": "ab98926c",
   "metadata": {},
   "outputs": [
    {
     "name": "stdout",
     "output_type": "stream",
     "text": [
      "Support Vector Machine Acuracy: 86.5 %\n"
     ]
    },
    {
     "data": {
      "image/png": "[encoded data removed]",
      "text/plain": [
       "<Figure size 432x288 with 2 Axes>"
      ]
     },
     "metadata": {
      "needs_background": "light"
     },
     "output_type": "display_data"
    }
   ],
   "source": [
    "from sklearn.metrics import confusion_matrix\n",
    "import seaborn as sns\n",
    "\n",
    "print(\"Support Vector Machine Acuracy:\", SVMaccuracy, \"%\")\n",
    "\n",
    "conf_mat = confusion_matrix(test_Y_df, predictionsSVM)\n",
    "class_label = [\"Negative\",\"Positive\"]\n",
    "test =pd.DataFrame(conf_mat, index = class_label, columns = class_label)\n",
    "sns.heatmap(test, annot = True, fmt = \"d\")\n",
    "plt.title(\"Confusion Matrix for test data Support Vector Machine\")\n",
    "plt.xlabel(\"Predicted Label\")\n",
    "plt.ylabel(\"True Label\")\n",
    "plt.show()"
   ]
  },
  {
   "cell_type": "markdown",
   "id": "ee4d7592-b3f1-4019-9112-2e9f80f95fbb",
   "metadata": {},
   "source": [
    "## Klasifikasi SVM (Kernel RBF)"
   ]
  },
  {
   "cell_type": "code",
   "execution_count": 14,
   "id": "aa528817-c11f-42f2-911d-133435a59a25",
   "metadata": {},
   "outputs": [
    {
     "data": {
      "text/plain": [
       "SVC(random_state=42)"
      ]
     },
     "execution_count": 14,
     "metadata": {},
     "output_type": "execute_result"
    }
   ],
   "source": [
    "from sklearn.svm import SVC\n",
    "model_rbf = SVC(random_state=42, kernel='rbf')\n",
    "# model2_rbf = SVC(random_state=42, kernel='rbf')\n",
    "model_rbf.fit(train_X_datatfidf,train_Y_df)\n",
    "# model2_rbf.fit(train_X_datatfidf2,train_Y_df2)"
   ]
  },
  {
   "cell_type": "code",
   "execution_count": 15,
   "id": "4ac3b5ee-d4d8-44d3-a846-0291919f3d46",
   "metadata": {},
   "outputs": [],
   "source": [
    "from sklearn.metrics import accuracy_score\n",
    "\n",
    "predictionsSVM_rbf = model_rbf.predict(test_X_datatfidf)\n",
    "\n",
    "test_prediction_rbf = pd.DataFrame()\n",
    "test_prediction_rbf['tweet'] = test_X_df\n",
    "test_prediction_rbf['sentimen'] = predictionsSVM_rbf\n",
    "\n",
    "SVMaccuracy_rbf = accuracy_score(predictionsSVM_rbf, test_Y_df)*100\n",
    "SVMaccuracy_rbf = round(SVMaccuracy_rbf,1)"
   ]
  },
  {
   "cell_type": "code",
   "execution_count": 16,
   "id": "959e1ef5-b1ca-4811-958b-afaec144747b",
   "metadata": {},
   "outputs": [
    {
     "name": "stdout",
     "output_type": "stream",
     "text": [
      "Akurasi SVM RBF DF :  86.1 %\n"
     ]
    }
   ],
   "source": [
    "print(\"Akurasi SVM RBF DF : \",SVMaccuracy_rbf, \"%\")"
   ]
  },
  {
   "cell_type": "code",
   "execution_count": 17,
   "id": "22f23fd9-e38a-412f-b4b9-343dbedbe069",
   "metadata": {},
   "outputs": [
    {
     "name": "stdout",
     "output_type": "stream",
     "text": [
      "SVM RBF Acuracy: 86.12531969309462 %\n",
      "SVM RBF Precision: 94.51313755795981 %\n",
      "SVM RBF Recall: 89.33528122717313 %\n",
      "SVM RBF f1_score: 91.85129553135563 %\n",
      "====================================================\n",
      "\n",
      "              precision    recall  f1-score   support\n",
      "\n",
      "     Negatif       0.46      0.64      0.53       195\n",
      "     Positif       0.95      0.89      0.92      1369\n",
      "\n",
      "    accuracy                           0.86      1564\n",
      "   macro avg       0.70      0.76      0.73      1564\n",
      "weighted avg       0.88      0.86      0.87      1564\n",
      "\n"
     ]
    }
   ],
   "source": [
    "from sklearn.metrics import classification_report\n",
    "from sklearn.metrics import accuracy_score, precision_score, recall_score, f1_score\n",
    "\n",
    "print(\"SVM RBF Acuracy:\", accuracy_score(test_Y_df, predictionsSVM_rbf)*100, \"%\")\n",
    "print(\"SVM RBF Precision:\", precision_score(test_Y_df, predictionsSVM_rbf, average=\"binary\",\n",
    "                                               pos_label=\"Positif\")*100, \"%\")\n",
    "print(\"SVM RBF Recall:\", recall_score(test_Y_df, predictionsSVM_rbf, average=\"binary\",\n",
    "                                         pos_label=\"Positif\")*100, \"%\")\n",
    "print(\"SVM RBF f1_score:\", f1_score(test_Y_df, predictionsSVM_rbf, average=\"binary\", \n",
    "                                       pos_label=\"Positif\")*100, \"%\")\n",
    "print('====================================================\\n')\n",
    "print (classification_report(test_Y_df, predictionsSVM_rbf))"
   ]
  },
  {
   "cell_type": "code",
   "execution_count": 18,
   "id": "8df4d7fb-155e-4900-8b0c-b3625368a1ff",
   "metadata": {},
   "outputs": [
    {
     "name": "stdout",
     "output_type": "stream",
     "text": [
      "Support Vector Machine Acuracy: 86.1 %\n"
     ]
    },
    {
     "data": {
      "image/png": "[encoded data removed]",
      "text/plain": [
       "<Figure size 432x288 with 2 Axes>"
      ]
     },
     "metadata": {
      "needs_background": "light"
     },
     "output_type": "display_data"
    }
   ],
   "source": [
    "from sklearn.metrics import confusion_matrix\n",
    "import seaborn as sns\n",
    "\n",
    "print(\"Support Vector Machine Acuracy:\", SVMaccuracy_rbf, \"%\")\n",
    "\n",
    "conf_mat = confusion_matrix(test_Y_df, predictionsSVM_rbf)\n",
    "class_label = [\"Negative\",\"Positive\"]\n",
    "test =pd.DataFrame(conf_mat, index = class_label, columns = class_label)\n",
    "sns.heatmap(test, annot = True, fmt = \"d\")\n",
    "plt.title(\"Confusion Matrix for test data Support Vector Machine\")\n",
    "plt.xlabel(\"Predicted Label\")\n",
    "plt.ylabel(\"True Label\")\n",
    "plt.show()"
   ]
  },
  {
   "cell_type": "code",
   "execution_count": 19,
   "id": "3ee309f8-de75-4a6e-8482-570dc8f69f36",
   "metadata": {},
   "outputs": [],
   "source": [
    "train_Y_df_bin = train_Y_df.replace(\"Negatif\", 0).replace(\"Positif\", 1)"
   ]
  }
 ],
 "metadata": {
  "kernelspec": {
   "display_name": "Python 3 (ipykernel)",
   "language": "python",
   "name": "python3"
  },
  "language_info": {
   "codemirror_mode": {
    "name": "ipython",
    "version": 3
   },
   "file_extension": ".py",
   "mimetype": "text/x-python",
   "name": "python",
   "nbconvert_exporter": "python",
   "pygments_lexer": "ipython3",
   "version": "3.9.7"
  }
 },
 "nbformat": 4,
 "nbformat_minor": 5
}
