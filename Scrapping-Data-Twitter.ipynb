{
 "cells": [
  {
   "cell_type": "markdown",
   "id": "c746b570",
   "metadata": {},
   "source": [
    "# Scrapping Data Twitter using Library \"snscrape\"\n",
    "## Grab data twitter from the Web (Scrap) and export it to CSV"
   ]
  },
  {
   "cell_type": "markdown",
   "id": "270c409c",
   "metadata": {},
   "source": [
    "### Import module / package"
   ]
  },
  {
   "cell_type": "code",
   "execution_count": 1,
   "id": "0e8306af-71b9-44a8-96a0-a36f7c876ecb",
   "metadata": {},
   "outputs": [],
   "source": [
    "import snscrape.modules.twitter as sntwitter\n",
    "import pandas as pd\n",
    "import csv\n",
    "from tqdm.notebook import tqdm\n",
    "from pandas_profiling import ProfileReport"
   ]
  },
  {
   "cell_type": "markdown",
   "id": "0c7ec851",
   "metadata": {},
   "source": [
    "### Scrap the Data"
   ]
  },
  {
   "cell_type": "code",
   "execution_count": 2,
   "id": "9db6e1fd-a052-4431-bdda-b054927d6274",
   "metadata": {},
   "outputs": [
    {
     "name": "stdout",
     "output_type": "stream",
     "text": [
      "Keyword : Harga (Telur OR Telor)\n",
      "Dari Tanggal : 2021-07-01\n",
      "Sampai Tanggal : 2021-10-15\n",
      "Bahasa (unicode) : id\n"
     ]
    },
    {
     "data": {
      "application/vnd.jupyter.widget-view+json": {
       "model_id": "729a576e23094cb1b6316f51002a0138",
       "version_major": 2,
       "version_minor": 0
      },
      "text/plain": [
       "Proses Scrapping Data:   0%|          | 0/15000 [00:00<?, ?it/s]"
      ]
     },
     "metadata": {},
     "output_type": "display_data"
    }
   ],
   "source": [
    "tweets_temp = []\n",
    "# Creating list to append tweet data\n",
    "search_words = \"Harga (Telur OR Telor)\"\n",
    "search = search_words + \" -filter:retweets\"\n",
    "date_since = '2021-07-01'\n",
    "date_until = '2021-10-15'\n",
    "lang = 'id'\n",
    "search = search + ' since:' + date_since + ' until:' + date_until + ' lang:' + lang\n",
    "tweets_count = 15000\n",
    "\n",
    "print(\"Keyword : \"+search_words)\n",
    "print(\"Dari Tanggal : \"+date_since)\n",
    "print(\"Sampai Tanggal : \"+date_until)\n",
    "print(\"Bahasa (unicode) : \"+lang)\n",
    "\n",
    "# Using TwitterSearchScraper to scrape data and append tweets to list\n",
    "# for i,tweet in enumerate(sntwitter.TwitterSearchScraper(search).get_items()):\n",
    "#     if i>tweets_count: #number of tweets you want to scrape\n",
    "#         break\n",
    "#     tweets_temp.append([tweet.date, tweet.id, tweet.content, tweet.user.username])\n",
    "    \n",
    "for i, tweet in enumerate(tqdm(sntwitter.TwitterSearchScraper(search).get_items(), desc=\"Proses Scrapping Data\", total=tweets_count)):\n",
    "    if i>tweets_count:\n",
    "        break\n",
    "    tweets_temp.append([tweet.date, tweet.id, tweet.content, tweet.user.username])\n",
    "\n",
    "\n",
    "# Creating a dataframe from the tweets list above \n",
    "df_tweets = pd.DataFrame(tweets_temp, columns=['Datetime', 'Tweet Id', 'Tweet', 'Username'])"
   ]
  },
  {
   "cell_type": "markdown",
   "id": "0c8ae889",
   "metadata": {},
   "source": [
    "### Show Result of the Scrap (in Pandas DataFrame)"
   ]
  },
  {
   "cell_type": "code",
   "execution_count": 3,
   "id": "f0dd7358-db84-4416-ad23-5f8081cb4040",
   "metadata": {},
   "outputs": [
    {
     "data": {
      "text/html": [
       "<div>\n",
       "<style scoped>\n",
       "    .dataframe tbody tr th:only-of-type {\n",
       "        vertical-align: middle;\n",
       "    }\n",
       "\n",
       "    .dataframe tbody tr th {\n",
       "        vertical-align: top;\n",
       "    }\n",
       "\n",
       "    .dataframe thead th {\n",
       "        text-align: right;\n",
       "    }\n",
       "</style>\n",
       "<table border=\"1\" class=\"dataframe\">\n",
       "  <thead>\n",
       "    <tr style=\"text-align: right;\">\n",
       "      <th></th>\n",
       "      <th>Datetime</th>\n",
       "      <th>Tweet Id</th>\n",
       "      <th>Tweet</th>\n",
       "      <th>Username</th>\n",
       "    </tr>\n",
       "  </thead>\n",
       "  <tbody>\n",
       "    <tr>\n",
       "      <th>0</th>\n",
       "      <td>2021-10-14 23:06:49+00:00</td>\n",
       "      <td>1448787405549367308</td>\n",
       "      <td>@awesomecemok @Zlhlmi____ JB...harga ayam rm8....</td>\n",
       "      <td>RezanHassan5401</td>\n",
       "    </tr>\n",
       "    <tr>\n",
       "      <th>1</th>\n",
       "      <td>2021-10-14 18:11:53+00:00</td>\n",
       "      <td>1448713183842091008</td>\n",
       "      <td>Berdikari serap telur dari peternak untuk stab...</td>\n",
       "      <td>ElshintaDotcom</td>\n",
       "    </tr>\n",
       "    <tr>\n",
       "      <th>2</th>\n",
       "      <td>2021-10-14 17:43:33+00:00</td>\n",
       "      <td>1448706053613375504</td>\n",
       "      <td>Penyebab Harga Telur Makin Anjlok Versi Pedaga...</td>\n",
       "      <td>AlbertSolo2</td>\n",
       "    </tr>\n",
       "    <tr>\n",
       "      <th>3</th>\n",
       "      <td>2021-10-14 17:38:05+00:00</td>\n",
       "      <td>1448704679001542661</td>\n",
       "      <td>Turunnya permintaan masyarakat akan telur ayam...</td>\n",
       "      <td>AlbertSolo2</td>\n",
       "    </tr>\n",
       "    <tr>\n",
       "      <th>4</th>\n",
       "      <td>2021-10-14 17:31:27+00:00</td>\n",
       "      <td>1448703009714675742</td>\n",
       "      <td>Tapi tidak bagi peternak ayam petelur, mereka ...</td>\n",
       "      <td>AlbertSolo2</td>\n",
       "    </tr>\n",
       "    <tr>\n",
       "      <th>...</th>\n",
       "      <td>...</td>\n",
       "      <td>...</td>\n",
       "      <td>...</td>\n",
       "      <td>...</td>\n",
       "    </tr>\n",
       "    <tr>\n",
       "      <th>4381</th>\n",
       "      <td>2021-07-01 03:59:18+00:00</td>\n",
       "      <td>1410447899431895049</td>\n",
       "      <td>Benda paling bodoh aku dengar harini masa beli...</td>\n",
       "      <td>mellyazizi</td>\n",
       "    </tr>\n",
       "    <tr>\n",
       "      <th>4382</th>\n",
       "      <td>2021-07-01 02:27:22+00:00</td>\n",
       "      <td>1410424761600053248</td>\n",
       "      <td>Sedangkan komoditi yang mengalami penurunan ha...</td>\n",
       "      <td>disperindag_jbr</td>\n",
       "    </tr>\n",
       "    <tr>\n",
       "      <th>4383</th>\n",
       "      <td>2021-07-01 01:27:50+00:00</td>\n",
       "      <td>1410409781764915204</td>\n",
       "      <td>@_Qirani_ayr4 Harga telor turun\\nHarga minyak ...</td>\n",
       "      <td>mister_sidik</td>\n",
       "    </tr>\n",
       "    <tr>\n",
       "      <th>4384</th>\n",
       "      <td>2021-07-01 01:22:33+00:00</td>\n",
       "      <td>1410408451092582402</td>\n",
       "      <td>Nak tolong peniaga Melayu tapi Roti telur harg...</td>\n",
       "      <td>ashqikazuya</td>\n",
       "    </tr>\n",
       "    <tr>\n",
       "      <th>4385</th>\n",
       "      <td>2021-07-01 00:09:31+00:00</td>\n",
       "      <td>1410390070314426369</td>\n",
       "      <td>@sinagahijau @laulyku @lelyr13 @ardyntii @suhs...</td>\n",
       "      <td>jchika_677</td>\n",
       "    </tr>\n",
       "  </tbody>\n",
       "</table>\n",
       "<p>4386 rows × 4 columns</p>\n",
       "</div>"
      ],
      "text/plain": [
       "                      Datetime             Tweet Id  \\\n",
       "0    2021-10-14 23:06:49+00:00  1448787405549367308   \n",
       "1    2021-10-14 18:11:53+00:00  1448713183842091008   \n",
       "2    2021-10-14 17:43:33+00:00  1448706053613375504   \n",
       "3    2021-10-14 17:38:05+00:00  1448704679001542661   \n",
       "4    2021-10-14 17:31:27+00:00  1448703009714675742   \n",
       "...                        ...                  ...   \n",
       "4381 2021-07-01 03:59:18+00:00  1410447899431895049   \n",
       "4382 2021-07-01 02:27:22+00:00  1410424761600053248   \n",
       "4383 2021-07-01 01:27:50+00:00  1410409781764915204   \n",
       "4384 2021-07-01 01:22:33+00:00  1410408451092582402   \n",
       "4385 2021-07-01 00:09:31+00:00  1410390070314426369   \n",
       "\n",
       "                                                  Tweet         Username  \n",
       "0     @awesomecemok @Zlhlmi____ JB...harga ayam rm8....  RezanHassan5401  \n",
       "1     Berdikari serap telur dari peternak untuk stab...   ElshintaDotcom  \n",
       "2     Penyebab Harga Telur Makin Anjlok Versi Pedaga...      AlbertSolo2  \n",
       "3     Turunnya permintaan masyarakat akan telur ayam...      AlbertSolo2  \n",
       "4     Tapi tidak bagi peternak ayam petelur, mereka ...      AlbertSolo2  \n",
       "...                                                 ...              ...  \n",
       "4381  Benda paling bodoh aku dengar harini masa beli...       mellyazizi  \n",
       "4382  Sedangkan komoditi yang mengalami penurunan ha...  disperindag_jbr  \n",
       "4383  @_Qirani_ayr4 Harga telor turun\\nHarga minyak ...     mister_sidik  \n",
       "4384  Nak tolong peniaga Melayu tapi Roti telur harg...      ashqikazuya  \n",
       "4385  @sinagahijau @laulyku @lelyr13 @ardyntii @suhs...       jchika_677  \n",
       "\n",
       "[4386 rows x 4 columns]"
      ]
     },
     "execution_count": 3,
     "metadata": {},
     "output_type": "execute_result"
    }
   ],
   "source": [
    "df_tweets"
   ]
  },
  {
   "cell_type": "markdown",
   "id": "06225849",
   "metadata": {},
   "source": [
    "### Removing duplicates (if any) & export it to CSV"
   ]
  },
  {
   "cell_type": "code",
   "execution_count": 4,
   "id": "83818c98-23d6-4874-8216-9d44a4ab049b",
   "metadata": {},
   "outputs": [
    {
     "name": "stdout",
     "output_type": "stream",
     "text": [
      "Dataset dibuang (Karena duplikat) : 0 data\n",
      "Dataset masuk : 4386 data\n"
     ]
    }
   ],
   "source": [
    "bruto = int(len(df_tweets))\n",
    "df_tweets.drop_duplicates(subset=['Tweet'])\n",
    "print(\"Dataset dibuang (Karena duplikat) : \"+(str(bruto-int(len(df_tweets))))+\" data\")\n",
    "print(\"Dataset masuk : \"+str(len(df_tweets))+\" data\")\n",
    "df_tweets.to_csv('data/tweets.csv',index=False,quoting=csv.QUOTE_ALL)"
   ]
  },
  {
   "cell_type": "markdown",
   "id": "ddc1adb0",
   "metadata": {},
   "source": [
    "### Test Data on the CSV"
   ]
  },
  {
   "cell_type": "code",
   "execution_count": 5,
   "id": "f31913e6-f9fc-4202-a355-13f34a0e8988",
   "metadata": {},
   "outputs": [
    {
     "data": {
      "text/html": [
       "<div>\n",
       "<style scoped>\n",
       "    .dataframe tbody tr th:only-of-type {\n",
       "        vertical-align: middle;\n",
       "    }\n",
       "\n",
       "    .dataframe tbody tr th {\n",
       "        vertical-align: top;\n",
       "    }\n",
       "\n",
       "    .dataframe thead th {\n",
       "        text-align: right;\n",
       "    }\n",
       "</style>\n",
       "<table border=\"1\" class=\"dataframe\">\n",
       "  <thead>\n",
       "    <tr style=\"text-align: right;\">\n",
       "      <th></th>\n",
       "      <th>Datetime</th>\n",
       "      <th>Tweet Id</th>\n",
       "      <th>Tweet</th>\n",
       "      <th>Username</th>\n",
       "    </tr>\n",
       "  </thead>\n",
       "  <tbody>\n",
       "    <tr>\n",
       "      <th>0</th>\n",
       "      <td>2021-10-14 23:06:49+00:00</td>\n",
       "      <td>1448787405549367308</td>\n",
       "      <td>@awesomecemok @Zlhlmi____ JB...harga ayam rm8....</td>\n",
       "      <td>RezanHassan5401</td>\n",
       "    </tr>\n",
       "    <tr>\n",
       "      <th>1</th>\n",
       "      <td>2021-10-14 18:11:53+00:00</td>\n",
       "      <td>1448713183842091008</td>\n",
       "      <td>Berdikari serap telur dari peternak untuk stab...</td>\n",
       "      <td>ElshintaDotcom</td>\n",
       "    </tr>\n",
       "    <tr>\n",
       "      <th>2</th>\n",
       "      <td>2021-10-14 17:43:33+00:00</td>\n",
       "      <td>1448706053613375504</td>\n",
       "      <td>Penyebab Harga Telur Makin Anjlok Versi Pedaga...</td>\n",
       "      <td>AlbertSolo2</td>\n",
       "    </tr>\n",
       "    <tr>\n",
       "      <th>3</th>\n",
       "      <td>2021-10-14 17:38:05+00:00</td>\n",
       "      <td>1448704679001542661</td>\n",
       "      <td>Turunnya permintaan masyarakat akan telur ayam...</td>\n",
       "      <td>AlbertSolo2</td>\n",
       "    </tr>\n",
       "    <tr>\n",
       "      <th>4</th>\n",
       "      <td>2021-10-14 17:31:27+00:00</td>\n",
       "      <td>1448703009714675742</td>\n",
       "      <td>Tapi tidak bagi peternak ayam petelur, mereka ...</td>\n",
       "      <td>AlbertSolo2</td>\n",
       "    </tr>\n",
       "    <tr>\n",
       "      <th>...</th>\n",
       "      <td>...</td>\n",
       "      <td>...</td>\n",
       "      <td>...</td>\n",
       "      <td>...</td>\n",
       "    </tr>\n",
       "    <tr>\n",
       "      <th>4381</th>\n",
       "      <td>2021-07-01 03:59:18+00:00</td>\n",
       "      <td>1410447899431895049</td>\n",
       "      <td>Benda paling bodoh aku dengar harini masa beli...</td>\n",
       "      <td>mellyazizi</td>\n",
       "    </tr>\n",
       "    <tr>\n",
       "      <th>4382</th>\n",
       "      <td>2021-07-01 02:27:22+00:00</td>\n",
       "      <td>1410424761600053248</td>\n",
       "      <td>Sedangkan komoditi yang mengalami penurunan ha...</td>\n",
       "      <td>disperindag_jbr</td>\n",
       "    </tr>\n",
       "    <tr>\n",
       "      <th>4383</th>\n",
       "      <td>2021-07-01 01:27:50+00:00</td>\n",
       "      <td>1410409781764915204</td>\n",
       "      <td>@_Qirani_ayr4 Harga telor turun\\nHarga minyak ...</td>\n",
       "      <td>mister_sidik</td>\n",
       "    </tr>\n",
       "    <tr>\n",
       "      <th>4384</th>\n",
       "      <td>2021-07-01 01:22:33+00:00</td>\n",
       "      <td>1410408451092582402</td>\n",
       "      <td>Nak tolong peniaga Melayu tapi Roti telur harg...</td>\n",
       "      <td>ashqikazuya</td>\n",
       "    </tr>\n",
       "    <tr>\n",
       "      <th>4385</th>\n",
       "      <td>2021-07-01 00:09:31+00:00</td>\n",
       "      <td>1410390070314426369</td>\n",
       "      <td>@sinagahijau @laulyku @lelyr13 @ardyntii @suhs...</td>\n",
       "      <td>jchika_677</td>\n",
       "    </tr>\n",
       "  </tbody>\n",
       "</table>\n",
       "<p>4386 rows × 4 columns</p>\n",
       "</div>"
      ],
      "text/plain": [
       "                       Datetime             Tweet Id  \\\n",
       "0     2021-10-14 23:06:49+00:00  1448787405549367308   \n",
       "1     2021-10-14 18:11:53+00:00  1448713183842091008   \n",
       "2     2021-10-14 17:43:33+00:00  1448706053613375504   \n",
       "3     2021-10-14 17:38:05+00:00  1448704679001542661   \n",
       "4     2021-10-14 17:31:27+00:00  1448703009714675742   \n",
       "...                         ...                  ...   \n",
       "4381  2021-07-01 03:59:18+00:00  1410447899431895049   \n",
       "4382  2021-07-01 02:27:22+00:00  1410424761600053248   \n",
       "4383  2021-07-01 01:27:50+00:00  1410409781764915204   \n",
       "4384  2021-07-01 01:22:33+00:00  1410408451092582402   \n",
       "4385  2021-07-01 00:09:31+00:00  1410390070314426369   \n",
       "\n",
       "                                                  Tweet         Username  \n",
       "0     @awesomecemok @Zlhlmi____ JB...harga ayam rm8....  RezanHassan5401  \n",
       "1     Berdikari serap telur dari peternak untuk stab...   ElshintaDotcom  \n",
       "2     Penyebab Harga Telur Makin Anjlok Versi Pedaga...      AlbertSolo2  \n",
       "3     Turunnya permintaan masyarakat akan telur ayam...      AlbertSolo2  \n",
       "4     Tapi tidak bagi peternak ayam petelur, mereka ...      AlbertSolo2  \n",
       "...                                                 ...              ...  \n",
       "4381  Benda paling bodoh aku dengar harini masa beli...       mellyazizi  \n",
       "4382  Sedangkan komoditi yang mengalami penurunan ha...  disperindag_jbr  \n",
       "4383  @_Qirani_ayr4 Harga telor turun\\nHarga minyak ...     mister_sidik  \n",
       "4384  Nak tolong peniaga Melayu tapi Roti telur harg...      ashqikazuya  \n",
       "4385  @sinagahijau @laulyku @lelyr13 @ardyntii @suhs...       jchika_677  \n",
       "\n",
       "[4386 rows x 4 columns]"
      ]
     },
     "execution_count": 5,
     "metadata": {},
     "output_type": "execute_result"
    }
   ],
   "source": [
    "df2 = pd.read_csv(\"data/tweets.csv\")\n",
    "df2"
   ]
  },
  {
   "cell_type": "code",
   "execution_count": 6,
   "id": "283fc80a-4309-4e73-93c3-7209821b0925",
   "metadata": {},
   "outputs": [],
   "source": [
    "# ProfileReport(df2,title='Profiling hasil grabber',html={'style':{'full_width':False,'theme':'flatly'}}).to_notebook_iframe()"
   ]
  },
  {
   "cell_type": "code",
   "execution_count": null,
   "id": "824d3b72-45ac-4223-890d-e07fbf9ef79c",
   "metadata": {},
   "outputs": [],
   "source": []
  }
 ],
 "metadata": {
  "kernelspec": {
   "display_name": "Python 3",
   "language": "python",
   "name": "python3"
  },
  "language_info": {
   "codemirror_mode": {
    "name": "ipython",
    "version": 3
   },
   "file_extension": ".py",
   "mimetype": "text/x-python",
   "name": "python",
   "nbconvert_exporter": "python",
   "pygments_lexer": "ipython3",
   "version": "3.9.7"
  }
 },
 "nbformat": 4,
 "nbformat_minor": 5
}
