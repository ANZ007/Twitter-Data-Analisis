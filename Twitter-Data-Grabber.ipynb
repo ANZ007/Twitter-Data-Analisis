{
 "cells": [
  {
   "cell_type": "markdown",
   "id": "6cbfd5bc-5835-4177-9419-6f666c2dba55",
   "metadata": {},
   "source": [
    "# Twitter Data Grabber using API (Tweepy)\n",
    "## Grab data twitter from the API and export it to CSV"
   ]
  },
  {
   "cell_type": "markdown",
   "id": "05317902-c13b-406a-9536-afdae330faf3",
   "metadata": {},
   "source": [
    "### Import module / package"
   ]
  },
  {
   "cell_type": "code",
   "execution_count": 1,
   "id": "715efb6c-c10d-4848-ac7d-246ad1e98423",
   "metadata": {},
   "outputs": [],
   "source": [
    "import tweepy, csv, time, sys\n",
    "from tqdm.notebook import tqdm\n",
    "import pandas as pd\n",
    "from pandas_profiling import ProfileReport"
   ]
  },
  {
   "cell_type": "markdown",
   "id": "cce7c82e-5b8b-4977-b65d-3e12e26250da",
   "metadata": {},
   "source": [
    "### Login into OAuth Twitter API using access token and customer token"
   ]
  },
  {
   "cell_type": "code",
   "execution_count": 2,
   "id": "17b46d53",
   "metadata": {},
   "outputs": [],
   "source": [
    "consumer_key = \"l62KfxseDn0p3tWWdZHgUOJTe\"\n",
    "consumer_secret = \"J0hIzGPxDhZXQrrh09g73c4w8K6gzvsO6jAWdEOj7MAHzeS0Lj\"\n",
    "access_token = \"1358321521-kkfTEm0ycSWySeZzy6a6NA9RBtldBEmleC1zCDb\"\n",
    "access_token_secret = \"zT1s4gUTGZAYUCOlF3uXnrmOGq3p9NEC8542Zakmhmsql\"\n",
    "\n",
    "auth = tweepy.OAuthHandler(consumer_key, consumer_secret)\n",
    "auth.set_access_token(access_token, access_token_secret)\n",
    "api = tweepy.API(auth,wait_on_rate_limit=True)"
   ]
  },
  {
   "cell_type": "markdown",
   "id": "1540fffd-bb8b-4f18-a012-566558e18813",
   "metadata": {},
   "source": [
    "### Grabbing the Data\n",
    "#### *Every 15 Minutes the Program Paused the Grabbing to Avoid the Rate Limit*"
   ]
  },
  {
   "cell_type": "code",
   "execution_count": 3,
   "id": "4f99eddc-b812-40dd-8e9f-14b56a6749b9",
   "metadata": {},
   "outputs": [
    {
     "data": {
      "application/vnd.jupyter.widget-view+json": {
       "model_id": "072b696fff8447639d0289f18b542e2f",
       "version_major": 2,
       "version_minor": 0
      },
      "text/plain": [
       "Total progress:   0%|          | 0/1 [00:00<?, ?it/s]"
      ]
     },
     "metadata": {},
     "output_type": "display_data"
    },
    {
     "data": {
      "application/vnd.jupyter.widget-view+json": {
       "model_id": "8b4f7162065b4991b18953e4728defbe",
       "version_major": 2,
       "version_minor": 0
      },
      "text/plain": [
       "Scrapping ke 1:   0%|          | 0/84 [00:00<?, ?it/s]"
      ]
     },
     "metadata": {},
     "output_type": "display_data"
    }
   ],
   "source": [
    "search_words = \"#sekolahtatapmuka\"\n",
    "search = search_words + \" -filter:retweets\"\n",
    "date_since='2021-09-24'\n",
    "\n",
    "#col_names =  ['text', 'username', 'favourite_count', 'retweet_count', 'created_at']\n",
    "col_names =  ['tweet']\n",
    "df = pd.DataFrame()\n",
    "temp_count = 0\n",
    "tweet_count = 100\n",
    "loop1 = 84\n",
    "loop2 = 1\n",
    "\n",
    "for i in tqdm(range(loop2),desc='Total progress'):\n",
    "    if i == 0:\n",
    "        pass\n",
    "    else:\n",
    "        print(\"Telah terkumpul : \"+str(int(len(df))-temp_count)+\" Data\");temp_count=int(len(df))\n",
    "        for remaining in range(60*15, 0, -1):\n",
    "            sys.stdout.write(\"\\r\")\n",
    "            sys.stdout.write(\"Sleep selama {:2d} Detik...\".format(remaining))\n",
    "            sys.stdout.flush()\n",
    "            time.sleep(1)\n",
    "    for _ in tqdm(range(loop1),desc='Scrapping ke '+str(i+1)):\n",
    "        tweets_list = api.search(q=search,tweet_mode='extended',result_type='popular',lang='id',count=tweet_count,since_id=0,since=date_since)\n",
    "        for x in tweets_list:\n",
    "            tweet = x._json[\"full_text\"]\n",
    "#             text = x._json[\"full_text\"]\n",
    "#             username = x.user.screen_name\n",
    "#             favourite_count = x.favorite_count\n",
    "#             retweet_count = x.retweet_count\n",
    "#             created_at = x.created_at\n",
    "#             df2 = pd.DataFrame([[text,username,favourite_count,retweet_count,created_at]], columns=col_names)\n",
    "            df2 = pd.DataFrame([[tweet]], columns=col_names)\n",
    "            df = df.append(df2, ignore_index=True)"
   ]
  },
  {
   "cell_type": "markdown",
   "id": "ea4cc5f7-11a3-46b3-bbbb-0fa454504367",
   "metadata": {},
   "source": [
    "### Removing duplicates (if any) &export it to CSV"
   ]
  },
  {
   "cell_type": "code",
   "execution_count": 4,
   "id": "9297462d",
   "metadata": {},
   "outputs": [
    {
     "name": "stdout",
     "output_type": "stream",
     "text": [
      "Dataset dibuang (Karena duplikat) : 0 data\n",
      "Dataset masuk : 0 data\n"
     ]
    }
   ],
   "source": [
    "bruto = int(len(df))\n",
    "df.drop_duplicates(subset=['tweet'])\n",
    "print(\"Dataset dibuang (Karena duplikat) : \"+(str(bruto-int(len(df))))+\" data\")\n",
    "print(\"Dataset masuk : \"+str(len(df))+\" data\")\n",
    "df.to_csv('tweets.csv',index=False)"
   ]
  },
  {
   "cell_type": "markdown",
   "id": "084fb3c9-0be3-4d66-b2c1-eea8025f86ae",
   "metadata": {},
   "source": [
    "### Open the Data"
   ]
  },
  {
   "cell_type": "code",
   "execution_count": null,
   "id": "f75d3172",
   "metadata": {},
   "outputs": [],
   "source": [
    "df2 = pd.read_csv(\"tweets_raw.csv\")\n",
    "df2"
   ]
  },
  {
   "cell_type": "markdown",
   "id": "f7bb7bb4-915a-4ff0-90bb-7e355fbca208",
   "metadata": {},
   "source": [
    "### Profiling the Data"
   ]
  },
  {
   "cell_type": "code",
   "execution_count": null,
   "id": "4c240e29",
   "metadata": {},
   "outputs": [],
   "source": [
    "ProfileReport(df,title='Profiling hasil grabber',html={'style':{'full_width':False,'theme':'flatly'}}).to_notebook_iframe()"
   ]
  },
  {
   "cell_type": "code",
   "execution_count": null,
   "id": "26eb3496-baae-4e31-89f6-72c1ce01ced6",
   "metadata": {},
   "outputs": [],
   "source": []
  }
 ],
 "metadata": {
  "kernelspec": {
   "display_name": "Python 3 (ipykernel)",
   "language": "python",
   "name": "python3"
  },
  "language_info": {
   "codemirror_mode": {
    "name": "ipython",
    "version": 3
   },
   "file_extension": ".py",
   "mimetype": "text/x-python",
   "name": "python",
   "nbconvert_exporter": "python",
   "pygments_lexer": "ipython3",
   "version": "3.8.11"
  }
 },
 "nbformat": 4,
 "nbformat_minor": 5
}
