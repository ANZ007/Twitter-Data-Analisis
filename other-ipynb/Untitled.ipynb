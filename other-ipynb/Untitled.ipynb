{
 "cells": [
  {
   "cell_type": "code",
   "execution_count": 2,
   "id": "77f8599d-0038-402b-adc1-1cb5fe0526ac",
   "metadata": {},
   "outputs": [],
   "source": [
    "import pandas as pd\n",
    "from nltk.tokenize.treebank import TreebankWordDetokenizer"
   ]
  },
  {
   "cell_type": "code",
   "execution_count": 2,
   "id": "b72f72b4-b75c-4584-bb88-0b18a232b952",
   "metadata": {},
   "outputs": [
    {
     "data": {
      "text/html": [
       "<div>\n",
       "<style scoped>\n",
       "    .dataframe tbody tr th:only-of-type {\n",
       "        vertical-align: middle;\n",
       "    }\n",
       "\n",
       "    .dataframe tbody tr th {\n",
       "        vertical-align: top;\n",
       "    }\n",
       "\n",
       "    .dataframe thead th {\n",
       "        text-align: right;\n",
       "    }\n",
       "</style>\n",
       "<table border=\"1\" class=\"dataframe\">\n",
       "  <thead>\n",
       "    <tr style=\"text-align: right;\">\n",
       "      <th></th>\n",
       "      <th>tweet</th>\n",
       "    </tr>\n",
       "  </thead>\n",
       "  <tbody>\n",
       "    <tr>\n",
       "      <th>0</th>\n",
       "      <td>['jbharga', 'ayam', 'rm', 'tgk', 'telor', 'wya...</td>\n",
       "    </tr>\n",
       "    <tr>\n",
       "      <th>1</th>\n",
       "      <td>['diri', 'di', 'atas', 'kaki', 'sendiri', 'ser...</td>\n",
       "    </tr>\n",
       "    <tr>\n",
       "      <th>2</th>\n",
       "      <td>['sebab', 'harga', 'telur', 'anjlok', 'versi',...</td>\n",
       "    </tr>\n",
       "    <tr>\n",
       "      <th>3</th>\n",
       "      <td>['turun', 'minta', 'masyarakat', 'telur', 'aya...</td>\n",
       "    </tr>\n",
       "    <tr>\n",
       "      <th>4</th>\n",
       "      <td>['ternak', 'ayam', 'telur', 'aku', 'rugi', 'ra...</td>\n",
       "    </tr>\n",
       "    <tr>\n",
       "      <th>...</th>\n",
       "      <td>...</td>\n",
       "    </tr>\n",
       "    <tr>\n",
       "      <th>2874</th>\n",
       "      <td>['blitar', 'harga', 'telur', 'ayam', 'anjlok',...</td>\n",
       "    </tr>\n",
       "    <tr>\n",
       "      <th>2875</th>\n",
       "      <td>['titip', 'sendal', 'baca', 'artikel', 'nasi',...</td>\n",
       "    </tr>\n",
       "    <tr>\n",
       "      <th>2876</th>\n",
       "      <td>['suka', 'mooncake', 'isi', 'telur', 'daerah',...</td>\n",
       "    </tr>\n",
       "    <tr>\n",
       "      <th>2877</th>\n",
       "      <td>['harga', 'telur', 'anjlok', 'ternak', 'jateng...</td>\n",
       "    </tr>\n",
       "    <tr>\n",
       "      <th>2878</th>\n",
       "      <td>['harga', 'telur', 'ayam', 'anjlok', 'ternak',...</td>\n",
       "    </tr>\n",
       "  </tbody>\n",
       "</table>\n",
       "<p>2879 rows × 1 columns</p>\n",
       "</div>"
      ],
      "text/plain": [
       "                                                  tweet\n",
       "0     ['jbharga', 'ayam', 'rm', 'tgk', 'telor', 'wya...\n",
       "1     ['diri', 'di', 'atas', 'kaki', 'sendiri', 'ser...\n",
       "2     ['sebab', 'harga', 'telur', 'anjlok', 'versi',...\n",
       "3     ['turun', 'minta', 'masyarakat', 'telur', 'aya...\n",
       "4     ['ternak', 'ayam', 'telur', 'aku', 'rugi', 'ra...\n",
       "...                                                 ...\n",
       "2874  ['blitar', 'harga', 'telur', 'ayam', 'anjlok',...\n",
       "2875  ['titip', 'sendal', 'baca', 'artikel', 'nasi',...\n",
       "2876  ['suka', 'mooncake', 'isi', 'telur', 'daerah',...\n",
       "2877  ['harga', 'telur', 'anjlok', 'ternak', 'jateng...\n",
       "2878  ['harga', 'telur', 'ayam', 'anjlok', 'ternak',...\n",
       "\n",
       "[2879 rows x 1 columns]"
      ]
     },
     "execution_count": 2,
     "metadata": {},
     "output_type": "execute_result"
    }
   ],
   "source": [
    "df = pd.read_csv(\"data/tweets_sastrawi.csv\")\n",
    "df"
   ]
  },
  {
   "cell_type": "code",
   "execution_count": 4,
   "id": "3ac894cb-3d5e-43d6-a359-292dbd4145ad",
   "metadata": {},
   "outputs": [
    {
     "name": "stdout",
     "output_type": "stream",
     "text": [
      "Positif : 2076  tweet\n",
      "Netral : 137  tweet\n",
      "Negatif : 666  tweet\n"
     ]
    }
   ],
   "source": [
    "import pandas as pd\n",
    "df2 = pd.read_csv(\"data/tweets_labelled_sastrawi.csv\")\n",
    "print(\"Positif :\",len(df2[df2.polaritas>0]), \" tweet\")\n",
    "print(\"Netral :\",len(df2[df2.polaritas==0]), \" tweet\")\n",
    "print(\"Negatif :\",len(df2[df2.polaritas<0]), \" tweet\")"
   ]
  },
  {
   "cell_type": "code",
   "execution_count": 4,
   "id": "ac4e48d4-70bb-4e90-8636-46fae8bfe2af",
   "metadata": {},
   "outputs": [],
   "source": [
    "# temp_detokenize = []\n",
    "\n",
    "# def detokenize(text):\n",
    "#     text1 = text.replace(']','').replace('[','')\n",
    "#     arr = text1.replace('\"','').replace(\"\\'\",\"\").split(\",\")\n",
    "#     return(TreebankWordDetokenizer().detokenize(arr))\n",
    "\n",
    "# df['tweet'] = df['tweet'].astype('U').apply(detokenize)"
   ]
  },
  {
   "cell_type": "code",
   "execution_count": 5,
   "id": "31d854fb-4308-4300-8513-504ee5d8bf9b",
   "metadata": {},
   "outputs": [],
   "source": [
    "# df.to_csv(\"data/tweets_untokenized_sastrawi.csv\", index=False)"
   ]
  },
  {
   "cell_type": "code",
   "execution_count": null,
   "id": "4d8145d2-32f9-43d5-a844-b5eeb745ffe9",
   "metadata": {},
   "outputs": [],
   "source": []
  }
 ],
 "metadata": {
  "kernelspec": {
   "display_name": "Python 3 (ipykernel)",
   "language": "python",
   "name": "python3"
  },
  "language_info": {
   "codemirror_mode": {
    "name": "ipython",
    "version": 3
   },
   "file_extension": ".py",
   "mimetype": "text/x-python",
   "name": "python",
   "nbconvert_exporter": "python",
   "pygments_lexer": "ipython3",
   "version": "3.9.7"
  }
 },
 "nbformat": 4,
 "nbformat_minor": 5
}
